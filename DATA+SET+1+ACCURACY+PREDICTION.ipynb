{
 "cells": [
  {
   "cell_type": "markdown",
   "metadata": {},
   "source": [
    "## Importng the packages and modules required in the project"
   ]
  },
  {
   "cell_type": "code",
   "execution_count": 1,
   "metadata": {
    "collapsed": false,
    "scrolled": true
   },
   "outputs": [
    {
     "name": "stderr",
     "output_type": "stream",
     "text": [
      "C:\\Users\\navkiran\\anaconda3 4.3.1\\lib\\site-packages\\sklearn\\cross_validation.py:44: DeprecationWarning: This module was deprecated in version 0.18 in favor of the model_selection module into which all the refactored classes and functions are moved. Also note that the interface of the new CV iterators are different from that of this module. This module will be removed in 0.20.\n",
      "  \"This module will be removed in 0.20.\", DeprecationWarning)\n",
      "C:\\Users\\navkiran\\anaconda3 4.3.1\\lib\\site-packages\\sklearn\\grid_search.py:43: DeprecationWarning: This module was deprecated in version 0.18 in favor of the model_selection module into which all the refactored classes and functions are moved. This module will be removed in 0.20.\n",
      "  DeprecationWarning)\n",
      "C:\\Users\\navkiran\\anaconda3 4.3.1\\lib\\site-packages\\sklearn\\learning_curve.py:23: DeprecationWarning: This module was deprecated in version 0.18 in favor of the model_selection module into which all the functions are moved. This module will be removed in 0.20\n",
      "  DeprecationWarning)\n"
     ]
    }
   ],
   "source": [
    "import pandas as pd\n",
    "import numpy as np\n",
    "import csv\n",
    "import sys\n",
    "import scipy\n",
    "from sklearn import naive_bayes\n",
    "from sklearn import svm\n",
    "from sklearn.feature_extraction.text import CountVectorizer, TfidfTransformer\n",
    "from sklearn.naive_bayes import MultinomialNB\n",
    "from sklearn.svm import SVC\n",
    "from sklearn.metrics import classification_report, f1_score, accuracy_score, confusion_matrix\n",
    "from sklearn.pipeline import Pipeline\n",
    "from sklearn.grid_search import GridSearchCV\n",
    "from sklearn.cross_validation import StratifiedKFold, cross_val_score, train_test_split \n",
    "from sklearn.learning_curve import learning_curve\n",
    "from pandas.tools.plotting import scatter_matrix\n",
    "import matplotlib.pyplot as plt\n",
    "%matplotlib inline\n",
    "from sklearn import model_selection\n",
    "from sklearn.metrics import accuracy_score\n",
    "from sklearn.linear_model import LogisticRegression\n",
    "from sklearn.naive_bayes import GaussianNB\n",
    "from sklearn.svm import SVC\n",
    "from textblob import TextBlob\n",
    "from textblob import TextBlob, Word, Blobber\n",
    "from textblob.classifiers import NaiveBayesClassifier\n",
    "from textblob.taggers import NLTKTagger"
   ]
  },
  {
   "cell_type": "markdown",
   "metadata": {},
   "source": [
    "## Reading data - csv file using pandas"
   ]
  },
  {
   "cell_type": "code",
   "execution_count": 2,
   "metadata": {
    "collapsed": false
   },
   "outputs": [],
   "source": [
    "adv=pd.read_csv('fake_22.csv')"
   ]
  },
  {
   "cell_type": "markdown",
   "metadata": {},
   "source": [
    "## How the data frame looks like"
   ]
  },
  {
   "cell_type": "code",
   "execution_count": 3,
   "metadata": {
    "collapsed": false
   },
   "outputs": [
    {
     "data": {
      "text/plain": [
       "(8572, 8)"
      ]
     },
     "execution_count": 3,
     "metadata": {},
     "output_type": "execute_result"
    }
   ],
   "source": [
    "adv.shape"
   ]
  },
  {
   "cell_type": "markdown",
   "metadata": {},
   "source": [
    "## First 10 values of data frame"
   ]
  },
  {
   "cell_type": "code",
   "execution_count": 4,
   "metadata": {
    "collapsed": false,
    "scrolled": true
   },
   "outputs": [
    {
     "data": {
      "text/html": [
       "<div>\n",
       "<table border=\"1\" class=\"dataframe\">\n",
       "  <thead>\n",
       "    <tr style=\"text-align: right;\">\n",
       "      <th></th>\n",
       "      <th>author</th>\n",
       "      <th>title</th>\n",
       "      <th>language</th>\n",
       "      <th>site_url</th>\n",
       "      <th>country</th>\n",
       "      <th>domain_rank</th>\n",
       "      <th>spam_score</th>\n",
       "      <th>type</th>\n",
       "    </tr>\n",
       "  </thead>\n",
       "  <tbody>\n",
       "    <tr>\n",
       "      <th>0</th>\n",
       "      <td>Barracuda Brigade</td>\n",
       "      <td>Muslims BUSTED: They Stole Millions In Gov’t B...</td>\n",
       "      <td>english</td>\n",
       "      <td>100percentfedup.com</td>\n",
       "      <td>US</td>\n",
       "      <td>25689</td>\n",
       "      <td>0</td>\n",
       "      <td>bias</td>\n",
       "    </tr>\n",
       "    <tr>\n",
       "      <th>1</th>\n",
       "      <td>reasoning with facts</td>\n",
       "      <td>Re: Why Did Attorney General Loretta Lynch Ple...</td>\n",
       "      <td>english</td>\n",
       "      <td>100percentfedup.com</td>\n",
       "      <td>US</td>\n",
       "      <td>25689</td>\n",
       "      <td>0</td>\n",
       "      <td>bias</td>\n",
       "    </tr>\n",
       "    <tr>\n",
       "      <th>2</th>\n",
       "      <td>Barracuda Brigade</td>\n",
       "      <td>BREAKING: Weiner Cooperating With FBI On Hilla...</td>\n",
       "      <td>english</td>\n",
       "      <td>100percentfedup.com</td>\n",
       "      <td>US</td>\n",
       "      <td>25689</td>\n",
       "      <td>0</td>\n",
       "      <td>bias</td>\n",
       "    </tr>\n",
       "    <tr>\n",
       "      <th>3</th>\n",
       "      <td>Fed Up</td>\n",
       "      <td>PIN DROP SPEECH BY FATHER OF DAUGHTER Kidnappe...</td>\n",
       "      <td>english</td>\n",
       "      <td>100percentfedup.com</td>\n",
       "      <td>US</td>\n",
       "      <td>25689</td>\n",
       "      <td>0.068</td>\n",
       "      <td>bias</td>\n",
       "    </tr>\n",
       "    <tr>\n",
       "      <th>4</th>\n",
       "      <td>Fed Up</td>\n",
       "      <td>FANTASTIC! TRUMP'S 7 POINT PLAN To Reform Heal...</td>\n",
       "      <td>english</td>\n",
       "      <td>100percentfedup.com</td>\n",
       "      <td>US</td>\n",
       "      <td>25689</td>\n",
       "      <td>0.865</td>\n",
       "      <td>bias</td>\n",
       "    </tr>\n",
       "    <tr>\n",
       "      <th>5</th>\n",
       "      <td>Barracuda Brigade</td>\n",
       "      <td>Hillary Goes Afakeolutely Berserk On Protester...</td>\n",
       "      <td>english</td>\n",
       "      <td>100percentfedup.com</td>\n",
       "      <td>US</td>\n",
       "      <td>25689</td>\n",
       "      <td>0</td>\n",
       "      <td>bias</td>\n",
       "    </tr>\n",
       "    <tr>\n",
       "      <th>6</th>\n",
       "      <td>Fed Up</td>\n",
       "      <td>BREAKING! NYPD Ready To Make Arrests In Weiner...</td>\n",
       "      <td>english</td>\n",
       "      <td>100percentfedup.com</td>\n",
       "      <td>US</td>\n",
       "      <td>25689</td>\n",
       "      <td>0.701</td>\n",
       "      <td>bias</td>\n",
       "    </tr>\n",
       "    <tr>\n",
       "      <th>7</th>\n",
       "      <td>Fed Up</td>\n",
       "      <td>WOW! WHISTLEBLOWER TELLS CHILLING STORY Of Mas...</td>\n",
       "      <td>english</td>\n",
       "      <td>100percentfedup.com</td>\n",
       "      <td>US</td>\n",
       "      <td>25689</td>\n",
       "      <td>0.188</td>\n",
       "      <td>bias</td>\n",
       "    </tr>\n",
       "    <tr>\n",
       "      <th>8</th>\n",
       "      <td>Fed Up</td>\n",
       "      <td>BREAKING: CLINTON CLEARED...Was This A Coordin...</td>\n",
       "      <td>english</td>\n",
       "      <td>100percentfedup.com</td>\n",
       "      <td>US</td>\n",
       "      <td>25689</td>\n",
       "      <td>0.144</td>\n",
       "      <td>bias</td>\n",
       "    </tr>\n",
       "    <tr>\n",
       "      <th>9</th>\n",
       "      <td>Fed Up</td>\n",
       "      <td>EVIL HILLARY SUPPORTERS Yell \"F*ck Trump\"…Burn...</td>\n",
       "      <td>english</td>\n",
       "      <td>100percentfedup.com</td>\n",
       "      <td>US</td>\n",
       "      <td>25689</td>\n",
       "      <td>0.995</td>\n",
       "      <td>bias</td>\n",
       "    </tr>\n",
       "  </tbody>\n",
       "</table>\n",
       "</div>"
      ],
      "text/plain": [
       "                 author                                              title  \\\n",
       "0     Barracuda Brigade  Muslims BUSTED: They Stole Millions In Gov’t B...   \n",
       "1  reasoning with facts  Re: Why Did Attorney General Loretta Lynch Ple...   \n",
       "2     Barracuda Brigade  BREAKING: Weiner Cooperating With FBI On Hilla...   \n",
       "3                Fed Up  PIN DROP SPEECH BY FATHER OF DAUGHTER Kidnappe...   \n",
       "4                Fed Up  FANTASTIC! TRUMP'S 7 POINT PLAN To Reform Heal...   \n",
       "5     Barracuda Brigade  Hillary Goes Afakeolutely Berserk On Protester...   \n",
       "6                Fed Up  BREAKING! NYPD Ready To Make Arrests In Weiner...   \n",
       "7                Fed Up  WOW! WHISTLEBLOWER TELLS CHILLING STORY Of Mas...   \n",
       "8                Fed Up  BREAKING: CLINTON CLEARED...Was This A Coordin...   \n",
       "9                Fed Up  EVIL HILLARY SUPPORTERS Yell \"F*ck Trump\"…Burn...   \n",
       "\n",
       "  language             site_url country domain_rank spam_score  type  \n",
       "0  english  100percentfedup.com      US       25689          0  bias  \n",
       "1  english  100percentfedup.com      US       25689          0  bias  \n",
       "2  english  100percentfedup.com      US       25689          0  bias  \n",
       "3  english  100percentfedup.com      US       25689      0.068  bias  \n",
       "4  english  100percentfedup.com      US       25689      0.865  bias  \n",
       "5  english  100percentfedup.com      US       25689          0  bias  \n",
       "6  english  100percentfedup.com      US       25689      0.701  bias  \n",
       "7  english  100percentfedup.com      US       25689      0.188  bias  \n",
       "8  english  100percentfedup.com      US       25689      0.144  bias  \n",
       "9  english  100percentfedup.com      US       25689      0.995  bias  "
      ]
     },
     "execution_count": 4,
     "metadata": {},
     "output_type": "execute_result"
    }
   ],
   "source": [
    "adv.head(10)"
   ]
  },
  {
   "cell_type": "markdown",
   "metadata": {},
   "source": [
    "## value counts- Returns object containing counts of unique values."
   ]
  },
  {
   "cell_type": "code",
   "execution_count": 5,
   "metadata": {
    "collapsed": false,
    "scrolled": false
   },
   "outputs": [
    {
     "data": {
      "text/plain": [
       "“If Trump Loses, I’m Grabbing My Musket”: Former Congressman Ready to Go Full Revolution                                                        5\n",
       "Televisión: lo más visto ayer                                                                                                                   4\n",
       "The Fix Is In: NBC Affiliate Accidentally Posts Election Results A Week Early: Hillary Wins Presidency 42% to Trump’s 40%                       4\n",
       "Will Barack Obama Delay Or Suspend The Election If Hillary Is Forced Out By The New FBI Email Investigation?                                    4\n",
       "The Dark Agenda Behind Globalism And Open Borders                                                                                               4\n",
       "Get Ready For Civil Unrest: Survey Finds That Most Americans Are Concerned About Election Violence                                              4\n",
       "Las imágenes libres de derechos más destacadas de la semana                                                                                     4\n",
       "PATRIOT Act At 15: Do You Feel Safer?                                                                                                           4\n",
       "Michael Moore Owes Me $4.99                                                                                                                     3\n",
       "Freedom Rider: Russophobia: War Party Propaganda                                                                                                3\n",
       "Toxic chemicals found in children’s Halloween makeup – study                                                                                    3\n",
       "U.S. Takes A Stab At A No Fly Zone In Two Places – Syria And Standing Rock                                                                      3\n",
       "Schools All Over America Are Closing On Election Day Due To Fears Of Violence                                                                   3\n",
       "Malcolm X on Hillary Clinton and Donald Trump                                                                                                   3\n",
       "Crossing the Acheron: Back to Vietnam                                                                                                           3\n",
       "Goldman Sachs Endorses Hillary Clinton For President                                                                                            3\n",
       "Fighting Ghost Fascists While Aiding Real Ones                                                                                                  3\n",
       "‘Chairman Cash’ – John Podesta is Paid $7,000 a Month by Foundation Run by Banker With Ties to Financial Crisis                                 3\n",
       "21 Things We’ve Learned About Hillary Clinton from Wikileaks That the MSM Won’t Share…But YOU Can!                                              3\n",
       "American Dream, Revisited                                                                                                                       3\n",
       "Tens of thousands march for, against Venezuela government                                                                                       3\n",
       "WATCH: Hillary Aide RUSHES to Her Side to Help Her Climb ONE Step!                                                                              3\n",
       "“Rigged To Deny Trump”: Are They Stealing These satires to Block Electoral Path to 270?                                                         3\n",
       "Break the Silence or Support Self-Determination? In Syria, the Answer Should be Obvious                                                         3\n",
       "Trump warns of World War III if Clinton is elected                                                                                              3\n",
       "Biden Blames “Lazy American Women” For The Economy: “They Sit Around Doing Nothing, Only Hillary Can Force Them To Work”                        3\n",
       "5 Things You Need to Know About the Dakota Access Pipeline Protests                                                                             3\n",
       "Hillary’s “Big Tent” is Obama’s “Grand Bargain” on Steroids                                                                                     3\n",
       "Obamacare Architect Gruber Demands “Larger Mandate Penalty”                                                                                     3\n",
       "WikiLeaks: Clinton Confidant Raised Money for Foundation, Got Bill Paid Gigs                                                                    2\n",
       "                                                                                                                                               ..\n",
       "Face It. Nobody Cares About Wikileaks Because Trump Doesn't Have The \"Temperament\" To be President. He's Scary                                  1\n",
       "Israeli Supporters Of Donald Trump Rally At ‘Jerusalem Forever’ Event In Israel’s Capital City                                                  1\n",
       "Putin-Obama Trust Evaporates                                                                                                                    1\n",
       "Hillary Clinton tells host of show on Univision that Mexican food is her favorite                                                               1\n",
       "Mann verhaftet, nachdem er in Single-Börse Komplizin zum Pferdestehlen suchte                                                                   1\n",
       "[LEAKED AUDIO] Hillary Clinton: We Should Rig the Election                                                                                      1\n",
       "Report Exposes Inner Workings of Facebook and How Clinton Loyalists Control Your Newsfeed                                                       1\n",
       "Hillary CAUGHT ON TAPE Paying Halfway House Patients $300 to Vote for Her                                                                       1\n",
       "Comment on Enjoy some “period positive meditative coloring” with this new book! by Steven Broiles                                               1\n",
       "MUTINY AT THE FBI: COMEY WARNED BY HIS OWN AGENTS TO INDICT CLINTON OR WATCH THE FBI’S REPUTATION GO DOWN IN FLAMES                             1\n",
       "New Law Now Charging All Protesters With Terrorism, Lawmakers URGING Americans To Share This | Conservative Daily Post                          1\n",
       "DNC Interim Chair Donna Brazile On Clinton’s FBI News: She Has Already Been Cleared | RedFlag News                                              1\n",
       "OBAMA IN GREECE: THE LAST FLIGHT OF THE LAME DUCK                                                                                               1\n",
       "The Real Reason Behind Saakashvili's Resignation                                                                                                1\n",
       "Latest short list for Trump cabinet positions – It’s a “knife fight”                                                                            1\n",
       "Holding Hillary Accountable                                                                                                                     1\n",
       "Leaked Emails Show Government Corruption in Approving Aspartame                                                                                 1\n",
       "Comment on Two hundred classmates (and their parents) protest at decision to let transgender boy use the girls’ bathrooms in Missouri by DCG    1\n",
       "Podesta's brother Tony is a foreign agent for Saudi Arabia                                                                                      1\n",
       "Texas Official Sees Record Breaking Turnout, And It’s All For Trump                                                                             1\n",
       "RIP, Vine                                                                                                                                       1\n",
       "Hundreds of rescued refugees arrive at Italian port of Catania                                                                                  1\n",
       "Praying for Freedom: Why Is Israel Silencing the Call for Prayer in Jerusalem?                                                                  1\n",
       "La estación de Calatayud del Ave será un colchón al que saltar desde el tren en marcha                                                          1\n",
       "It’s ON! Between Duterte and America                                                                                                            1\n",
       "FRANCE: Police are under siege in Muslim migrant areas in and around Paris, also known as “NO-GO Zones”                                         1\n",
       "Most Embarrassing Mom Liz Cheney Dresses Daughter Up As ‘Hillary’s Emails’ For Halloween (IMAGES)                                               1\n",
       "Oettinger: \"Ich habe nichts gegen Schlitzaugen. Einige meiner besten Freunde sind Reisfresser\"                                                  1\n",
       "Whoa! Even DEMOCRATS Are Now Asking What’s The Difference Between Bill Clinton And Bill Cosby                                                   1\n",
       "FDA FOUND MANIPULATING THE MEDIA IN FAVOR OF BIG PHARMA                                                                                         1\n",
       "Name: title, dtype: int64"
      ]
     },
     "execution_count": 5,
     "metadata": {},
     "output_type": "execute_result"
    }
   ],
   "source": [
    "adv.title.value_counts()"
   ]
  },
  {
   "cell_type": "code",
   "execution_count": 6,
   "metadata": {
    "collapsed": false
   },
   "outputs": [
    {
     "data": {
      "text/plain": [
       "admin                                          246\n",
       "Alex Ansary                                    100\n",
       "Pakalert                                       100\n",
       "noreply@blogger.com (Alexander Light)           99\n",
       "Dave Hodges                                     99\n",
       "BareNakedIslam                                  99\n",
       "IWB                                             98\n",
       "The European Union Times                        96\n",
       "Anonymous                                       94\n",
       "The Doc                                         92\n",
       "Henry Wolff                                     86\n",
       "Kaitlyn Stegall                                 86\n",
       "noreply@blogger.com (Der Postillon)             83\n",
       "EdJenner                                        82\n",
       "Activist Post                                   82\n",
       "David Stockman                                  81\n",
       "Iron Sheik                                      80\n",
       "Gillian                                         80\n",
       "Heather Callaghan                               78\n",
       "Geoffrey Grider                                 77\n",
       "King World News                                 76\n",
       "shorty                                          75\n",
       "Mac Slavo                                       72\n",
       "Consortiumnews.com                              70\n",
       "Jason Ditz                                      70\n",
       "Jafe Arnoldski (noreply@blogger.com)            57\n",
       "Andrew Anglin                                   57\n",
       "Daniel Greenfield                               56\n",
       "Howard Portnoy                                  55\n",
       "Arnold Monteverde (noreply@blogger.com)         54\n",
       "                                              ... \n",
       "Koel@WritingSouls                                1\n",
       "Kashai                                           1\n",
       "Darius Shahtahmasebi                             1\n",
       "Tim Pierce                                       1\n",
       "Meriem Kheira Peillet                            1\n",
       "SlickMick                                        1\n",
       "Pritha Paul                                      1\n",
       "John Wight                                       1\n",
       "Nice Admin Lady                                  1\n",
       "IBU SUMIATUNG                                    1\n",
       "Julian Vigo                                      1\n",
       "Wayne                                            1\n",
       "Anonymous Coward (UID 72242221)                  1\n",
       "Rev. Peter M. J. Stravinskas, Ph.D., S.T.D.      1\n",
       "Anna Naumovski                                   1\n",
       "TrainYourReplacement                             1\n",
       "Rik Storr                                        1\n",
       "JENO                                             1\n",
       "The Hill                                         1\n",
       "Paradoxroutine                                   1\n",
       "Ann Coulter                                      1\n",
       "rickroland                                       1\n",
       "Hans Bader                                       1\n",
       "Mick                                             1\n",
       "lyle                                             1\n",
       "voteforno6                                       1\n",
       "August Moliere                                   1\n",
       "Michael Brenner                                  1\n",
       "stevor                                           1\n",
       "Times Live                                       1\n",
       "Name: author, dtype: int64"
      ]
     },
     "execution_count": 6,
     "metadata": {},
     "output_type": "execute_result"
    }
   ],
   "source": [
    "adv.author.value_counts()"
   ]
  },
  {
   "cell_type": "code",
   "execution_count": 7,
   "metadata": {
    "collapsed": false
   },
   "outputs": [
    {
     "data": {
      "text/plain": [
       "english                          8122\n",
       "russian                           156\n",
       "spanish                           132\n",
       "german                            102\n",
       "french                             24\n",
       "arabic                             12\n",
       "portuguese                          6\n",
       "ignore                              3\n",
       "dutch                               2\n",
       "greek                               2\n",
       "US                                  1\n",
       "finnish                             1\n",
       "2016-10-31T18:18:47.521+02:00       1\n",
       "italian                             1\n",
       "turkish                             1\n",
       "Name: language, dtype: int64"
      ]
     },
     "execution_count": 7,
     "metadata": {},
     "output_type": "execute_result"
    }
   ],
   "source": [
    "adv.language.value_counts()"
   ]
  },
  {
   "cell_type": "code",
   "execution_count": 8,
   "metadata": {
    "collapsed": false
   },
   "outputs": [
    {
     "data": {
      "text/plain": [
       "US       6986\n",
       "RU        356\n",
       "DE        214\n",
       "FR        200\n",
       "GB        175\n",
       "EU        112\n",
       "TV        101\n",
       "ES        100\n",
       "NL         44\n",
       "ME         34\n",
       "IN         20\n",
       "CO         17\n",
       "CA         14\n",
       "LI          5\n",
       "EE          4\n",
       "IR          4\n",
       "SE          1\n",
       "0           1\n",
       "IO          1\n",
       "68691       1\n",
       "SG          1\n",
       "AU          1\n",
       "Name: country, dtype: int64"
      ]
     },
     "execution_count": 8,
     "metadata": {},
     "output_type": "execute_result"
    }
   ],
   "source": [
    "adv.country.value_counts()"
   ]
  },
  {
   "cell_type": "code",
   "execution_count": 9,
   "metadata": {
    "collapsed": false
   },
   "outputs": [
    {
     "data": {
      "text/plain": [
       "prisonplanet.com                              100\n",
       "disclose.tv                                   100\n",
       "antiwar.com                                   100\n",
       "pravdareport.com                              100\n",
       "silverdoctors.com                             100\n",
       "conservativetribune.com                       100\n",
       "beforeitsnews.com                             100\n",
       "ifyouonlynews.com                             100\n",
       "godlikeproductions.com                        100\n",
       "dailystormer.com                              100\n",
       "thecommonsenseshow.com                        100\n",
       "frontpagemag.com                              100\n",
       "presstv.ir                                    100\n",
       "barenakedislam.com                            100\n",
       "madworldnews.com                              100\n",
       "guardianlv.com                                100\n",
       "sputniknews.com                               100\n",
       "elmundotoday.com                              100\n",
       "davidstockmanscontracorner.com                100\n",
       "blacklistednews.com                           100\n",
       "amtvmedia.com                                 100\n",
       "naturalblaze.com                              100\n",
       "lewrockwell.com                               100\n",
       "awdnews.com                                   100\n",
       "politicususa.com                              100\n",
       "greanvillepost.com                            100\n",
       "clickhole.com                                 100\n",
       "dcclothesline.com                             100\n",
       "abeldanger.net                                100\n",
       "activistpost.com                              100\n",
       "                                             ... \n",
       "abcnews.com.co                                  2\n",
       "endoftheamericandream.com                       2\n",
       "americannews.com                                2\n",
       "in5d.com                                        2\n",
       "ewao.com                                        2\n",
       "rense.com                                       2\n",
       "presidentialvoting2016.com                      2\n",
       "satirewire.com                                  2\n",
       "davidwolfe.com                                  2\n",
       "bignuggetnews.com                               1\n",
       "coasttocoastam.com                              1\n",
       "miniplanet.us                                   1\n",
       "the-newspapers.com                              1\n",
       "Zika: a masterpiece of public mind control      1\n",
       "US                                              1\n",
       "educateinspirechange.org                        1\n",
       "bigbluevision.org                               1\n",
       "defenddemocracy.press                           1\n",
       "globalresearch.ca                               1\n",
       "projectveritas.com                              1\n",
       "proudemocrat.com                                1\n",
       "ncscooper.com                                   1\n",
       "secretsofthefed.com                             1\n",
       "christiantimesnewspaper.com                     1\n",
       "redsatirewatcher.com                            1\n",
       "mediamass.net                                   1\n",
       "henrymakow.com                                  1\n",
       "eyeopening.info                                 1\n",
       "allnewspipeline.com                             1\n",
       "empireherald.com                                1\n",
       "Name: site_url, dtype: int64"
      ]
     },
     "execution_count": 9,
     "metadata": {},
     "output_type": "execute_result"
    }
   ],
   "source": [
    "adv.site_url.value_counts()"
   ]
  },
  {
   "cell_type": "code",
   "execution_count": 10,
   "metadata": {
    "collapsed": false
   },
   "outputs": [
    {
     "data": {
      "text/plain": [
       "18495                                                                                             100\n",
       "25709                                                                                             100\n",
       "12387                                                                                             100\n",
       "62759                                                                                             100\n",
       "36674                                                                                             100\n",
       "12993                                                                                             100\n",
       "67400                                                                                             100\n",
       "486                                                                                               100\n",
       "2774                                                                                              100\n",
       "10414                                                                                             100\n",
       "48959                                                                                             100\n",
       "37161                                                                                             100\n",
       "54210                                                                                             100\n",
       "60570                                                                                             100\n",
       "1616                                                                                              100\n",
       "17592                                                                                             100\n",
       "26413                                                                                             100\n",
       "35381                                                                                             100\n",
       "32398                                                                                             100\n",
       "77628                                                                                             100\n",
       "18533                                                                                             100\n",
       "75353                                                                                             100\n",
       "4617                                                                                              100\n",
       "41475                                                                                             100\n",
       "61606                                                                                             100\n",
       "23040                                                                                             100\n",
       "93026                                                                                             100\n",
       "51784                                                                                             100\n",
       "60463                                                                                             100\n",
       "6659                                                                                              100\n",
       "                                                                                                 ... \n",
       "44451                                                                                              18\n",
       "5772                                                                                               16\n",
       "23349                                                                                              12\n",
       "98679                                                                                              10\n",
       "7587                                                                                                9\n",
       "18896                                                                                               8\n",
       "70635                                                                                               8\n",
       "33221                                                                                               8\n",
       "91245                                                                                               6\n",
       "39980                                                                                               6\n",
       "88660                                                                                               5\n",
       "42160                                                                                               4\n",
       "553                                                                                                 3\n",
       "3734                                                                                                3\n",
       "11584                                                                                               2\n",
       "65078                                                                                               2\n",
       "32069                                                                                               2\n",
       "65917                                                                                               2\n",
       "57497                                                                                               2\n",
       "25842                                                                                               2\n",
       "28149                                                                                               2\n",
       "Economist Jack Rasmus: Eurozone Benefits The Strongest Economies At The Expense Of The Weakest      1\n",
       "48175                                                                                               1\n",
       "21114                                                                                               1\n",
       "19116                                                                                               1\n",
       "78393                                                                                               1\n",
       "22665                                                                                               1\n",
       "16994                                                                                               1\n",
       "78345                                                                                               1\n",
       "http://www.naturalnews.com/gallery/640/Misc/Zika-Baby-Mosquito.jpg                                  1\n",
       "Name: domain_rank, dtype: int64"
      ]
     },
     "execution_count": 10,
     "metadata": {},
     "output_type": "execute_result"
    }
   ],
   "source": [
    "adv.domain_rank.value_counts()"
   ]
  },
  {
   "cell_type": "code",
   "execution_count": 11,
   "metadata": {
    "collapsed": false
   },
   "outputs": [
    {
     "data": {
      "text/plain": [
       "0        7711\n",
       "0.001      58\n",
       "0.002      26\n",
       "0.007      25\n",
       "0.2        22\n",
       "0.003      17\n",
       "0.009      16\n",
       "0.006      15\n",
       "1          15\n",
       "0.005      11\n",
       "0.004      11\n",
       "0.022      11\n",
       "0.094       8\n",
       "0.015       8\n",
       "0.008       8\n",
       "0.011       8\n",
       "0.01        7\n",
       "0.012       7\n",
       "0.966       7\n",
       "0.509       6\n",
       "0.017       6\n",
       "0.028       6\n",
       "0.045       5\n",
       "0.04        5\n",
       "0.032       5\n",
       "0.021       5\n",
       "0.033       5\n",
       "0.019       5\n",
       "0.025       5\n",
       "0.029       5\n",
       "         ... \n",
       "0.473       1\n",
       "0.584       1\n",
       "0.036       1\n",
       "0.151       1\n",
       "0.863       1\n",
       "0.377       1\n",
       "0.057       1\n",
       "0.131       1\n",
       "0.565       1\n",
       "0.928       1\n",
       "0.538       1\n",
       "0.334       1\n",
       "0.958       1\n",
       "0.956       1\n",
       "0.322       1\n",
       "0.35        1\n",
       "0.677       1\n",
       "0.166       1\n",
       "0.047       1\n",
       "0.22        1\n",
       "0.211       1\n",
       "0.883       1\n",
       "0.254       1\n",
       "0.319       1\n",
       "0.143       1\n",
       "0.114       1\n",
       "0.765       1\n",
       "0.992       1\n",
       "0.18        1\n",
       "0.277       1\n",
       "Name: spam_score, dtype: int64"
      ]
     },
     "execution_count": 11,
     "metadata": {},
     "output_type": "execute_result"
    }
   ],
   "source": [
    "adv.spam_score.value_counts()"
   ]
  },
  {
   "cell_type": "code",
   "execution_count": 12,
   "metadata": {
    "collapsed": false,
    "scrolled": true
   },
   "outputs": [
    {
     "data": {
      "text/plain": [
       "fake          7429\n",
       "conspiracy     430\n",
       "satire         267\n",
       "bias           239\n",
       "hate           199\n",
       "Name: type, dtype: int64"
      ]
     },
     "execution_count": 12,
     "metadata": {},
     "output_type": "execute_result"
    }
   ],
   "source": [
    "adv.type.value_counts()"
   ]
  },
  {
   "cell_type": "markdown",
   "metadata": {},
   "source": [
    "## Aggregate statistics"
   ]
  },
  {
   "cell_type": "code",
   "execution_count": 149,
   "metadata": {
    "collapsed": false
   },
   "outputs": [
    {
     "data": {
      "text/html": [
       "<div>\n",
       "<table border=\"1\" class=\"dataframe\">\n",
       "  <thead>\n",
       "    <tr style=\"text-align: right;\">\n",
       "      <th></th>\n",
       "      <th>length</th>\n",
       "      <th>type_num</th>\n",
       "    </tr>\n",
       "  </thead>\n",
       "  <tbody>\n",
       "    <tr>\n",
       "      <th>count</th>\n",
       "      <td>4070.000000</td>\n",
       "      <td>4070.000000</td>\n",
       "    </tr>\n",
       "    <tr>\n",
       "      <th>mean</th>\n",
       "      <td>68.651106</td>\n",
       "      <td>0.357248</td>\n",
       "    </tr>\n",
       "    <tr>\n",
       "      <th>std</th>\n",
       "      <td>26.567518</td>\n",
       "      <td>0.981841</td>\n",
       "    </tr>\n",
       "    <tr>\n",
       "      <th>min</th>\n",
       "      <td>1.000000</td>\n",
       "      <td>0.000000</td>\n",
       "    </tr>\n",
       "    <tr>\n",
       "      <th>25%</th>\n",
       "      <td>51.000000</td>\n",
       "      <td>0.000000</td>\n",
       "    </tr>\n",
       "    <tr>\n",
       "      <th>50%</th>\n",
       "      <td>68.000000</td>\n",
       "      <td>0.000000</td>\n",
       "    </tr>\n",
       "    <tr>\n",
       "      <th>75%</th>\n",
       "      <td>83.000000</td>\n",
       "      <td>0.000000</td>\n",
       "    </tr>\n",
       "    <tr>\n",
       "      <th>max</th>\n",
       "      <td>276.000000</td>\n",
       "      <td>4.000000</td>\n",
       "    </tr>\n",
       "  </tbody>\n",
       "</table>\n",
       "</div>"
      ],
      "text/plain": [
       "            length     type_num\n",
       "count  4070.000000  4070.000000\n",
       "mean     68.651106     0.357248\n",
       "std      26.567518     0.981841\n",
       "min       1.000000     0.000000\n",
       "25%      51.000000     0.000000\n",
       "50%      68.000000     0.000000\n",
       "75%      83.000000     0.000000\n",
       "max     276.000000     4.000000"
      ]
     },
     "execution_count": 149,
     "metadata": {},
     "output_type": "execute_result"
    }
   ],
   "source": [
    "adv.describe()"
   ]
  },
  {
   "cell_type": "code",
   "execution_count": 150,
   "metadata": {
    "collapsed": false,
    "scrolled": true
   },
   "outputs": [
    {
     "data": {
      "text/html": [
       "<div>\n",
       "<table border=\"1\" class=\"dataframe\">\n",
       "  <thead>\n",
       "    <tr style=\"text-align: right;\">\n",
       "      <th></th>\n",
       "      <th></th>\n",
       "      <th>length</th>\n",
       "      <th>type_num</th>\n",
       "    </tr>\n",
       "    <tr>\n",
       "      <th>type</th>\n",
       "      <th></th>\n",
       "      <th></th>\n",
       "      <th></th>\n",
       "    </tr>\n",
       "  </thead>\n",
       "  <tbody>\n",
       "    <tr>\n",
       "      <th rowspan=\"8\" valign=\"top\">bias</th>\n",
       "      <th>count</th>\n",
       "      <td>190.000000</td>\n",
       "      <td>190.0</td>\n",
       "    </tr>\n",
       "    <tr>\n",
       "      <th>mean</th>\n",
       "      <td>78.231579</td>\n",
       "      <td>3.0</td>\n",
       "    </tr>\n",
       "    <tr>\n",
       "      <th>std</th>\n",
       "      <td>24.594899</td>\n",
       "      <td>0.0</td>\n",
       "    </tr>\n",
       "    <tr>\n",
       "      <th>min</th>\n",
       "      <td>22.000000</td>\n",
       "      <td>3.0</td>\n",
       "    </tr>\n",
       "    <tr>\n",
       "      <th>25%</th>\n",
       "      <td>67.000000</td>\n",
       "      <td>3.0</td>\n",
       "    </tr>\n",
       "    <tr>\n",
       "      <th>50%</th>\n",
       "      <td>78.000000</td>\n",
       "      <td>3.0</td>\n",
       "    </tr>\n",
       "    <tr>\n",
       "      <th>75%</th>\n",
       "      <td>84.750000</td>\n",
       "      <td>3.0</td>\n",
       "    </tr>\n",
       "    <tr>\n",
       "      <th>max</th>\n",
       "      <td>223.000000</td>\n",
       "      <td>3.0</td>\n",
       "    </tr>\n",
       "    <tr>\n",
       "      <th rowspan=\"8\" valign=\"top\">conspiracy</th>\n",
       "      <th>count</th>\n",
       "      <td>260.000000</td>\n",
       "      <td>260.0</td>\n",
       "    </tr>\n",
       "    <tr>\n",
       "      <th>mean</th>\n",
       "      <td>66.053846</td>\n",
       "      <td>1.0</td>\n",
       "    </tr>\n",
       "    <tr>\n",
       "      <th>std</th>\n",
       "      <td>23.873480</td>\n",
       "      <td>0.0</td>\n",
       "    </tr>\n",
       "    <tr>\n",
       "      <th>min</th>\n",
       "      <td>15.000000</td>\n",
       "      <td>1.0</td>\n",
       "    </tr>\n",
       "    <tr>\n",
       "      <th>25%</th>\n",
       "      <td>50.000000</td>\n",
       "      <td>1.0</td>\n",
       "    </tr>\n",
       "    <tr>\n",
       "      <th>50%</th>\n",
       "      <td>64.000000</td>\n",
       "      <td>1.0</td>\n",
       "    </tr>\n",
       "    <tr>\n",
       "      <th>75%</th>\n",
       "      <td>78.000000</td>\n",
       "      <td>1.0</td>\n",
       "    </tr>\n",
       "    <tr>\n",
       "      <th>max</th>\n",
       "      <td>206.000000</td>\n",
       "      <td>1.0</td>\n",
       "    </tr>\n",
       "    <tr>\n",
       "      <th rowspan=\"8\" valign=\"top\">fake</th>\n",
       "      <th>count</th>\n",
       "      <td>3461.000000</td>\n",
       "      <td>3461.0</td>\n",
       "    </tr>\n",
       "    <tr>\n",
       "      <th>mean</th>\n",
       "      <td>69.049119</td>\n",
       "      <td>0.0</td>\n",
       "    </tr>\n",
       "    <tr>\n",
       "      <th>std</th>\n",
       "      <td>26.794269</td>\n",
       "      <td>0.0</td>\n",
       "    </tr>\n",
       "    <tr>\n",
       "      <th>min</th>\n",
       "      <td>1.000000</td>\n",
       "      <td>0.0</td>\n",
       "    </tr>\n",
       "    <tr>\n",
       "      <th>25%</th>\n",
       "      <td>51.000000</td>\n",
       "      <td>0.0</td>\n",
       "    </tr>\n",
       "    <tr>\n",
       "      <th>50%</th>\n",
       "      <td>69.000000</td>\n",
       "      <td>0.0</td>\n",
       "    </tr>\n",
       "    <tr>\n",
       "      <th>75%</th>\n",
       "      <td>84.000000</td>\n",
       "      <td>0.0</td>\n",
       "    </tr>\n",
       "    <tr>\n",
       "      <th>max</th>\n",
       "      <td>276.000000</td>\n",
       "      <td>0.0</td>\n",
       "    </tr>\n",
       "    <tr>\n",
       "      <th rowspan=\"8\" valign=\"top\">hate</th>\n",
       "      <th>count</th>\n",
       "      <td>153.000000</td>\n",
       "      <td>153.0</td>\n",
       "    </tr>\n",
       "    <tr>\n",
       "      <th>mean</th>\n",
       "      <td>52.816993</td>\n",
       "      <td>4.0</td>\n",
       "    </tr>\n",
       "    <tr>\n",
       "      <th>std</th>\n",
       "      <td>20.873818</td>\n",
       "      <td>0.0</td>\n",
       "    </tr>\n",
       "    <tr>\n",
       "      <th>min</th>\n",
       "      <td>15.000000</td>\n",
       "      <td>4.0</td>\n",
       "    </tr>\n",
       "    <tr>\n",
       "      <th>25%</th>\n",
       "      <td>37.000000</td>\n",
       "      <td>4.0</td>\n",
       "    </tr>\n",
       "    <tr>\n",
       "      <th>50%</th>\n",
       "      <td>52.000000</td>\n",
       "      <td>4.0</td>\n",
       "    </tr>\n",
       "    <tr>\n",
       "      <th>75%</th>\n",
       "      <td>65.000000</td>\n",
       "      <td>4.0</td>\n",
       "    </tr>\n",
       "    <tr>\n",
       "      <th>max</th>\n",
       "      <td>107.000000</td>\n",
       "      <td>4.0</td>\n",
       "    </tr>\n",
       "    <tr>\n",
       "      <th rowspan=\"8\" valign=\"top\">satire</th>\n",
       "      <th>count</th>\n",
       "      <td>6.000000</td>\n",
       "      <td>6.0</td>\n",
       "    </tr>\n",
       "    <tr>\n",
       "      <th>mean</th>\n",
       "      <td>52.000000</td>\n",
       "      <td>2.0</td>\n",
       "    </tr>\n",
       "    <tr>\n",
       "      <th>std</th>\n",
       "      <td>3.162278</td>\n",
       "      <td>0.0</td>\n",
       "    </tr>\n",
       "    <tr>\n",
       "      <th>min</th>\n",
       "      <td>48.000000</td>\n",
       "      <td>2.0</td>\n",
       "    </tr>\n",
       "    <tr>\n",
       "      <th>25%</th>\n",
       "      <td>50.250000</td>\n",
       "      <td>2.0</td>\n",
       "    </tr>\n",
       "    <tr>\n",
       "      <th>50%</th>\n",
       "      <td>51.500000</td>\n",
       "      <td>2.0</td>\n",
       "    </tr>\n",
       "    <tr>\n",
       "      <th>75%</th>\n",
       "      <td>53.500000</td>\n",
       "      <td>2.0</td>\n",
       "    </tr>\n",
       "    <tr>\n",
       "      <th>max</th>\n",
       "      <td>57.000000</td>\n",
       "      <td>2.0</td>\n",
       "    </tr>\n",
       "  </tbody>\n",
       "</table>\n",
       "</div>"
      ],
      "text/plain": [
       "                       length  type_num\n",
       "type                                   \n",
       "bias       count   190.000000     190.0\n",
       "           mean     78.231579       3.0\n",
       "           std      24.594899       0.0\n",
       "           min      22.000000       3.0\n",
       "           25%      67.000000       3.0\n",
       "           50%      78.000000       3.0\n",
       "           75%      84.750000       3.0\n",
       "           max     223.000000       3.0\n",
       "conspiracy count   260.000000     260.0\n",
       "           mean     66.053846       1.0\n",
       "           std      23.873480       0.0\n",
       "           min      15.000000       1.0\n",
       "           25%      50.000000       1.0\n",
       "           50%      64.000000       1.0\n",
       "           75%      78.000000       1.0\n",
       "           max     206.000000       1.0\n",
       "fake       count  3461.000000    3461.0\n",
       "           mean     69.049119       0.0\n",
       "           std      26.794269       0.0\n",
       "           min       1.000000       0.0\n",
       "           25%      51.000000       0.0\n",
       "           50%      69.000000       0.0\n",
       "           75%      84.000000       0.0\n",
       "           max     276.000000       0.0\n",
       "hate       count   153.000000     153.0\n",
       "           mean     52.816993       4.0\n",
       "           std      20.873818       0.0\n",
       "           min      15.000000       4.0\n",
       "           25%      37.000000       4.0\n",
       "           50%      52.000000       4.0\n",
       "           75%      65.000000       4.0\n",
       "           max     107.000000       4.0\n",
       "satire     count     6.000000       6.0\n",
       "           mean     52.000000       2.0\n",
       "           std       3.162278       0.0\n",
       "           min      48.000000       2.0\n",
       "           25%      50.250000       2.0\n",
       "           50%      51.500000       2.0\n",
       "           75%      53.500000       2.0\n",
       "           max      57.000000       2.0"
      ]
     },
     "execution_count": 150,
     "metadata": {},
     "output_type": "execute_result"
    }
   ],
   "source": [
    "adv.groupby('type').describe()"
   ]
  },
  {
   "cell_type": "code",
   "execution_count": 13,
   "metadata": {
    "collapsed": true
   },
   "outputs": [],
   "source": [
    "new_data=adv[['author','title','language','country','site_url','domain_rank','spam_score','type']]"
   ]
  },
  {
   "cell_type": "code",
   "execution_count": 14,
   "metadata": {
    "collapsed": false
   },
   "outputs": [
    {
     "data": {
      "text/html": [
       "<div>\n",
       "<table border=\"1\" class=\"dataframe\">\n",
       "  <thead>\n",
       "    <tr style=\"text-align: right;\">\n",
       "      <th></th>\n",
       "      <th>author</th>\n",
       "      <th>title</th>\n",
       "      <th>language</th>\n",
       "      <th>country</th>\n",
       "      <th>site_url</th>\n",
       "      <th>domain_rank</th>\n",
       "      <th>spam_score</th>\n",
       "      <th>type</th>\n",
       "    </tr>\n",
       "  </thead>\n",
       "  <tbody>\n",
       "    <tr>\n",
       "      <th>0</th>\n",
       "      <td>Barracuda Brigade</td>\n",
       "      <td>Muslims BUSTED: They Stole Millions In Gov’t B...</td>\n",
       "      <td>english</td>\n",
       "      <td>US</td>\n",
       "      <td>100percentfedup.com</td>\n",
       "      <td>25689</td>\n",
       "      <td>0</td>\n",
       "      <td>bias</td>\n",
       "    </tr>\n",
       "    <tr>\n",
       "      <th>1</th>\n",
       "      <td>reasoning with facts</td>\n",
       "      <td>Re: Why Did Attorney General Loretta Lynch Ple...</td>\n",
       "      <td>english</td>\n",
       "      <td>US</td>\n",
       "      <td>100percentfedup.com</td>\n",
       "      <td>25689</td>\n",
       "      <td>0</td>\n",
       "      <td>bias</td>\n",
       "    </tr>\n",
       "    <tr>\n",
       "      <th>2</th>\n",
       "      <td>Barracuda Brigade</td>\n",
       "      <td>BREAKING: Weiner Cooperating With FBI On Hilla...</td>\n",
       "      <td>english</td>\n",
       "      <td>US</td>\n",
       "      <td>100percentfedup.com</td>\n",
       "      <td>25689</td>\n",
       "      <td>0</td>\n",
       "      <td>bias</td>\n",
       "    </tr>\n",
       "    <tr>\n",
       "      <th>3</th>\n",
       "      <td>Fed Up</td>\n",
       "      <td>PIN DROP SPEECH BY FATHER OF DAUGHTER Kidnappe...</td>\n",
       "      <td>english</td>\n",
       "      <td>US</td>\n",
       "      <td>100percentfedup.com</td>\n",
       "      <td>25689</td>\n",
       "      <td>0.068</td>\n",
       "      <td>bias</td>\n",
       "    </tr>\n",
       "    <tr>\n",
       "      <th>4</th>\n",
       "      <td>Fed Up</td>\n",
       "      <td>FANTASTIC! TRUMP'S 7 POINT PLAN To Reform Heal...</td>\n",
       "      <td>english</td>\n",
       "      <td>US</td>\n",
       "      <td>100percentfedup.com</td>\n",
       "      <td>25689</td>\n",
       "      <td>0.865</td>\n",
       "      <td>bias</td>\n",
       "    </tr>\n",
       "    <tr>\n",
       "      <th>5</th>\n",
       "      <td>Barracuda Brigade</td>\n",
       "      <td>Hillary Goes Afakeolutely Berserk On Protester...</td>\n",
       "      <td>english</td>\n",
       "      <td>US</td>\n",
       "      <td>100percentfedup.com</td>\n",
       "      <td>25689</td>\n",
       "      <td>0</td>\n",
       "      <td>bias</td>\n",
       "    </tr>\n",
       "    <tr>\n",
       "      <th>6</th>\n",
       "      <td>Fed Up</td>\n",
       "      <td>BREAKING! NYPD Ready To Make Arrests In Weiner...</td>\n",
       "      <td>english</td>\n",
       "      <td>US</td>\n",
       "      <td>100percentfedup.com</td>\n",
       "      <td>25689</td>\n",
       "      <td>0.701</td>\n",
       "      <td>bias</td>\n",
       "    </tr>\n",
       "    <tr>\n",
       "      <th>7</th>\n",
       "      <td>Fed Up</td>\n",
       "      <td>WOW! WHISTLEBLOWER TELLS CHILLING STORY Of Mas...</td>\n",
       "      <td>english</td>\n",
       "      <td>US</td>\n",
       "      <td>100percentfedup.com</td>\n",
       "      <td>25689</td>\n",
       "      <td>0.188</td>\n",
       "      <td>bias</td>\n",
       "    </tr>\n",
       "    <tr>\n",
       "      <th>8</th>\n",
       "      <td>Fed Up</td>\n",
       "      <td>BREAKING: CLINTON CLEARED...Was This A Coordin...</td>\n",
       "      <td>english</td>\n",
       "      <td>US</td>\n",
       "      <td>100percentfedup.com</td>\n",
       "      <td>25689</td>\n",
       "      <td>0.144</td>\n",
       "      <td>bias</td>\n",
       "    </tr>\n",
       "    <tr>\n",
       "      <th>9</th>\n",
       "      <td>Fed Up</td>\n",
       "      <td>EVIL HILLARY SUPPORTERS Yell \"F*ck Trump\"…Burn...</td>\n",
       "      <td>english</td>\n",
       "      <td>US</td>\n",
       "      <td>100percentfedup.com</td>\n",
       "      <td>25689</td>\n",
       "      <td>0.995</td>\n",
       "      <td>bias</td>\n",
       "    </tr>\n",
       "    <tr>\n",
       "      <th>10</th>\n",
       "      <td>EdJenner</td>\n",
       "      <td>YIKES! HILLARY GOES OFF THE RAILS…Pulls A Howa...</td>\n",
       "      <td>english</td>\n",
       "      <td>US</td>\n",
       "      <td>100percentfedup.com</td>\n",
       "      <td>25689</td>\n",
       "      <td>0</td>\n",
       "      <td>bias</td>\n",
       "    </tr>\n",
       "    <tr>\n",
       "      <th>11</th>\n",
       "      <td>Fed Up</td>\n",
       "      <td>SAY GOODBYE! These 23 Hollywood Celefake Threa...</td>\n",
       "      <td>english</td>\n",
       "      <td>US</td>\n",
       "      <td>100percentfedup.com</td>\n",
       "      <td>25689</td>\n",
       "      <td>0.998</td>\n",
       "      <td>bias</td>\n",
       "    </tr>\n",
       "    <tr>\n",
       "      <th>12</th>\n",
       "      <td>EdJenner</td>\n",
       "      <td>NOT KIDDING: Colleges Give Students “Safe Spac...</td>\n",
       "      <td>english</td>\n",
       "      <td>US</td>\n",
       "      <td>100percentfedup.com</td>\n",
       "      <td>25689</td>\n",
       "      <td>0</td>\n",
       "      <td>bias</td>\n",
       "    </tr>\n",
       "    <tr>\n",
       "      <th>13</th>\n",
       "      <td>Fed Up</td>\n",
       "      <td>BOOM! MATH SHOWS Trump Would Have Beaten Obama...</td>\n",
       "      <td>english</td>\n",
       "      <td>US</td>\n",
       "      <td>100percentfedup.com</td>\n",
       "      <td>25689</td>\n",
       "      <td>0.001</td>\n",
       "      <td>bias</td>\n",
       "    </tr>\n",
       "    <tr>\n",
       "      <th>14</th>\n",
       "      <td>Fed Up</td>\n",
       "      <td>BOOM! This Is How President Reagan Handled Pro...</td>\n",
       "      <td>english</td>\n",
       "      <td>US</td>\n",
       "      <td>100percentfedup.com</td>\n",
       "      <td>25689</td>\n",
       "      <td>0</td>\n",
       "      <td>bias</td>\n",
       "    </tr>\n",
       "    <tr>\n",
       "      <th>15</th>\n",
       "      <td>EdJenner</td>\n",
       "      <td>TRUMP SUPPORTER GOT NUTS On MSNBC Reporter Cov...</td>\n",
       "      <td>english</td>\n",
       "      <td>US</td>\n",
       "      <td>100percentfedup.com</td>\n",
       "      <td>25689</td>\n",
       "      <td>0</td>\n",
       "      <td>bias</td>\n",
       "    </tr>\n",
       "    <tr>\n",
       "      <th>16</th>\n",
       "      <td>Fed Up</td>\n",
       "      <td>TOMI LAHREN Has Special Message For Celebritie...</td>\n",
       "      <td>english</td>\n",
       "      <td>US</td>\n",
       "      <td>100percentfedup.com</td>\n",
       "      <td>25689</td>\n",
       "      <td>0.268</td>\n",
       "      <td>bias</td>\n",
       "    </tr>\n",
       "    <tr>\n",
       "      <th>17</th>\n",
       "      <td>EdJenner</td>\n",
       "      <td>#BoycottComedian…ROBERT DENIRO Wanted “To Punc...</td>\n",
       "      <td>english</td>\n",
       "      <td>US</td>\n",
       "      <td>100percentfedup.com</td>\n",
       "      <td>25689</td>\n",
       "      <td>0</td>\n",
       "      <td>bias</td>\n",
       "    </tr>\n",
       "    <tr>\n",
       "      <th>18</th>\n",
       "      <td>EdJenner</td>\n",
       "      <td>HE’S NEVER SOLD AN ORIGINAL PAINTING UNTIL NOW...</td>\n",
       "      <td>english</td>\n",
       "      <td>US</td>\n",
       "      <td>100percentfedup.com</td>\n",
       "      <td>25689</td>\n",
       "      <td>0</td>\n",
       "      <td>bias</td>\n",
       "    </tr>\n",
       "    <tr>\n",
       "      <th>19</th>\n",
       "      <td>EdJenner</td>\n",
       "      <td>SORRY LIBERALS…You Can Stop With The Petitions...</td>\n",
       "      <td>english</td>\n",
       "      <td>US</td>\n",
       "      <td>100percentfedup.com</td>\n",
       "      <td>25689</td>\n",
       "      <td>0</td>\n",
       "      <td>bias</td>\n",
       "    </tr>\n",
       "    <tr>\n",
       "      <th>20</th>\n",
       "      <td>Fed Up</td>\n",
       "      <td>MARK CUBAN: \"In The Event Donald Wins, I Have ...</td>\n",
       "      <td>english</td>\n",
       "      <td>US</td>\n",
       "      <td>100percentfedup.com</td>\n",
       "      <td>25689</td>\n",
       "      <td>0.19</td>\n",
       "      <td>bias</td>\n",
       "    </tr>\n",
       "    <tr>\n",
       "      <th>21</th>\n",
       "      <td>EdJenner</td>\n",
       "      <td>TRUMP SUPPORTER Whose Brutal Beating By Black ...</td>\n",
       "      <td>english</td>\n",
       "      <td>US</td>\n",
       "      <td>100percentfedup.com</td>\n",
       "      <td>25689</td>\n",
       "      <td>0</td>\n",
       "      <td>bias</td>\n",
       "    </tr>\n",
       "    <tr>\n",
       "      <th>22</th>\n",
       "      <td>EdJenner</td>\n",
       "      <td>WOW! WHITE Liberals Suggest Blacks Are Too Stu...</td>\n",
       "      <td>english</td>\n",
       "      <td>US</td>\n",
       "      <td>100percentfedup.com</td>\n",
       "      <td>25689</td>\n",
       "      <td>0</td>\n",
       "      <td>bias</td>\n",
       "    </tr>\n",
       "    <tr>\n",
       "      <th>23</th>\n",
       "      <td>EdJenner</td>\n",
       "      <td>LOL! BRITISH WIFE Of LIB ACTOR Who Said: “Ther...</td>\n",
       "      <td>english</td>\n",
       "      <td>US</td>\n",
       "      <td>100percentfedup.com</td>\n",
       "      <td>25689</td>\n",
       "      <td>0</td>\n",
       "      <td>bias</td>\n",
       "    </tr>\n",
       "    <tr>\n",
       "      <th>24</th>\n",
       "      <td>EdJenner</td>\n",
       "      <td>EPIC! TUCKER CARLSON Demolishes NYC Councilman...</td>\n",
       "      <td>english</td>\n",
       "      <td>US</td>\n",
       "      <td>100percentfedup.com</td>\n",
       "      <td>25689</td>\n",
       "      <td>0</td>\n",
       "      <td>bias</td>\n",
       "    </tr>\n",
       "    <tr>\n",
       "      <th>25</th>\n",
       "      <td>EdJenner</td>\n",
       "      <td>FUNNY! SNL’S SOLUTION To Democrat Election Den...</td>\n",
       "      <td>english</td>\n",
       "      <td>US</td>\n",
       "      <td>100percentfedup.com</td>\n",
       "      <td>25689</td>\n",
       "      <td>0</td>\n",
       "      <td>bias</td>\n",
       "    </tr>\n",
       "    <tr>\n",
       "      <th>26</th>\n",
       "      <td>EdJenner</td>\n",
       "      <td>DONALD TRUMP Calls Meeting With Press…Dresses ...</td>\n",
       "      <td>english</td>\n",
       "      <td>US</td>\n",
       "      <td>100percentfedup.com</td>\n",
       "      <td>25689</td>\n",
       "      <td>0</td>\n",
       "      <td>bias</td>\n",
       "    </tr>\n",
       "    <tr>\n",
       "      <th>27</th>\n",
       "      <td>Fed Up</td>\n",
       "      <td>OOPS! CRYBABY HAMILTON STARS Who Lectured Penc...</td>\n",
       "      <td>english</td>\n",
       "      <td>US</td>\n",
       "      <td>100percentfedup.com</td>\n",
       "      <td>25689</td>\n",
       "      <td>0.256</td>\n",
       "      <td>bias</td>\n",
       "    </tr>\n",
       "    <tr>\n",
       "      <th>28</th>\n",
       "      <td>EdJenner</td>\n",
       "      <td>WHITE TRUMP-BASHING LIB Reprimanded On LIVE CN...</td>\n",
       "      <td>english</td>\n",
       "      <td>US</td>\n",
       "      <td>100percentfedup.com</td>\n",
       "      <td>25689</td>\n",
       "      <td>0</td>\n",
       "      <td>bias</td>\n",
       "    </tr>\n",
       "    <tr>\n",
       "      <th>29</th>\n",
       "      <td>Barracuda Brigade</td>\n",
       "      <td>BOOM! Kellyanne Conway Shuts Down CNN’s Cuomo</td>\n",
       "      <td>english</td>\n",
       "      <td>US</td>\n",
       "      <td>100percentfedup.com</td>\n",
       "      <td>25689</td>\n",
       "      <td>0</td>\n",
       "      <td>bias</td>\n",
       "    </tr>\n",
       "    <tr>\n",
       "      <th>...</th>\n",
       "      <td>...</td>\n",
       "      <td>...</td>\n",
       "      <td>...</td>\n",
       "      <td>...</td>\n",
       "      <td>...</td>\n",
       "      <td>...</td>\n",
       "      <td>...</td>\n",
       "      <td>...</td>\n",
       "    </tr>\n",
       "    <tr>\n",
       "      <th>8542</th>\n",
       "      <td>Daily Bell Staff</td>\n",
       "      <td>US Presidential Elections Sound a Warning of C...</td>\n",
       "      <td>english</td>\n",
       "      <td>US</td>\n",
       "      <td>thedailybell.com</td>\n",
       "      <td>NaN</td>\n",
       "      <td>0</td>\n",
       "      <td>fake</td>\n",
       "    </tr>\n",
       "    <tr>\n",
       "      <th>8543</th>\n",
       "      <td>Daily Bell Staff</td>\n",
       "      <td>Trump and Brexit: Directed History Proceeds Ap...</td>\n",
       "      <td>english</td>\n",
       "      <td>US</td>\n",
       "      <td>thedailybell.com</td>\n",
       "      <td>NaN</td>\n",
       "      <td>0</td>\n",
       "      <td>fake</td>\n",
       "    </tr>\n",
       "    <tr>\n",
       "      <th>8544</th>\n",
       "      <td>Daily Bell Staff</td>\n",
       "      <td>By Seizing the Definition of ‘Populism,’ Reute...</td>\n",
       "      <td>english</td>\n",
       "      <td>US</td>\n",
       "      <td>thedailybell.com</td>\n",
       "      <td>NaN</td>\n",
       "      <td>0</td>\n",
       "      <td>fake</td>\n",
       "    </tr>\n",
       "    <tr>\n",
       "      <th>8545</th>\n",
       "      <td>Daily Bell Staff</td>\n",
       "      <td>By Seizing the Definition of ‘Populism,’ Reute...</td>\n",
       "      <td>english</td>\n",
       "      <td>US</td>\n",
       "      <td>thedailybell.com</td>\n",
       "      <td>NaN</td>\n",
       "      <td>0</td>\n",
       "      <td>fake</td>\n",
       "    </tr>\n",
       "    <tr>\n",
       "      <th>8546</th>\n",
       "      <td>Daily Bell Staff</td>\n",
       "      <td>Trump Reopening 9/11, Reversing Rome, in Bid t...</td>\n",
       "      <td>english</td>\n",
       "      <td>US</td>\n",
       "      <td>thedailybell.com</td>\n",
       "      <td>NaN</td>\n",
       "      <td>0</td>\n",
       "      <td>fake</td>\n",
       "    </tr>\n",
       "    <tr>\n",
       "      <th>8547</th>\n",
       "      <td>Daily Bell Staff</td>\n",
       "      <td>Anti-Trump US Color Revolution Includes Soros ...</td>\n",
       "      <td>english</td>\n",
       "      <td>US</td>\n",
       "      <td>thedailybell.com</td>\n",
       "      <td>NaN</td>\n",
       "      <td>0</td>\n",
       "      <td>fake</td>\n",
       "    </tr>\n",
       "    <tr>\n",
       "      <th>8548</th>\n",
       "      <td>Daily Bell Staff</td>\n",
       "      <td>More on Trump’s Populism and How It Can Be Con...</td>\n",
       "      <td>english</td>\n",
       "      <td>US</td>\n",
       "      <td>thedailybell.com</td>\n",
       "      <td>NaN</td>\n",
       "      <td>0</td>\n",
       "      <td>fake</td>\n",
       "    </tr>\n",
       "    <tr>\n",
       "      <th>8549</th>\n",
       "      <td>Daily Bell Staff</td>\n",
       "      <td>More on Trump’s Populism and How It Can Be Con...</td>\n",
       "      <td>english</td>\n",
       "      <td>US</td>\n",
       "      <td>thedailybell.com</td>\n",
       "      <td>NaN</td>\n",
       "      <td>0</td>\n",
       "      <td>fake</td>\n",
       "    </tr>\n",
       "    <tr>\n",
       "      <th>8550</th>\n",
       "      <td>Daily Bell Staff</td>\n",
       "      <td>Trump and Brexit Defeat Globalism, for Now Anyway</td>\n",
       "      <td>english</td>\n",
       "      <td>US</td>\n",
       "      <td>thedailybell.com</td>\n",
       "      <td>NaN</td>\n",
       "      <td>0</td>\n",
       "      <td>fake</td>\n",
       "    </tr>\n",
       "    <tr>\n",
       "      <th>8551</th>\n",
       "      <td>Daily Bell Staff</td>\n",
       "      <td>India Bans Cash, Now Gold?</td>\n",
       "      <td>english</td>\n",
       "      <td>US</td>\n",
       "      <td>thedailybell.com</td>\n",
       "      <td>NaN</td>\n",
       "      <td>0</td>\n",
       "      <td>fake</td>\n",
       "    </tr>\n",
       "    <tr>\n",
       "      <th>8552</th>\n",
       "      <td>Daily Bell Staff</td>\n",
       "      <td>‘Hillary Won Popular Vote’ Is Powerful Elite M...</td>\n",
       "      <td>english</td>\n",
       "      <td>US</td>\n",
       "      <td>thedailybell.com</td>\n",
       "      <td>NaN</td>\n",
       "      <td>0</td>\n",
       "      <td>fake</td>\n",
       "    </tr>\n",
       "    <tr>\n",
       "      <th>8553</th>\n",
       "      <td>Daily Bell Staff</td>\n",
       "      <td>Tesla’s Musk Investigated Over SolarCity by Co...</td>\n",
       "      <td>english</td>\n",
       "      <td>US</td>\n",
       "      <td>thedailybell.com</td>\n",
       "      <td>NaN</td>\n",
       "      <td>0</td>\n",
       "      <td>fake</td>\n",
       "    </tr>\n",
       "    <tr>\n",
       "      <th>8554</th>\n",
       "      <td>Daily Bell Staff</td>\n",
       "      <td>How Deep Will Trump’s Truths Go?</td>\n",
       "      <td>english</td>\n",
       "      <td>US</td>\n",
       "      <td>thedailybell.com</td>\n",
       "      <td>NaN</td>\n",
       "      <td>0</td>\n",
       "      <td>fake</td>\n",
       "    </tr>\n",
       "    <tr>\n",
       "      <th>8555</th>\n",
       "      <td>Daily Bell Staff</td>\n",
       "      <td>If Trump Wants to Fix the ‘Disaster’ of the Pe...</td>\n",
       "      <td>english</td>\n",
       "      <td>US</td>\n",
       "      <td>thedailybell.com</td>\n",
       "      <td>NaN</td>\n",
       "      <td>0</td>\n",
       "      <td>fake</td>\n",
       "    </tr>\n",
       "    <tr>\n",
       "      <th>8556</th>\n",
       "      <td>Daily Bell Staff</td>\n",
       "      <td>DB Feedbacker Claims He Was on B29s That Fire-...</td>\n",
       "      <td>english</td>\n",
       "      <td>US</td>\n",
       "      <td>thedailybell.com</td>\n",
       "      <td>NaN</td>\n",
       "      <td>0</td>\n",
       "      <td>fake</td>\n",
       "    </tr>\n",
       "    <tr>\n",
       "      <th>8557</th>\n",
       "      <td>Daily Bell Staff</td>\n",
       "      <td>Fake Company, Facebook, to Battle Fake News?</td>\n",
       "      <td>english</td>\n",
       "      <td>US</td>\n",
       "      <td>thedailybell.com</td>\n",
       "      <td>NaN</td>\n",
       "      <td>0</td>\n",
       "      <td>fake</td>\n",
       "    </tr>\n",
       "    <tr>\n",
       "      <th>8558</th>\n",
       "      <td>Daily Bell Staff</td>\n",
       "      <td>Rand Corp. Blasts ‘Truth Decay’ – Wants Facts ...</td>\n",
       "      <td>english</td>\n",
       "      <td>US</td>\n",
       "      <td>thedailybell.com</td>\n",
       "      <td>NaN</td>\n",
       "      <td>0</td>\n",
       "      <td>fake</td>\n",
       "    </tr>\n",
       "    <tr>\n",
       "      <th>8559</th>\n",
       "      <td>Daily Bell Staff</td>\n",
       "      <td>Untitled</td>\n",
       "      <td>english</td>\n",
       "      <td>US</td>\n",
       "      <td>thedailybell.com</td>\n",
       "      <td>NaN</td>\n",
       "      <td>0</td>\n",
       "      <td>fake</td>\n",
       "    </tr>\n",
       "    <tr>\n",
       "      <th>8560</th>\n",
       "      <td>Daily Bell Staff</td>\n",
       "      <td>The Fake News About Central Banking</td>\n",
       "      <td>english</td>\n",
       "      <td>US</td>\n",
       "      <td>thedailybell.com</td>\n",
       "      <td>NaN</td>\n",
       "      <td>0</td>\n",
       "      <td>fake</td>\n",
       "    </tr>\n",
       "    <tr>\n",
       "      <th>8561</th>\n",
       "      <td>Daily Bell Staff</td>\n",
       "      <td>Privatize to Get Rid of Passports and Resolve ...</td>\n",
       "      <td>english</td>\n",
       "      <td>US</td>\n",
       "      <td>thedailybell.com</td>\n",
       "      <td>NaN</td>\n",
       "      <td>0</td>\n",
       "      <td>fake</td>\n",
       "    </tr>\n",
       "    <tr>\n",
       "      <th>8562</th>\n",
       "      <td>Daily Bell Staff</td>\n",
       "      <td>Anniversary of Great Reporter’s Death</td>\n",
       "      <td>english</td>\n",
       "      <td>US</td>\n",
       "      <td>thedailybell.com</td>\n",
       "      <td>NaN</td>\n",
       "      <td>0</td>\n",
       "      <td>fake</td>\n",
       "    </tr>\n",
       "    <tr>\n",
       "      <th>8563</th>\n",
       "      <td>Daily Bell Staff</td>\n",
       "      <td>From Populism to Fake News – The Psyop Continues</td>\n",
       "      <td>english</td>\n",
       "      <td>US</td>\n",
       "      <td>thedailybell.com</td>\n",
       "      <td>NaN</td>\n",
       "      <td>0</td>\n",
       "      <td>fake</td>\n",
       "    </tr>\n",
       "    <tr>\n",
       "      <th>8564</th>\n",
       "      <td>NaN</td>\n",
       "      <td>Endangered animals ‘guilty of poor financial p...</td>\n",
       "      <td>english</td>\n",
       "      <td>GB</td>\n",
       "      <td>thedailymash.co.uk</td>\n",
       "      <td>33221</td>\n",
       "      <td>0</td>\n",
       "      <td>fake</td>\n",
       "    </tr>\n",
       "    <tr>\n",
       "      <th>8565</th>\n",
       "      <td>NaN</td>\n",
       "      <td>Man decides first 10 minutes of new Adam Curti...</td>\n",
       "      <td>english</td>\n",
       "      <td>GB</td>\n",
       "      <td>thedailymash.co.uk</td>\n",
       "      <td>33221</td>\n",
       "      <td>0</td>\n",
       "      <td>fake</td>\n",
       "    </tr>\n",
       "    <tr>\n",
       "      <th>8566</th>\n",
       "      <td>NaN</td>\n",
       "      <td>Homeless man looking a bit down today for some...</td>\n",
       "      <td>english</td>\n",
       "      <td>GB</td>\n",
       "      <td>thedailymash.co.uk</td>\n",
       "      <td>33221</td>\n",
       "      <td>0</td>\n",
       "      <td>fake</td>\n",
       "    </tr>\n",
       "    <tr>\n",
       "      <th>8567</th>\n",
       "      <td>NaN</td>\n",
       "      <td>Ask Holly: What’s everyone’s problem?</td>\n",
       "      <td>english</td>\n",
       "      <td>GB</td>\n",
       "      <td>thedailymash.co.uk</td>\n",
       "      <td>33221</td>\n",
       "      <td>0</td>\n",
       "      <td>fake</td>\n",
       "    </tr>\n",
       "    <tr>\n",
       "      <th>8568</th>\n",
       "      <td>NaN</td>\n",
       "      <td>Staying up all night playing computer games no...</td>\n",
       "      <td>english</td>\n",
       "      <td>GB</td>\n",
       "      <td>thedailymash.co.uk</td>\n",
       "      <td>33221</td>\n",
       "      <td>0</td>\n",
       "      <td>fake</td>\n",
       "    </tr>\n",
       "    <tr>\n",
       "      <th>8569</th>\n",
       "      <td>NaN</td>\n",
       "      <td>Jamie Oliver wearily wanks out yet another f**...</td>\n",
       "      <td>english</td>\n",
       "      <td>GB</td>\n",
       "      <td>thedailymash.co.uk</td>\n",
       "      <td>33221</td>\n",
       "      <td>0</td>\n",
       "      <td>fake</td>\n",
       "    </tr>\n",
       "    <tr>\n",
       "      <th>8570</th>\n",
       "      <td>NaN</td>\n",
       "      <td>Pointless winner won’t let £500 prize change h...</td>\n",
       "      <td>english</td>\n",
       "      <td>GB</td>\n",
       "      <td>thedailymash.co.uk</td>\n",
       "      <td>33221</td>\n",
       "      <td>0</td>\n",
       "      <td>fake</td>\n",
       "    </tr>\n",
       "    <tr>\n",
       "      <th>8571</th>\n",
       "      <td>NaN</td>\n",
       "      <td>All Brexit arguments settled by 0.5 per cent t...</td>\n",
       "      <td>english</td>\n",
       "      <td>GB</td>\n",
       "      <td>thedailymash.co.uk</td>\n",
       "      <td>33221</td>\n",
       "      <td>0</td>\n",
       "      <td>fake</td>\n",
       "    </tr>\n",
       "  </tbody>\n",
       "</table>\n",
       "<p>8572 rows × 8 columns</p>\n",
       "</div>"
      ],
      "text/plain": [
       "                    author                                              title  \\\n",
       "0        Barracuda Brigade  Muslims BUSTED: They Stole Millions In Gov’t B...   \n",
       "1     reasoning with facts  Re: Why Did Attorney General Loretta Lynch Ple...   \n",
       "2        Barracuda Brigade  BREAKING: Weiner Cooperating With FBI On Hilla...   \n",
       "3                   Fed Up  PIN DROP SPEECH BY FATHER OF DAUGHTER Kidnappe...   \n",
       "4                   Fed Up  FANTASTIC! TRUMP'S 7 POINT PLAN To Reform Heal...   \n",
       "5        Barracuda Brigade  Hillary Goes Afakeolutely Berserk On Protester...   \n",
       "6                   Fed Up  BREAKING! NYPD Ready To Make Arrests In Weiner...   \n",
       "7                   Fed Up  WOW! WHISTLEBLOWER TELLS CHILLING STORY Of Mas...   \n",
       "8                   Fed Up  BREAKING: CLINTON CLEARED...Was This A Coordin...   \n",
       "9                   Fed Up  EVIL HILLARY SUPPORTERS Yell \"F*ck Trump\"…Burn...   \n",
       "10                EdJenner  YIKES! HILLARY GOES OFF THE RAILS…Pulls A Howa...   \n",
       "11                  Fed Up  SAY GOODBYE! These 23 Hollywood Celefake Threa...   \n",
       "12                EdJenner  NOT KIDDING: Colleges Give Students “Safe Spac...   \n",
       "13                  Fed Up  BOOM! MATH SHOWS Trump Would Have Beaten Obama...   \n",
       "14                  Fed Up  BOOM! This Is How President Reagan Handled Pro...   \n",
       "15                EdJenner  TRUMP SUPPORTER GOT NUTS On MSNBC Reporter Cov...   \n",
       "16                  Fed Up  TOMI LAHREN Has Special Message For Celebritie...   \n",
       "17                EdJenner  #BoycottComedian…ROBERT DENIRO Wanted “To Punc...   \n",
       "18                EdJenner  HE’S NEVER SOLD AN ORIGINAL PAINTING UNTIL NOW...   \n",
       "19                EdJenner  SORRY LIBERALS…You Can Stop With The Petitions...   \n",
       "20                  Fed Up  MARK CUBAN: \"In The Event Donald Wins, I Have ...   \n",
       "21                EdJenner  TRUMP SUPPORTER Whose Brutal Beating By Black ...   \n",
       "22                EdJenner  WOW! WHITE Liberals Suggest Blacks Are Too Stu...   \n",
       "23                EdJenner  LOL! BRITISH WIFE Of LIB ACTOR Who Said: “Ther...   \n",
       "24                EdJenner  EPIC! TUCKER CARLSON Demolishes NYC Councilman...   \n",
       "25                EdJenner  FUNNY! SNL’S SOLUTION To Democrat Election Den...   \n",
       "26                EdJenner  DONALD TRUMP Calls Meeting With Press…Dresses ...   \n",
       "27                  Fed Up  OOPS! CRYBABY HAMILTON STARS Who Lectured Penc...   \n",
       "28                EdJenner  WHITE TRUMP-BASHING LIB Reprimanded On LIVE CN...   \n",
       "29       Barracuda Brigade      BOOM! Kellyanne Conway Shuts Down CNN’s Cuomo   \n",
       "...                    ...                                                ...   \n",
       "8542      Daily Bell Staff  US Presidential Elections Sound a Warning of C...   \n",
       "8543      Daily Bell Staff  Trump and Brexit: Directed History Proceeds Ap...   \n",
       "8544      Daily Bell Staff  By Seizing the Definition of ‘Populism,’ Reute...   \n",
       "8545      Daily Bell Staff  By Seizing the Definition of ‘Populism,’ Reute...   \n",
       "8546      Daily Bell Staff  Trump Reopening 9/11, Reversing Rome, in Bid t...   \n",
       "8547      Daily Bell Staff  Anti-Trump US Color Revolution Includes Soros ...   \n",
       "8548      Daily Bell Staff  More on Trump’s Populism and How It Can Be Con...   \n",
       "8549      Daily Bell Staff  More on Trump’s Populism and How It Can Be Con...   \n",
       "8550      Daily Bell Staff  Trump and Brexit Defeat Globalism, for Now Anyway   \n",
       "8551      Daily Bell Staff                         India Bans Cash, Now Gold?   \n",
       "8552      Daily Bell Staff  ‘Hillary Won Popular Vote’ Is Powerful Elite M...   \n",
       "8553      Daily Bell Staff  Tesla’s Musk Investigated Over SolarCity by Co...   \n",
       "8554      Daily Bell Staff                   How Deep Will Trump’s Truths Go?   \n",
       "8555      Daily Bell Staff  If Trump Wants to Fix the ‘Disaster’ of the Pe...   \n",
       "8556      Daily Bell Staff  DB Feedbacker Claims He Was on B29s That Fire-...   \n",
       "8557      Daily Bell Staff       Fake Company, Facebook, to Battle Fake News?   \n",
       "8558      Daily Bell Staff  Rand Corp. Blasts ‘Truth Decay’ – Wants Facts ...   \n",
       "8559      Daily Bell Staff                                           Untitled   \n",
       "8560      Daily Bell Staff                The Fake News About Central Banking   \n",
       "8561      Daily Bell Staff  Privatize to Get Rid of Passports and Resolve ...   \n",
       "8562      Daily Bell Staff              Anniversary of Great Reporter’s Death   \n",
       "8563      Daily Bell Staff   From Populism to Fake News – The Psyop Continues   \n",
       "8564                   NaN  Endangered animals ‘guilty of poor financial p...   \n",
       "8565                   NaN  Man decides first 10 minutes of new Adam Curti...   \n",
       "8566                   NaN  Homeless man looking a bit down today for some...   \n",
       "8567                   NaN              Ask Holly: What’s everyone’s problem?   \n",
       "8568                   NaN  Staying up all night playing computer games no...   \n",
       "8569                   NaN  Jamie Oliver wearily wanks out yet another f**...   \n",
       "8570                   NaN  Pointless winner won’t let £500 prize change h...   \n",
       "8571                   NaN  All Brexit arguments settled by 0.5 per cent t...   \n",
       "\n",
       "     language country             site_url domain_rank spam_score  type  \n",
       "0     english      US  100percentfedup.com       25689          0  bias  \n",
       "1     english      US  100percentfedup.com       25689          0  bias  \n",
       "2     english      US  100percentfedup.com       25689          0  bias  \n",
       "3     english      US  100percentfedup.com       25689      0.068  bias  \n",
       "4     english      US  100percentfedup.com       25689      0.865  bias  \n",
       "5     english      US  100percentfedup.com       25689          0  bias  \n",
       "6     english      US  100percentfedup.com       25689      0.701  bias  \n",
       "7     english      US  100percentfedup.com       25689      0.188  bias  \n",
       "8     english      US  100percentfedup.com       25689      0.144  bias  \n",
       "9     english      US  100percentfedup.com       25689      0.995  bias  \n",
       "10    english      US  100percentfedup.com       25689          0  bias  \n",
       "11    english      US  100percentfedup.com       25689      0.998  bias  \n",
       "12    english      US  100percentfedup.com       25689          0  bias  \n",
       "13    english      US  100percentfedup.com       25689      0.001  bias  \n",
       "14    english      US  100percentfedup.com       25689          0  bias  \n",
       "15    english      US  100percentfedup.com       25689          0  bias  \n",
       "16    english      US  100percentfedup.com       25689      0.268  bias  \n",
       "17    english      US  100percentfedup.com       25689          0  bias  \n",
       "18    english      US  100percentfedup.com       25689          0  bias  \n",
       "19    english      US  100percentfedup.com       25689          0  bias  \n",
       "20    english      US  100percentfedup.com       25689       0.19  bias  \n",
       "21    english      US  100percentfedup.com       25689          0  bias  \n",
       "22    english      US  100percentfedup.com       25689          0  bias  \n",
       "23    english      US  100percentfedup.com       25689          0  bias  \n",
       "24    english      US  100percentfedup.com       25689          0  bias  \n",
       "25    english      US  100percentfedup.com       25689          0  bias  \n",
       "26    english      US  100percentfedup.com       25689          0  bias  \n",
       "27    english      US  100percentfedup.com       25689      0.256  bias  \n",
       "28    english      US  100percentfedup.com       25689          0  bias  \n",
       "29    english      US  100percentfedup.com       25689          0  bias  \n",
       "...       ...     ...                  ...         ...        ...   ...  \n",
       "8542  english      US     thedailybell.com         NaN          0  fake  \n",
       "8543  english      US     thedailybell.com         NaN          0  fake  \n",
       "8544  english      US     thedailybell.com         NaN          0  fake  \n",
       "8545  english      US     thedailybell.com         NaN          0  fake  \n",
       "8546  english      US     thedailybell.com         NaN          0  fake  \n",
       "8547  english      US     thedailybell.com         NaN          0  fake  \n",
       "8548  english      US     thedailybell.com         NaN          0  fake  \n",
       "8549  english      US     thedailybell.com         NaN          0  fake  \n",
       "8550  english      US     thedailybell.com         NaN          0  fake  \n",
       "8551  english      US     thedailybell.com         NaN          0  fake  \n",
       "8552  english      US     thedailybell.com         NaN          0  fake  \n",
       "8553  english      US     thedailybell.com         NaN          0  fake  \n",
       "8554  english      US     thedailybell.com         NaN          0  fake  \n",
       "8555  english      US     thedailybell.com         NaN          0  fake  \n",
       "8556  english      US     thedailybell.com         NaN          0  fake  \n",
       "8557  english      US     thedailybell.com         NaN          0  fake  \n",
       "8558  english      US     thedailybell.com         NaN          0  fake  \n",
       "8559  english      US     thedailybell.com         NaN          0  fake  \n",
       "8560  english      US     thedailybell.com         NaN          0  fake  \n",
       "8561  english      US     thedailybell.com         NaN          0  fake  \n",
       "8562  english      US     thedailybell.com         NaN          0  fake  \n",
       "8563  english      US     thedailybell.com         NaN          0  fake  \n",
       "8564  english      GB   thedailymash.co.uk       33221          0  fake  \n",
       "8565  english      GB   thedailymash.co.uk       33221          0  fake  \n",
       "8566  english      GB   thedailymash.co.uk       33221          0  fake  \n",
       "8567  english      GB   thedailymash.co.uk       33221          0  fake  \n",
       "8568  english      GB   thedailymash.co.uk       33221          0  fake  \n",
       "8569  english      GB   thedailymash.co.uk       33221          0  fake  \n",
       "8570  english      GB   thedailymash.co.uk       33221          0  fake  \n",
       "8571  english      GB   thedailymash.co.uk       33221          0  fake  \n",
       "\n",
       "[8572 rows x 8 columns]"
      ]
     },
     "execution_count": 14,
     "metadata": {},
     "output_type": "execute_result"
    }
   ],
   "source": [
    "new_data"
   ]
  },
  {
   "cell_type": "markdown",
   "metadata": {},
   "source": [
    "## Removing Null values- Cleaning the data"
   ]
  },
  {
   "cell_type": "code",
   "execution_count": 15,
   "metadata": {
    "collapsed": false,
    "scrolled": false
   },
   "outputs": [
    {
     "data": {
      "text/html": [
       "<div>\n",
       "<table border=\"1\" class=\"dataframe\">\n",
       "  <thead>\n",
       "    <tr style=\"text-align: right;\">\n",
       "      <th></th>\n",
       "      <th>author</th>\n",
       "      <th>title</th>\n",
       "      <th>language</th>\n",
       "      <th>site_url</th>\n",
       "      <th>country</th>\n",
       "      <th>domain_rank</th>\n",
       "      <th>spam_score</th>\n",
       "      <th>type</th>\n",
       "    </tr>\n",
       "  </thead>\n",
       "  <tbody>\n",
       "    <tr>\n",
       "      <th>0</th>\n",
       "      <td>Barracuda Brigade</td>\n",
       "      <td>Muslims BUSTED: They Stole Millions In Gov’t B...</td>\n",
       "      <td>english</td>\n",
       "      <td>100percentfedup.com</td>\n",
       "      <td>US</td>\n",
       "      <td>25689</td>\n",
       "      <td>0</td>\n",
       "      <td>bias</td>\n",
       "    </tr>\n",
       "    <tr>\n",
       "      <th>1</th>\n",
       "      <td>reasoning with facts</td>\n",
       "      <td>Re: Why Did Attorney General Loretta Lynch Ple...</td>\n",
       "      <td>english</td>\n",
       "      <td>100percentfedup.com</td>\n",
       "      <td>US</td>\n",
       "      <td>25689</td>\n",
       "      <td>0</td>\n",
       "      <td>bias</td>\n",
       "    </tr>\n",
       "    <tr>\n",
       "      <th>2</th>\n",
       "      <td>Barracuda Brigade</td>\n",
       "      <td>BREAKING: Weiner Cooperating With FBI On Hilla...</td>\n",
       "      <td>english</td>\n",
       "      <td>100percentfedup.com</td>\n",
       "      <td>US</td>\n",
       "      <td>25689</td>\n",
       "      <td>0</td>\n",
       "      <td>bias</td>\n",
       "    </tr>\n",
       "    <tr>\n",
       "      <th>3</th>\n",
       "      <td>Fed Up</td>\n",
       "      <td>PIN DROP SPEECH BY FATHER OF DAUGHTER Kidnappe...</td>\n",
       "      <td>english</td>\n",
       "      <td>100percentfedup.com</td>\n",
       "      <td>US</td>\n",
       "      <td>25689</td>\n",
       "      <td>0.068</td>\n",
       "      <td>bias</td>\n",
       "    </tr>\n",
       "    <tr>\n",
       "      <th>4</th>\n",
       "      <td>Fed Up</td>\n",
       "      <td>FANTASTIC! TRUMP'S 7 POINT PLAN To Reform Heal...</td>\n",
       "      <td>english</td>\n",
       "      <td>100percentfedup.com</td>\n",
       "      <td>US</td>\n",
       "      <td>25689</td>\n",
       "      <td>0.865</td>\n",
       "      <td>bias</td>\n",
       "    </tr>\n",
       "    <tr>\n",
       "      <th>5</th>\n",
       "      <td>Barracuda Brigade</td>\n",
       "      <td>Hillary Goes Afakeolutely Berserk On Protester...</td>\n",
       "      <td>english</td>\n",
       "      <td>100percentfedup.com</td>\n",
       "      <td>US</td>\n",
       "      <td>25689</td>\n",
       "      <td>0</td>\n",
       "      <td>bias</td>\n",
       "    </tr>\n",
       "    <tr>\n",
       "      <th>6</th>\n",
       "      <td>Fed Up</td>\n",
       "      <td>BREAKING! NYPD Ready To Make Arrests In Weiner...</td>\n",
       "      <td>english</td>\n",
       "      <td>100percentfedup.com</td>\n",
       "      <td>US</td>\n",
       "      <td>25689</td>\n",
       "      <td>0.701</td>\n",
       "      <td>bias</td>\n",
       "    </tr>\n",
       "    <tr>\n",
       "      <th>7</th>\n",
       "      <td>Fed Up</td>\n",
       "      <td>WOW! WHISTLEBLOWER TELLS CHILLING STORY Of Mas...</td>\n",
       "      <td>english</td>\n",
       "      <td>100percentfedup.com</td>\n",
       "      <td>US</td>\n",
       "      <td>25689</td>\n",
       "      <td>0.188</td>\n",
       "      <td>bias</td>\n",
       "    </tr>\n",
       "    <tr>\n",
       "      <th>8</th>\n",
       "      <td>Fed Up</td>\n",
       "      <td>BREAKING: CLINTON CLEARED...Was This A Coordin...</td>\n",
       "      <td>english</td>\n",
       "      <td>100percentfedup.com</td>\n",
       "      <td>US</td>\n",
       "      <td>25689</td>\n",
       "      <td>0.144</td>\n",
       "      <td>bias</td>\n",
       "    </tr>\n",
       "    <tr>\n",
       "      <th>9</th>\n",
       "      <td>Fed Up</td>\n",
       "      <td>EVIL HILLARY SUPPORTERS Yell \"F*ck Trump\"…Burn...</td>\n",
       "      <td>english</td>\n",
       "      <td>100percentfedup.com</td>\n",
       "      <td>US</td>\n",
       "      <td>25689</td>\n",
       "      <td>0.995</td>\n",
       "      <td>bias</td>\n",
       "    </tr>\n",
       "    <tr>\n",
       "      <th>10</th>\n",
       "      <td>EdJenner</td>\n",
       "      <td>YIKES! HILLARY GOES OFF THE RAILS…Pulls A Howa...</td>\n",
       "      <td>english</td>\n",
       "      <td>100percentfedup.com</td>\n",
       "      <td>US</td>\n",
       "      <td>25689</td>\n",
       "      <td>0</td>\n",
       "      <td>bias</td>\n",
       "    </tr>\n",
       "    <tr>\n",
       "      <th>11</th>\n",
       "      <td>Fed Up</td>\n",
       "      <td>SAY GOODBYE! These 23 Hollywood Celefake Threa...</td>\n",
       "      <td>english</td>\n",
       "      <td>100percentfedup.com</td>\n",
       "      <td>US</td>\n",
       "      <td>25689</td>\n",
       "      <td>0.998</td>\n",
       "      <td>bias</td>\n",
       "    </tr>\n",
       "    <tr>\n",
       "      <th>12</th>\n",
       "      <td>EdJenner</td>\n",
       "      <td>NOT KIDDING: Colleges Give Students “Safe Spac...</td>\n",
       "      <td>english</td>\n",
       "      <td>100percentfedup.com</td>\n",
       "      <td>US</td>\n",
       "      <td>25689</td>\n",
       "      <td>0</td>\n",
       "      <td>bias</td>\n",
       "    </tr>\n",
       "    <tr>\n",
       "      <th>13</th>\n",
       "      <td>Fed Up</td>\n",
       "      <td>BOOM! MATH SHOWS Trump Would Have Beaten Obama...</td>\n",
       "      <td>english</td>\n",
       "      <td>100percentfedup.com</td>\n",
       "      <td>US</td>\n",
       "      <td>25689</td>\n",
       "      <td>0.001</td>\n",
       "      <td>bias</td>\n",
       "    </tr>\n",
       "    <tr>\n",
       "      <th>14</th>\n",
       "      <td>Fed Up</td>\n",
       "      <td>BOOM! This Is How President Reagan Handled Pro...</td>\n",
       "      <td>english</td>\n",
       "      <td>100percentfedup.com</td>\n",
       "      <td>US</td>\n",
       "      <td>25689</td>\n",
       "      <td>0</td>\n",
       "      <td>bias</td>\n",
       "    </tr>\n",
       "    <tr>\n",
       "      <th>15</th>\n",
       "      <td>EdJenner</td>\n",
       "      <td>TRUMP SUPPORTER GOT NUTS On MSNBC Reporter Cov...</td>\n",
       "      <td>english</td>\n",
       "      <td>100percentfedup.com</td>\n",
       "      <td>US</td>\n",
       "      <td>25689</td>\n",
       "      <td>0</td>\n",
       "      <td>bias</td>\n",
       "    </tr>\n",
       "    <tr>\n",
       "      <th>16</th>\n",
       "      <td>Fed Up</td>\n",
       "      <td>TOMI LAHREN Has Special Message For Celebritie...</td>\n",
       "      <td>english</td>\n",
       "      <td>100percentfedup.com</td>\n",
       "      <td>US</td>\n",
       "      <td>25689</td>\n",
       "      <td>0.268</td>\n",
       "      <td>bias</td>\n",
       "    </tr>\n",
       "    <tr>\n",
       "      <th>17</th>\n",
       "      <td>EdJenner</td>\n",
       "      <td>#BoycottComedian…ROBERT DENIRO Wanted “To Punc...</td>\n",
       "      <td>english</td>\n",
       "      <td>100percentfedup.com</td>\n",
       "      <td>US</td>\n",
       "      <td>25689</td>\n",
       "      <td>0</td>\n",
       "      <td>bias</td>\n",
       "    </tr>\n",
       "    <tr>\n",
       "      <th>18</th>\n",
       "      <td>EdJenner</td>\n",
       "      <td>HE’S NEVER SOLD AN ORIGINAL PAINTING UNTIL NOW...</td>\n",
       "      <td>english</td>\n",
       "      <td>100percentfedup.com</td>\n",
       "      <td>US</td>\n",
       "      <td>25689</td>\n",
       "      <td>0</td>\n",
       "      <td>bias</td>\n",
       "    </tr>\n",
       "    <tr>\n",
       "      <th>19</th>\n",
       "      <td>EdJenner</td>\n",
       "      <td>SORRY LIBERALS…You Can Stop With The Petitions...</td>\n",
       "      <td>english</td>\n",
       "      <td>100percentfedup.com</td>\n",
       "      <td>US</td>\n",
       "      <td>25689</td>\n",
       "      <td>0</td>\n",
       "      <td>bias</td>\n",
       "    </tr>\n",
       "    <tr>\n",
       "      <th>20</th>\n",
       "      <td>Fed Up</td>\n",
       "      <td>MARK CUBAN: \"In The Event Donald Wins, I Have ...</td>\n",
       "      <td>english</td>\n",
       "      <td>100percentfedup.com</td>\n",
       "      <td>US</td>\n",
       "      <td>25689</td>\n",
       "      <td>0.19</td>\n",
       "      <td>bias</td>\n",
       "    </tr>\n",
       "    <tr>\n",
       "      <th>21</th>\n",
       "      <td>EdJenner</td>\n",
       "      <td>TRUMP SUPPORTER Whose Brutal Beating By Black ...</td>\n",
       "      <td>english</td>\n",
       "      <td>100percentfedup.com</td>\n",
       "      <td>US</td>\n",
       "      <td>25689</td>\n",
       "      <td>0</td>\n",
       "      <td>bias</td>\n",
       "    </tr>\n",
       "    <tr>\n",
       "      <th>22</th>\n",
       "      <td>EdJenner</td>\n",
       "      <td>WOW! WHITE Liberals Suggest Blacks Are Too Stu...</td>\n",
       "      <td>english</td>\n",
       "      <td>100percentfedup.com</td>\n",
       "      <td>US</td>\n",
       "      <td>25689</td>\n",
       "      <td>0</td>\n",
       "      <td>bias</td>\n",
       "    </tr>\n",
       "    <tr>\n",
       "      <th>23</th>\n",
       "      <td>EdJenner</td>\n",
       "      <td>LOL! BRITISH WIFE Of LIB ACTOR Who Said: “Ther...</td>\n",
       "      <td>english</td>\n",
       "      <td>100percentfedup.com</td>\n",
       "      <td>US</td>\n",
       "      <td>25689</td>\n",
       "      <td>0</td>\n",
       "      <td>bias</td>\n",
       "    </tr>\n",
       "    <tr>\n",
       "      <th>24</th>\n",
       "      <td>EdJenner</td>\n",
       "      <td>EPIC! TUCKER CARLSON Demolishes NYC Councilman...</td>\n",
       "      <td>english</td>\n",
       "      <td>100percentfedup.com</td>\n",
       "      <td>US</td>\n",
       "      <td>25689</td>\n",
       "      <td>0</td>\n",
       "      <td>bias</td>\n",
       "    </tr>\n",
       "    <tr>\n",
       "      <th>25</th>\n",
       "      <td>EdJenner</td>\n",
       "      <td>FUNNY! SNL’S SOLUTION To Democrat Election Den...</td>\n",
       "      <td>english</td>\n",
       "      <td>100percentfedup.com</td>\n",
       "      <td>US</td>\n",
       "      <td>25689</td>\n",
       "      <td>0</td>\n",
       "      <td>bias</td>\n",
       "    </tr>\n",
       "    <tr>\n",
       "      <th>26</th>\n",
       "      <td>EdJenner</td>\n",
       "      <td>DONALD TRUMP Calls Meeting With Press…Dresses ...</td>\n",
       "      <td>english</td>\n",
       "      <td>100percentfedup.com</td>\n",
       "      <td>US</td>\n",
       "      <td>25689</td>\n",
       "      <td>0</td>\n",
       "      <td>bias</td>\n",
       "    </tr>\n",
       "    <tr>\n",
       "      <th>27</th>\n",
       "      <td>Fed Up</td>\n",
       "      <td>OOPS! CRYBABY HAMILTON STARS Who Lectured Penc...</td>\n",
       "      <td>english</td>\n",
       "      <td>100percentfedup.com</td>\n",
       "      <td>US</td>\n",
       "      <td>25689</td>\n",
       "      <td>0.256</td>\n",
       "      <td>bias</td>\n",
       "    </tr>\n",
       "    <tr>\n",
       "      <th>28</th>\n",
       "      <td>EdJenner</td>\n",
       "      <td>WHITE TRUMP-BASHING LIB Reprimanded On LIVE CN...</td>\n",
       "      <td>english</td>\n",
       "      <td>100percentfedup.com</td>\n",
       "      <td>US</td>\n",
       "      <td>25689</td>\n",
       "      <td>0</td>\n",
       "      <td>bias</td>\n",
       "    </tr>\n",
       "    <tr>\n",
       "      <th>29</th>\n",
       "      <td>Barracuda Brigade</td>\n",
       "      <td>BOOM! Kellyanne Conway Shuts Down CNN’s Cuomo</td>\n",
       "      <td>english</td>\n",
       "      <td>100percentfedup.com</td>\n",
       "      <td>US</td>\n",
       "      <td>25689</td>\n",
       "      <td>0</td>\n",
       "      <td>bias</td>\n",
       "    </tr>\n",
       "    <tr>\n",
       "      <th>...</th>\n",
       "      <td>...</td>\n",
       "      <td>...</td>\n",
       "      <td>...</td>\n",
       "      <td>...</td>\n",
       "      <td>...</td>\n",
       "      <td>...</td>\n",
       "      <td>...</td>\n",
       "      <td>...</td>\n",
       "    </tr>\n",
       "    <tr>\n",
       "      <th>8542</th>\n",
       "      <td>Daily Bell Staff</td>\n",
       "      <td>US Presidential Elections Sound a Warning of C...</td>\n",
       "      <td>english</td>\n",
       "      <td>thedailybell.com</td>\n",
       "      <td>US</td>\n",
       "      <td>NaN</td>\n",
       "      <td>0</td>\n",
       "      <td>fake</td>\n",
       "    </tr>\n",
       "    <tr>\n",
       "      <th>8543</th>\n",
       "      <td>Daily Bell Staff</td>\n",
       "      <td>Trump and Brexit: Directed History Proceeds Ap...</td>\n",
       "      <td>english</td>\n",
       "      <td>thedailybell.com</td>\n",
       "      <td>US</td>\n",
       "      <td>NaN</td>\n",
       "      <td>0</td>\n",
       "      <td>fake</td>\n",
       "    </tr>\n",
       "    <tr>\n",
       "      <th>8544</th>\n",
       "      <td>Daily Bell Staff</td>\n",
       "      <td>By Seizing the Definition of ‘Populism,’ Reute...</td>\n",
       "      <td>english</td>\n",
       "      <td>thedailybell.com</td>\n",
       "      <td>US</td>\n",
       "      <td>NaN</td>\n",
       "      <td>0</td>\n",
       "      <td>fake</td>\n",
       "    </tr>\n",
       "    <tr>\n",
       "      <th>8545</th>\n",
       "      <td>Daily Bell Staff</td>\n",
       "      <td>By Seizing the Definition of ‘Populism,’ Reute...</td>\n",
       "      <td>english</td>\n",
       "      <td>thedailybell.com</td>\n",
       "      <td>US</td>\n",
       "      <td>NaN</td>\n",
       "      <td>0</td>\n",
       "      <td>fake</td>\n",
       "    </tr>\n",
       "    <tr>\n",
       "      <th>8546</th>\n",
       "      <td>Daily Bell Staff</td>\n",
       "      <td>Trump Reopening 9/11, Reversing Rome, in Bid t...</td>\n",
       "      <td>english</td>\n",
       "      <td>thedailybell.com</td>\n",
       "      <td>US</td>\n",
       "      <td>NaN</td>\n",
       "      <td>0</td>\n",
       "      <td>fake</td>\n",
       "    </tr>\n",
       "    <tr>\n",
       "      <th>8547</th>\n",
       "      <td>Daily Bell Staff</td>\n",
       "      <td>Anti-Trump US Color Revolution Includes Soros ...</td>\n",
       "      <td>english</td>\n",
       "      <td>thedailybell.com</td>\n",
       "      <td>US</td>\n",
       "      <td>NaN</td>\n",
       "      <td>0</td>\n",
       "      <td>fake</td>\n",
       "    </tr>\n",
       "    <tr>\n",
       "      <th>8548</th>\n",
       "      <td>Daily Bell Staff</td>\n",
       "      <td>More on Trump’s Populism and How It Can Be Con...</td>\n",
       "      <td>english</td>\n",
       "      <td>thedailybell.com</td>\n",
       "      <td>US</td>\n",
       "      <td>NaN</td>\n",
       "      <td>0</td>\n",
       "      <td>fake</td>\n",
       "    </tr>\n",
       "    <tr>\n",
       "      <th>8549</th>\n",
       "      <td>Daily Bell Staff</td>\n",
       "      <td>More on Trump’s Populism and How It Can Be Con...</td>\n",
       "      <td>english</td>\n",
       "      <td>thedailybell.com</td>\n",
       "      <td>US</td>\n",
       "      <td>NaN</td>\n",
       "      <td>0</td>\n",
       "      <td>fake</td>\n",
       "    </tr>\n",
       "    <tr>\n",
       "      <th>8550</th>\n",
       "      <td>Daily Bell Staff</td>\n",
       "      <td>Trump and Brexit Defeat Globalism, for Now Anyway</td>\n",
       "      <td>english</td>\n",
       "      <td>thedailybell.com</td>\n",
       "      <td>US</td>\n",
       "      <td>NaN</td>\n",
       "      <td>0</td>\n",
       "      <td>fake</td>\n",
       "    </tr>\n",
       "    <tr>\n",
       "      <th>8551</th>\n",
       "      <td>Daily Bell Staff</td>\n",
       "      <td>India Bans Cash, Now Gold?</td>\n",
       "      <td>english</td>\n",
       "      <td>thedailybell.com</td>\n",
       "      <td>US</td>\n",
       "      <td>NaN</td>\n",
       "      <td>0</td>\n",
       "      <td>fake</td>\n",
       "    </tr>\n",
       "    <tr>\n",
       "      <th>8552</th>\n",
       "      <td>Daily Bell Staff</td>\n",
       "      <td>‘Hillary Won Popular Vote’ Is Powerful Elite M...</td>\n",
       "      <td>english</td>\n",
       "      <td>thedailybell.com</td>\n",
       "      <td>US</td>\n",
       "      <td>NaN</td>\n",
       "      <td>0</td>\n",
       "      <td>fake</td>\n",
       "    </tr>\n",
       "    <tr>\n",
       "      <th>8553</th>\n",
       "      <td>Daily Bell Staff</td>\n",
       "      <td>Tesla’s Musk Investigated Over SolarCity by Co...</td>\n",
       "      <td>english</td>\n",
       "      <td>thedailybell.com</td>\n",
       "      <td>US</td>\n",
       "      <td>NaN</td>\n",
       "      <td>0</td>\n",
       "      <td>fake</td>\n",
       "    </tr>\n",
       "    <tr>\n",
       "      <th>8554</th>\n",
       "      <td>Daily Bell Staff</td>\n",
       "      <td>How Deep Will Trump’s Truths Go?</td>\n",
       "      <td>english</td>\n",
       "      <td>thedailybell.com</td>\n",
       "      <td>US</td>\n",
       "      <td>NaN</td>\n",
       "      <td>0</td>\n",
       "      <td>fake</td>\n",
       "    </tr>\n",
       "    <tr>\n",
       "      <th>8555</th>\n",
       "      <td>Daily Bell Staff</td>\n",
       "      <td>If Trump Wants to Fix the ‘Disaster’ of the Pe...</td>\n",
       "      <td>english</td>\n",
       "      <td>thedailybell.com</td>\n",
       "      <td>US</td>\n",
       "      <td>NaN</td>\n",
       "      <td>0</td>\n",
       "      <td>fake</td>\n",
       "    </tr>\n",
       "    <tr>\n",
       "      <th>8556</th>\n",
       "      <td>Daily Bell Staff</td>\n",
       "      <td>DB Feedbacker Claims He Was on B29s That Fire-...</td>\n",
       "      <td>english</td>\n",
       "      <td>thedailybell.com</td>\n",
       "      <td>US</td>\n",
       "      <td>NaN</td>\n",
       "      <td>0</td>\n",
       "      <td>fake</td>\n",
       "    </tr>\n",
       "    <tr>\n",
       "      <th>8557</th>\n",
       "      <td>Daily Bell Staff</td>\n",
       "      <td>Fake Company, Facebook, to Battle Fake News?</td>\n",
       "      <td>english</td>\n",
       "      <td>thedailybell.com</td>\n",
       "      <td>US</td>\n",
       "      <td>NaN</td>\n",
       "      <td>0</td>\n",
       "      <td>fake</td>\n",
       "    </tr>\n",
       "    <tr>\n",
       "      <th>8558</th>\n",
       "      <td>Daily Bell Staff</td>\n",
       "      <td>Rand Corp. Blasts ‘Truth Decay’ – Wants Facts ...</td>\n",
       "      <td>english</td>\n",
       "      <td>thedailybell.com</td>\n",
       "      <td>US</td>\n",
       "      <td>NaN</td>\n",
       "      <td>0</td>\n",
       "      <td>fake</td>\n",
       "    </tr>\n",
       "    <tr>\n",
       "      <th>8559</th>\n",
       "      <td>Daily Bell Staff</td>\n",
       "      <td>Untitled</td>\n",
       "      <td>english</td>\n",
       "      <td>thedailybell.com</td>\n",
       "      <td>US</td>\n",
       "      <td>NaN</td>\n",
       "      <td>0</td>\n",
       "      <td>fake</td>\n",
       "    </tr>\n",
       "    <tr>\n",
       "      <th>8560</th>\n",
       "      <td>Daily Bell Staff</td>\n",
       "      <td>The Fake News About Central Banking</td>\n",
       "      <td>english</td>\n",
       "      <td>thedailybell.com</td>\n",
       "      <td>US</td>\n",
       "      <td>NaN</td>\n",
       "      <td>0</td>\n",
       "      <td>fake</td>\n",
       "    </tr>\n",
       "    <tr>\n",
       "      <th>8561</th>\n",
       "      <td>Daily Bell Staff</td>\n",
       "      <td>Privatize to Get Rid of Passports and Resolve ...</td>\n",
       "      <td>english</td>\n",
       "      <td>thedailybell.com</td>\n",
       "      <td>US</td>\n",
       "      <td>NaN</td>\n",
       "      <td>0</td>\n",
       "      <td>fake</td>\n",
       "    </tr>\n",
       "    <tr>\n",
       "      <th>8562</th>\n",
       "      <td>Daily Bell Staff</td>\n",
       "      <td>Anniversary of Great Reporter’s Death</td>\n",
       "      <td>english</td>\n",
       "      <td>thedailybell.com</td>\n",
       "      <td>US</td>\n",
       "      <td>NaN</td>\n",
       "      <td>0</td>\n",
       "      <td>fake</td>\n",
       "    </tr>\n",
       "    <tr>\n",
       "      <th>8563</th>\n",
       "      <td>Daily Bell Staff</td>\n",
       "      <td>From Populism to Fake News – The Psyop Continues</td>\n",
       "      <td>english</td>\n",
       "      <td>thedailybell.com</td>\n",
       "      <td>US</td>\n",
       "      <td>NaN</td>\n",
       "      <td>0</td>\n",
       "      <td>fake</td>\n",
       "    </tr>\n",
       "    <tr>\n",
       "      <th>8564</th>\n",
       "      <td>NaN</td>\n",
       "      <td>Endangered animals ‘guilty of poor financial p...</td>\n",
       "      <td>english</td>\n",
       "      <td>thedailymash.co.uk</td>\n",
       "      <td>GB</td>\n",
       "      <td>33221</td>\n",
       "      <td>0</td>\n",
       "      <td>fake</td>\n",
       "    </tr>\n",
       "    <tr>\n",
       "      <th>8565</th>\n",
       "      <td>NaN</td>\n",
       "      <td>Man decides first 10 minutes of new Adam Curti...</td>\n",
       "      <td>english</td>\n",
       "      <td>thedailymash.co.uk</td>\n",
       "      <td>GB</td>\n",
       "      <td>33221</td>\n",
       "      <td>0</td>\n",
       "      <td>fake</td>\n",
       "    </tr>\n",
       "    <tr>\n",
       "      <th>8566</th>\n",
       "      <td>NaN</td>\n",
       "      <td>Homeless man looking a bit down today for some...</td>\n",
       "      <td>english</td>\n",
       "      <td>thedailymash.co.uk</td>\n",
       "      <td>GB</td>\n",
       "      <td>33221</td>\n",
       "      <td>0</td>\n",
       "      <td>fake</td>\n",
       "    </tr>\n",
       "    <tr>\n",
       "      <th>8567</th>\n",
       "      <td>NaN</td>\n",
       "      <td>Ask Holly: What’s everyone’s problem?</td>\n",
       "      <td>english</td>\n",
       "      <td>thedailymash.co.uk</td>\n",
       "      <td>GB</td>\n",
       "      <td>33221</td>\n",
       "      <td>0</td>\n",
       "      <td>fake</td>\n",
       "    </tr>\n",
       "    <tr>\n",
       "      <th>8568</th>\n",
       "      <td>NaN</td>\n",
       "      <td>Staying up all night playing computer games no...</td>\n",
       "      <td>english</td>\n",
       "      <td>thedailymash.co.uk</td>\n",
       "      <td>GB</td>\n",
       "      <td>33221</td>\n",
       "      <td>0</td>\n",
       "      <td>fake</td>\n",
       "    </tr>\n",
       "    <tr>\n",
       "      <th>8569</th>\n",
       "      <td>NaN</td>\n",
       "      <td>Jamie Oliver wearily wanks out yet another f**...</td>\n",
       "      <td>english</td>\n",
       "      <td>thedailymash.co.uk</td>\n",
       "      <td>GB</td>\n",
       "      <td>33221</td>\n",
       "      <td>0</td>\n",
       "      <td>fake</td>\n",
       "    </tr>\n",
       "    <tr>\n",
       "      <th>8570</th>\n",
       "      <td>NaN</td>\n",
       "      <td>Pointless winner won’t let £500 prize change h...</td>\n",
       "      <td>english</td>\n",
       "      <td>thedailymash.co.uk</td>\n",
       "      <td>GB</td>\n",
       "      <td>33221</td>\n",
       "      <td>0</td>\n",
       "      <td>fake</td>\n",
       "    </tr>\n",
       "    <tr>\n",
       "      <th>8571</th>\n",
       "      <td>NaN</td>\n",
       "      <td>All Brexit arguments settled by 0.5 per cent t...</td>\n",
       "      <td>english</td>\n",
       "      <td>thedailymash.co.uk</td>\n",
       "      <td>GB</td>\n",
       "      <td>33221</td>\n",
       "      <td>0</td>\n",
       "      <td>fake</td>\n",
       "    </tr>\n",
       "  </tbody>\n",
       "</table>\n",
       "<p>8564 rows × 8 columns</p>\n",
       "</div>"
      ],
      "text/plain": [
       "                    author                                              title  \\\n",
       "0        Barracuda Brigade  Muslims BUSTED: They Stole Millions In Gov’t B...   \n",
       "1     reasoning with facts  Re: Why Did Attorney General Loretta Lynch Ple...   \n",
       "2        Barracuda Brigade  BREAKING: Weiner Cooperating With FBI On Hilla...   \n",
       "3                   Fed Up  PIN DROP SPEECH BY FATHER OF DAUGHTER Kidnappe...   \n",
       "4                   Fed Up  FANTASTIC! TRUMP'S 7 POINT PLAN To Reform Heal...   \n",
       "5        Barracuda Brigade  Hillary Goes Afakeolutely Berserk On Protester...   \n",
       "6                   Fed Up  BREAKING! NYPD Ready To Make Arrests In Weiner...   \n",
       "7                   Fed Up  WOW! WHISTLEBLOWER TELLS CHILLING STORY Of Mas...   \n",
       "8                   Fed Up  BREAKING: CLINTON CLEARED...Was This A Coordin...   \n",
       "9                   Fed Up  EVIL HILLARY SUPPORTERS Yell \"F*ck Trump\"…Burn...   \n",
       "10                EdJenner  YIKES! HILLARY GOES OFF THE RAILS…Pulls A Howa...   \n",
       "11                  Fed Up  SAY GOODBYE! These 23 Hollywood Celefake Threa...   \n",
       "12                EdJenner  NOT KIDDING: Colleges Give Students “Safe Spac...   \n",
       "13                  Fed Up  BOOM! MATH SHOWS Trump Would Have Beaten Obama...   \n",
       "14                  Fed Up  BOOM! This Is How President Reagan Handled Pro...   \n",
       "15                EdJenner  TRUMP SUPPORTER GOT NUTS On MSNBC Reporter Cov...   \n",
       "16                  Fed Up  TOMI LAHREN Has Special Message For Celebritie...   \n",
       "17                EdJenner  #BoycottComedian…ROBERT DENIRO Wanted “To Punc...   \n",
       "18                EdJenner  HE’S NEVER SOLD AN ORIGINAL PAINTING UNTIL NOW...   \n",
       "19                EdJenner  SORRY LIBERALS…You Can Stop With The Petitions...   \n",
       "20                  Fed Up  MARK CUBAN: \"In The Event Donald Wins, I Have ...   \n",
       "21                EdJenner  TRUMP SUPPORTER Whose Brutal Beating By Black ...   \n",
       "22                EdJenner  WOW! WHITE Liberals Suggest Blacks Are Too Stu...   \n",
       "23                EdJenner  LOL! BRITISH WIFE Of LIB ACTOR Who Said: “Ther...   \n",
       "24                EdJenner  EPIC! TUCKER CARLSON Demolishes NYC Councilman...   \n",
       "25                EdJenner  FUNNY! SNL’S SOLUTION To Democrat Election Den...   \n",
       "26                EdJenner  DONALD TRUMP Calls Meeting With Press…Dresses ...   \n",
       "27                  Fed Up  OOPS! CRYBABY HAMILTON STARS Who Lectured Penc...   \n",
       "28                EdJenner  WHITE TRUMP-BASHING LIB Reprimanded On LIVE CN...   \n",
       "29       Barracuda Brigade      BOOM! Kellyanne Conway Shuts Down CNN’s Cuomo   \n",
       "...                    ...                                                ...   \n",
       "8542      Daily Bell Staff  US Presidential Elections Sound a Warning of C...   \n",
       "8543      Daily Bell Staff  Trump and Brexit: Directed History Proceeds Ap...   \n",
       "8544      Daily Bell Staff  By Seizing the Definition of ‘Populism,’ Reute...   \n",
       "8545      Daily Bell Staff  By Seizing the Definition of ‘Populism,’ Reute...   \n",
       "8546      Daily Bell Staff  Trump Reopening 9/11, Reversing Rome, in Bid t...   \n",
       "8547      Daily Bell Staff  Anti-Trump US Color Revolution Includes Soros ...   \n",
       "8548      Daily Bell Staff  More on Trump’s Populism and How It Can Be Con...   \n",
       "8549      Daily Bell Staff  More on Trump’s Populism and How It Can Be Con...   \n",
       "8550      Daily Bell Staff  Trump and Brexit Defeat Globalism, for Now Anyway   \n",
       "8551      Daily Bell Staff                         India Bans Cash, Now Gold?   \n",
       "8552      Daily Bell Staff  ‘Hillary Won Popular Vote’ Is Powerful Elite M...   \n",
       "8553      Daily Bell Staff  Tesla’s Musk Investigated Over SolarCity by Co...   \n",
       "8554      Daily Bell Staff                   How Deep Will Trump’s Truths Go?   \n",
       "8555      Daily Bell Staff  If Trump Wants to Fix the ‘Disaster’ of the Pe...   \n",
       "8556      Daily Bell Staff  DB Feedbacker Claims He Was on B29s That Fire-...   \n",
       "8557      Daily Bell Staff       Fake Company, Facebook, to Battle Fake News?   \n",
       "8558      Daily Bell Staff  Rand Corp. Blasts ‘Truth Decay’ – Wants Facts ...   \n",
       "8559      Daily Bell Staff                                           Untitled   \n",
       "8560      Daily Bell Staff                The Fake News About Central Banking   \n",
       "8561      Daily Bell Staff  Privatize to Get Rid of Passports and Resolve ...   \n",
       "8562      Daily Bell Staff              Anniversary of Great Reporter’s Death   \n",
       "8563      Daily Bell Staff   From Populism to Fake News – The Psyop Continues   \n",
       "8564                   NaN  Endangered animals ‘guilty of poor financial p...   \n",
       "8565                   NaN  Man decides first 10 minutes of new Adam Curti...   \n",
       "8566                   NaN  Homeless man looking a bit down today for some...   \n",
       "8567                   NaN              Ask Holly: What’s everyone’s problem?   \n",
       "8568                   NaN  Staying up all night playing computer games no...   \n",
       "8569                   NaN  Jamie Oliver wearily wanks out yet another f**...   \n",
       "8570                   NaN  Pointless winner won’t let £500 prize change h...   \n",
       "8571                   NaN  All Brexit arguments settled by 0.5 per cent t...   \n",
       "\n",
       "     language             site_url country domain_rank spam_score  type  \n",
       "0     english  100percentfedup.com      US       25689          0  bias  \n",
       "1     english  100percentfedup.com      US       25689          0  bias  \n",
       "2     english  100percentfedup.com      US       25689          0  bias  \n",
       "3     english  100percentfedup.com      US       25689      0.068  bias  \n",
       "4     english  100percentfedup.com      US       25689      0.865  bias  \n",
       "5     english  100percentfedup.com      US       25689          0  bias  \n",
       "6     english  100percentfedup.com      US       25689      0.701  bias  \n",
       "7     english  100percentfedup.com      US       25689      0.188  bias  \n",
       "8     english  100percentfedup.com      US       25689      0.144  bias  \n",
       "9     english  100percentfedup.com      US       25689      0.995  bias  \n",
       "10    english  100percentfedup.com      US       25689          0  bias  \n",
       "11    english  100percentfedup.com      US       25689      0.998  bias  \n",
       "12    english  100percentfedup.com      US       25689          0  bias  \n",
       "13    english  100percentfedup.com      US       25689      0.001  bias  \n",
       "14    english  100percentfedup.com      US       25689          0  bias  \n",
       "15    english  100percentfedup.com      US       25689          0  bias  \n",
       "16    english  100percentfedup.com      US       25689      0.268  bias  \n",
       "17    english  100percentfedup.com      US       25689          0  bias  \n",
       "18    english  100percentfedup.com      US       25689          0  bias  \n",
       "19    english  100percentfedup.com      US       25689          0  bias  \n",
       "20    english  100percentfedup.com      US       25689       0.19  bias  \n",
       "21    english  100percentfedup.com      US       25689          0  bias  \n",
       "22    english  100percentfedup.com      US       25689          0  bias  \n",
       "23    english  100percentfedup.com      US       25689          0  bias  \n",
       "24    english  100percentfedup.com      US       25689          0  bias  \n",
       "25    english  100percentfedup.com      US       25689          0  bias  \n",
       "26    english  100percentfedup.com      US       25689          0  bias  \n",
       "27    english  100percentfedup.com      US       25689      0.256  bias  \n",
       "28    english  100percentfedup.com      US       25689          0  bias  \n",
       "29    english  100percentfedup.com      US       25689          0  bias  \n",
       "...       ...                  ...     ...         ...        ...   ...  \n",
       "8542  english     thedailybell.com      US         NaN          0  fake  \n",
       "8543  english     thedailybell.com      US         NaN          0  fake  \n",
       "8544  english     thedailybell.com      US         NaN          0  fake  \n",
       "8545  english     thedailybell.com      US         NaN          0  fake  \n",
       "8546  english     thedailybell.com      US         NaN          0  fake  \n",
       "8547  english     thedailybell.com      US         NaN          0  fake  \n",
       "8548  english     thedailybell.com      US         NaN          0  fake  \n",
       "8549  english     thedailybell.com      US         NaN          0  fake  \n",
       "8550  english     thedailybell.com      US         NaN          0  fake  \n",
       "8551  english     thedailybell.com      US         NaN          0  fake  \n",
       "8552  english     thedailybell.com      US         NaN          0  fake  \n",
       "8553  english     thedailybell.com      US         NaN          0  fake  \n",
       "8554  english     thedailybell.com      US         NaN          0  fake  \n",
       "8555  english     thedailybell.com      US         NaN          0  fake  \n",
       "8556  english     thedailybell.com      US         NaN          0  fake  \n",
       "8557  english     thedailybell.com      US         NaN          0  fake  \n",
       "8558  english     thedailybell.com      US         NaN          0  fake  \n",
       "8559  english     thedailybell.com      US         NaN          0  fake  \n",
       "8560  english     thedailybell.com      US         NaN          0  fake  \n",
       "8561  english     thedailybell.com      US         NaN          0  fake  \n",
       "8562  english     thedailybell.com      US         NaN          0  fake  \n",
       "8563  english     thedailybell.com      US         NaN          0  fake  \n",
       "8564  english   thedailymash.co.uk      GB       33221          0  fake  \n",
       "8565  english   thedailymash.co.uk      GB       33221          0  fake  \n",
       "8566  english   thedailymash.co.uk      GB       33221          0  fake  \n",
       "8567  english   thedailymash.co.uk      GB       33221          0  fake  \n",
       "8568  english   thedailymash.co.uk      GB       33221          0  fake  \n",
       "8569  english   thedailymash.co.uk      GB       33221          0  fake  \n",
       "8570  english   thedailymash.co.uk      GB       33221          0  fake  \n",
       "8571  english   thedailymash.co.uk      GB       33221          0  fake  \n",
       "\n",
       "[8564 rows x 8 columns]"
      ]
     },
     "execution_count": 15,
     "metadata": {},
     "output_type": "execute_result"
    }
   ],
   "source": [
    "adv[adv.author.notnull()]\n",
    "adv[adv.title.notnull()]\n",
    "adv[adv.language.notnull()]\n",
    "adv[adv.site_url.notnull()]\n",
    "adv[adv.country.notnull()]\n",
    "adv[adv.domain_rank.notnull()]\n",
    "adv[adv.spam_score.notnull()]\n",
    "adv[adv.type.notnull()]"
   ]
  },
  {
   "cell_type": "code",
   "execution_count": 16,
   "metadata": {
    "collapsed": true
   },
   "outputs": [],
   "source": [
    "adv=adv[pd.notnull(adv['author'])]\n",
    "adv=adv[pd.notnull(adv['title'])]\n",
    "adv=adv[pd.notnull(adv['language'])]\n",
    "adv=adv[pd.notnull(adv['country'])]\n",
    "adv=adv[pd.notnull(adv['site_url'])]\n",
    "adv=adv[pd.notnull(adv['domain_rank'])]\n",
    "adv=adv[pd.notnull(adv['spam_score'])]\n",
    "adv=adv[pd.notnull(adv['type'])]"
   ]
  },
  {
   "cell_type": "code",
   "execution_count": 17,
   "metadata": {
    "collapsed": false
   },
   "outputs": [
    {
     "data": {
      "text/html": [
       "<div>\n",
       "<table border=\"1\" class=\"dataframe\">\n",
       "  <thead>\n",
       "    <tr style=\"text-align: right;\">\n",
       "      <th></th>\n",
       "      <th>author</th>\n",
       "      <th>title</th>\n",
       "      <th>language</th>\n",
       "      <th>site_url</th>\n",
       "      <th>country</th>\n",
       "      <th>domain_rank</th>\n",
       "      <th>spam_score</th>\n",
       "      <th>type</th>\n",
       "    </tr>\n",
       "  </thead>\n",
       "  <tbody>\n",
       "    <tr>\n",
       "      <th>0</th>\n",
       "      <td>False</td>\n",
       "      <td>False</td>\n",
       "      <td>False</td>\n",
       "      <td>False</td>\n",
       "      <td>False</td>\n",
       "      <td>False</td>\n",
       "      <td>False</td>\n",
       "      <td>False</td>\n",
       "    </tr>\n",
       "    <tr>\n",
       "      <th>1</th>\n",
       "      <td>False</td>\n",
       "      <td>False</td>\n",
       "      <td>False</td>\n",
       "      <td>False</td>\n",
       "      <td>False</td>\n",
       "      <td>False</td>\n",
       "      <td>False</td>\n",
       "      <td>False</td>\n",
       "    </tr>\n",
       "    <tr>\n",
       "      <th>2</th>\n",
       "      <td>False</td>\n",
       "      <td>False</td>\n",
       "      <td>False</td>\n",
       "      <td>False</td>\n",
       "      <td>False</td>\n",
       "      <td>False</td>\n",
       "      <td>False</td>\n",
       "      <td>False</td>\n",
       "    </tr>\n",
       "    <tr>\n",
       "      <th>3</th>\n",
       "      <td>False</td>\n",
       "      <td>False</td>\n",
       "      <td>False</td>\n",
       "      <td>False</td>\n",
       "      <td>False</td>\n",
       "      <td>False</td>\n",
       "      <td>False</td>\n",
       "      <td>False</td>\n",
       "    </tr>\n",
       "    <tr>\n",
       "      <th>4</th>\n",
       "      <td>False</td>\n",
       "      <td>False</td>\n",
       "      <td>False</td>\n",
       "      <td>False</td>\n",
       "      <td>False</td>\n",
       "      <td>False</td>\n",
       "      <td>False</td>\n",
       "      <td>False</td>\n",
       "    </tr>\n",
       "    <tr>\n",
       "      <th>5</th>\n",
       "      <td>False</td>\n",
       "      <td>False</td>\n",
       "      <td>False</td>\n",
       "      <td>False</td>\n",
       "      <td>False</td>\n",
       "      <td>False</td>\n",
       "      <td>False</td>\n",
       "      <td>False</td>\n",
       "    </tr>\n",
       "    <tr>\n",
       "      <th>6</th>\n",
       "      <td>False</td>\n",
       "      <td>False</td>\n",
       "      <td>False</td>\n",
       "      <td>False</td>\n",
       "      <td>False</td>\n",
       "      <td>False</td>\n",
       "      <td>False</td>\n",
       "      <td>False</td>\n",
       "    </tr>\n",
       "    <tr>\n",
       "      <th>7</th>\n",
       "      <td>False</td>\n",
       "      <td>False</td>\n",
       "      <td>False</td>\n",
       "      <td>False</td>\n",
       "      <td>False</td>\n",
       "      <td>False</td>\n",
       "      <td>False</td>\n",
       "      <td>False</td>\n",
       "    </tr>\n",
       "    <tr>\n",
       "      <th>8</th>\n",
       "      <td>False</td>\n",
       "      <td>False</td>\n",
       "      <td>False</td>\n",
       "      <td>False</td>\n",
       "      <td>False</td>\n",
       "      <td>False</td>\n",
       "      <td>False</td>\n",
       "      <td>False</td>\n",
       "    </tr>\n",
       "    <tr>\n",
       "      <th>9</th>\n",
       "      <td>False</td>\n",
       "      <td>False</td>\n",
       "      <td>False</td>\n",
       "      <td>False</td>\n",
       "      <td>False</td>\n",
       "      <td>False</td>\n",
       "      <td>False</td>\n",
       "      <td>False</td>\n",
       "    </tr>\n",
       "    <tr>\n",
       "      <th>10</th>\n",
       "      <td>False</td>\n",
       "      <td>False</td>\n",
       "      <td>False</td>\n",
       "      <td>False</td>\n",
       "      <td>False</td>\n",
       "      <td>False</td>\n",
       "      <td>False</td>\n",
       "      <td>False</td>\n",
       "    </tr>\n",
       "    <tr>\n",
       "      <th>11</th>\n",
       "      <td>False</td>\n",
       "      <td>False</td>\n",
       "      <td>False</td>\n",
       "      <td>False</td>\n",
       "      <td>False</td>\n",
       "      <td>False</td>\n",
       "      <td>False</td>\n",
       "      <td>False</td>\n",
       "    </tr>\n",
       "    <tr>\n",
       "      <th>12</th>\n",
       "      <td>False</td>\n",
       "      <td>False</td>\n",
       "      <td>False</td>\n",
       "      <td>False</td>\n",
       "      <td>False</td>\n",
       "      <td>False</td>\n",
       "      <td>False</td>\n",
       "      <td>False</td>\n",
       "    </tr>\n",
       "    <tr>\n",
       "      <th>13</th>\n",
       "      <td>False</td>\n",
       "      <td>False</td>\n",
       "      <td>False</td>\n",
       "      <td>False</td>\n",
       "      <td>False</td>\n",
       "      <td>False</td>\n",
       "      <td>False</td>\n",
       "      <td>False</td>\n",
       "    </tr>\n",
       "    <tr>\n",
       "      <th>14</th>\n",
       "      <td>False</td>\n",
       "      <td>False</td>\n",
       "      <td>False</td>\n",
       "      <td>False</td>\n",
       "      <td>False</td>\n",
       "      <td>False</td>\n",
       "      <td>False</td>\n",
       "      <td>False</td>\n",
       "    </tr>\n",
       "    <tr>\n",
       "      <th>15</th>\n",
       "      <td>False</td>\n",
       "      <td>False</td>\n",
       "      <td>False</td>\n",
       "      <td>False</td>\n",
       "      <td>False</td>\n",
       "      <td>False</td>\n",
       "      <td>False</td>\n",
       "      <td>False</td>\n",
       "    </tr>\n",
       "    <tr>\n",
       "      <th>16</th>\n",
       "      <td>False</td>\n",
       "      <td>False</td>\n",
       "      <td>False</td>\n",
       "      <td>False</td>\n",
       "      <td>False</td>\n",
       "      <td>False</td>\n",
       "      <td>False</td>\n",
       "      <td>False</td>\n",
       "    </tr>\n",
       "    <tr>\n",
       "      <th>17</th>\n",
       "      <td>False</td>\n",
       "      <td>False</td>\n",
       "      <td>False</td>\n",
       "      <td>False</td>\n",
       "      <td>False</td>\n",
       "      <td>False</td>\n",
       "      <td>False</td>\n",
       "      <td>False</td>\n",
       "    </tr>\n",
       "    <tr>\n",
       "      <th>18</th>\n",
       "      <td>False</td>\n",
       "      <td>False</td>\n",
       "      <td>False</td>\n",
       "      <td>False</td>\n",
       "      <td>False</td>\n",
       "      <td>False</td>\n",
       "      <td>False</td>\n",
       "      <td>False</td>\n",
       "    </tr>\n",
       "    <tr>\n",
       "      <th>19</th>\n",
       "      <td>False</td>\n",
       "      <td>False</td>\n",
       "      <td>False</td>\n",
       "      <td>False</td>\n",
       "      <td>False</td>\n",
       "      <td>False</td>\n",
       "      <td>False</td>\n",
       "      <td>False</td>\n",
       "    </tr>\n",
       "    <tr>\n",
       "      <th>20</th>\n",
       "      <td>False</td>\n",
       "      <td>False</td>\n",
       "      <td>False</td>\n",
       "      <td>False</td>\n",
       "      <td>False</td>\n",
       "      <td>False</td>\n",
       "      <td>False</td>\n",
       "      <td>False</td>\n",
       "    </tr>\n",
       "    <tr>\n",
       "      <th>21</th>\n",
       "      <td>False</td>\n",
       "      <td>False</td>\n",
       "      <td>False</td>\n",
       "      <td>False</td>\n",
       "      <td>False</td>\n",
       "      <td>False</td>\n",
       "      <td>False</td>\n",
       "      <td>False</td>\n",
       "    </tr>\n",
       "    <tr>\n",
       "      <th>22</th>\n",
       "      <td>False</td>\n",
       "      <td>False</td>\n",
       "      <td>False</td>\n",
       "      <td>False</td>\n",
       "      <td>False</td>\n",
       "      <td>False</td>\n",
       "      <td>False</td>\n",
       "      <td>False</td>\n",
       "    </tr>\n",
       "    <tr>\n",
       "      <th>23</th>\n",
       "      <td>False</td>\n",
       "      <td>False</td>\n",
       "      <td>False</td>\n",
       "      <td>False</td>\n",
       "      <td>False</td>\n",
       "      <td>False</td>\n",
       "      <td>False</td>\n",
       "      <td>False</td>\n",
       "    </tr>\n",
       "    <tr>\n",
       "      <th>24</th>\n",
       "      <td>False</td>\n",
       "      <td>False</td>\n",
       "      <td>False</td>\n",
       "      <td>False</td>\n",
       "      <td>False</td>\n",
       "      <td>False</td>\n",
       "      <td>False</td>\n",
       "      <td>False</td>\n",
       "    </tr>\n",
       "    <tr>\n",
       "      <th>25</th>\n",
       "      <td>False</td>\n",
       "      <td>False</td>\n",
       "      <td>False</td>\n",
       "      <td>False</td>\n",
       "      <td>False</td>\n",
       "      <td>False</td>\n",
       "      <td>False</td>\n",
       "      <td>False</td>\n",
       "    </tr>\n",
       "    <tr>\n",
       "      <th>26</th>\n",
       "      <td>False</td>\n",
       "      <td>False</td>\n",
       "      <td>False</td>\n",
       "      <td>False</td>\n",
       "      <td>False</td>\n",
       "      <td>False</td>\n",
       "      <td>False</td>\n",
       "      <td>False</td>\n",
       "    </tr>\n",
       "    <tr>\n",
       "      <th>27</th>\n",
       "      <td>False</td>\n",
       "      <td>False</td>\n",
       "      <td>False</td>\n",
       "      <td>False</td>\n",
       "      <td>False</td>\n",
       "      <td>False</td>\n",
       "      <td>False</td>\n",
       "      <td>False</td>\n",
       "    </tr>\n",
       "    <tr>\n",
       "      <th>28</th>\n",
       "      <td>False</td>\n",
       "      <td>False</td>\n",
       "      <td>False</td>\n",
       "      <td>False</td>\n",
       "      <td>False</td>\n",
       "      <td>False</td>\n",
       "      <td>False</td>\n",
       "      <td>False</td>\n",
       "    </tr>\n",
       "    <tr>\n",
       "      <th>29</th>\n",
       "      <td>False</td>\n",
       "      <td>False</td>\n",
       "      <td>False</td>\n",
       "      <td>False</td>\n",
       "      <td>False</td>\n",
       "      <td>False</td>\n",
       "      <td>False</td>\n",
       "      <td>False</td>\n",
       "    </tr>\n",
       "    <tr>\n",
       "      <th>...</th>\n",
       "      <td>...</td>\n",
       "      <td>...</td>\n",
       "      <td>...</td>\n",
       "      <td>...</td>\n",
       "      <td>...</td>\n",
       "      <td>...</td>\n",
       "      <td>...</td>\n",
       "      <td>...</td>\n",
       "    </tr>\n",
       "    <tr>\n",
       "      <th>8445</th>\n",
       "      <td>False</td>\n",
       "      <td>False</td>\n",
       "      <td>False</td>\n",
       "      <td>False</td>\n",
       "      <td>False</td>\n",
       "      <td>False</td>\n",
       "      <td>False</td>\n",
       "      <td>False</td>\n",
       "    </tr>\n",
       "    <tr>\n",
       "      <th>8446</th>\n",
       "      <td>False</td>\n",
       "      <td>False</td>\n",
       "      <td>False</td>\n",
       "      <td>False</td>\n",
       "      <td>False</td>\n",
       "      <td>False</td>\n",
       "      <td>False</td>\n",
       "      <td>False</td>\n",
       "    </tr>\n",
       "    <tr>\n",
       "      <th>8447</th>\n",
       "      <td>False</td>\n",
       "      <td>False</td>\n",
       "      <td>False</td>\n",
       "      <td>False</td>\n",
       "      <td>False</td>\n",
       "      <td>False</td>\n",
       "      <td>False</td>\n",
       "      <td>False</td>\n",
       "    </tr>\n",
       "    <tr>\n",
       "      <th>8448</th>\n",
       "      <td>False</td>\n",
       "      <td>False</td>\n",
       "      <td>False</td>\n",
       "      <td>False</td>\n",
       "      <td>False</td>\n",
       "      <td>False</td>\n",
       "      <td>False</td>\n",
       "      <td>False</td>\n",
       "    </tr>\n",
       "    <tr>\n",
       "      <th>8449</th>\n",
       "      <td>False</td>\n",
       "      <td>False</td>\n",
       "      <td>False</td>\n",
       "      <td>False</td>\n",
       "      <td>False</td>\n",
       "      <td>False</td>\n",
       "      <td>False</td>\n",
       "      <td>False</td>\n",
       "    </tr>\n",
       "    <tr>\n",
       "      <th>8450</th>\n",
       "      <td>False</td>\n",
       "      <td>False</td>\n",
       "      <td>False</td>\n",
       "      <td>False</td>\n",
       "      <td>False</td>\n",
       "      <td>False</td>\n",
       "      <td>False</td>\n",
       "      <td>False</td>\n",
       "    </tr>\n",
       "    <tr>\n",
       "      <th>8451</th>\n",
       "      <td>False</td>\n",
       "      <td>False</td>\n",
       "      <td>False</td>\n",
       "      <td>False</td>\n",
       "      <td>False</td>\n",
       "      <td>False</td>\n",
       "      <td>False</td>\n",
       "      <td>False</td>\n",
       "    </tr>\n",
       "    <tr>\n",
       "      <th>8452</th>\n",
       "      <td>False</td>\n",
       "      <td>False</td>\n",
       "      <td>False</td>\n",
       "      <td>False</td>\n",
       "      <td>False</td>\n",
       "      <td>False</td>\n",
       "      <td>False</td>\n",
       "      <td>False</td>\n",
       "    </tr>\n",
       "    <tr>\n",
       "      <th>8453</th>\n",
       "      <td>False</td>\n",
       "      <td>False</td>\n",
       "      <td>False</td>\n",
       "      <td>False</td>\n",
       "      <td>False</td>\n",
       "      <td>False</td>\n",
       "      <td>False</td>\n",
       "      <td>False</td>\n",
       "    </tr>\n",
       "    <tr>\n",
       "      <th>8454</th>\n",
       "      <td>False</td>\n",
       "      <td>False</td>\n",
       "      <td>False</td>\n",
       "      <td>False</td>\n",
       "      <td>False</td>\n",
       "      <td>False</td>\n",
       "      <td>False</td>\n",
       "      <td>False</td>\n",
       "    </tr>\n",
       "    <tr>\n",
       "      <th>8455</th>\n",
       "      <td>False</td>\n",
       "      <td>False</td>\n",
       "      <td>False</td>\n",
       "      <td>False</td>\n",
       "      <td>False</td>\n",
       "      <td>False</td>\n",
       "      <td>False</td>\n",
       "      <td>False</td>\n",
       "    </tr>\n",
       "    <tr>\n",
       "      <th>8456</th>\n",
       "      <td>False</td>\n",
       "      <td>False</td>\n",
       "      <td>False</td>\n",
       "      <td>False</td>\n",
       "      <td>False</td>\n",
       "      <td>False</td>\n",
       "      <td>False</td>\n",
       "      <td>False</td>\n",
       "    </tr>\n",
       "    <tr>\n",
       "      <th>8457</th>\n",
       "      <td>False</td>\n",
       "      <td>False</td>\n",
       "      <td>False</td>\n",
       "      <td>False</td>\n",
       "      <td>False</td>\n",
       "      <td>False</td>\n",
       "      <td>False</td>\n",
       "      <td>False</td>\n",
       "    </tr>\n",
       "    <tr>\n",
       "      <th>8458</th>\n",
       "      <td>False</td>\n",
       "      <td>False</td>\n",
       "      <td>False</td>\n",
       "      <td>False</td>\n",
       "      <td>False</td>\n",
       "      <td>False</td>\n",
       "      <td>False</td>\n",
       "      <td>False</td>\n",
       "    </tr>\n",
       "    <tr>\n",
       "      <th>8459</th>\n",
       "      <td>False</td>\n",
       "      <td>False</td>\n",
       "      <td>False</td>\n",
       "      <td>False</td>\n",
       "      <td>False</td>\n",
       "      <td>False</td>\n",
       "      <td>False</td>\n",
       "      <td>False</td>\n",
       "    </tr>\n",
       "    <tr>\n",
       "      <th>8460</th>\n",
       "      <td>False</td>\n",
       "      <td>False</td>\n",
       "      <td>False</td>\n",
       "      <td>False</td>\n",
       "      <td>False</td>\n",
       "      <td>False</td>\n",
       "      <td>False</td>\n",
       "      <td>False</td>\n",
       "    </tr>\n",
       "    <tr>\n",
       "      <th>8461</th>\n",
       "      <td>False</td>\n",
       "      <td>False</td>\n",
       "      <td>False</td>\n",
       "      <td>False</td>\n",
       "      <td>False</td>\n",
       "      <td>False</td>\n",
       "      <td>False</td>\n",
       "      <td>False</td>\n",
       "    </tr>\n",
       "    <tr>\n",
       "      <th>8462</th>\n",
       "      <td>False</td>\n",
       "      <td>False</td>\n",
       "      <td>False</td>\n",
       "      <td>False</td>\n",
       "      <td>False</td>\n",
       "      <td>False</td>\n",
       "      <td>False</td>\n",
       "      <td>False</td>\n",
       "    </tr>\n",
       "    <tr>\n",
       "      <th>8463</th>\n",
       "      <td>False</td>\n",
       "      <td>False</td>\n",
       "      <td>False</td>\n",
       "      <td>False</td>\n",
       "      <td>False</td>\n",
       "      <td>False</td>\n",
       "      <td>False</td>\n",
       "      <td>False</td>\n",
       "    </tr>\n",
       "    <tr>\n",
       "      <th>8464</th>\n",
       "      <td>False</td>\n",
       "      <td>False</td>\n",
       "      <td>False</td>\n",
       "      <td>False</td>\n",
       "      <td>False</td>\n",
       "      <td>False</td>\n",
       "      <td>False</td>\n",
       "      <td>False</td>\n",
       "    </tr>\n",
       "    <tr>\n",
       "      <th>8465</th>\n",
       "      <td>False</td>\n",
       "      <td>False</td>\n",
       "      <td>False</td>\n",
       "      <td>False</td>\n",
       "      <td>False</td>\n",
       "      <td>False</td>\n",
       "      <td>False</td>\n",
       "      <td>False</td>\n",
       "    </tr>\n",
       "    <tr>\n",
       "      <th>8466</th>\n",
       "      <td>False</td>\n",
       "      <td>False</td>\n",
       "      <td>False</td>\n",
       "      <td>False</td>\n",
       "      <td>False</td>\n",
       "      <td>False</td>\n",
       "      <td>False</td>\n",
       "      <td>False</td>\n",
       "    </tr>\n",
       "    <tr>\n",
       "      <th>8467</th>\n",
       "      <td>False</td>\n",
       "      <td>False</td>\n",
       "      <td>False</td>\n",
       "      <td>False</td>\n",
       "      <td>False</td>\n",
       "      <td>False</td>\n",
       "      <td>False</td>\n",
       "      <td>False</td>\n",
       "    </tr>\n",
       "    <tr>\n",
       "      <th>8468</th>\n",
       "      <td>False</td>\n",
       "      <td>False</td>\n",
       "      <td>False</td>\n",
       "      <td>False</td>\n",
       "      <td>False</td>\n",
       "      <td>False</td>\n",
       "      <td>False</td>\n",
       "      <td>False</td>\n",
       "    </tr>\n",
       "    <tr>\n",
       "      <th>8469</th>\n",
       "      <td>False</td>\n",
       "      <td>False</td>\n",
       "      <td>False</td>\n",
       "      <td>False</td>\n",
       "      <td>False</td>\n",
       "      <td>False</td>\n",
       "      <td>False</td>\n",
       "      <td>False</td>\n",
       "    </tr>\n",
       "    <tr>\n",
       "      <th>8470</th>\n",
       "      <td>False</td>\n",
       "      <td>False</td>\n",
       "      <td>False</td>\n",
       "      <td>False</td>\n",
       "      <td>False</td>\n",
       "      <td>False</td>\n",
       "      <td>False</td>\n",
       "      <td>False</td>\n",
       "    </tr>\n",
       "    <tr>\n",
       "      <th>8471</th>\n",
       "      <td>False</td>\n",
       "      <td>False</td>\n",
       "      <td>False</td>\n",
       "      <td>False</td>\n",
       "      <td>False</td>\n",
       "      <td>False</td>\n",
       "      <td>False</td>\n",
       "      <td>False</td>\n",
       "    </tr>\n",
       "    <tr>\n",
       "      <th>8472</th>\n",
       "      <td>False</td>\n",
       "      <td>False</td>\n",
       "      <td>False</td>\n",
       "      <td>False</td>\n",
       "      <td>False</td>\n",
       "      <td>False</td>\n",
       "      <td>False</td>\n",
       "      <td>False</td>\n",
       "    </tr>\n",
       "    <tr>\n",
       "      <th>8473</th>\n",
       "      <td>False</td>\n",
       "      <td>False</td>\n",
       "      <td>False</td>\n",
       "      <td>False</td>\n",
       "      <td>False</td>\n",
       "      <td>False</td>\n",
       "      <td>False</td>\n",
       "      <td>False</td>\n",
       "    </tr>\n",
       "    <tr>\n",
       "      <th>8474</th>\n",
       "      <td>False</td>\n",
       "      <td>False</td>\n",
       "      <td>False</td>\n",
       "      <td>False</td>\n",
       "      <td>False</td>\n",
       "      <td>False</td>\n",
       "      <td>False</td>\n",
       "      <td>False</td>\n",
       "    </tr>\n",
       "  </tbody>\n",
       "</table>\n",
       "<p>4070 rows × 8 columns</p>\n",
       "</div>"
      ],
      "text/plain": [
       "     author  title language site_url country domain_rank spam_score   type\n",
       "0     False  False    False    False   False       False      False  False\n",
       "1     False  False    False    False   False       False      False  False\n",
       "2     False  False    False    False   False       False      False  False\n",
       "3     False  False    False    False   False       False      False  False\n",
       "4     False  False    False    False   False       False      False  False\n",
       "5     False  False    False    False   False       False      False  False\n",
       "6     False  False    False    False   False       False      False  False\n",
       "7     False  False    False    False   False       False      False  False\n",
       "8     False  False    False    False   False       False      False  False\n",
       "9     False  False    False    False   False       False      False  False\n",
       "10    False  False    False    False   False       False      False  False\n",
       "11    False  False    False    False   False       False      False  False\n",
       "12    False  False    False    False   False       False      False  False\n",
       "13    False  False    False    False   False       False      False  False\n",
       "14    False  False    False    False   False       False      False  False\n",
       "15    False  False    False    False   False       False      False  False\n",
       "16    False  False    False    False   False       False      False  False\n",
       "17    False  False    False    False   False       False      False  False\n",
       "18    False  False    False    False   False       False      False  False\n",
       "19    False  False    False    False   False       False      False  False\n",
       "20    False  False    False    False   False       False      False  False\n",
       "21    False  False    False    False   False       False      False  False\n",
       "22    False  False    False    False   False       False      False  False\n",
       "23    False  False    False    False   False       False      False  False\n",
       "24    False  False    False    False   False       False      False  False\n",
       "25    False  False    False    False   False       False      False  False\n",
       "26    False  False    False    False   False       False      False  False\n",
       "27    False  False    False    False   False       False      False  False\n",
       "28    False  False    False    False   False       False      False  False\n",
       "29    False  False    False    False   False       False      False  False\n",
       "...     ...    ...      ...      ...     ...         ...        ...    ...\n",
       "8445  False  False    False    False   False       False      False  False\n",
       "8446  False  False    False    False   False       False      False  False\n",
       "8447  False  False    False    False   False       False      False  False\n",
       "8448  False  False    False    False   False       False      False  False\n",
       "8449  False  False    False    False   False       False      False  False\n",
       "8450  False  False    False    False   False       False      False  False\n",
       "8451  False  False    False    False   False       False      False  False\n",
       "8452  False  False    False    False   False       False      False  False\n",
       "8453  False  False    False    False   False       False      False  False\n",
       "8454  False  False    False    False   False       False      False  False\n",
       "8455  False  False    False    False   False       False      False  False\n",
       "8456  False  False    False    False   False       False      False  False\n",
       "8457  False  False    False    False   False       False      False  False\n",
       "8458  False  False    False    False   False       False      False  False\n",
       "8459  False  False    False    False   False       False      False  False\n",
       "8460  False  False    False    False   False       False      False  False\n",
       "8461  False  False    False    False   False       False      False  False\n",
       "8462  False  False    False    False   False       False      False  False\n",
       "8463  False  False    False    False   False       False      False  False\n",
       "8464  False  False    False    False   False       False      False  False\n",
       "8465  False  False    False    False   False       False      False  False\n",
       "8466  False  False    False    False   False       False      False  False\n",
       "8467  False  False    False    False   False       False      False  False\n",
       "8468  False  False    False    False   False       False      False  False\n",
       "8469  False  False    False    False   False       False      False  False\n",
       "8470  False  False    False    False   False       False      False  False\n",
       "8471  False  False    False    False   False       False      False  False\n",
       "8472  False  False    False    False   False       False      False  False\n",
       "8473  False  False    False    False   False       False      False  False\n",
       "8474  False  False    False    False   False       False      False  False\n",
       "\n",
       "[4070 rows x 8 columns]"
      ]
     },
     "execution_count": 17,
     "metadata": {},
     "output_type": "execute_result"
    }
   ],
   "source": [
    "adv.isnull()"
   ]
  },
  {
   "cell_type": "code",
   "execution_count": 18,
   "metadata": {
    "collapsed": false
   },
   "outputs": [
    {
     "data": {
      "text/plain": [
       "4070"
      ]
     },
     "execution_count": 18,
     "metadata": {},
     "output_type": "execute_result"
    }
   ],
   "source": [
    "len(adv)"
   ]
  },
  {
   "cell_type": "code",
   "execution_count": 19,
   "metadata": {
    "collapsed": false
   },
   "outputs": [],
   "source": [
    "import matplotlib.pyplot as plt"
   ]
  },
  {
   "cell_type": "code",
   "execution_count": 20,
   "metadata": {
    "collapsed": true
   },
   "outputs": [],
   "source": [
    "%matplotlib inline"
   ]
  },
  {
   "cell_type": "markdown",
   "metadata": {},
   "source": [
    "## Length Calculation"
   ]
  },
  {
   "cell_type": "code",
   "execution_count": 21,
   "metadata": {
    "collapsed": false,
    "scrolled": true
   },
   "outputs": [
    {
     "data": {
      "text/html": [
       "<div>\n",
       "<table border=\"1\" class=\"dataframe\">\n",
       "  <thead>\n",
       "    <tr style=\"text-align: right;\">\n",
       "      <th></th>\n",
       "      <th>author</th>\n",
       "      <th>title</th>\n",
       "      <th>language</th>\n",
       "      <th>site_url</th>\n",
       "      <th>country</th>\n",
       "      <th>domain_rank</th>\n",
       "      <th>spam_score</th>\n",
       "      <th>type</th>\n",
       "      <th>length</th>\n",
       "    </tr>\n",
       "  </thead>\n",
       "  <tbody>\n",
       "    <tr>\n",
       "      <th>0</th>\n",
       "      <td>Barracuda Brigade</td>\n",
       "      <td>Muslims BUSTED: They Stole Millions In Gov’t B...</td>\n",
       "      <td>english</td>\n",
       "      <td>100percentfedup.com</td>\n",
       "      <td>US</td>\n",
       "      <td>25689</td>\n",
       "      <td>0</td>\n",
       "      <td>bias</td>\n",
       "      <td>53</td>\n",
       "    </tr>\n",
       "    <tr>\n",
       "      <th>1</th>\n",
       "      <td>reasoning with facts</td>\n",
       "      <td>Re: Why Did Attorney General Loretta Lynch Ple...</td>\n",
       "      <td>english</td>\n",
       "      <td>100percentfedup.com</td>\n",
       "      <td>US</td>\n",
       "      <td>25689</td>\n",
       "      <td>0</td>\n",
       "      <td>bias</td>\n",
       "      <td>59</td>\n",
       "    </tr>\n",
       "    <tr>\n",
       "      <th>2</th>\n",
       "      <td>Barracuda Brigade</td>\n",
       "      <td>BREAKING: Weiner Cooperating With FBI On Hilla...</td>\n",
       "      <td>english</td>\n",
       "      <td>100percentfedup.com</td>\n",
       "      <td>US</td>\n",
       "      <td>25689</td>\n",
       "      <td>0</td>\n",
       "      <td>bias</td>\n",
       "      <td>68</td>\n",
       "    </tr>\n",
       "    <tr>\n",
       "      <th>3</th>\n",
       "      <td>Fed Up</td>\n",
       "      <td>PIN DROP SPEECH BY FATHER OF DAUGHTER Kidnappe...</td>\n",
       "      <td>english</td>\n",
       "      <td>100percentfedup.com</td>\n",
       "      <td>US</td>\n",
       "      <td>25689</td>\n",
       "      <td>0.068</td>\n",
       "      <td>bias</td>\n",
       "      <td>125</td>\n",
       "    </tr>\n",
       "    <tr>\n",
       "      <th>4</th>\n",
       "      <td>Fed Up</td>\n",
       "      <td>FANTASTIC! TRUMP'S 7 POINT PLAN To Reform Heal...</td>\n",
       "      <td>english</td>\n",
       "      <td>100percentfedup.com</td>\n",
       "      <td>US</td>\n",
       "      <td>25689</td>\n",
       "      <td>0.865</td>\n",
       "      <td>bias</td>\n",
       "      <td>101</td>\n",
       "    </tr>\n",
       "  </tbody>\n",
       "</table>\n",
       "</div>"
      ],
      "text/plain": [
       "                 author                                              title  \\\n",
       "0     Barracuda Brigade  Muslims BUSTED: They Stole Millions In Gov’t B...   \n",
       "1  reasoning with facts  Re: Why Did Attorney General Loretta Lynch Ple...   \n",
       "2     Barracuda Brigade  BREAKING: Weiner Cooperating With FBI On Hilla...   \n",
       "3                Fed Up  PIN DROP SPEECH BY FATHER OF DAUGHTER Kidnappe...   \n",
       "4                Fed Up  FANTASTIC! TRUMP'S 7 POINT PLAN To Reform Heal...   \n",
       "\n",
       "  language             site_url country domain_rank spam_score  type  length  \n",
       "0  english  100percentfedup.com      US       25689          0  bias      53  \n",
       "1  english  100percentfedup.com      US       25689          0  bias      59  \n",
       "2  english  100percentfedup.com      US       25689          0  bias      68  \n",
       "3  english  100percentfedup.com      US       25689      0.068  bias     125  \n",
       "4  english  100percentfedup.com      US       25689      0.865  bias     101  "
      ]
     },
     "execution_count": 21,
     "metadata": {},
     "output_type": "execute_result"
    }
   ],
   "source": [
    "adv['length']=adv['title'].map(lambda text: len(text))\n",
    "adv.head()"
   ]
  },
  {
   "cell_type": "markdown",
   "metadata": {},
   "source": [
    "## Plotting the graph according "
   ]
  },
  {
   "cell_type": "code",
   "execution_count": 22,
   "metadata": {
    "collapsed": false,
    "scrolled": false
   },
   "outputs": [
    {
     "data": {
      "text/plain": [
       "<matplotlib.axes._subplots.AxesSubplot at 0x20bb91b9eb8>"
      ]
     },
     "execution_count": 22,
     "metadata": {},
     "output_type": "execute_result"
    },
    {
     "data": {
      "image/png": "[encoded data removed]",
      "text/plain": [
       "<matplotlib.figure.Figure at 0x20bb373d780>"
      ]
     },
     "metadata": {},
     "output_type": "display_data"
    }
   ],
   "source": [
    "adv.length.plot(bins=20, kind='hist')"
   ]
  },
  {
   "cell_type": "code",
   "execution_count": 23,
   "metadata": {
    "collapsed": false
   },
   "outputs": [
    {
     "data": {
      "text/plain": [
       "count    4070.000000\n",
       "mean       68.651106\n",
       "std        26.567518\n",
       "min         1.000000\n",
       "25%        51.000000\n",
       "50%        68.000000\n",
       "75%        83.000000\n",
       "max       276.000000\n",
       "Name: length, dtype: float64"
      ]
     },
     "execution_count": 23,
     "metadata": {},
     "output_type": "execute_result"
    }
   ],
   "source": [
    "adv.length.describe()"
   ]
  },
  {
   "cell_type": "markdown",
   "metadata": {},
   "source": [
    "## Length comaprisons for different types"
   ]
  },
  {
   "cell_type": "code",
   "execution_count": 24,
   "metadata": {
    "collapsed": false,
    "scrolled": true
   },
   "outputs": [
    {
     "name": "stdout",
     "output_type": "stream",
     "text": [
      "[[<matplotlib.axes._subplots.AxesSubplot object at 0x0000020BB9637978>\n",
      "  <matplotlib.axes._subplots.AxesSubplot object at 0x0000020BB96BB550>]\n",
      " [<matplotlib.axes._subplots.AxesSubplot object at 0x0000020BB96DEFD0>\n",
      "  <matplotlib.axes._subplots.AxesSubplot object at 0x0000020BB9773A90>]\n",
      " [<matplotlib.axes._subplots.AxesSubplot object at 0x0000020BB97DCDA0>\n",
      "  <matplotlib.axes._subplots.AxesSubplot object at 0x0000020BB97DCDD8>]]\n"
     ]
    },
    {
     "data": {
      "image/png": "[encoded data removed]",
      "text/plain": [
       "<matplotlib.figure.Figure at 0x20bb9050588>"
      ]
     },
     "metadata": {},
     "output_type": "display_data"
    }
   ],
   "source": [
    "print(adv.hist(column='length', by='type', bins=30))"
   ]
  },
  {
   "cell_type": "markdown",
   "metadata": {},
   "source": [
    "## Processing features"
   ]
  },
  {
   "cell_type": "code",
   "execution_count": 25,
   "metadata": {
    "collapsed": true
   },
   "outputs": [],
   "source": [
    "def tokenize(title):\n",
    "    title2 = 'title -' + str(title)  # convert bytes into proper unicode\n",
    "    return TextBlob(title).words"
   ]
  },
  {
   "cell_type": "code",
   "execution_count": 26,
   "metadata": {
    "collapsed": false
   },
   "outputs": [
    {
     "data": {
      "text/plain": [
       "0    [Muslims, BUSTED, They, Stole, Millions, In, G...\n",
       "1    [Re, Why, Did, Attorney, General, Loretta, Lyn...\n",
       "2    [BREAKING, Weiner, Cooperating, With, FBI, On,...\n",
       "3    [PIN, DROP, SPEECH, BY, FATHER, OF, DAUGHTER, ...\n",
       "4    [FANTASTIC, TRUMP, 'S, 7, POINT, PLAN, To, Ref...\n",
       "Name: title, dtype: object"
      ]
     },
     "execution_count": 26,
     "metadata": {},
     "output_type": "execute_result"
    }
   ],
   "source": [
    "adv.title.head().apply(tokenize)"
   ]
  },
  {
   "cell_type": "code",
   "execution_count": 27,
   "metadata": {
    "collapsed": false,
    "scrolled": false
   },
   "outputs": [
    {
     "data": {
      "text/plain": [
       "0    [Muslims, BUSTED, They, Stole, Millions, In, G...\n",
       "1    [Re, Why, Did, Attorney, General, Loretta, Lyn...\n",
       "2    [BREAKING, Weiner, Cooperating, With, FBI, On,...\n",
       "3    [PIN, DROP, SPEECH, BY, FATHER, OF, DAUGHTER, ...\n",
       "4    [FANTASTIC, TRUMP, 'S, 7, POINT, PLAN, To, Ref...\n",
       "Name: title, dtype: object"
      ]
     },
     "execution_count": 27,
     "metadata": {},
     "output_type": "execute_result"
    }
   ],
   "source": [
    "def lemmatize(title):\n",
    "    title2 = 'title -' + str(title).lower()\n",
    "    words = TextBlob(title).words\n",
    "    # for each word, take its \"base form\" = lemma \n",
    "    return [word.lemma for word in words]\n",
    "\n",
    "adv.title.head().apply(lemmatize)"
   ]
  },
  {
   "cell_type": "code",
   "execution_count": 28,
   "metadata": {
    "collapsed": false,
    "scrolled": true
   },
   "outputs": [
    {
     "data": {
      "text/plain": [
       "[('BREAKING', 'NN'),\n",
       " ('Weiner', 'NNP'),\n",
       " ('Cooperating', 'VBG'),\n",
       " ('With', 'IN'),\n",
       " ('FBI', 'NNP'),\n",
       " ('On', 'IN'),\n",
       " ('Hilla', 'NNP')]"
      ]
     },
     "execution_count": 28,
     "metadata": {},
     "output_type": "execute_result"
    }
   ],
   "source": [
    "TextBlob(\"BREAKING: Weiner Cooperating With FBI On Hilla\").tags"
   ]
  },
  {
   "cell_type": "markdown",
   "metadata": {},
   "source": [
    "## Data to Vectors- fitting and transforming using Count Vectorizer "
   ]
  },
  {
   "cell_type": "code",
   "execution_count": 29,
   "metadata": {
    "collapsed": false
   },
   "outputs": [
    {
     "data": {
      "text/plain": [
       "12080"
      ]
     },
     "execution_count": 29,
     "metadata": {},
     "output_type": "execute_result"
    }
   ],
   "source": [
    "bow_transformer = CountVectorizer(analyzer=lemmatize).fit(adv['title'])\n",
    "len(bow_transformer.vocabulary_)"
   ]
  },
  {
   "cell_type": "code",
   "execution_count": 30,
   "metadata": {
    "collapsed": false
   },
   "outputs": [],
   "source": [
    "title4=adv['title'][20]"
   ]
  },
  {
   "cell_type": "code",
   "execution_count": 31,
   "metadata": {
    "collapsed": false,
    "scrolled": true
   },
   "outputs": [
    {
     "data": {
      "text/plain": [
       "'MARK CUBAN: \"In The Event Donald Wins, I Have No Doubt The Market Tanks\"…So Here\\'s What Really Happened [VIDEO] » 100percentfedUp.com'"
      ]
     },
     "execution_count": 31,
     "metadata": {},
     "output_type": "execute_result"
    }
   ],
   "source": [
    "title4"
   ]
  },
  {
   "cell_type": "code",
   "execution_count": 32,
   "metadata": {
    "collapsed": false
   },
   "outputs": [
    {
     "data": {
      "text/plain": [
       "<1x12080 sparse matrix of type '<class 'numpy.int64'>'\n",
       "\twith 22 stored elements in Compressed Sparse Row format>"
      ]
     },
     "execution_count": 32,
     "metadata": {},
     "output_type": "execute_result"
    }
   ],
   "source": [
    "bow4 = bow_transformer.transform([title4])\n",
    "bow4"
   ]
  },
  {
   "cell_type": "code",
   "execution_count": 33,
   "metadata": {
    "collapsed": false
   },
   "outputs": [
    {
     "data": {
      "text/plain": [
       "'Acquittal'"
      ]
     },
     "execution_count": 33,
     "metadata": {},
     "output_type": "execute_result"
    }
   ],
   "source": [
    "bow_transformer.get_feature_names()[456]"
   ]
  },
  {
   "cell_type": "markdown",
   "metadata": {},
   "source": [
    "## SParsity- sparse matrix"
   ]
  },
  {
   "cell_type": "code",
   "execution_count": 34,
   "metadata": {
    "collapsed": false
   },
   "outputs": [
    {
     "data": {
      "text/plain": [
       "'sparsity: 0.09%'"
      ]
     },
     "execution_count": 34,
     "metadata": {},
     "output_type": "execute_result"
    }
   ],
   "source": [
    "title_bow = bow_transformer.transform(adv['title'])\n",
    "\n",
    "'sparsity: %.2f%%' % (100.0 * title_bow.nnz / (title_bow.shape[0] * title_bow.shape[1]))"
   ]
  },
  {
   "cell_type": "code",
   "execution_count": 35,
   "metadata": {
    "collapsed": false
   },
   "outputs": [
    {
     "data": {
      "text/plain": [
       "('sparse matrix shape:', (4070, 12080))"
      ]
     },
     "execution_count": 35,
     "metadata": {},
     "output_type": "execute_result"
    }
   ],
   "source": [
    "'sparse matrix shape:', title_bow.shape"
   ]
  },
  {
   "cell_type": "code",
   "execution_count": 36,
   "metadata": {
    "collapsed": false
   },
   "outputs": [
    {
     "data": {
      "text/plain": [
       "('number of non-zeros:', 43816)"
      ]
     },
     "execution_count": 36,
     "metadata": {},
     "output_type": "execute_result"
    }
   ],
   "source": [
    "'number of non-zeros:', title_bow.nnz"
   ]
  },
  {
   "cell_type": "markdown",
   "metadata": {},
   "source": [
    "## Data to Vectors- fitting and transforming TFIDF- term frequency- inverse doc frequency and getting sparse matrix"
   ]
  },
  {
   "cell_type": "code",
   "execution_count": 37,
   "metadata": {
    "collapsed": false
   },
   "outputs": [
    {
     "data": {
      "text/plain": [
       "<1x12080 sparse matrix of type '<class 'numpy.float64'>'\n",
       "\twith 22 stored elements in Compressed Sparse Row format>"
      ]
     },
     "execution_count": 37,
     "metadata": {},
     "output_type": "execute_result"
    }
   ],
   "source": [
    "tfidf_transformer = TfidfTransformer().fit(title_bow)\n",
    "tfidf4 = tfidf_transformer.transform(bow4)\n",
    "tfidf4"
   ]
  },
  {
   "cell_type": "code",
   "execution_count": 38,
   "metadata": {
    "collapsed": false
   },
   "outputs": [
    {
     "data": {
      "text/plain": [
       "7.9253495873830886"
      ]
     },
     "execution_count": 38,
     "metadata": {},
     "output_type": "execute_result"
    }
   ],
   "source": [
    "tfidf_transformer.idf_[bow_transformer.vocabulary_['u']]"
   ]
  },
  {
   "cell_type": "code",
   "execution_count": 39,
   "metadata": {
    "collapsed": false,
    "scrolled": true
   },
   "outputs": [
    {
     "data": {
      "text/plain": [
       "8.6184967679430322"
      ]
     },
     "execution_count": 39,
     "metadata": {},
     "output_type": "execute_result"
    }
   ],
   "source": [
    "tfidf_transformer.idf_[bow_transformer.vocabulary_['university']]"
   ]
  },
  {
   "cell_type": "code",
   "execution_count": 40,
   "metadata": {
    "collapsed": false
   },
   "outputs": [
    {
     "data": {
      "text/plain": [
       "(4070, 12080)"
      ]
     },
     "execution_count": 40,
     "metadata": {},
     "output_type": "execute_result"
    }
   ],
   "source": [
    "title_tfidf = tfidf_transformer.transform(title_bow)\n",
    "title_tfidf.shape"
   ]
  },
  {
   "cell_type": "markdown",
   "metadata": {},
   "source": [
    "## Applying Multinomial on the whole training set and predicting accuracy"
   ]
  },
  {
   "cell_type": "code",
   "execution_count": 41,
   "metadata": {
    "collapsed": false
   },
   "outputs": [
    {
     "name": "stdout",
     "output_type": "stream",
     "text": [
      "Wall time: 20.1 ms\n"
     ]
    }
   ],
   "source": [
    "%time spam_detector = MultinomialNB().fit(title_tfidf, adv['type'])"
   ]
  },
  {
   "cell_type": "code",
   "execution_count": 42,
   "metadata": {
    "collapsed": true
   },
   "outputs": [],
   "source": [
    "spam_detector=MultinomialNB().fit(title_tfidf, adv['type'])"
   ]
  },
  {
   "cell_type": "code",
   "execution_count": 43,
   "metadata": {
    "collapsed": false
   },
   "outputs": [
    {
     "data": {
      "text/plain": [
       "MultinomialNB(alpha=1.0, class_prior=None, fit_prior=True)"
      ]
     },
     "execution_count": 43,
     "metadata": {},
     "output_type": "execute_result"
    }
   ],
   "source": [
    "spam_detector"
   ]
  },
  {
   "cell_type": "code",
   "execution_count": 44,
   "metadata": {
    "collapsed": false,
    "scrolled": true
   },
   "outputs": [
    {
     "data": {
      "text/plain": [
       "('predicted:', 'fake')"
      ]
     },
     "execution_count": 44,
     "metadata": {},
     "output_type": "execute_result"
    }
   ],
   "source": [
    "'predicted:', spam_detector.predict(tfidf4)[0]"
   ]
  },
  {
   "cell_type": "code",
   "execution_count": 45,
   "metadata": {
    "collapsed": false
   },
   "outputs": [
    {
     "data": {
      "text/plain": [
       "('expected:', 'bias')"
      ]
     },
     "execution_count": 45,
     "metadata": {},
     "output_type": "execute_result"
    }
   ],
   "source": [
    "'expected:', adv.type[8]"
   ]
  },
  {
   "cell_type": "code",
   "execution_count": 46,
   "metadata": {
    "collapsed": false
   },
   "outputs": [
    {
     "data": {
      "text/plain": [
       "('expected:', 'fake')"
      ]
     },
     "execution_count": 46,
     "metadata": {},
     "output_type": "execute_result"
    }
   ],
   "source": [
    "'expected:', adv.type[500]"
   ]
  },
  {
   "cell_type": "code",
   "execution_count": 47,
   "metadata": {
    "collapsed": false,
    "scrolled": true
   },
   "outputs": [
    {
     "data": {
      "text/plain": [
       "array(['fake', 'fake', 'fake', ..., 'fake', 'fake', 'fake'], \n",
       "      dtype='<U10')"
      ]
     },
     "execution_count": 47,
     "metadata": {},
     "output_type": "execute_result"
    }
   ],
   "source": [
    "all_predictions = spam_detector.predict(title_tfidf)\n",
    "all_predictions"
   ]
  },
  {
   "cell_type": "code",
   "execution_count": 48,
   "metadata": {
    "collapsed": false,
    "scrolled": true
   },
   "outputs": [
    {
     "data": {
      "text/plain": [
       "('accuracy', 0.85036855036855041)"
      ]
     },
     "execution_count": 48,
     "metadata": {},
     "output_type": "execute_result"
    }
   ],
   "source": [
    "'accuracy', accuracy_score(adv['type'], all_predictions)"
   ]
  },
  {
   "cell_type": "code",
   "execution_count": 49,
   "metadata": {
    "collapsed": false
   },
   "outputs": [
    {
     "name": "stdout",
     "output_type": "stream",
     "text": [
      "confusion matrix\n",
      " [[   0    0  190    0    0]\n",
      " [   0    0  260    0    0]\n",
      " [   0    0 3461    0    0]\n",
      " [   0    0  153    0    0]\n",
      " [   0    0    6    0    0]]\n"
     ]
    }
   ],
   "source": [
    "print('confusion matrix\\n', confusion_matrix(adv['type'], all_predictions))\n"
   ]
  },
  {
   "cell_type": "code",
   "execution_count": 50,
   "metadata": {
    "collapsed": false
   },
   "outputs": [
    {
     "data": {
      "text/plain": [
       "'(row=expected, col=predicted)'"
      ]
     },
     "execution_count": 50,
     "metadata": {},
     "output_type": "execute_result"
    }
   ],
   "source": [
    "'(row=expected, col=predicted)'"
   ]
  },
  {
   "cell_type": "code",
   "execution_count": 51,
   "metadata": {
    "collapsed": false
   },
   "outputs": [
    {
     "data": {
      "text/plain": [
       "<matplotlib.text.Text at 0x20bbf8b8f60>"
      ]
     },
     "execution_count": 51,
     "metadata": {},
     "output_type": "execute_result"
    },
    {
     "data": {
      "image/png": "[encoded data removed]",
      "text/plain": [
       "<matplotlib.figure.Figure at 0x20bc036da90>"
      ]
     },
     "metadata": {},
     "output_type": "display_data"
    }
   ],
   "source": [
    "plt.matshow(confusion_matrix(adv['type'], all_predictions), cmap=plt.cm.binary, interpolation='nearest')\n",
    "plt.title('confusion matrix')\n",
    "plt.colorbar()\n",
    "plt.ylabel('expected label')\n",
    "plt.xlabel('predicted label')"
   ]
  },
  {
   "cell_type": "code",
   "execution_count": 52,
   "metadata": {
    "collapsed": false
   },
   "outputs": [
    {
     "name": "stdout",
     "output_type": "stream",
     "text": [
      "             precision    recall  f1-score   support\n",
      "\n",
      "       bias       0.00      0.00      0.00       190\n",
      " conspiracy       0.00      0.00      0.00       260\n",
      "       fake       0.85      1.00      0.92      3461\n",
      "       hate       0.00      0.00      0.00       153\n",
      "     satire       0.00      0.00      0.00         6\n",
      "\n",
      "avg / total       0.72      0.85      0.78      4070\n",
      "\n"
     ]
    },
    {
     "name": "stderr",
     "output_type": "stream",
     "text": [
      "C:\\Users\\navkiran\\anaconda3 4.3.1\\lib\\site-packages\\sklearn\\metrics\\classification.py:1113: UndefinedMetricWarning: Precision and F-score are ill-defined and being set to 0.0 in labels with no predicted samples.\n",
      "  'precision', 'predicted', average, warn_for)\n"
     ]
    }
   ],
   "source": [
    "print (classification_report(adv['type'], all_predictions))"
   ]
  },
  {
   "cell_type": "markdown",
   "metadata": {},
   "source": [
    "## Calculating how much data we are training and testing"
   ]
  },
  {
   "cell_type": "code",
   "execution_count": 53,
   "metadata": {
    "collapsed": false
   },
   "outputs": [
    {
     "data": {
      "text/plain": [
       "(3256, 814, 4070)"
      ]
     },
     "execution_count": 53,
     "metadata": {},
     "output_type": "execute_result"
    }
   ],
   "source": [
    "msg_train, msg_test, label_train, label_test = train_test_split(adv['title'], adv['type'], test_size=0.2)\n",
    "\n",
    "len(msg_train), len(msg_test), len(msg_train) + len(msg_test)"
   ]
  },
  {
   "cell_type": "markdown",
   "metadata": {},
   "source": [
    "## PIPELINE- to combine techniques\n"
   ]
  },
  {
   "cell_type": "code",
   "execution_count": 54,
   "metadata": {
    "collapsed": true
   },
   "outputs": [],
   "source": [
    "pipeline = Pipeline([\n",
    "    ('bow', CountVectorizer(analyzer='char')),  # strings to token integer counts\n",
    "    ('tfidf', TfidfTransformer()),  # integer counts to weighted TF-IDF scores\n",
    "    ('classifier', MultinomialNB()),  # train on TF-IDF vectors w/ Naive Bayes classifier\n",
    "])"
   ]
  },
  {
   "cell_type": "code",
   "execution_count": 55,
   "metadata": {
    "collapsed": true
   },
   "outputs": [],
   "source": [
    "import _pickle as cPickle"
   ]
  },
  {
   "cell_type": "code",
   "execution_count": 56,
   "metadata": {
    "collapsed": false
   },
   "outputs": [
    {
     "name": "stderr",
     "output_type": "stream",
     "text": [
      "C:\\Users\\navkiran\\anaconda3 4.3.1\\lib\\site-packages\\sklearn\\cross_validation.py:552: Warning: The least populated class in y has only 5 members, which is too few. The minimum number of labels for any class cannot be less than n_folds=10.\n",
      "  % (min_labels, self.n_folds)), Warning)\n"
     ]
    }
   ],
   "source": [
    "scores = cross_val_score(pipeline,  # steps to convert raw emails into models\n",
    "                         msg_train,  # training data\n",
    "                         label_train,  # training labels\n",
    "                         cv=10,  # split data randomly into 10 parts: 9 for training, 1 for scoring\n",
    "                         scoring='accuracy',  # which scoring metric?\n",
    "                         n_jobs=-1,  # -1 = use all cores = faster\n",
    "                         )"
   ]
  },
  {
   "cell_type": "markdown",
   "metadata": {},
   "source": [
    "## Cross validation scores"
   ]
  },
  {
   "cell_type": "code",
   "execution_count": 57,
   "metadata": {
    "collapsed": false,
    "scrolled": true
   },
   "outputs": [
    {
     "data": {
      "text/plain": [
       "array([ 0.84146341,  0.83841463,  0.84097859,  0.83792049,  0.8440367 ,\n",
       "        0.85185185,  0.85185185,  0.84567901,  0.84876543,  0.85448916])"
      ]
     },
     "execution_count": 57,
     "metadata": {},
     "output_type": "execute_result"
    }
   ],
   "source": [
    "scores"
   ]
  },
  {
   "cell_type": "code",
   "execution_count": 58,
   "metadata": {
    "collapsed": false
   },
   "outputs": [
    {
     "data": {
      "text/plain": [
       "(0.84554511408318367, 0.0056453666065316068)"
      ]
     },
     "execution_count": 58,
     "metadata": {},
     "output_type": "execute_result"
    }
   ],
   "source": [
    "scores.mean(), scores.std()"
   ]
  },
  {
   "cell_type": "code",
   "execution_count": 59,
   "metadata": {
    "collapsed": true
   },
   "outputs": [],
   "source": [
    "def plot_learning_curve(estimator, title, X, y, ylim=None, cv=None,\n",
    "                        n_jobs=-1, train_sizes=np.linspace(.1, 1.0, 5)):\n",
    "    \n",
    "    plt.figure()\n",
    "    plt.title(title)\n",
    "    if ylim is not None:\n",
    "        plt.ylim(*ylim)\n",
    "    plt.xlabel(\"Data\")\n",
    "    plt.ylabel(\"Score\")\n",
    "    train_sizes, train_scores, test_scores = learning_curve(\n",
    "        estimator, X, y, cv=cv, n_jobs=n_jobs, train_sizes=train_sizes)\n",
    "    train_scores_mean = np.mean(train_scores, axis=1)\n",
    "    train_scores_std = np.std(train_scores, axis=1)\n",
    "    test_scores_mean = np.mean(test_scores, axis=1)\n",
    "    test_scores_std = np.std(test_scores, axis=1)\n",
    "    plt.grid()\n",
    "\n",
    "    plt.fill_between(train_sizes, train_scores_mean - train_scores_std,\n",
    "                     train_scores_mean + train_scores_std, alpha=0.1,\n",
    "                     color=\"r\")\n",
    "    plt.fill_between(train_sizes, test_scores_mean - test_scores_std,\n",
    "                     test_scores_mean + test_scores_std, alpha=0.1, color=\"g\")\n",
    "    plt.plot(train_sizes, train_scores_mean, 'o-', color=\"r\",\n",
    "             label=\"Training score\")\n",
    "    plt.plot(train_sizes, test_scores_mean, 'o-', color=\"g\",\n",
    "             label=\"Cross-validation score\")\n",
    "\n",
    "    plt.legend(loc=\"best\")\n",
    "    return plt"
   ]
  },
  {
   "cell_type": "code",
   "execution_count": 60,
   "metadata": {
    "collapsed": false,
    "scrolled": true
   },
   "outputs": [
    {
     "name": "stdout",
     "output_type": "stream",
     "text": [
      "Wall time: 5.38 s\n"
     ]
    },
    {
     "data": {
      "text/plain": [
       "<module 'matplotlib.pyplot' from 'C:\\\\Users\\\\navkiran\\\\anaconda3 4.3.1\\\\lib\\\\site-packages\\\\matplotlib\\\\pyplot.py'>"
      ]
     },
     "execution_count": 60,
     "metadata": {},
     "output_type": "execute_result"
    },
    {
     "data": {
      "image/png": "[encoded data removed]",
      "text/plain": [
       "<matplotlib.figure.Figure at 0x20bc0425e80>"
      ]
     },
     "metadata": {},
     "output_type": "display_data"
    }
   ],
   "source": [
    "%time plot_learning_curve(pipeline, \"accuracy vs. training set size\", msg_train, label_train, cv=5)"
   ]
  },
  {
   "cell_type": "markdown",
   "metadata": {},
   "source": [
    "## SVM"
   ]
  },
  {
   "cell_type": "code",
   "execution_count": 61,
   "metadata": {
    "collapsed": false
   },
   "outputs": [],
   "source": [
    "pipeline_svm = Pipeline([\n",
    "    ('bow', CountVectorizer(analyzer='char')),\n",
    "    ('tfidf', TfidfTransformer()),\n",
    "    ('classifier', SVC()),  # <== change here\n",
    "])\n",
    "\n",
    "# pipeline parameters to automatically explore and tune\n",
    "param_svm = [\n",
    "  {'classifier__C': [1], 'classifier__kernel': ['linear']},\n",
    "  {'classifier__C': [1], 'classifier__gamma': [0.001, 0.0001], 'classifier__kernel': ['rbf']},\n",
    "]\n",
    "\n",
    "grid_svm = GridSearchCV(\n",
    "    pipeline_svm,  # pipeline from above\n",
    "    param_grid=param_svm,  # parameters to tune via cross validation\n",
    "    refit=True,  # fit using all data, on the best detected classifier\n",
    "    n_jobs=-1,  # number of cores to use for parallelization; -1 for \"all cores\"\n",
    "    scoring='accuracy',  # what score are we optimizing?\n",
    "    cv=StratifiedKFold(label_train, n_folds=5),  # what type of cross validation to use\n",
    ")"
   ]
  },
  {
   "cell_type": "code",
   "execution_count": 62,
   "metadata": {
    "collapsed": false
   },
   "outputs": [
    {
     "name": "stdout",
     "output_type": "stream",
     "text": [
      "Wall time: 6.92 s\n"
     ]
    },
    {
     "data": {
      "text/plain": [
       "[mean: 0.84828, std: 0.00049, params: {'classifier__C': 1, 'classifier__kernel': 'linear'},\n",
       " mean: 0.84828, std: 0.00049, params: {'classifier__C': 1, 'classifier__gamma': 0.001, 'classifier__kernel': 'rbf'},\n",
       " mean: 0.84828, std: 0.00049, params: {'classifier__C': 1, 'classifier__gamma': 0.0001, 'classifier__kernel': 'rbf'}]"
      ]
     },
     "execution_count": 62,
     "metadata": {},
     "output_type": "execute_result"
    }
   ],
   "source": [
    "%time svm_detector = grid_svm.fit(msg_train, label_train)\n",
    "svm_detector.grid_scores_"
   ]
  },
  {
   "cell_type": "code",
   "execution_count": 63,
   "metadata": {
    "collapsed": false,
    "scrolled": true
   },
   "outputs": [
    {
     "name": "stdout",
     "output_type": "stream",
     "text": [
      "[[  0   0  31   0   0]\n",
      " [  0   0  55   0   0]\n",
      " [  0   0 699   0   0]\n",
      " [  0   0  28   0   0]\n",
      " [  0   0   1   0   0]]\n",
      "             precision    recall  f1-score   support\n",
      "\n",
      "       bias       0.00      0.00      0.00        31\n",
      " conspiracy       0.00      0.00      0.00        55\n",
      "       fake       0.86      1.00      0.92       699\n",
      "       hate       0.00      0.00      0.00        28\n",
      "     satire       0.00      0.00      0.00         1\n",
      "\n",
      "avg / total       0.74      0.86      0.79       814\n",
      "\n"
     ]
    },
    {
     "name": "stderr",
     "output_type": "stream",
     "text": [
      "C:\\Users\\navkiran\\anaconda3 4.3.1\\lib\\site-packages\\sklearn\\metrics\\classification.py:1113: UndefinedMetricWarning: Precision and F-score are ill-defined and being set to 0.0 in labels with no predicted samples.\n",
      "  'precision', 'predicted', average, warn_for)\n"
     ]
    }
   ],
   "source": [
    "print(confusion_matrix(label_test, svm_detector.predict(msg_test)))\n",
    "print(classification_report(label_test, svm_detector.predict(msg_test)))"
   ]
  },
  {
   "cell_type": "code",
   "execution_count": 64,
   "metadata": {
    "collapsed": false
   },
   "outputs": [
    {
     "data": {
      "text/plain": [
       "'fake'"
      ]
     },
     "execution_count": 64,
     "metadata": {},
     "output_type": "execute_result"
    }
   ],
   "source": [
    "svm_detector.predict([\"Trump and Brexit: Directed History Proceeds\"])[0]"
   ]
  },
  {
   "cell_type": "code",
   "execution_count": 65,
   "metadata": {
    "collapsed": true
   },
   "outputs": [],
   "source": [
    "from sklearn.feature_extraction.text import CountVectorizer\n",
    "from sklearn.cross_validation import train_test_split"
   ]
  },
  {
   "cell_type": "markdown",
   "metadata": {},
   "source": [
    "## Count Vectorizer and TRAINING AND TESTING DATA"
   ]
  },
  {
   "cell_type": "code",
   "execution_count": 66,
   "metadata": {
    "collapsed": false
   },
   "outputs": [],
   "source": [
    "cv=CountVectorizer()"
   ]
  },
  {
   "cell_type": "code",
   "execution_count": 67,
   "metadata": {
    "collapsed": true
   },
   "outputs": [],
   "source": [
    "new_df1=adv[['title','author','language','country','domain_rank','site_url','spam_score']]"
   ]
  },
  {
   "cell_type": "code",
   "execution_count": 68,
   "metadata": {
    "collapsed": true
   },
   "outputs": [],
   "source": [
    "new_df2=adv[['type']]"
   ]
  },
  {
   "cell_type": "code",
   "execution_count": 69,
   "metadata": {
    "collapsed": false
   },
   "outputs": [],
   "source": [
    "train_data=new_df1.iloc[1:3000,:]"
   ]
  },
  {
   "cell_type": "code",
   "execution_count": 70,
   "metadata": {
    "collapsed": true
   },
   "outputs": [],
   "source": [
    "test_data=new_df1.iloc[3000:1,:]"
   ]
  },
  {
   "cell_type": "code",
   "execution_count": 71,
   "metadata": {
    "collapsed": false
   },
   "outputs": [],
   "source": [
    "train_label=new_df2.iloc[1:3000,:]"
   ]
  },
  {
   "cell_type": "code",
   "execution_count": 72,
   "metadata": {
    "collapsed": true
   },
   "outputs": [],
   "source": [
    "test_label=new_df1.iloc[3000:1,]"
   ]
  },
  {
   "cell_type": "code",
   "execution_count": 73,
   "metadata": {
    "collapsed": true
   },
   "outputs": [],
   "source": [
    "train_vectors=cv.fit_transform(train_data)"
   ]
  },
  {
   "cell_type": "code",
   "execution_count": 74,
   "metadata": {
    "collapsed": true
   },
   "outputs": [],
   "source": [
    "test_vectors=cv.fit_transform(test_data)"
   ]
  },
  {
   "cell_type": "code",
   "execution_count": 75,
   "metadata": {
    "collapsed": false,
    "scrolled": true
   },
   "outputs": [
    {
     "data": {
      "text/plain": [
       "['author',\n",
       " 'country',\n",
       " 'domain_rank',\n",
       " 'language',\n",
       " 'site_url',\n",
       " 'spam_score',\n",
       " 'title']"
      ]
     },
     "execution_count": 75,
     "metadata": {},
     "output_type": "execute_result"
    }
   ],
   "source": [
    "cv.get_feature_names()"
   ]
  },
  {
   "cell_type": "code",
   "execution_count": 76,
   "metadata": {
    "collapsed": false,
    "scrolled": true
   },
   "outputs": [
    {
     "data": {
      "text/html": [
       "<div>\n",
       "<table border=\"1\" class=\"dataframe\">\n",
       "  <thead>\n",
       "    <tr style=\"text-align: right;\">\n",
       "      <th></th>\n",
       "      <th></th>\n",
       "      <th>length</th>\n",
       "    </tr>\n",
       "    <tr>\n",
       "      <th>type</th>\n",
       "      <th></th>\n",
       "      <th></th>\n",
       "    </tr>\n",
       "  </thead>\n",
       "  <tbody>\n",
       "    <tr>\n",
       "      <th rowspan=\"8\" valign=\"top\">bias</th>\n",
       "      <th>count</th>\n",
       "      <td>190.000000</td>\n",
       "    </tr>\n",
       "    <tr>\n",
       "      <th>mean</th>\n",
       "      <td>78.231579</td>\n",
       "    </tr>\n",
       "    <tr>\n",
       "      <th>std</th>\n",
       "      <td>24.594899</td>\n",
       "    </tr>\n",
       "    <tr>\n",
       "      <th>min</th>\n",
       "      <td>22.000000</td>\n",
       "    </tr>\n",
       "    <tr>\n",
       "      <th>25%</th>\n",
       "      <td>67.000000</td>\n",
       "    </tr>\n",
       "    <tr>\n",
       "      <th>50%</th>\n",
       "      <td>78.000000</td>\n",
       "    </tr>\n",
       "    <tr>\n",
       "      <th>75%</th>\n",
       "      <td>84.750000</td>\n",
       "    </tr>\n",
       "    <tr>\n",
       "      <th>max</th>\n",
       "      <td>223.000000</td>\n",
       "    </tr>\n",
       "    <tr>\n",
       "      <th rowspan=\"8\" valign=\"top\">conspiracy</th>\n",
       "      <th>count</th>\n",
       "      <td>260.000000</td>\n",
       "    </tr>\n",
       "    <tr>\n",
       "      <th>mean</th>\n",
       "      <td>66.053846</td>\n",
       "    </tr>\n",
       "    <tr>\n",
       "      <th>std</th>\n",
       "      <td>23.873480</td>\n",
       "    </tr>\n",
       "    <tr>\n",
       "      <th>min</th>\n",
       "      <td>15.000000</td>\n",
       "    </tr>\n",
       "    <tr>\n",
       "      <th>25%</th>\n",
       "      <td>50.000000</td>\n",
       "    </tr>\n",
       "    <tr>\n",
       "      <th>50%</th>\n",
       "      <td>64.000000</td>\n",
       "    </tr>\n",
       "    <tr>\n",
       "      <th>75%</th>\n",
       "      <td>78.000000</td>\n",
       "    </tr>\n",
       "    <tr>\n",
       "      <th>max</th>\n",
       "      <td>206.000000</td>\n",
       "    </tr>\n",
       "    <tr>\n",
       "      <th rowspan=\"8\" valign=\"top\">fake</th>\n",
       "      <th>count</th>\n",
       "      <td>3461.000000</td>\n",
       "    </tr>\n",
       "    <tr>\n",
       "      <th>mean</th>\n",
       "      <td>69.049119</td>\n",
       "    </tr>\n",
       "    <tr>\n",
       "      <th>std</th>\n",
       "      <td>26.794269</td>\n",
       "    </tr>\n",
       "    <tr>\n",
       "      <th>min</th>\n",
       "      <td>1.000000</td>\n",
       "    </tr>\n",
       "    <tr>\n",
       "      <th>25%</th>\n",
       "      <td>51.000000</td>\n",
       "    </tr>\n",
       "    <tr>\n",
       "      <th>50%</th>\n",
       "      <td>69.000000</td>\n",
       "    </tr>\n",
       "    <tr>\n",
       "      <th>75%</th>\n",
       "      <td>84.000000</td>\n",
       "    </tr>\n",
       "    <tr>\n",
       "      <th>max</th>\n",
       "      <td>276.000000</td>\n",
       "    </tr>\n",
       "    <tr>\n",
       "      <th rowspan=\"8\" valign=\"top\">hate</th>\n",
       "      <th>count</th>\n",
       "      <td>153.000000</td>\n",
       "    </tr>\n",
       "    <tr>\n",
       "      <th>mean</th>\n",
       "      <td>52.816993</td>\n",
       "    </tr>\n",
       "    <tr>\n",
       "      <th>std</th>\n",
       "      <td>20.873818</td>\n",
       "    </tr>\n",
       "    <tr>\n",
       "      <th>min</th>\n",
       "      <td>15.000000</td>\n",
       "    </tr>\n",
       "    <tr>\n",
       "      <th>25%</th>\n",
       "      <td>37.000000</td>\n",
       "    </tr>\n",
       "    <tr>\n",
       "      <th>50%</th>\n",
       "      <td>52.000000</td>\n",
       "    </tr>\n",
       "    <tr>\n",
       "      <th>75%</th>\n",
       "      <td>65.000000</td>\n",
       "    </tr>\n",
       "    <tr>\n",
       "      <th>max</th>\n",
       "      <td>107.000000</td>\n",
       "    </tr>\n",
       "    <tr>\n",
       "      <th rowspan=\"8\" valign=\"top\">satire</th>\n",
       "      <th>count</th>\n",
       "      <td>6.000000</td>\n",
       "    </tr>\n",
       "    <tr>\n",
       "      <th>mean</th>\n",
       "      <td>52.000000</td>\n",
       "    </tr>\n",
       "    <tr>\n",
       "      <th>std</th>\n",
       "      <td>3.162278</td>\n",
       "    </tr>\n",
       "    <tr>\n",
       "      <th>min</th>\n",
       "      <td>48.000000</td>\n",
       "    </tr>\n",
       "    <tr>\n",
       "      <th>25%</th>\n",
       "      <td>50.250000</td>\n",
       "    </tr>\n",
       "    <tr>\n",
       "      <th>50%</th>\n",
       "      <td>51.500000</td>\n",
       "    </tr>\n",
       "    <tr>\n",
       "      <th>75%</th>\n",
       "      <td>53.500000</td>\n",
       "    </tr>\n",
       "    <tr>\n",
       "      <th>max</th>\n",
       "      <td>57.000000</td>\n",
       "    </tr>\n",
       "  </tbody>\n",
       "</table>\n",
       "</div>"
      ],
      "text/plain": [
       "                       length\n",
       "type                         \n",
       "bias       count   190.000000\n",
       "           mean     78.231579\n",
       "           std      24.594899\n",
       "           min      22.000000\n",
       "           25%      67.000000\n",
       "           50%      78.000000\n",
       "           75%      84.750000\n",
       "           max     223.000000\n",
       "conspiracy count   260.000000\n",
       "           mean     66.053846\n",
       "           std      23.873480\n",
       "           min      15.000000\n",
       "           25%      50.000000\n",
       "           50%      64.000000\n",
       "           75%      78.000000\n",
       "           max     206.000000\n",
       "fake       count  3461.000000\n",
       "           mean     69.049119\n",
       "           std      26.794269\n",
       "           min       1.000000\n",
       "           25%      51.000000\n",
       "           50%      69.000000\n",
       "           75%      84.000000\n",
       "           max     276.000000\n",
       "hate       count   153.000000\n",
       "           mean     52.816993\n",
       "           std      20.873818\n",
       "           min      15.000000\n",
       "           25%      37.000000\n",
       "           50%      52.000000\n",
       "           75%      65.000000\n",
       "           max     107.000000\n",
       "satire     count     6.000000\n",
       "           mean     52.000000\n",
       "           std       3.162278\n",
       "           min      48.000000\n",
       "           25%      50.250000\n",
       "           50%      51.500000\n",
       "           75%      53.500000\n",
       "           max      57.000000"
      ]
     },
     "execution_count": 76,
     "metadata": {},
     "output_type": "execute_result"
    }
   ],
   "source": [
    "adv.groupby('type').describe()"
   ]
  },
  {
   "cell_type": "code",
   "execution_count": 77,
   "metadata": {
    "collapsed": false
   },
   "outputs": [
    {
     "data": {
      "text/plain": [
       "CountVectorizer(analyzer='word', binary=False, decode_error='strict',\n",
       "        dtype=<class 'numpy.int64'>, encoding='utf-8', input='content',\n",
       "        lowercase=True, max_df=1.0, max_features=None, min_df=1,\n",
       "        ngram_range=(1, 1), preprocessor=None, stop_words=None,\n",
       "        strip_accents=None, token_pattern='(?u)\\\\b\\\\w\\\\w+\\\\b',\n",
       "        tokenizer=None, vocabulary=None)"
      ]
     },
     "execution_count": 77,
     "metadata": {},
     "output_type": "execute_result"
    }
   ],
   "source": [
    "cv"
   ]
  },
  {
   "cell_type": "code",
   "execution_count": 78,
   "metadata": {
    "collapsed": true
   },
   "outputs": [],
   "source": [
    "adv['type_num']=adv.type.map({'fake':0,'conspiracy':1,'satire':2, 'bias':3,'hate':4})"
   ]
  },
  {
   "cell_type": "code",
   "execution_count": 79,
   "metadata": {
    "collapsed": false,
    "scrolled": false
   },
   "outputs": [
    {
     "data": {
      "text/html": [
       "<div>\n",
       "<table border=\"1\" class=\"dataframe\">\n",
       "  <thead>\n",
       "    <tr style=\"text-align: right;\">\n",
       "      <th></th>\n",
       "      <th>author</th>\n",
       "      <th>title</th>\n",
       "      <th>language</th>\n",
       "      <th>site_url</th>\n",
       "      <th>country</th>\n",
       "      <th>domain_rank</th>\n",
       "      <th>spam_score</th>\n",
       "      <th>type</th>\n",
       "      <th>length</th>\n",
       "      <th>type_num</th>\n",
       "    </tr>\n",
       "  </thead>\n",
       "  <tbody>\n",
       "    <tr>\n",
       "      <th>0</th>\n",
       "      <td>Barracuda Brigade</td>\n",
       "      <td>Muslims BUSTED: They Stole Millions In Gov’t B...</td>\n",
       "      <td>english</td>\n",
       "      <td>100percentfedup.com</td>\n",
       "      <td>US</td>\n",
       "      <td>25689</td>\n",
       "      <td>0</td>\n",
       "      <td>bias</td>\n",
       "      <td>53</td>\n",
       "      <td>3</td>\n",
       "    </tr>\n",
       "    <tr>\n",
       "      <th>1</th>\n",
       "      <td>reasoning with facts</td>\n",
       "      <td>Re: Why Did Attorney General Loretta Lynch Ple...</td>\n",
       "      <td>english</td>\n",
       "      <td>100percentfedup.com</td>\n",
       "      <td>US</td>\n",
       "      <td>25689</td>\n",
       "      <td>0</td>\n",
       "      <td>bias</td>\n",
       "      <td>59</td>\n",
       "      <td>3</td>\n",
       "    </tr>\n",
       "    <tr>\n",
       "      <th>2</th>\n",
       "      <td>Barracuda Brigade</td>\n",
       "      <td>BREAKING: Weiner Cooperating With FBI On Hilla...</td>\n",
       "      <td>english</td>\n",
       "      <td>100percentfedup.com</td>\n",
       "      <td>US</td>\n",
       "      <td>25689</td>\n",
       "      <td>0</td>\n",
       "      <td>bias</td>\n",
       "      <td>68</td>\n",
       "      <td>3</td>\n",
       "    </tr>\n",
       "    <tr>\n",
       "      <th>3</th>\n",
       "      <td>Fed Up</td>\n",
       "      <td>PIN DROP SPEECH BY FATHER OF DAUGHTER Kidnappe...</td>\n",
       "      <td>english</td>\n",
       "      <td>100percentfedup.com</td>\n",
       "      <td>US</td>\n",
       "      <td>25689</td>\n",
       "      <td>0.068</td>\n",
       "      <td>bias</td>\n",
       "      <td>125</td>\n",
       "      <td>3</td>\n",
       "    </tr>\n",
       "    <tr>\n",
       "      <th>4</th>\n",
       "      <td>Fed Up</td>\n",
       "      <td>FANTASTIC! TRUMP'S 7 POINT PLAN To Reform Heal...</td>\n",
       "      <td>english</td>\n",
       "      <td>100percentfedup.com</td>\n",
       "      <td>US</td>\n",
       "      <td>25689</td>\n",
       "      <td>0.865</td>\n",
       "      <td>bias</td>\n",
       "      <td>101</td>\n",
       "      <td>3</td>\n",
       "    </tr>\n",
       "    <tr>\n",
       "      <th>5</th>\n",
       "      <td>Barracuda Brigade</td>\n",
       "      <td>Hillary Goes Afakeolutely Berserk On Protester...</td>\n",
       "      <td>english</td>\n",
       "      <td>100percentfedup.com</td>\n",
       "      <td>US</td>\n",
       "      <td>25689</td>\n",
       "      <td>0</td>\n",
       "      <td>bias</td>\n",
       "      <td>64</td>\n",
       "      <td>3</td>\n",
       "    </tr>\n",
       "    <tr>\n",
       "      <th>6</th>\n",
       "      <td>Fed Up</td>\n",
       "      <td>BREAKING! NYPD Ready To Make Arrests In Weiner...</td>\n",
       "      <td>english</td>\n",
       "      <td>100percentfedup.com</td>\n",
       "      <td>US</td>\n",
       "      <td>25689</td>\n",
       "      <td>0.701</td>\n",
       "      <td>bias</td>\n",
       "      <td>223</td>\n",
       "      <td>3</td>\n",
       "    </tr>\n",
       "    <tr>\n",
       "      <th>7</th>\n",
       "      <td>Fed Up</td>\n",
       "      <td>WOW! WHISTLEBLOWER TELLS CHILLING STORY Of Mas...</td>\n",
       "      <td>english</td>\n",
       "      <td>100percentfedup.com</td>\n",
       "      <td>US</td>\n",
       "      <td>25689</td>\n",
       "      <td>0.188</td>\n",
       "      <td>bias</td>\n",
       "      <td>173</td>\n",
       "      <td>3</td>\n",
       "    </tr>\n",
       "    <tr>\n",
       "      <th>8</th>\n",
       "      <td>Fed Up</td>\n",
       "      <td>BREAKING: CLINTON CLEARED...Was This A Coordin...</td>\n",
       "      <td>english</td>\n",
       "      <td>100percentfedup.com</td>\n",
       "      <td>US</td>\n",
       "      <td>25689</td>\n",
       "      <td>0.144</td>\n",
       "      <td>bias</td>\n",
       "      <td>118</td>\n",
       "      <td>3</td>\n",
       "    </tr>\n",
       "    <tr>\n",
       "      <th>9</th>\n",
       "      <td>Fed Up</td>\n",
       "      <td>EVIL HILLARY SUPPORTERS Yell \"F*ck Trump\"…Burn...</td>\n",
       "      <td>english</td>\n",
       "      <td>100percentfedup.com</td>\n",
       "      <td>US</td>\n",
       "      <td>25689</td>\n",
       "      <td>0.995</td>\n",
       "      <td>bias</td>\n",
       "      <td>143</td>\n",
       "      <td>3</td>\n",
       "    </tr>\n",
       "    <tr>\n",
       "      <th>10</th>\n",
       "      <td>EdJenner</td>\n",
       "      <td>YIKES! HILLARY GOES OFF THE RAILS…Pulls A Howa...</td>\n",
       "      <td>english</td>\n",
       "      <td>100percentfedup.com</td>\n",
       "      <td>US</td>\n",
       "      <td>25689</td>\n",
       "      <td>0</td>\n",
       "      <td>bias</td>\n",
       "      <td>61</td>\n",
       "      <td>3</td>\n",
       "    </tr>\n",
       "    <tr>\n",
       "      <th>11</th>\n",
       "      <td>Fed Up</td>\n",
       "      <td>SAY GOODBYE! These 23 Hollywood Celefake Threa...</td>\n",
       "      <td>english</td>\n",
       "      <td>100percentfedup.com</td>\n",
       "      <td>US</td>\n",
       "      <td>25689</td>\n",
       "      <td>0.998</td>\n",
       "      <td>bias</td>\n",
       "      <td>116</td>\n",
       "      <td>3</td>\n",
       "    </tr>\n",
       "    <tr>\n",
       "      <th>12</th>\n",
       "      <td>EdJenner</td>\n",
       "      <td>NOT KIDDING: Colleges Give Students “Safe Spac...</td>\n",
       "      <td>english</td>\n",
       "      <td>100percentfedup.com</td>\n",
       "      <td>US</td>\n",
       "      <td>25689</td>\n",
       "      <td>0</td>\n",
       "      <td>bias</td>\n",
       "      <td>116</td>\n",
       "      <td>3</td>\n",
       "    </tr>\n",
       "    <tr>\n",
       "      <th>13</th>\n",
       "      <td>Fed Up</td>\n",
       "      <td>BOOM! MATH SHOWS Trump Would Have Beaten Obama...</td>\n",
       "      <td>english</td>\n",
       "      <td>100percentfedup.com</td>\n",
       "      <td>US</td>\n",
       "      <td>25689</td>\n",
       "      <td>0.001</td>\n",
       "      <td>bias</td>\n",
       "      <td>93</td>\n",
       "      <td>3</td>\n",
       "    </tr>\n",
       "    <tr>\n",
       "      <th>14</th>\n",
       "      <td>Fed Up</td>\n",
       "      <td>BOOM! This Is How President Reagan Handled Pro...</td>\n",
       "      <td>english</td>\n",
       "      <td>100percentfedup.com</td>\n",
       "      <td>US</td>\n",
       "      <td>25689</td>\n",
       "      <td>0</td>\n",
       "      <td>bias</td>\n",
       "      <td>125</td>\n",
       "      <td>3</td>\n",
       "    </tr>\n",
       "    <tr>\n",
       "      <th>15</th>\n",
       "      <td>EdJenner</td>\n",
       "      <td>TRUMP SUPPORTER GOT NUTS On MSNBC Reporter Cov...</td>\n",
       "      <td>english</td>\n",
       "      <td>100percentfedup.com</td>\n",
       "      <td>US</td>\n",
       "      <td>25689</td>\n",
       "      <td>0</td>\n",
       "      <td>bias</td>\n",
       "      <td>78</td>\n",
       "      <td>3</td>\n",
       "    </tr>\n",
       "    <tr>\n",
       "      <th>16</th>\n",
       "      <td>Fed Up</td>\n",
       "      <td>TOMI LAHREN Has Special Message For Celebritie...</td>\n",
       "      <td>english</td>\n",
       "      <td>100percentfedup.com</td>\n",
       "      <td>US</td>\n",
       "      <td>25689</td>\n",
       "      <td>0.268</td>\n",
       "      <td>bias</td>\n",
       "      <td>121</td>\n",
       "      <td>3</td>\n",
       "    </tr>\n",
       "    <tr>\n",
       "      <th>17</th>\n",
       "      <td>EdJenner</td>\n",
       "      <td>#BoycottComedian…ROBERT DENIRO Wanted “To Punc...</td>\n",
       "      <td>english</td>\n",
       "      <td>100percentfedup.com</td>\n",
       "      <td>US</td>\n",
       "      <td>25689</td>\n",
       "      <td>0</td>\n",
       "      <td>bias</td>\n",
       "      <td>147</td>\n",
       "      <td>3</td>\n",
       "    </tr>\n",
       "    <tr>\n",
       "      <th>18</th>\n",
       "      <td>EdJenner</td>\n",
       "      <td>HE’S NEVER SOLD AN ORIGINAL PAINTING UNTIL NOW...</td>\n",
       "      <td>english</td>\n",
       "      <td>100percentfedup.com</td>\n",
       "      <td>US</td>\n",
       "      <td>25689</td>\n",
       "      <td>0</td>\n",
       "      <td>bias</td>\n",
       "      <td>86</td>\n",
       "      <td>3</td>\n",
       "    </tr>\n",
       "    <tr>\n",
       "      <th>19</th>\n",
       "      <td>EdJenner</td>\n",
       "      <td>SORRY LIBERALS…You Can Stop With The Petitions...</td>\n",
       "      <td>english</td>\n",
       "      <td>100percentfedup.com</td>\n",
       "      <td>US</td>\n",
       "      <td>25689</td>\n",
       "      <td>0</td>\n",
       "      <td>bias</td>\n",
       "      <td>83</td>\n",
       "      <td>3</td>\n",
       "    </tr>\n",
       "    <tr>\n",
       "      <th>20</th>\n",
       "      <td>Fed Up</td>\n",
       "      <td>MARK CUBAN: \"In The Event Donald Wins, I Have ...</td>\n",
       "      <td>english</td>\n",
       "      <td>100percentfedup.com</td>\n",
       "      <td>US</td>\n",
       "      <td>25689</td>\n",
       "      <td>0.19</td>\n",
       "      <td>bias</td>\n",
       "      <td>133</td>\n",
       "      <td>3</td>\n",
       "    </tr>\n",
       "    <tr>\n",
       "      <th>21</th>\n",
       "      <td>EdJenner</td>\n",
       "      <td>TRUMP SUPPORTER Whose Brutal Beating By Black ...</td>\n",
       "      <td>english</td>\n",
       "      <td>100percentfedup.com</td>\n",
       "      <td>US</td>\n",
       "      <td>25689</td>\n",
       "      <td>0</td>\n",
       "      <td>bias</td>\n",
       "      <td>111</td>\n",
       "      <td>3</td>\n",
       "    </tr>\n",
       "    <tr>\n",
       "      <th>22</th>\n",
       "      <td>EdJenner</td>\n",
       "      <td>WOW! WHITE Liberals Suggest Blacks Are Too Stu...</td>\n",
       "      <td>english</td>\n",
       "      <td>100percentfedup.com</td>\n",
       "      <td>US</td>\n",
       "      <td>25689</td>\n",
       "      <td>0</td>\n",
       "      <td>bias</td>\n",
       "      <td>106</td>\n",
       "      <td>3</td>\n",
       "    </tr>\n",
       "    <tr>\n",
       "      <th>23</th>\n",
       "      <td>EdJenner</td>\n",
       "      <td>LOL! BRITISH WIFE Of LIB ACTOR Who Said: “Ther...</td>\n",
       "      <td>english</td>\n",
       "      <td>100percentfedup.com</td>\n",
       "      <td>US</td>\n",
       "      <td>25689</td>\n",
       "      <td>0</td>\n",
       "      <td>bias</td>\n",
       "      <td>139</td>\n",
       "      <td>3</td>\n",
       "    </tr>\n",
       "    <tr>\n",
       "      <th>24</th>\n",
       "      <td>EdJenner</td>\n",
       "      <td>EPIC! TUCKER CARLSON Demolishes NYC Councilman...</td>\n",
       "      <td>english</td>\n",
       "      <td>100percentfedup.com</td>\n",
       "      <td>US</td>\n",
       "      <td>25689</td>\n",
       "      <td>0</td>\n",
       "      <td>bias</td>\n",
       "      <td>76</td>\n",
       "      <td>3</td>\n",
       "    </tr>\n",
       "    <tr>\n",
       "      <th>25</th>\n",
       "      <td>EdJenner</td>\n",
       "      <td>FUNNY! SNL’S SOLUTION To Democrat Election Den...</td>\n",
       "      <td>english</td>\n",
       "      <td>100percentfedup.com</td>\n",
       "      <td>US</td>\n",
       "      <td>25689</td>\n",
       "      <td>0</td>\n",
       "      <td>bias</td>\n",
       "      <td>84</td>\n",
       "      <td>3</td>\n",
       "    </tr>\n",
       "    <tr>\n",
       "      <th>26</th>\n",
       "      <td>EdJenner</td>\n",
       "      <td>DONALD TRUMP Calls Meeting With Press…Dresses ...</td>\n",
       "      <td>english</td>\n",
       "      <td>100percentfedup.com</td>\n",
       "      <td>US</td>\n",
       "      <td>25689</td>\n",
       "      <td>0</td>\n",
       "      <td>bias</td>\n",
       "      <td>129</td>\n",
       "      <td>3</td>\n",
       "    </tr>\n",
       "    <tr>\n",
       "      <th>27</th>\n",
       "      <td>Fed Up</td>\n",
       "      <td>OOPS! CRYBABY HAMILTON STARS Who Lectured Penc...</td>\n",
       "      <td>english</td>\n",
       "      <td>100percentfedup.com</td>\n",
       "      <td>US</td>\n",
       "      <td>25689</td>\n",
       "      <td>0.256</td>\n",
       "      <td>bias</td>\n",
       "      <td>100</td>\n",
       "      <td>3</td>\n",
       "    </tr>\n",
       "    <tr>\n",
       "      <th>28</th>\n",
       "      <td>EdJenner</td>\n",
       "      <td>WHITE TRUMP-BASHING LIB Reprimanded On LIVE CN...</td>\n",
       "      <td>english</td>\n",
       "      <td>100percentfedup.com</td>\n",
       "      <td>US</td>\n",
       "      <td>25689</td>\n",
       "      <td>0</td>\n",
       "      <td>bias</td>\n",
       "      <td>84</td>\n",
       "      <td>3</td>\n",
       "    </tr>\n",
       "    <tr>\n",
       "      <th>29</th>\n",
       "      <td>Barracuda Brigade</td>\n",
       "      <td>BOOM! Kellyanne Conway Shuts Down CNN’s Cuomo</td>\n",
       "      <td>english</td>\n",
       "      <td>100percentfedup.com</td>\n",
       "      <td>US</td>\n",
       "      <td>25689</td>\n",
       "      <td>0</td>\n",
       "      <td>bias</td>\n",
       "      <td>45</td>\n",
       "      <td>3</td>\n",
       "    </tr>\n",
       "    <tr>\n",
       "      <th>...</th>\n",
       "      <td>...</td>\n",
       "      <td>...</td>\n",
       "      <td>...</td>\n",
       "      <td>...</td>\n",
       "      <td>...</td>\n",
       "      <td>...</td>\n",
       "      <td>...</td>\n",
       "      <td>...</td>\n",
       "      <td>...</td>\n",
       "      <td>...</td>\n",
       "    </tr>\n",
       "    <tr>\n",
       "      <th>8445</th>\n",
       "      <td>Dave Hodges</td>\n",
       "      <td>Everyone Is Abandoning Hillary- Except for Geo...</td>\n",
       "      <td>english</td>\n",
       "      <td>thecommonsenseshow.com</td>\n",
       "      <td>US</td>\n",
       "      <td>91878</td>\n",
       "      <td>0</td>\n",
       "      <td>fake</td>\n",
       "      <td>55</td>\n",
       "      <td>0</td>\n",
       "    </tr>\n",
       "    <tr>\n",
       "      <th>8446</th>\n",
       "      <td>Dave Hodges</td>\n",
       "      <td>The Elite Have Hung Hillary Out to Dry? This I...</td>\n",
       "      <td>english</td>\n",
       "      <td>thecommonsenseshow.com</td>\n",
       "      <td>US</td>\n",
       "      <td>91878</td>\n",
       "      <td>0</td>\n",
       "      <td>fake</td>\n",
       "      <td>83</td>\n",
       "      <td>0</td>\n",
       "    </tr>\n",
       "    <tr>\n",
       "      <th>8447</th>\n",
       "      <td>Dave Hodges</td>\n",
       "      <td>The Elite Have Hung Hillary Out to Dry? This I...</td>\n",
       "      <td>english</td>\n",
       "      <td>thecommonsenseshow.com</td>\n",
       "      <td>US</td>\n",
       "      <td>91878</td>\n",
       "      <td>0</td>\n",
       "      <td>fake</td>\n",
       "      <td>83</td>\n",
       "      <td>0</td>\n",
       "    </tr>\n",
       "    <tr>\n",
       "      <th>8448</th>\n",
       "      <td>Dave Hodges</td>\n",
       "      <td>America’s Streets Will Run With Blood- Mike Adams</td>\n",
       "      <td>english</td>\n",
       "      <td>thecommonsenseshow.com</td>\n",
       "      <td>US</td>\n",
       "      <td>91878</td>\n",
       "      <td>0</td>\n",
       "      <td>fake</td>\n",
       "      <td>49</td>\n",
       "      <td>0</td>\n",
       "    </tr>\n",
       "    <tr>\n",
       "      <th>8449</th>\n",
       "      <td>Dave Hodges</td>\n",
       "      <td>America’s Streets Will Run Red With Blood- Mik...</td>\n",
       "      <td>english</td>\n",
       "      <td>thecommonsenseshow.com</td>\n",
       "      <td>US</td>\n",
       "      <td>91878</td>\n",
       "      <td>0</td>\n",
       "      <td>fake</td>\n",
       "      <td>53</td>\n",
       "      <td>0</td>\n",
       "    </tr>\n",
       "    <tr>\n",
       "      <th>8450</th>\n",
       "      <td>Dave Hodges</td>\n",
       "      <td>Texas Elector Expects Massive Corruption Relat...</td>\n",
       "      <td>english</td>\n",
       "      <td>thecommonsenseshow.com</td>\n",
       "      <td>US</td>\n",
       "      <td>91878</td>\n",
       "      <td>0</td>\n",
       "      <td>fake</td>\n",
       "      <td>78</td>\n",
       "      <td>0</td>\n",
       "    </tr>\n",
       "    <tr>\n",
       "      <th>8451</th>\n",
       "      <td>Dave Hodges</td>\n",
       "      <td>Texas Elector Expects Massive Corruption Relat...</td>\n",
       "      <td>english</td>\n",
       "      <td>thecommonsenseshow.com</td>\n",
       "      <td>US</td>\n",
       "      <td>91878</td>\n",
       "      <td>0</td>\n",
       "      <td>fake</td>\n",
       "      <td>78</td>\n",
       "      <td>0</td>\n",
       "    </tr>\n",
       "    <tr>\n",
       "      <th>8452</th>\n",
       "      <td>Dave Hodges</td>\n",
       "      <td>America’s Streets Will Run Red With Blood- Mik...</td>\n",
       "      <td>english</td>\n",
       "      <td>thecommonsenseshow.com</td>\n",
       "      <td>US</td>\n",
       "      <td>91878</td>\n",
       "      <td>0</td>\n",
       "      <td>fake</td>\n",
       "      <td>53</td>\n",
       "      <td>0</td>\n",
       "    </tr>\n",
       "    <tr>\n",
       "      <th>8453</th>\n",
       "      <td>Dave Hodges</td>\n",
       "      <td>Just Another Day In the Life of the Clinton Cr...</td>\n",
       "      <td>english</td>\n",
       "      <td>thecommonsenseshow.com</td>\n",
       "      <td>US</td>\n",
       "      <td>91878</td>\n",
       "      <td>0</td>\n",
       "      <td>fake</td>\n",
       "      <td>56</td>\n",
       "      <td>0</td>\n",
       "    </tr>\n",
       "    <tr>\n",
       "      <th>8454</th>\n",
       "      <td>Dave Hodges</td>\n",
       "      <td>Just Another Day In the Life of the Clinton Cr...</td>\n",
       "      <td>english</td>\n",
       "      <td>thecommonsenseshow.com</td>\n",
       "      <td>US</td>\n",
       "      <td>91878</td>\n",
       "      <td>0</td>\n",
       "      <td>fake</td>\n",
       "      <td>56</td>\n",
       "      <td>0</td>\n",
       "    </tr>\n",
       "    <tr>\n",
       "      <th>8455</th>\n",
       "      <td>Dave Hodges</td>\n",
       "      <td>Why Are Russia and China Buying Up All of Amer...</td>\n",
       "      <td>english</td>\n",
       "      <td>thecommonsenseshow.com</td>\n",
       "      <td>US</td>\n",
       "      <td>91878</td>\n",
       "      <td>0</td>\n",
       "      <td>fake</td>\n",
       "      <td>85</td>\n",
       "      <td>0</td>\n",
       "    </tr>\n",
       "    <tr>\n",
       "      <th>8456</th>\n",
       "      <td>Dave Hodges</td>\n",
       "      <td>Why Are Russia and China Buying Up All of Amer...</td>\n",
       "      <td>english</td>\n",
       "      <td>thecommonsenseshow.com</td>\n",
       "      <td>US</td>\n",
       "      <td>91878</td>\n",
       "      <td>0</td>\n",
       "      <td>fake</td>\n",
       "      <td>85</td>\n",
       "      <td>0</td>\n",
       "    </tr>\n",
       "    <tr>\n",
       "      <th>8457</th>\n",
       "      <td>Dave Hodges</td>\n",
       "      <td>Anonymous: America’s Last Hope-You Have Been W...</td>\n",
       "      <td>english</td>\n",
       "      <td>thecommonsenseshow.com</td>\n",
       "      <td>US</td>\n",
       "      <td>91878</td>\n",
       "      <td>0</td>\n",
       "      <td>fake</td>\n",
       "      <td>51</td>\n",
       "      <td>0</td>\n",
       "    </tr>\n",
       "    <tr>\n",
       "      <th>8458</th>\n",
       "      <td>Dave Hodges</td>\n",
       "      <td>Anonymous: America’s Last Hope-You Have Been W...</td>\n",
       "      <td>english</td>\n",
       "      <td>thecommonsenseshow.com</td>\n",
       "      <td>US</td>\n",
       "      <td>91878</td>\n",
       "      <td>0</td>\n",
       "      <td>fake</td>\n",
       "      <td>51</td>\n",
       "      <td>0</td>\n",
       "    </tr>\n",
       "    <tr>\n",
       "      <th>8459</th>\n",
       "      <td>Dave Hodges</td>\n",
       "      <td>THE END GAME closes in on the Clintons as the ...</td>\n",
       "      <td>english</td>\n",
       "      <td>thecommonsenseshow.com</td>\n",
       "      <td>US</td>\n",
       "      <td>91878</td>\n",
       "      <td>0</td>\n",
       "      <td>fake</td>\n",
       "      <td>189</td>\n",
       "      <td>0</td>\n",
       "    </tr>\n",
       "    <tr>\n",
       "      <th>8460</th>\n",
       "      <td>Dave Hodges</td>\n",
       "      <td>THE END GAME closes in on the Clintons as the ...</td>\n",
       "      <td>english</td>\n",
       "      <td>thecommonsenseshow.com</td>\n",
       "      <td>US</td>\n",
       "      <td>91878</td>\n",
       "      <td>0</td>\n",
       "      <td>fake</td>\n",
       "      <td>191</td>\n",
       "      <td>0</td>\n",
       "    </tr>\n",
       "    <tr>\n",
       "      <th>8461</th>\n",
       "      <td>Dave Hodges</td>\n",
       "      <td>GOD Has Chosen Trump</td>\n",
       "      <td>english</td>\n",
       "      <td>thecommonsenseshow.com</td>\n",
       "      <td>US</td>\n",
       "      <td>91878</td>\n",
       "      <td>0</td>\n",
       "      <td>fake</td>\n",
       "      <td>20</td>\n",
       "      <td>0</td>\n",
       "    </tr>\n",
       "    <tr>\n",
       "      <th>8462</th>\n",
       "      <td>Dave Hodges</td>\n",
       "      <td>GOD Has Chosen Trump</td>\n",
       "      <td>english</td>\n",
       "      <td>thecommonsenseshow.com</td>\n",
       "      <td>US</td>\n",
       "      <td>91878</td>\n",
       "      <td>0</td>\n",
       "      <td>fake</td>\n",
       "      <td>20</td>\n",
       "      <td>0</td>\n",
       "    </tr>\n",
       "    <tr>\n",
       "      <th>8463</th>\n",
       "      <td>Dave Hodges</td>\n",
       "      <td>The Only Coup Is a Stolen Election</td>\n",
       "      <td>english</td>\n",
       "      <td>thecommonsenseshow.com</td>\n",
       "      <td>US</td>\n",
       "      <td>91878</td>\n",
       "      <td>0</td>\n",
       "      <td>fake</td>\n",
       "      <td>34</td>\n",
       "      <td>0</td>\n",
       "    </tr>\n",
       "    <tr>\n",
       "      <th>8464</th>\n",
       "      <td>Dave Hodges</td>\n",
       "      <td>The Only Coup Is a Stolen Election</td>\n",
       "      <td>english</td>\n",
       "      <td>thecommonsenseshow.com</td>\n",
       "      <td>US</td>\n",
       "      <td>91878</td>\n",
       "      <td>0</td>\n",
       "      <td>fake</td>\n",
       "      <td>34</td>\n",
       "      <td>0</td>\n",
       "    </tr>\n",
       "    <tr>\n",
       "      <th>8465</th>\n",
       "      <td>malterwitty</td>\n",
       "      <td>Clinton Could Win Because She Controls the Vot...</td>\n",
       "      <td>english</td>\n",
       "      <td>thecommonsenseshow.com</td>\n",
       "      <td>US</td>\n",
       "      <td>91878</td>\n",
       "      <td>0</td>\n",
       "      <td>fake</td>\n",
       "      <td>97</td>\n",
       "      <td>0</td>\n",
       "    </tr>\n",
       "    <tr>\n",
       "      <th>8466</th>\n",
       "      <td>Dave Hodges</td>\n",
       "      <td>Six Corporations Will Soon Rule the Planet</td>\n",
       "      <td>english</td>\n",
       "      <td>thecommonsenseshow.com</td>\n",
       "      <td>US</td>\n",
       "      <td>91878</td>\n",
       "      <td>0</td>\n",
       "      <td>fake</td>\n",
       "      <td>42</td>\n",
       "      <td>0</td>\n",
       "    </tr>\n",
       "    <tr>\n",
       "      <th>8467</th>\n",
       "      <td>Dave Hodges</td>\n",
       "      <td>BREAKING: Racketeering indictment of Hillary C...</td>\n",
       "      <td>english</td>\n",
       "      <td>thecommonsenseshow.com</td>\n",
       "      <td>US</td>\n",
       "      <td>91878</td>\n",
       "      <td>0</td>\n",
       "      <td>fake</td>\n",
       "      <td>148</td>\n",
       "      <td>0</td>\n",
       "    </tr>\n",
       "    <tr>\n",
       "      <th>8468</th>\n",
       "      <td>Dave Hodges</td>\n",
       "      <td>BREAKING: Racketeering indictment of Hillary C...</td>\n",
       "      <td>english</td>\n",
       "      <td>thecommonsenseshow.com</td>\n",
       "      <td>US</td>\n",
       "      <td>91878</td>\n",
       "      <td>0</td>\n",
       "      <td>fake</td>\n",
       "      <td>148</td>\n",
       "      <td>0</td>\n",
       "    </tr>\n",
       "    <tr>\n",
       "      <th>8469</th>\n",
       "      <td>Dave Hodges</td>\n",
       "      <td>Six Corporations Will Soon Rule the Planet</td>\n",
       "      <td>english</td>\n",
       "      <td>thecommonsenseshow.com</td>\n",
       "      <td>US</td>\n",
       "      <td>91878</td>\n",
       "      <td>0</td>\n",
       "      <td>fake</td>\n",
       "      <td>42</td>\n",
       "      <td>0</td>\n",
       "    </tr>\n",
       "    <tr>\n",
       "      <th>8470</th>\n",
       "      <td>Dave Hodges</td>\n",
       "      <td>Hillary Is 70 Days Away From Controlling All F...</td>\n",
       "      <td>english</td>\n",
       "      <td>thecommonsenseshow.com</td>\n",
       "      <td>US</td>\n",
       "      <td>91878</td>\n",
       "      <td>0</td>\n",
       "      <td>fake</td>\n",
       "      <td>59</td>\n",
       "      <td>0</td>\n",
       "    </tr>\n",
       "    <tr>\n",
       "      <th>8471</th>\n",
       "      <td>Dave Hodges</td>\n",
       "      <td>Hillary Is 70 Days Away From Controlling All F...</td>\n",
       "      <td>english</td>\n",
       "      <td>thecommonsenseshow.com</td>\n",
       "      <td>US</td>\n",
       "      <td>91878</td>\n",
       "      <td>0</td>\n",
       "      <td>fake</td>\n",
       "      <td>59</td>\n",
       "      <td>0</td>\n",
       "    </tr>\n",
       "    <tr>\n",
       "      <th>8472</th>\n",
       "      <td>Dave Hodges</td>\n",
       "      <td>Hillary Is a Communist Spy- Alex Jones, Dave H...</td>\n",
       "      <td>english</td>\n",
       "      <td>thecommonsenseshow.com</td>\n",
       "      <td>US</td>\n",
       "      <td>91878</td>\n",
       "      <td>0</td>\n",
       "      <td>fake</td>\n",
       "      <td>71</td>\n",
       "      <td>0</td>\n",
       "    </tr>\n",
       "    <tr>\n",
       "      <th>8473</th>\n",
       "      <td>Dave Hodges</td>\n",
       "      <td>Colorado Radio Station’s Paul Martin Interview...</td>\n",
       "      <td>english</td>\n",
       "      <td>thecommonsenseshow.com</td>\n",
       "      <td>US</td>\n",
       "      <td>91878</td>\n",
       "      <td>0</td>\n",
       "      <td>fake</td>\n",
       "      <td>95</td>\n",
       "      <td>0</td>\n",
       "    </tr>\n",
       "    <tr>\n",
       "      <th>8474</th>\n",
       "      <td>Dave Hodges</td>\n",
       "      <td>Hillary Is a Communist Spy- Alex Jones, Dave H...</td>\n",
       "      <td>english</td>\n",
       "      <td>thecommonsenseshow.com</td>\n",
       "      <td>US</td>\n",
       "      <td>91878</td>\n",
       "      <td>0</td>\n",
       "      <td>fake</td>\n",
       "      <td>71</td>\n",
       "      <td>0</td>\n",
       "    </tr>\n",
       "  </tbody>\n",
       "</table>\n",
       "<p>4070 rows × 10 columns</p>\n",
       "</div>"
      ],
      "text/plain": [
       "                    author                                              title  \\\n",
       "0        Barracuda Brigade  Muslims BUSTED: They Stole Millions In Gov’t B...   \n",
       "1     reasoning with facts  Re: Why Did Attorney General Loretta Lynch Ple...   \n",
       "2        Barracuda Brigade  BREAKING: Weiner Cooperating With FBI On Hilla...   \n",
       "3                   Fed Up  PIN DROP SPEECH BY FATHER OF DAUGHTER Kidnappe...   \n",
       "4                   Fed Up  FANTASTIC! TRUMP'S 7 POINT PLAN To Reform Heal...   \n",
       "5        Barracuda Brigade  Hillary Goes Afakeolutely Berserk On Protester...   \n",
       "6                   Fed Up  BREAKING! NYPD Ready To Make Arrests In Weiner...   \n",
       "7                   Fed Up  WOW! WHISTLEBLOWER TELLS CHILLING STORY Of Mas...   \n",
       "8                   Fed Up  BREAKING: CLINTON CLEARED...Was This A Coordin...   \n",
       "9                   Fed Up  EVIL HILLARY SUPPORTERS Yell \"F*ck Trump\"…Burn...   \n",
       "10                EdJenner  YIKES! HILLARY GOES OFF THE RAILS…Pulls A Howa...   \n",
       "11                  Fed Up  SAY GOODBYE! These 23 Hollywood Celefake Threa...   \n",
       "12                EdJenner  NOT KIDDING: Colleges Give Students “Safe Spac...   \n",
       "13                  Fed Up  BOOM! MATH SHOWS Trump Would Have Beaten Obama...   \n",
       "14                  Fed Up  BOOM! This Is How President Reagan Handled Pro...   \n",
       "15                EdJenner  TRUMP SUPPORTER GOT NUTS On MSNBC Reporter Cov...   \n",
       "16                  Fed Up  TOMI LAHREN Has Special Message For Celebritie...   \n",
       "17                EdJenner  #BoycottComedian…ROBERT DENIRO Wanted “To Punc...   \n",
       "18                EdJenner  HE’S NEVER SOLD AN ORIGINAL PAINTING UNTIL NOW...   \n",
       "19                EdJenner  SORRY LIBERALS…You Can Stop With The Petitions...   \n",
       "20                  Fed Up  MARK CUBAN: \"In The Event Donald Wins, I Have ...   \n",
       "21                EdJenner  TRUMP SUPPORTER Whose Brutal Beating By Black ...   \n",
       "22                EdJenner  WOW! WHITE Liberals Suggest Blacks Are Too Stu...   \n",
       "23                EdJenner  LOL! BRITISH WIFE Of LIB ACTOR Who Said: “Ther...   \n",
       "24                EdJenner  EPIC! TUCKER CARLSON Demolishes NYC Councilman...   \n",
       "25                EdJenner  FUNNY! SNL’S SOLUTION To Democrat Election Den...   \n",
       "26                EdJenner  DONALD TRUMP Calls Meeting With Press…Dresses ...   \n",
       "27                  Fed Up  OOPS! CRYBABY HAMILTON STARS Who Lectured Penc...   \n",
       "28                EdJenner  WHITE TRUMP-BASHING LIB Reprimanded On LIVE CN...   \n",
       "29       Barracuda Brigade      BOOM! Kellyanne Conway Shuts Down CNN’s Cuomo   \n",
       "...                    ...                                                ...   \n",
       "8445           Dave Hodges  Everyone Is Abandoning Hillary- Except for Geo...   \n",
       "8446           Dave Hodges  The Elite Have Hung Hillary Out to Dry? This I...   \n",
       "8447           Dave Hodges  The Elite Have Hung Hillary Out to Dry? This I...   \n",
       "8448           Dave Hodges  America’s Streets Will Run With Blood- Mike Adams   \n",
       "8449           Dave Hodges  America’s Streets Will Run Red With Blood- Mik...   \n",
       "8450           Dave Hodges  Texas Elector Expects Massive Corruption Relat...   \n",
       "8451           Dave Hodges  Texas Elector Expects Massive Corruption Relat...   \n",
       "8452           Dave Hodges  America’s Streets Will Run Red With Blood- Mik...   \n",
       "8453           Dave Hodges  Just Another Day In the Life of the Clinton Cr...   \n",
       "8454           Dave Hodges  Just Another Day In the Life of the Clinton Cr...   \n",
       "8455           Dave Hodges  Why Are Russia and China Buying Up All of Amer...   \n",
       "8456           Dave Hodges  Why Are Russia and China Buying Up All of Amer...   \n",
       "8457           Dave Hodges  Anonymous: America’s Last Hope-You Have Been W...   \n",
       "8458           Dave Hodges  Anonymous: America’s Last Hope-You Have Been W...   \n",
       "8459           Dave Hodges  THE END GAME closes in on the Clintons as the ...   \n",
       "8460           Dave Hodges  THE END GAME closes in on the Clintons as the ...   \n",
       "8461           Dave Hodges                               GOD Has Chosen Trump   \n",
       "8462           Dave Hodges                               GOD Has Chosen Trump   \n",
       "8463           Dave Hodges                 The Only Coup Is a Stolen Election   \n",
       "8464           Dave Hodges                 The Only Coup Is a Stolen Election   \n",
       "8465           malterwitty  Clinton Could Win Because She Controls the Vot...   \n",
       "8466           Dave Hodges         Six Corporations Will Soon Rule the Planet   \n",
       "8467           Dave Hodges  BREAKING: Racketeering indictment of Hillary C...   \n",
       "8468           Dave Hodges  BREAKING: Racketeering indictment of Hillary C...   \n",
       "8469           Dave Hodges         Six Corporations Will Soon Rule the Planet   \n",
       "8470           Dave Hodges  Hillary Is 70 Days Away From Controlling All F...   \n",
       "8471           Dave Hodges  Hillary Is 70 Days Away From Controlling All F...   \n",
       "8472           Dave Hodges  Hillary Is a Communist Spy- Alex Jones, Dave H...   \n",
       "8473           Dave Hodges  Colorado Radio Station’s Paul Martin Interview...   \n",
       "8474           Dave Hodges  Hillary Is a Communist Spy- Alex Jones, Dave H...   \n",
       "\n",
       "     language                site_url country domain_rank spam_score  type  \\\n",
       "0     english     100percentfedup.com      US       25689          0  bias   \n",
       "1     english     100percentfedup.com      US       25689          0  bias   \n",
       "2     english     100percentfedup.com      US       25689          0  bias   \n",
       "3     english     100percentfedup.com      US       25689      0.068  bias   \n",
       "4     english     100percentfedup.com      US       25689      0.865  bias   \n",
       "5     english     100percentfedup.com      US       25689          0  bias   \n",
       "6     english     100percentfedup.com      US       25689      0.701  bias   \n",
       "7     english     100percentfedup.com      US       25689      0.188  bias   \n",
       "8     english     100percentfedup.com      US       25689      0.144  bias   \n",
       "9     english     100percentfedup.com      US       25689      0.995  bias   \n",
       "10    english     100percentfedup.com      US       25689          0  bias   \n",
       "11    english     100percentfedup.com      US       25689      0.998  bias   \n",
       "12    english     100percentfedup.com      US       25689          0  bias   \n",
       "13    english     100percentfedup.com      US       25689      0.001  bias   \n",
       "14    english     100percentfedup.com      US       25689          0  bias   \n",
       "15    english     100percentfedup.com      US       25689          0  bias   \n",
       "16    english     100percentfedup.com      US       25689      0.268  bias   \n",
       "17    english     100percentfedup.com      US       25689          0  bias   \n",
       "18    english     100percentfedup.com      US       25689          0  bias   \n",
       "19    english     100percentfedup.com      US       25689          0  bias   \n",
       "20    english     100percentfedup.com      US       25689       0.19  bias   \n",
       "21    english     100percentfedup.com      US       25689          0  bias   \n",
       "22    english     100percentfedup.com      US       25689          0  bias   \n",
       "23    english     100percentfedup.com      US       25689          0  bias   \n",
       "24    english     100percentfedup.com      US       25689          0  bias   \n",
       "25    english     100percentfedup.com      US       25689          0  bias   \n",
       "26    english     100percentfedup.com      US       25689          0  bias   \n",
       "27    english     100percentfedup.com      US       25689      0.256  bias   \n",
       "28    english     100percentfedup.com      US       25689          0  bias   \n",
       "29    english     100percentfedup.com      US       25689          0  bias   \n",
       "...       ...                     ...     ...         ...        ...   ...   \n",
       "8445  english  thecommonsenseshow.com      US       91878          0  fake   \n",
       "8446  english  thecommonsenseshow.com      US       91878          0  fake   \n",
       "8447  english  thecommonsenseshow.com      US       91878          0  fake   \n",
       "8448  english  thecommonsenseshow.com      US       91878          0  fake   \n",
       "8449  english  thecommonsenseshow.com      US       91878          0  fake   \n",
       "8450  english  thecommonsenseshow.com      US       91878          0  fake   \n",
       "8451  english  thecommonsenseshow.com      US       91878          0  fake   \n",
       "8452  english  thecommonsenseshow.com      US       91878          0  fake   \n",
       "8453  english  thecommonsenseshow.com      US       91878          0  fake   \n",
       "8454  english  thecommonsenseshow.com      US       91878          0  fake   \n",
       "8455  english  thecommonsenseshow.com      US       91878          0  fake   \n",
       "8456  english  thecommonsenseshow.com      US       91878          0  fake   \n",
       "8457  english  thecommonsenseshow.com      US       91878          0  fake   \n",
       "8458  english  thecommonsenseshow.com      US       91878          0  fake   \n",
       "8459  english  thecommonsenseshow.com      US       91878          0  fake   \n",
       "8460  english  thecommonsenseshow.com      US       91878          0  fake   \n",
       "8461  english  thecommonsenseshow.com      US       91878          0  fake   \n",
       "8462  english  thecommonsenseshow.com      US       91878          0  fake   \n",
       "8463  english  thecommonsenseshow.com      US       91878          0  fake   \n",
       "8464  english  thecommonsenseshow.com      US       91878          0  fake   \n",
       "8465  english  thecommonsenseshow.com      US       91878          0  fake   \n",
       "8466  english  thecommonsenseshow.com      US       91878          0  fake   \n",
       "8467  english  thecommonsenseshow.com      US       91878          0  fake   \n",
       "8468  english  thecommonsenseshow.com      US       91878          0  fake   \n",
       "8469  english  thecommonsenseshow.com      US       91878          0  fake   \n",
       "8470  english  thecommonsenseshow.com      US       91878          0  fake   \n",
       "8471  english  thecommonsenseshow.com      US       91878          0  fake   \n",
       "8472  english  thecommonsenseshow.com      US       91878          0  fake   \n",
       "8473  english  thecommonsenseshow.com      US       91878          0  fake   \n",
       "8474  english  thecommonsenseshow.com      US       91878          0  fake   \n",
       "\n",
       "      length  type_num  \n",
       "0         53         3  \n",
       "1         59         3  \n",
       "2         68         3  \n",
       "3        125         3  \n",
       "4        101         3  \n",
       "5         64         3  \n",
       "6        223         3  \n",
       "7        173         3  \n",
       "8        118         3  \n",
       "9        143         3  \n",
       "10        61         3  \n",
       "11       116         3  \n",
       "12       116         3  \n",
       "13        93         3  \n",
       "14       125         3  \n",
       "15        78         3  \n",
       "16       121         3  \n",
       "17       147         3  \n",
       "18        86         3  \n",
       "19        83         3  \n",
       "20       133         3  \n",
       "21       111         3  \n",
       "22       106         3  \n",
       "23       139         3  \n",
       "24        76         3  \n",
       "25        84         3  \n",
       "26       129         3  \n",
       "27       100         3  \n",
       "28        84         3  \n",
       "29        45         3  \n",
       "...      ...       ...  \n",
       "8445      55         0  \n",
       "8446      83         0  \n",
       "8447      83         0  \n",
       "8448      49         0  \n",
       "8449      53         0  \n",
       "8450      78         0  \n",
       "8451      78         0  \n",
       "8452      53         0  \n",
       "8453      56         0  \n",
       "8454      56         0  \n",
       "8455      85         0  \n",
       "8456      85         0  \n",
       "8457      51         0  \n",
       "8458      51         0  \n",
       "8459     189         0  \n",
       "8460     191         0  \n",
       "8461      20         0  \n",
       "8462      20         0  \n",
       "8463      34         0  \n",
       "8464      34         0  \n",
       "8465      97         0  \n",
       "8466      42         0  \n",
       "8467     148         0  \n",
       "8468     148         0  \n",
       "8469      42         0  \n",
       "8470      59         0  \n",
       "8471      59         0  \n",
       "8472      71         0  \n",
       "8473      95         0  \n",
       "8474      71         0  \n",
       "\n",
       "[4070 rows x 10 columns]"
      ]
     },
     "execution_count": 79,
     "metadata": {},
     "output_type": "execute_result"
    }
   ],
   "source": [
    "adv"
   ]
  },
  {
   "cell_type": "code",
   "execution_count": 80,
   "metadata": {
    "collapsed": true
   },
   "outputs": [],
   "source": [
    "X=adv.title\n",
    "y=adv.type_num"
   ]
  },
  {
   "cell_type": "code",
   "execution_count": 81,
   "metadata": {
    "collapsed": false,
    "scrolled": true
   },
   "outputs": [
    {
     "name": "stdout",
     "output_type": "stream",
     "text": [
      "(4070,)\n",
      "(4070,)\n"
     ]
    }
   ],
   "source": [
    "print(X.shape)\n",
    "print(y.shape)"
   ]
  },
  {
   "cell_type": "code",
   "execution_count": 82,
   "metadata": {
    "collapsed": true
   },
   "outputs": [],
   "source": [
    "from sklearn.cross_validation import train_test_split\n",
    "X_train, X_test, y_train,y_test=train_test_split(X,y,random_state=4)"
   ]
  },
  {
   "cell_type": "code",
   "execution_count": 83,
   "metadata": {
    "collapsed": false
   },
   "outputs": [
    {
     "name": "stdout",
     "output_type": "stream",
     "text": [
      "(3052,)\n",
      "(1018,)\n",
      "(3052,)\n",
      "(1018,)\n"
     ]
    }
   ],
   "source": [
    "print(X_train.shape)\n",
    "print(X_test.shape)\n",
    "print(y_train.shape)\n",
    "print(y_test.shape)"
   ]
  },
  {
   "cell_type": "code",
   "execution_count": 84,
   "metadata": {
    "collapsed": true
   },
   "outputs": [],
   "source": [
    "vect = CountVectorizer()"
   ]
  },
  {
   "cell_type": "code",
   "execution_count": 85,
   "metadata": {
    "collapsed": true
   },
   "outputs": [],
   "source": [
    "from textblob import TextBlob"
   ]
  },
  {
   "cell_type": "code",
   "execution_count": 86,
   "metadata": {
    "collapsed": true
   },
   "outputs": [],
   "source": [
    "def split_into_tokens(title):\n",
    "    message = unicode(title, 'utf8')  # convert bytes into proper unicode\n",
    "    return TextBlob(title).words"
   ]
  },
  {
   "cell_type": "code",
   "execution_count": 87,
   "metadata": {
    "collapsed": false
   },
   "outputs": [
    {
     "data": {
      "text/plain": [
       "[('title', 'NN')]"
      ]
     },
     "execution_count": 87,
     "metadata": {},
     "output_type": "execute_result"
    }
   ],
   "source": [
    "TextBlob('title').tags"
   ]
  },
  {
   "cell_type": "code",
   "execution_count": 88,
   "metadata": {
    "collapsed": false
   },
   "outputs": [],
   "source": [
    "vect.fit(X_train)\n",
    "X_train_dtm = vect.transform(X_train)"
   ]
  },
  {
   "cell_type": "code",
   "execution_count": 89,
   "metadata": {
    "collapsed": false
   },
   "outputs": [],
   "source": [
    "X_train_dtm=vect.fit_transform(X_train)"
   ]
  },
  {
   "cell_type": "code",
   "execution_count": 90,
   "metadata": {
    "collapsed": false
   },
   "outputs": [
    {
     "data": {
      "text/plain": [
       "<3052x7571 sparse matrix of type '<class 'numpy.int64'>'\n",
       "\twith 32440 stored elements in Compressed Sparse Row format>"
      ]
     },
     "execution_count": 90,
     "metadata": {},
     "output_type": "execute_result"
    }
   ],
   "source": [
    "X_train_dtm"
   ]
  },
  {
   "cell_type": "code",
   "execution_count": 91,
   "metadata": {
    "collapsed": false
   },
   "outputs": [
    {
     "data": {
      "text/plain": [
       "<1018x7571 sparse matrix of type '<class 'numpy.int64'>'\n",
       "\twith 9096 stored elements in Compressed Sparse Row format>"
      ]
     },
     "execution_count": 91,
     "metadata": {},
     "output_type": "execute_result"
    }
   ],
   "source": [
    "X_test_dtm=vect.transform(X_test)\n",
    "X_test_dtm"
   ]
  },
  {
   "cell_type": "markdown",
   "metadata": {},
   "source": [
    "## K Nearest Neighbors"
   ]
  },
  {
   "cell_type": "code",
   "execution_count": 92,
   "metadata": {
    "collapsed": true
   },
   "outputs": [],
   "source": [
    "from sklearn.neighbors import KNeighborsClassifier"
   ]
  },
  {
   "cell_type": "code",
   "execution_count": 93,
   "metadata": {
    "collapsed": true
   },
   "outputs": [],
   "source": [
    "knn=KNeighborsClassifier(n_neighbors=15)"
   ]
  },
  {
   "cell_type": "code",
   "execution_count": 94,
   "metadata": {
    "collapsed": false
   },
   "outputs": [
    {
     "data": {
      "text/plain": [
       "KNeighborsClassifier(algorithm='auto', leaf_size=30, metric='minkowski',\n",
       "           metric_params=None, n_jobs=1, n_neighbors=15, p=2,\n",
       "           weights='uniform')"
      ]
     },
     "execution_count": 94,
     "metadata": {},
     "output_type": "execute_result"
    }
   ],
   "source": [
    "knn.fit(X_train_dtm, y_train)"
   ]
  },
  {
   "cell_type": "code",
   "execution_count": 95,
   "metadata": {
    "collapsed": false
   },
   "outputs": [],
   "source": [
    "y_pred_class=knn.predict(X_test_dtm)"
   ]
  },
  {
   "cell_type": "code",
   "execution_count": 96,
   "metadata": {
    "collapsed": false,
    "scrolled": true
   },
   "outputs": [
    {
     "data": {
      "text/plain": [
       "array([0, 0, 0, ..., 0, 0, 0], dtype=int64)"
      ]
     },
     "execution_count": 96,
     "metadata": {},
     "output_type": "execute_result"
    }
   ],
   "source": [
    "y_pred_class"
   ]
  },
  {
   "cell_type": "code",
   "execution_count": 100,
   "metadata": {
    "collapsed": false,
    "scrolled": false
   },
   "outputs": [
    {
     "name": "stdout",
     "output_type": "stream",
     "text": [
      "Test set predictions:\n",
      " [0 0 0 ..., 0 0 0]\n"
     ]
    }
   ],
   "source": [
    "print(\"Test set predictions:\\n {}\".format(y_pred_class))"
   ]
  },
  {
   "cell_type": "code",
   "execution_count": 101,
   "metadata": {
    "collapsed": false,
    "scrolled": true
   },
   "outputs": [
    {
     "data": {
      "text/plain": [
       "0.85068762278978394"
      ]
     },
     "execution_count": 101,
     "metadata": {},
     "output_type": "execute_result"
    }
   ],
   "source": [
    "knn.score(X_test_dtm, y_test)"
   ]
  },
  {
   "cell_type": "code",
   "execution_count": 102,
   "metadata": {
    "collapsed": false
   },
   "outputs": [
    {
     "name": "stdout",
     "output_type": "stream",
     "text": [
      "Wall time: 1 ms\n"
     ]
    },
    {
     "data": {
      "text/plain": [
       "KNeighborsClassifier(algorithm='auto', leaf_size=30, metric='minkowski',\n",
       "           metric_params=None, n_jobs=1, n_neighbors=15, p=2,\n",
       "           weights='uniform')"
      ]
     },
     "execution_count": 102,
     "metadata": {},
     "output_type": "execute_result"
    }
   ],
   "source": [
    "%time knn.fit(X_train_dtm, y_train)"
   ]
  },
  {
   "cell_type": "code",
   "execution_count": 106,
   "metadata": {
    "collapsed": true
   },
   "outputs": [],
   "source": [
    "from sklearn import metrics"
   ]
  },
  {
   "cell_type": "code",
   "execution_count": 107,
   "metadata": {
    "collapsed": false
   },
   "outputs": [
    {
     "data": {
      "text/plain": [
       "0.85068762278978394"
      ]
     },
     "execution_count": 107,
     "metadata": {},
     "output_type": "execute_result"
    }
   ],
   "source": [
    "metrics.accuracy_score(y_test,y_pred_class)"
   ]
  },
  {
   "cell_type": "code",
   "execution_count": 108,
   "metadata": {
    "collapsed": false
   },
   "outputs": [
    {
     "data": {
      "text/plain": [
       "array([[866,   0,   0,   0,   0],\n",
       "       [ 73,   0,   0,   0,   0],\n",
       "       [  1,   0,   0,   0,   0],\n",
       "       [ 41,   0,   0,   0,   0],\n",
       "       [ 37,   0,   0,   0,   0]])"
      ]
     },
     "execution_count": 108,
     "metadata": {},
     "output_type": "execute_result"
    }
   ],
   "source": [
    "metrics.confusion_matrix(y_test, y_pred_class)"
   ]
  },
  {
   "cell_type": "code",
   "execution_count": 109,
   "metadata": {
    "collapsed": false
   },
   "outputs": [
    {
     "name": "stdout",
     "output_type": "stream",
     "text": [
      "             precision    recall  f1-score   support\n",
      "\n",
      "          0       0.85      1.00      0.92       866\n",
      "          1       0.00      0.00      0.00        73\n",
      "          2       0.00      0.00      0.00         1\n",
      "          3       0.00      0.00      0.00        41\n",
      "          4       0.00      0.00      0.00        37\n",
      "\n",
      "avg / total       0.72      0.85      0.78      1018\n",
      "\n"
     ]
    },
    {
     "name": "stderr",
     "output_type": "stream",
     "text": [
      "C:\\Users\\navkiran\\anaconda3 4.3.1\\lib\\site-packages\\sklearn\\metrics\\classification.py:1113: UndefinedMetricWarning: Precision and F-score are ill-defined and being set to 0.0 in labels with no predicted samples.\n",
      "  'precision', 'predicted', average, warn_for)\n"
     ]
    }
   ],
   "source": [
    "print(metrics.classification_report(y_test, y_pred_class))"
   ]
  },
  {
   "cell_type": "code",
   "execution_count": 110,
   "metadata": {
    "collapsed": false
   },
   "outputs": [
    {
     "name": "stderr",
     "output_type": "stream",
     "text": [
      "C:\\Users\\navkiran\\anaconda3 4.3.1\\lib\\site-packages\\sklearn\\cross_validation.py:552: Warning: The least populated class in y has only 5 members, which is too few. The minimum number of labels for any class cannot be less than n_folds=10.\n",
      "  % (min_labels, self.n_folds)), Warning)\n"
     ]
    }
   ],
   "source": [
    "scores = cross_val_score(KNeighborsClassifier(n_neighbors=15),  # steps to convert raw emails into models\n",
    "                         X_train_dtm,  # training data\n",
    "                         y_train,  # training labels\n",
    "                         cv=10,  # split data randomly into 10 parts: 9 for training, 1 for scoring\n",
    "                         scoring='accuracy',  # which scoring metric?\n",
    "                         n_jobs=-1,  # -1 = use all cores = faster\n",
    "                         )"
   ]
  },
  {
   "cell_type": "code",
   "execution_count": 111,
   "metadata": {
    "collapsed": false
   },
   "outputs": [
    {
     "data": {
      "text/plain": [
       "array([ 0.84690554,  0.84690554,  0.84690554,  0.84690554,  0.84690554,\n",
       "        0.84918033,  0.85197368,  0.85478548,  0.85478548,  0.85761589])"
      ]
     },
     "execution_count": 111,
     "metadata": {},
     "output_type": "execute_result"
    }
   ],
   "source": [
    "scores"
   ]
  },
  {
   "cell_type": "code",
   "execution_count": 112,
   "metadata": {
    "collapsed": false
   },
   "outputs": [
    {
     "data": {
      "text/plain": [
       "0.85028685505112411"
      ]
     },
     "execution_count": 112,
     "metadata": {},
     "output_type": "execute_result"
    }
   ],
   "source": [
    "scores.mean()"
   ]
  },
  {
   "cell_type": "markdown",
   "metadata": {},
   "source": [
    "## Naive Bayes"
   ]
  },
  {
   "cell_type": "code",
   "execution_count": 113,
   "metadata": {
    "collapsed": true
   },
   "outputs": [],
   "source": [
    "from sklearn.naive_bayes import MultinomialNB"
   ]
  },
  {
   "cell_type": "code",
   "execution_count": 114,
   "metadata": {
    "collapsed": true
   },
   "outputs": [],
   "source": [
    "nb=MultinomialNB()"
   ]
  },
  {
   "cell_type": "code",
   "execution_count": 115,
   "metadata": {
    "collapsed": false
   },
   "outputs": [
    {
     "name": "stdout",
     "output_type": "stream",
     "text": [
      "Wall time: 4.52 ms\n"
     ]
    },
    {
     "data": {
      "text/plain": [
       "MultinomialNB(alpha=1.0, class_prior=None, fit_prior=True)"
      ]
     },
     "execution_count": 115,
     "metadata": {},
     "output_type": "execute_result"
    }
   ],
   "source": [
    "%time nb.fit(X_train_dtm, y_train)"
   ]
  },
  {
   "cell_type": "code",
   "execution_count": 116,
   "metadata": {
    "collapsed": true
   },
   "outputs": [],
   "source": [
    "y_pred_class=nb.predict(X_test_dtm)"
   ]
  },
  {
   "cell_type": "code",
   "execution_count": 117,
   "metadata": {
    "collapsed": true
   },
   "outputs": [],
   "source": [
    "from sklearn import metrics"
   ]
  },
  {
   "cell_type": "code",
   "execution_count": 118,
   "metadata": {
    "collapsed": false
   },
   "outputs": [
    {
     "data": {
      "text/plain": [
       "array([[860,   4,   0,   2,   0],\n",
       "       [ 69,   4,   0,   0,   0],\n",
       "       [  1,   0,   0,   0,   0],\n",
       "       [ 40,   0,   0,   1,   0],\n",
       "       [ 36,   0,   0,   0,   1]])"
      ]
     },
     "execution_count": 118,
     "metadata": {},
     "output_type": "execute_result"
    }
   ],
   "source": [
    "metrics.confusion_matrix(y_test, y_pred_class)"
   ]
  },
  {
   "cell_type": "code",
   "execution_count": 119,
   "metadata": {
    "collapsed": false
   },
   "outputs": [
    {
     "data": {
      "text/plain": [
       "'Britain Should Embrace Unilateral Free Trade Right Now'"
      ]
     },
     "execution_count": 119,
     "metadata": {},
     "output_type": "execute_result"
    }
   ],
   "source": [
    "X_test[4600]"
   ]
  },
  {
   "cell_type": "code",
   "execution_count": 120,
   "metadata": {
    "collapsed": false
   },
   "outputs": [
    {
     "data": {
      "text/plain": [
       "array([ 0.00057411,  0.00133831,  0.00332323, ...,  0.00012103,\n",
       "        0.00011903,  0.00042418])"
      ]
     },
     "execution_count": 120,
     "metadata": {},
     "output_type": "execute_result"
    }
   ],
   "source": [
    "nb.predict_proba(X_test_dtm)[:,1]"
   ]
  },
  {
   "cell_type": "code",
   "execution_count": 121,
   "metadata": {
    "collapsed": true
   },
   "outputs": [],
   "source": [
    "y_pred_prob = nb.predict_proba(X_test_dtm)[:,1]"
   ]
  },
  {
   "cell_type": "code",
   "execution_count": 122,
   "metadata": {
    "collapsed": false
   },
   "outputs": [
    {
     "data": {
      "text/plain": [
       "array([ 0.00057411,  0.00133831,  0.00332323, ...,  0.00012103,\n",
       "        0.00011903,  0.00042418])"
      ]
     },
     "execution_count": 122,
     "metadata": {},
     "output_type": "execute_result"
    }
   ],
   "source": [
    "y_pred_prob"
   ]
  },
  {
   "cell_type": "code",
   "execution_count": 123,
   "metadata": {
    "collapsed": false
   },
   "outputs": [
    {
     "data": {
      "text/plain": [
       "0.87975098296199217"
      ]
     },
     "execution_count": 123,
     "metadata": {},
     "output_type": "execute_result"
    }
   ],
   "source": [
    "nb.score(X_train_dtm, y_train)"
   ]
  },
  {
   "cell_type": "code",
   "execution_count": 124,
   "metadata": {
    "collapsed": false
   },
   "outputs": [
    {
     "data": {
      "text/plain": [
       "0.85068762278978394"
      ]
     },
     "execution_count": 124,
     "metadata": {},
     "output_type": "execute_result"
    }
   ],
   "source": [
    "metrics.accuracy_score(y_test, y_pred_class)"
   ]
  },
  {
   "cell_type": "code",
   "execution_count": 125,
   "metadata": {
    "collapsed": false
   },
   "outputs": [
    {
     "name": "stdout",
     "output_type": "stream",
     "text": [
      "             precision    recall  f1-score   support\n",
      "\n",
      "          0       0.99      0.85      0.92      1006\n",
      "          1       0.05      0.50      0.10         8\n",
      "          2       0.00      0.00      0.00         0\n",
      "          3       0.02      0.33      0.05         3\n",
      "          4       0.03      1.00      0.05         1\n",
      "\n",
      "avg / total       0.98      0.85      0.91      1018\n",
      "\n"
     ]
    },
    {
     "name": "stderr",
     "output_type": "stream",
     "text": [
      "C:\\Users\\navkiran\\anaconda3 4.3.1\\lib\\site-packages\\sklearn\\metrics\\classification.py:1115: UndefinedMetricWarning: Recall and F-score are ill-defined and being set to 0.0 in labels with no true samples.\n",
      "  'recall', 'true', average, warn_for)\n"
     ]
    }
   ],
   "source": [
    "print(metrics.classification_report(y_pred_class, y_test))"
   ]
  },
  {
   "cell_type": "code",
   "execution_count": 126,
   "metadata": {
    "collapsed": false,
    "scrolled": true
   },
   "outputs": [
    {
     "name": "stderr",
     "output_type": "stream",
     "text": [
      "C:\\Users\\navkiran\\anaconda3 4.3.1\\lib\\site-packages\\sklearn\\cross_validation.py:552: Warning: The least populated class in y has only 5 members, which is too few. The minimum number of labels for any class cannot be less than n_folds=10.\n",
      "  % (min_labels, self.n_folds)), Warning)\n"
     ]
    }
   ],
   "source": [
    "scores = cross_val_score(MultinomialNB(),  # steps to convert raw emails into models\n",
    "                         X_train_dtm,  # training data\n",
    "                         y_train,  # training labels\n",
    "                         cv=10,  # split data randomly into 10 parts: 9 for training, 1 for scoring\n",
    "                         scoring='accuracy',  # which scoring metric?\n",
    "                         n_jobs=-1,  # -1 = use all cores = faster\n",
    "                         )"
   ]
  },
  {
   "cell_type": "code",
   "execution_count": 127,
   "metadata": {
    "collapsed": false,
    "scrolled": false
   },
   "outputs": [
    {
     "data": {
      "text/plain": [
       "array([ 0.78827362,  0.7752443 ,  0.79478827,  0.79153094,  0.79153094,\n",
       "        0.79672131,  0.80592105,  0.8019802 ,  0.8019802 ,  0.79139073])"
      ]
     },
     "execution_count": 127,
     "metadata": {},
     "output_type": "execute_result"
    }
   ],
   "source": [
    "scores"
   ]
  },
  {
   "cell_type": "code",
   "execution_count": 128,
   "metadata": {
    "collapsed": false
   },
   "outputs": [
    {
     "data": {
      "text/plain": [
       "0.793936156679931"
      ]
     },
     "execution_count": 128,
     "metadata": {},
     "output_type": "execute_result"
    }
   ],
   "source": [
    "scores.mean()"
   ]
  },
  {
   "cell_type": "markdown",
   "metadata": {},
   "source": [
    "## Logistic Regression"
   ]
  },
  {
   "cell_type": "code",
   "execution_count": 129,
   "metadata": {
    "collapsed": true
   },
   "outputs": [],
   "source": [
    "from sklearn.linear_model import LogisticRegression\n",
    "logreg= LogisticRegression()"
   ]
  },
  {
   "cell_type": "code",
   "execution_count": 130,
   "metadata": {
    "collapsed": false
   },
   "outputs": [
    {
     "name": "stdout",
     "output_type": "stream",
     "text": [
      "Wall time: 115 ms\n"
     ]
    },
    {
     "data": {
      "text/plain": [
       "LogisticRegression(C=1.0, class_weight=None, dual=False, fit_intercept=True,\n",
       "          intercept_scaling=1, max_iter=100, multi_class='ovr', n_jobs=1,\n",
       "          penalty='l2', random_state=None, solver='liblinear', tol=0.0001,\n",
       "          verbose=0, warm_start=False)"
      ]
     },
     "execution_count": 130,
     "metadata": {},
     "output_type": "execute_result"
    }
   ],
   "source": [
    "%time logreg.fit(X_train_dtm, y_train)"
   ]
  },
  {
   "cell_type": "code",
   "execution_count": 131,
   "metadata": {
    "collapsed": false,
    "scrolled": true
   },
   "outputs": [
    {
     "data": {
      "text/plain": [
       "0.93905635648754915"
      ]
     },
     "execution_count": 131,
     "metadata": {},
     "output_type": "execute_result"
    }
   ],
   "source": [
    "logreg.score(X_train_dtm, y_train)"
   ]
  },
  {
   "cell_type": "code",
   "execution_count": 132,
   "metadata": {
    "collapsed": false
   },
   "outputs": [
    {
     "data": {
      "text/plain": [
       "0.3572481572481572"
      ]
     },
     "execution_count": 132,
     "metadata": {},
     "output_type": "execute_result"
    }
   ],
   "source": [
    "y.mean()"
   ]
  },
  {
   "cell_type": "code",
   "execution_count": 133,
   "metadata": {
    "collapsed": true
   },
   "outputs": [],
   "source": [
    "y_pred_class=logreg.predict(X_test_dtm)"
   ]
  },
  {
   "cell_type": "code",
   "execution_count": 134,
   "metadata": {
    "collapsed": false,
    "scrolled": true
   },
   "outputs": [
    {
     "data": {
      "text/plain": [
       "array([[ 0.91838892,  0.04367834,  0.00343428,  0.02532622,  0.00917224],\n",
       "       [ 0.93634729,  0.03279982,  0.00322641,  0.01910671,  0.00851977],\n",
       "       [ 0.87716305,  0.04838244,  0.00263991,  0.0129905 ,  0.0588241 ],\n",
       "       ..., \n",
       "       [ 0.79351696,  0.05337291,  0.00216326,  0.02344637,  0.1275005 ],\n",
       "       [ 0.5119868 ,  0.06914357,  0.00377312,  0.06241625,  0.35268026],\n",
       "       [ 0.94717262,  0.02185991,  0.00105025,  0.0080039 ,  0.02191332]])"
      ]
     },
     "execution_count": 134,
     "metadata": {},
     "output_type": "execute_result"
    }
   ],
   "source": [
    "y_pred_prob=logreg.predict_proba(X_test_dtm)\n",
    "y_pred_prob"
   ]
  },
  {
   "cell_type": "code",
   "execution_count": 135,
   "metadata": {
    "collapsed": false
   },
   "outputs": [
    {
     "data": {
      "text/plain": [
       "0.85363457760314343"
      ]
     },
     "execution_count": 135,
     "metadata": {},
     "output_type": "execute_result"
    }
   ],
   "source": [
    "metrics.accuracy_score(y_test, y_pred_class)"
   ]
  },
  {
   "cell_type": "code",
   "execution_count": 136,
   "metadata": {
    "collapsed": false,
    "scrolled": true
   },
   "outputs": [
    {
     "name": "stdout",
     "output_type": "stream",
     "text": [
      "             precision    recall  f1-score   support\n",
      "\n",
      "          0       0.86      0.99      0.92       866\n",
      "          1       0.43      0.04      0.07        73\n",
      "          2       0.00      0.00      0.00         1\n",
      "          3       0.80      0.10      0.17        41\n",
      "          4       0.67      0.05      0.10        37\n",
      "\n",
      "avg / total       0.82      0.85      0.80      1018\n",
      "\n"
     ]
    },
    {
     "name": "stderr",
     "output_type": "stream",
     "text": [
      "C:\\Users\\navkiran\\anaconda3 4.3.1\\lib\\site-packages\\sklearn\\metrics\\classification.py:1113: UndefinedMetricWarning: Precision and F-score are ill-defined and being set to 0.0 in labels with no predicted samples.\n",
      "  'precision', 'predicted', average, warn_for)\n"
     ]
    }
   ],
   "source": [
    "print(metrics.classification_report(y_test, y_pred_class))"
   ]
  },
  {
   "cell_type": "code",
   "execution_count": 137,
   "metadata": {
    "collapsed": false
   },
   "outputs": [
    {
     "name": "stderr",
     "output_type": "stream",
     "text": [
      "C:\\Users\\navkiran\\anaconda3 4.3.1\\lib\\site-packages\\sklearn\\cross_validation.py:552: Warning: The least populated class in y has only 5 members, which is too few. The minimum number of labels for any class cannot be less than n_folds=10.\n",
      "  % (min_labels, self.n_folds)), Warning)\n"
     ]
    }
   ],
   "source": [
    "scores = cross_val_score(LogisticRegression(),  # steps to convert raw emails into models\n",
    "                         X_train_dtm,  # training data\n",
    "                         y_train,  # training labels\n",
    "                         cv=10,  # split data randomly into 10 parts: 9 for training, 1 for scoring\n",
    "                         scoring='accuracy',  # which scoring metric?\n",
    "                         n_jobs=-1,  # -1 = use all cores = faster\n",
    "                         )"
   ]
  },
  {
   "cell_type": "code",
   "execution_count": 138,
   "metadata": {
    "collapsed": false
   },
   "outputs": [
    {
     "data": {
      "text/plain": [
       "array([ 0.8534202 ,  0.84039088,  0.8534202 ,  0.85016287,  0.85667752,\n",
       "        0.84590164,  0.86184211,  0.85478548,  0.86468647,  0.85430464])"
      ]
     },
     "execution_count": 138,
     "metadata": {},
     "output_type": "execute_result"
    }
   ],
   "source": [
    "scores"
   ]
  },
  {
   "cell_type": "code",
   "execution_count": 139,
   "metadata": {
    "collapsed": false
   },
   "outputs": [
    {
     "data": {
      "text/plain": [
       "0.85355919888015153"
      ]
     },
     "execution_count": 139,
     "metadata": {},
     "output_type": "execute_result"
    }
   ],
   "source": [
    "scores.mean()"
   ]
  },
  {
   "cell_type": "markdown",
   "metadata": {},
   "source": [
    "## RESULTS AND ANALYSIS"
   ]
  },
  {
   "cell_type": "code",
   "execution_count": 140,
   "metadata": {
    "collapsed": true
   },
   "outputs": [],
   "source": [
    "names=['author','title','language', 'country', 'site_url', 'domain_rank', 'spam_score', 'type']"
   ]
  },
  {
   "cell_type": "code",
   "execution_count": 141,
   "metadata": {
    "collapsed": true
   },
   "outputs": [],
   "source": [
    "seed=7"
   ]
  },
  {
   "cell_type": "code",
   "execution_count": 142,
   "metadata": {
    "collapsed": true
   },
   "outputs": [],
   "source": [
    "models = []\n",
    "models.append(('LR', LogisticRegression()))\n",
    "models.append(('KNN', KNeighborsClassifier()))\n",
    "models.append(('NB', MultinomialNB()))\n",
    "models.append(('SVM', SVC()))"
   ]
  },
  {
   "cell_type": "code",
   "execution_count": 143,
   "metadata": {
    "collapsed": true
   },
   "outputs": [],
   "source": [
    "results=[]"
   ]
  },
  {
   "cell_type": "code",
   "execution_count": 144,
   "metadata": {
    "collapsed": true
   },
   "outputs": [],
   "source": [
    "names=[]"
   ]
  },
  {
   "cell_type": "code",
   "execution_count": 145,
   "metadata": {
    "collapsed": true
   },
   "outputs": [],
   "source": [
    "scoring='accuracy'"
   ]
  },
  {
   "cell_type": "code",
   "execution_count": 146,
   "metadata": {
    "collapsed": false
   },
   "outputs": [
    {
     "name": "stdout",
     "output_type": "stream",
     "text": [
      "LR: 0.985280 (0.010273)\n",
      "KNN: 0.985280 (0.010273)\n",
      "NB: 0.985280 (0.010273)\n",
      "SVM: 0.985280 (0.010273)\n"
     ]
    }
   ],
   "source": [
    "for name, model in models:\n",
    "    kfold = model_selection.KFold(n_splits=5, random_state=seed)\n",
    "    scores = model_selection.cross_val_score(model, X_test_dtm, y_pred_class, cv=kfold, scoring=scoring)\n",
    "    results.append(scores)\n",
    "    names.append(name)\n",
    "    msg = \"%s: %f (%f)\" % (name, scores.mean(), scores.std())\n",
    "    print(msg)"
   ]
  },
  {
   "cell_type": "code",
   "execution_count": 147,
   "metadata": {
    "collapsed": false,
    "scrolled": true
   },
   "outputs": [
    {
     "data": {
      "image/png": "[encoded data removed]",
      "text/plain": [
       "<matplotlib.figure.Figure at 0x20bc16c7c18>"
      ]
     },
     "metadata": {},
     "output_type": "display_data"
    }
   ],
   "source": [
    "fig = plt.figure()\n",
    "fig.suptitle('Algorithm Comparison')\n",
    "ax = fig.add_subplot(111)\n",
    "plt.boxplot(results)\n",
    "ax.set_xticklabels(names)\n",
    "plt.show()"
   ]
  },
  {
   "cell_type": "code",
   "execution_count": 151,
   "metadata": {
    "collapsed": false
   },
   "outputs": [
    {
     "data": {
      "image/png": "[encoded data removed]",
      "text/plain": [
       "<matplotlib.figure.Figure at 0x20bc17b5128>"
      ]
     },
     "metadata": {},
     "output_type": "display_data"
    }
   ],
   "source": [
    "import matplotlib.pyplot as plt\n",
    " \n",
    "# Data to plot\n",
    "labels = 'Nave Bayes', 'SVM', 'K-NN', 'LG'\n",
    "sizes = [87, 86, 85, 85.33]\n",
    "colors = ['gold', 'yellowgreen', 'lightcoral', 'lightskyblue']\n",
    "explode = (0.1, 0, 0, 0)  # explode 1st slice\n",
    "patches, texts = plt.pie(sizes, colors=colors, shadow=True, startangle=90)\n",
    "plt.legend(patches, labels, loc=\"best\")\n",
    "# Plot\n",
    "plt.pie(sizes, explode=explode, labels=labels, colors=colors,\n",
    "        autopct='%1.1f%%', shadow=True, startangle=140)\n",
    " \n",
    "plt.axis('equal')\n",
    "plt.tight_layout()\n",
    "plt.show()"
   ]
  },
  {
   "cell_type": "code",
   "execution_count": 152,
   "metadata": {
    "collapsed": false
   },
   "outputs": [
    {
     "data": {
      "image/png": "[encoded data removed]",
      "text/plain": [
       "<matplotlib.figure.Figure at 0x20bc17d80f0>"
      ]
     },
     "metadata": {},
     "output_type": "display_data"
    }
   ],
   "source": [
    "import matplotlib.pyplot as plt; plt.rcdefaults()\n",
    "import numpy as np\n",
    "import matplotlib.pyplot as plt\n",
    " \n",
    "objects = ('Nave Bayes', 'SVM', 'K-NN', 'LG')\n",
    "y_pos = np.arange(len(objects))\n",
    "performance = [4.01,6.88,5.5,65.2]\n",
    " \n",
    "plt.bar(y_pos, performance, align='center', alpha=0.5)\n",
    "plt.xticks(y_pos, objects)\n",
    "plt.ylabel('Time')\n",
    "plt.title('Spam Detector Time')\n",
    " \n",
    "plt.show()"
   ]
  },
  {
   "cell_type": "code",
   "execution_count": null,
   "metadata": {
    "collapsed": true
   },
   "outputs": [],
   "source": []
  }
 ],
 "metadata": {
  "kernelspec": {
   "display_name": "Python 3",
   "language": "python",
   "name": "python3"
  },
  "language_info": {
   "codemirror_mode": {
    "name": "ipython",
    "version": 3
   },
   "file_extension": ".py",
   "mimetype": "text/x-python",
   "name": "python",
   "nbconvert_exporter": "python",
   "pygments_lexer": "ipython3",
   "version": "3.6.0"
  }
 },
 "nbformat": 4,
 "nbformat_minor": 2
}
