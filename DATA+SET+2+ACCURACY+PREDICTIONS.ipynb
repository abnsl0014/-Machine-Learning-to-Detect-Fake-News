{
 "cells": [
  {
   "cell_type": "markdown",
   "metadata": {},
   "source": [
    "## Importng the packages and modules required in the project"
   ]
  },
  {
   "cell_type": "code",
   "execution_count": 328,
   "metadata": {
    "collapsed": false
   },
   "outputs": [],
   "source": [
    "import pandas as pd\n",
    "import numpy as np\n",
    "import csv\n",
    "from sklearn import naive_bayes\n",
    "from sklearn.naive_bayes import MultinomialNB\n",
    "from sklearn.neighbors import KNeighborsClassifier\n",
    "from sklearn import svm\n",
    "from sklearn.svm import SVC\n",
    "from sklearn.feature_extraction.text import CountVectorizer, TfidfTransformer\n",
    "from sklearn.metrics import classification_report, f1_score, accuracy_score, confusion_matrix\n",
    "from sklearn.pipeline import Pipeline\n",
    "from sklearn.grid_search import GridSearchCV\n",
    "from sklearn.cross_validation import StratifiedKFold, cross_val_score, train_test_split \n",
    "from sklearn.learning_curve import learning_curve\n",
    "from pandas.tools.plotting import scatter_matrix\n",
    "import matplotlib.pyplot as plt\n",
    "%matplotlib inline\n",
    "from sklearn import model_selection\n",
    "from sklearn.linear_model import LogisticRegression\n",
    "from textblob import TextBlob\n",
    "from textblob import TextBlob, Word, Blobber\n",
    "from textblob.classifiers import NaiveBayesClassifier\n",
    "from textblob.taggers import NLTKTagger"
   ]
  },
  {
   "cell_type": "markdown",
   "metadata": {},
   "source": [
    "## reading the data"
   ]
  },
  {
   "cell_type": "code",
   "execution_count": 329,
   "metadata": {
    "collapsed": true
   },
   "outputs": [],
   "source": [
    "adv=pd.read_csv('fakerealnews.csv')"
   ]
  },
  {
   "cell_type": "code",
   "execution_count": 330,
   "metadata": {
    "collapsed": false
   },
   "outputs": [
    {
     "data": {
      "text/html": [
       "<div>\n",
       "<table border=\"1\" class=\"dataframe\">\n",
       "  <thead>\n",
       "    <tr style=\"text-align: right;\">\n",
       "      <th></th>\n",
       "      <th>label</th>\n",
       "      <th>news</th>\n",
       "    </tr>\n",
       "  </thead>\n",
       "  <tbody>\n",
       "    <tr>\n",
       "      <th>0</th>\n",
       "      <td>FAKE</td>\n",
       "      <td>You Can Smell Hillary’s Fear</td>\n",
       "    </tr>\n",
       "    <tr>\n",
       "      <th>1</th>\n",
       "      <td>FAKE</td>\n",
       "      <td>Watch The Exact Moment Paul Ryan Committed Pol...</td>\n",
       "    </tr>\n",
       "    <tr>\n",
       "      <th>2</th>\n",
       "      <td>REAL</td>\n",
       "      <td>Kerry to go to Paris in gesture of sympathy</td>\n",
       "    </tr>\n",
       "    <tr>\n",
       "      <th>3</th>\n",
       "      <td>FAKE</td>\n",
       "      <td>Bernie supporters on Twitter erupt in anger ag...</td>\n",
       "    </tr>\n",
       "    <tr>\n",
       "      <th>4</th>\n",
       "      <td>REAL</td>\n",
       "      <td>The Battle of New York: Why This Primary Matters</td>\n",
       "    </tr>\n",
       "    <tr>\n",
       "      <th>5</th>\n",
       "      <td>FAKE</td>\n",
       "      <td>Tehran, USA</td>\n",
       "    </tr>\n",
       "    <tr>\n",
       "      <th>6</th>\n",
       "      <td>FAKE</td>\n",
       "      <td>Girl Horrified At What She Watches Boyfriend D...</td>\n",
       "    </tr>\n",
       "    <tr>\n",
       "      <th>7</th>\n",
       "      <td>REAL</td>\n",
       "      <td>‘Britain’s Schindler’ Dies at 106</td>\n",
       "    </tr>\n",
       "    <tr>\n",
       "      <th>8</th>\n",
       "      <td>REAL</td>\n",
       "      <td>Fact check: Trump and Clinton at the 'commande...</td>\n",
       "    </tr>\n",
       "    <tr>\n",
       "      <th>9</th>\n",
       "      <td>REAL</td>\n",
       "      <td>Iran reportedly makes new push for uranium con...</td>\n",
       "    </tr>\n",
       "    <tr>\n",
       "      <th>10</th>\n",
       "      <td>REAL</td>\n",
       "      <td>With all three Clintons in Iowa, a glimpse at ...</td>\n",
       "    </tr>\n",
       "    <tr>\n",
       "      <th>11</th>\n",
       "      <td>REAL</td>\n",
       "      <td>Donald Trump’s Shockingly Weak Delegate Game S...</td>\n",
       "    </tr>\n",
       "    <tr>\n",
       "      <th>12</th>\n",
       "      <td>FAKE</td>\n",
       "      <td>Strong Solar Storm, Tech Risks Today | S0 News...</td>\n",
       "    </tr>\n",
       "    <tr>\n",
       "      <th>13</th>\n",
       "      <td>FAKE</td>\n",
       "      <td>10 Ways America Is Preparing for World War 3</td>\n",
       "    </tr>\n",
       "    <tr>\n",
       "      <th>14</th>\n",
       "      <td>REAL</td>\n",
       "      <td>Trump takes on Cruz, but lightly</td>\n",
       "    </tr>\n",
       "    <tr>\n",
       "      <th>15</th>\n",
       "      <td>REAL</td>\n",
       "      <td>How women lead differently</td>\n",
       "    </tr>\n",
       "    <tr>\n",
       "      <th>16</th>\n",
       "      <td>FAKE</td>\n",
       "      <td>Shocking! Michele Obama &amp; Hillary Caught Glamo...</td>\n",
       "    </tr>\n",
       "    <tr>\n",
       "      <th>17</th>\n",
       "      <td>FAKE</td>\n",
       "      <td>Hillary Clinton in HUGE Trouble After America ...</td>\n",
       "    </tr>\n",
       "    <tr>\n",
       "      <th>18</th>\n",
       "      <td>REAL</td>\n",
       "      <td>What's in that Iran bill that Obama doesn't like?</td>\n",
       "    </tr>\n",
       "    <tr>\n",
       "      <th>19</th>\n",
       "      <td>REAL</td>\n",
       "      <td>The 1 chart that explains everything you need ...</td>\n",
       "    </tr>\n",
       "    <tr>\n",
       "      <th>20</th>\n",
       "      <td>REAL</td>\n",
       "      <td>The slippery slope to Trump’s proposed ban on ...</td>\n",
       "    </tr>\n",
       "    <tr>\n",
       "      <th>21</th>\n",
       "      <td>FAKE</td>\n",
       "      <td>Episode #160 – SUNDAY WIRE: ‘Hail to the Deplo...</td>\n",
       "    </tr>\n",
       "    <tr>\n",
       "      <th>22</th>\n",
       "      <td>REAL</td>\n",
       "      <td>Hillary Clinton Makes A Bipartisan Appeal on S...</td>\n",
       "    </tr>\n",
       "    <tr>\n",
       "      <th>23</th>\n",
       "      <td>REAL</td>\n",
       "      <td>New Senate majority leader’s main goal for GOP...</td>\n",
       "    </tr>\n",
       "    <tr>\n",
       "      <th>24</th>\n",
       "      <td>FAKE</td>\n",
       "      <td>‘Inferno’ and the Overpopulation Myth</td>\n",
       "    </tr>\n",
       "    <tr>\n",
       "      <th>25</th>\n",
       "      <td>REAL</td>\n",
       "      <td>Anti-Trump forces seek last-ditch delegate revolt</td>\n",
       "    </tr>\n",
       "    <tr>\n",
       "      <th>26</th>\n",
       "      <td>REAL</td>\n",
       "      <td>Sanders Trounces Clinton in W. Va. -- But Will...</td>\n",
       "    </tr>\n",
       "    <tr>\n",
       "      <th>27</th>\n",
       "      <td>REAL</td>\n",
       "      <td>Donald Trump Is Changing His Campaign Slogan t...</td>\n",
       "    </tr>\n",
       "    <tr>\n",
       "      <th>28</th>\n",
       "      <td>REAL</td>\n",
       "      <td>Pure chaos: Donald Trump’s campaign management...</td>\n",
       "    </tr>\n",
       "    <tr>\n",
       "      <th>29</th>\n",
       "      <td>FAKE</td>\n",
       "      <td>Syrian War Report – November 1, 2016: Syrian M...</td>\n",
       "    </tr>\n",
       "    <tr>\n",
       "      <th>...</th>\n",
       "      <td>...</td>\n",
       "      <td>...</td>\n",
       "    </tr>\n",
       "    <tr>\n",
       "      <th>2323</th>\n",
       "      <td>FAKE</td>\n",
       "      <td>Comment on Fury as German primary school ‘forc...</td>\n",
       "    </tr>\n",
       "    <tr>\n",
       "      <th>2324</th>\n",
       "      <td>REAL</td>\n",
       "      <td>Rieder: Charlie Hebdo goes on, and that matters</td>\n",
       "    </tr>\n",
       "    <tr>\n",
       "      <th>2325</th>\n",
       "      <td>REAL</td>\n",
       "      <td>Obama will walk away from Iran talks if no ins...</td>\n",
       "    </tr>\n",
       "    <tr>\n",
       "      <th>2326</th>\n",
       "      <td>REAL</td>\n",
       "      <td>The 2016 Republican field might be the most di...</td>\n",
       "    </tr>\n",
       "    <tr>\n",
       "      <th>2327</th>\n",
       "      <td>REAL</td>\n",
       "      <td>Donald Trump may be showing us the future of r...</td>\n",
       "    </tr>\n",
       "    <tr>\n",
       "      <th>2328</th>\n",
       "      <td>FAKE</td>\n",
       "      <td>Joint Way Forward Deal Does Not Lead to Peace ...</td>\n",
       "    </tr>\n",
       "    <tr>\n",
       "      <th>2329</th>\n",
       "      <td>FAKE</td>\n",
       "      <td>Dakota Pipeline Protests Are Working! One Bank...</td>\n",
       "    </tr>\n",
       "    <tr>\n",
       "      <th>2330</th>\n",
       "      <td>REAL</td>\n",
       "      <td>Republicans in state governments plan juggerna...</td>\n",
       "    </tr>\n",
       "    <tr>\n",
       "      <th>2331</th>\n",
       "      <td>REAL</td>\n",
       "      <td>Sanders, Dem establishment battle boils over</td>\n",
       "    </tr>\n",
       "    <tr>\n",
       "      <th>2332</th>\n",
       "      <td>FAKE</td>\n",
       "      <td>Election 2016: A Political System In Crisis</td>\n",
       "    </tr>\n",
       "    <tr>\n",
       "      <th>2333</th>\n",
       "      <td>FAKE</td>\n",
       "      <td>After terrorizing America with Zika scaremonge...</td>\n",
       "    </tr>\n",
       "    <tr>\n",
       "      <th>2334</th>\n",
       "      <td>REAL</td>\n",
       "      <td>Obama Says Terrorists Seek Legitimacy by Using...</td>\n",
       "    </tr>\n",
       "    <tr>\n",
       "      <th>2335</th>\n",
       "      <td>FAKE</td>\n",
       "      <td>Why NATO is put on war footing against Russia</td>\n",
       "    </tr>\n",
       "    <tr>\n",
       "      <th>2336</th>\n",
       "      <td>FAKE</td>\n",
       "      <td>Top five donors to Clinton campaign are Jewish</td>\n",
       "    </tr>\n",
       "    <tr>\n",
       "      <th>2337</th>\n",
       "      <td>REAL</td>\n",
       "      <td>The worst election ever</td>\n",
       "    </tr>\n",
       "    <tr>\n",
       "      <th>2338</th>\n",
       "      <td>FAKE</td>\n",
       "      <td>Tomb Opened WhereJesus was Resurrected After C...</td>\n",
       "    </tr>\n",
       "    <tr>\n",
       "      <th>2339</th>\n",
       "      <td>REAL</td>\n",
       "      <td>The House GOP budget is a gimmick</td>\n",
       "    </tr>\n",
       "    <tr>\n",
       "      <th>2340</th>\n",
       "      <td>REAL</td>\n",
       "      <td>Obama announces restrictions on distribution o...</td>\n",
       "    </tr>\n",
       "    <tr>\n",
       "      <th>2341</th>\n",
       "      <td>FAKE</td>\n",
       "      <td>Dilbert Creator Explains How Do I Know The Ema...</td>\n",
       "    </tr>\n",
       "    <tr>\n",
       "      <th>2342</th>\n",
       "      <td>REAL</td>\n",
       "      <td>God is on the ropes: The brilliant new science...</td>\n",
       "    </tr>\n",
       "    <tr>\n",
       "      <th>2343</th>\n",
       "      <td>REAL</td>\n",
       "      <td>Two: readers pick story on meat and climate ch...</td>\n",
       "    </tr>\n",
       "    <tr>\n",
       "      <th>2344</th>\n",
       "      <td>REAL</td>\n",
       "      <td>Backstory: Behind the terror takedown</td>\n",
       "    </tr>\n",
       "    <tr>\n",
       "      <th>2345</th>\n",
       "      <td>FAKE</td>\n",
       "      <td>Deputy Shot and Killed by Fellow Deputy While ...</td>\n",
       "    </tr>\n",
       "    <tr>\n",
       "      <th>2346</th>\n",
       "      <td>REAL</td>\n",
       "      <td>All three Republican presidential candidates b...</td>\n",
       "    </tr>\n",
       "    <tr>\n",
       "      <th>2347</th>\n",
       "      <td>REAL</td>\n",
       "      <td>Defense Secretary Carter endorses 3-year timel...</td>\n",
       "    </tr>\n",
       "    <tr>\n",
       "      <th>2348</th>\n",
       "      <td>REAL</td>\n",
       "      <td>Marco Rubio: Critics of Immigration Bill Were ...</td>\n",
       "    </tr>\n",
       "    <tr>\n",
       "      <th>2349</th>\n",
       "      <td>REAL</td>\n",
       "      <td>Bernie Sanders win this way: Why his admirable...</td>\n",
       "    </tr>\n",
       "    <tr>\n",
       "      <th>2350</th>\n",
       "      <td>FAKE</td>\n",
       "      <td>'Russia has no intention of attacking anyone -...</td>\n",
       "    </tr>\n",
       "    <tr>\n",
       "      <th>2351</th>\n",
       "      <td>FAKE</td>\n",
       "      <td>Iceland Election: Pirate Party prepares for ma...</td>\n",
       "    </tr>\n",
       "    <tr>\n",
       "      <th>2352</th>\n",
       "      <td>REAL</td>\n",
       "      <td>Egypt bombs Islamic State targets in Libya aft...</td>\n",
       "    </tr>\n",
       "  </tbody>\n",
       "</table>\n",
       "<p>2353 rows × 2 columns</p>\n",
       "</div>"
      ],
      "text/plain": [
       "     label                                               news\n",
       "0     FAKE                       You Can Smell Hillary’s Fear\n",
       "1     FAKE  Watch The Exact Moment Paul Ryan Committed Pol...\n",
       "2     REAL        Kerry to go to Paris in gesture of sympathy\n",
       "3     FAKE  Bernie supporters on Twitter erupt in anger ag...\n",
       "4     REAL   The Battle of New York: Why This Primary Matters\n",
       "5     FAKE                                        Tehran, USA\n",
       "6     FAKE  Girl Horrified At What She Watches Boyfriend D...\n",
       "7     REAL                  ‘Britain’s Schindler’ Dies at 106\n",
       "8     REAL  Fact check: Trump and Clinton at the 'commande...\n",
       "9     REAL  Iran reportedly makes new push for uranium con...\n",
       "10    REAL  With all three Clintons in Iowa, a glimpse at ...\n",
       "11    REAL  Donald Trump’s Shockingly Weak Delegate Game S...\n",
       "12    FAKE  Strong Solar Storm, Tech Risks Today | S0 News...\n",
       "13    FAKE       10 Ways America Is Preparing for World War 3\n",
       "14    REAL                   Trump takes on Cruz, but lightly\n",
       "15    REAL                         How women lead differently\n",
       "16    FAKE  Shocking! Michele Obama & Hillary Caught Glamo...\n",
       "17    FAKE  Hillary Clinton in HUGE Trouble After America ...\n",
       "18    REAL  What's in that Iran bill that Obama doesn't like?\n",
       "19    REAL  The 1 chart that explains everything you need ...\n",
       "20    REAL  The slippery slope to Trump’s proposed ban on ...\n",
       "21    FAKE  Episode #160 – SUNDAY WIRE: ‘Hail to the Deplo...\n",
       "22    REAL  Hillary Clinton Makes A Bipartisan Appeal on S...\n",
       "23    REAL  New Senate majority leader’s main goal for GOP...\n",
       "24    FAKE              ‘Inferno’ and the Overpopulation Myth\n",
       "25    REAL  Anti-Trump forces seek last-ditch delegate revolt\n",
       "26    REAL  Sanders Trounces Clinton in W. Va. -- But Will...\n",
       "27    REAL  Donald Trump Is Changing His Campaign Slogan t...\n",
       "28    REAL  Pure chaos: Donald Trump’s campaign management...\n",
       "29    FAKE  Syrian War Report – November 1, 2016: Syrian M...\n",
       "...    ...                                                ...\n",
       "2323  FAKE  Comment on Fury as German primary school ‘forc...\n",
       "2324  REAL    Rieder: Charlie Hebdo goes on, and that matters\n",
       "2325  REAL  Obama will walk away from Iran talks if no ins...\n",
       "2326  REAL  The 2016 Republican field might be the most di...\n",
       "2327  REAL  Donald Trump may be showing us the future of r...\n",
       "2328  FAKE  Joint Way Forward Deal Does Not Lead to Peace ...\n",
       "2329  FAKE  Dakota Pipeline Protests Are Working! One Bank...\n",
       "2330  REAL  Republicans in state governments plan juggerna...\n",
       "2331  REAL       Sanders, Dem establishment battle boils over\n",
       "2332  FAKE        Election 2016: A Political System In Crisis\n",
       "2333  FAKE  After terrorizing America with Zika scaremonge...\n",
       "2334  REAL  Obama Says Terrorists Seek Legitimacy by Using...\n",
       "2335  FAKE      Why NATO is put on war footing against Russia\n",
       "2336  FAKE     Top five donors to Clinton campaign are Jewish\n",
       "2337  REAL                            The worst election ever\n",
       "2338  FAKE  Tomb Opened WhereJesus was Resurrected After C...\n",
       "2339  REAL                  The House GOP budget is a gimmick\n",
       "2340  REAL  Obama announces restrictions on distribution o...\n",
       "2341  FAKE  Dilbert Creator Explains How Do I Know The Ema...\n",
       "2342  REAL  God is on the ropes: The brilliant new science...\n",
       "2343  REAL  Two: readers pick story on meat and climate ch...\n",
       "2344  REAL              Backstory: Behind the terror takedown\n",
       "2345  FAKE  Deputy Shot and Killed by Fellow Deputy While ...\n",
       "2346  REAL  All three Republican presidential candidates b...\n",
       "2347  REAL  Defense Secretary Carter endorses 3-year timel...\n",
       "2348  REAL  Marco Rubio: Critics of Immigration Bill Were ...\n",
       "2349  REAL  Bernie Sanders win this way: Why his admirable...\n",
       "2350  FAKE  'Russia has no intention of attacking anyone -...\n",
       "2351  FAKE  Iceland Election: Pirate Party prepares for ma...\n",
       "2352  REAL  Egypt bombs Islamic State targets in Libya aft...\n",
       "\n",
       "[2353 rows x 2 columns]"
      ]
     },
     "execution_count": 330,
     "metadata": {},
     "output_type": "execute_result"
    }
   ],
   "source": [
    "adv"
   ]
  },
  {
   "cell_type": "markdown",
   "metadata": {},
   "source": [
    "## value counts- Returns object containing counts of unique values."
   ]
  },
  {
   "cell_type": "code",
   "execution_count": 331,
   "metadata": {
    "collapsed": false
   },
   "outputs": [
    {
     "data": {
      "text/plain": [
       "OnPolitics | 's politics blog                                                                                        3\n",
       "Michael Moore Owes Me $4.99                                                                                          3\n",
       "Meteor, space junk, rocket? Mysterious flash hits Siberia                                                            2\n",
       "What is going on with WikiLeaks?                                                                                     2\n",
       "Loretta Lynch becomes first African-American woman AG.                                                               2\n",
       "Hillary’s “Big Tent” is Obama’s “Grand Bargain” on Steroids                                                          2\n",
       "Get Ready For Civil Unrest: Survey Finds That Most Americans Are Concerned About Election Violence                   2\n",
       "Obamacare Enrollees Anxiously Await Supreme Court Decision That Threatens Their Coverage                             2\n",
       "The Israeli Trumpess                                                                                                 2\n",
       "Clintons Are Under Multiple FBI Investigations as Agents Are Stymied                                                 2\n",
       "WHO Cancer Agency Under Fire for withholding ‘carcinogenic glyphosate’ Documents                                     2\n",
       "Collusion Between Facebook and Hillary’s Campaign Revealed in Clinton Emails                                         2\n",
       "University of Missouri, please immediately fire employees who taunted media                                          2\n",
       "Hillary Clinton's first test                                                                                         1\n",
       "Oregon Standoff Leaders Acquitted For Malheur Wildlife Refuge Takeover                                               1\n",
       "Paul Ryan, a highway bill, and the political virtue of patience (+video)                                             1\n",
       "Clinton, Trump and Obama aren't telling American workers the truth. Here it is                                       1\n",
       "MASSIVE Global Bond Write-Down Coming on Back of Financial Reset — Jim Willie                                        1\n",
       "Clinton Enjoys Post-DNC Bounce - But Will it Last?                                                                   1\n",
       "Lynch schools the wingnuts: How the right tried — and failed — to wound Obama’s AG nominee                           1\n",
       "Amid campaign troubles, Trump blasts Clinton as 'world-class liar'                                                   1\n",
       "NSA program reportedly helped US gather evidence against North Korea in Sony hack                                    1\n",
       "The Fatal Expense Of American Imperialism                                                                            1\n",
       "2006 Audio Emerges of Hillary Clinton Proposing Rigging Palestine Election                                           1\n",
       "Putin being FRAMED at UN for War Crimes in Syria Explained                                                           1\n",
       "If Hillary Clinton Is Charged With Obstruction Of Justice She Could Go To Prison For 20 Years                        1\n",
       "Monica Lewinsky’s latest comeback, fueled by media remorse                                                           1\n",
       "The Intercept Outs Neocon Democrat’s Smear Against Trump as ‘Putin’s Puppet’ - Eric Zuesse                           1\n",
       "One Photo Sums Up How Differently America Treats People Of Color And The White Bundy Militiamen                      1\n",
       "Who will Hillary Clinton’s ‘basket of deplorables’ comment actually alienate?                                        1\n",
       "                                                                                                                    ..\n",
       "Police Turn In Badges Rather Than Incite Violence Against Standing Rock Protestors                                   1\n",
       "How Donald Trump blindsided the GOP: Inside the uprising the establishment never imagined — and didn’t see coming    1\n",
       "Hillary and Trump Could Both Be Criminally Charged After The Election                                                1\n",
       "Now Live: View Full Text of Job Postings | Economy                                                                   1\n",
       "Scientists Fascinated By Lake Under The Sea: Those Who Enter Never Come Out [Watch]                                  1\n",
       "The Worst Case for Republicans: Trump Wins                                                                           1\n",
       "Team Clinton: Let’s Talk About Russia, Not the WikiLeaks Emails                                                      1\n",
       "Editorial: Presidential stakes are high for nuclear arsenal - The Boston Globe                                       1\n",
       "Clinton is banking on the Obama coalition to win                                                                     1\n",
       "Show biz: Business and breakthroughs                                                                                 1\n",
       "Exclusive: GOP campaigns plot revolt against RNC                                                                     1\n",
       "Elizabeth Warren: Why the media won’t take no for an answer                                                          1\n",
       "The Latest On Paris Attack: Manhunt Continues; Brothers Were On No-Fly List                                          1\n",
       "Like a “Concentration Camp” Police Mark DAPL Protesters with Numbers and Lock Them in Dog Kennels                    1\n",
       "Picking Mike Pence Really Was A Grand Slam For Donald Trump                                                          1\n",
       "Charlie Hebdo attack: Suspects' names, photos released                                                               1\n",
       "This astonishing chart shows how moderate Republicans are an endangered species                                      1\n",
       "ObamaCare has cancer. And if it’s not treated quickly and aggressively, it will die                                  1\n",
       "Cop Caught on His Own Body Camera Stealing Money From Unconscious Crash Victim                                       1\n",
       "Kentucky governor: Electing Hillary Clinton may eventually lead to violence                                          1\n",
       "BUILD UP WW3 World War 3 Is Coming Current Situation Analysis                                                        1\n",
       "French-Japanese Flawed Steel InReactors Dooms The Nuclear Industry                                                   1\n",
       "I'm a black ex-cop, and this is the real truth about race and policing                                               1\n",
       "NO jail time for Muslim migrant who DUMPED BABY in road and left it for dead                                         1\n",
       "AT&T-Time Warner Merger: Another Media Consolidation That Puts Profits Over Consumers                                1\n",
       "Racist Sign Calls For Lynching Black People To Prevent Them From Getting Equal Rights                                1\n",
       "Continental Gold                                                                                                     1\n",
       "Marco Rubio: Critics of Immigration Bill Were Right                                                                  1\n",
       "Donald Trump can’t resist blaming Bill Clinton when his own sexism comes up                                          1\n",
       "Contaminated Food from China Now Entering the U.S. Under the 'Organic' Label                                         1\n",
       "Name: news, dtype: int64"
      ]
     },
     "execution_count": 331,
     "metadata": {},
     "output_type": "execute_result"
    }
   ],
   "source": [
    "adv.news.value_counts()"
   ]
  },
  {
   "cell_type": "code",
   "execution_count": 332,
   "metadata": {
    "collapsed": false
   },
   "outputs": [
    {
     "data": {
      "text/plain": [
       "FAKE    1206\n",
       "REAL    1147\n",
       "Name: label, dtype: int64"
      ]
     },
     "execution_count": 332,
     "metadata": {},
     "output_type": "execute_result"
    }
   ],
   "source": [
    "adv.label.value_counts()"
   ]
  },
  {
   "cell_type": "markdown",
   "metadata": {},
   "source": [
    "## Aggregate statistics"
   ]
  },
  {
   "cell_type": "code",
   "execution_count": 333,
   "metadata": {
    "collapsed": false
   },
   "outputs": [
    {
     "data": {
      "text/html": [
       "<div>\n",
       "<table border=\"1\" class=\"dataframe\">\n",
       "  <thead>\n",
       "    <tr style=\"text-align: right;\">\n",
       "      <th></th>\n",
       "      <th>label</th>\n",
       "      <th>news</th>\n",
       "    </tr>\n",
       "  </thead>\n",
       "  <tbody>\n",
       "    <tr>\n",
       "      <th>count</th>\n",
       "      <td>2353</td>\n",
       "      <td>2353</td>\n",
       "    </tr>\n",
       "    <tr>\n",
       "      <th>unique</th>\n",
       "      <td>2</td>\n",
       "      <td>2338</td>\n",
       "    </tr>\n",
       "    <tr>\n",
       "      <th>top</th>\n",
       "      <td>FAKE</td>\n",
       "      <td>OnPolitics | 's politics blog</td>\n",
       "    </tr>\n",
       "    <tr>\n",
       "      <th>freq</th>\n",
       "      <td>1206</td>\n",
       "      <td>3</td>\n",
       "    </tr>\n",
       "  </tbody>\n",
       "</table>\n",
       "</div>"
      ],
      "text/plain": [
       "       label                           news\n",
       "count   2353                           2353\n",
       "unique     2                           2338\n",
       "top     FAKE  OnPolitics | 's politics blog\n",
       "freq    1206                              3"
      ]
     },
     "execution_count": 333,
     "metadata": {},
     "output_type": "execute_result"
    }
   ],
   "source": [
    "adv.describe()"
   ]
  },
  {
   "cell_type": "code",
   "execution_count": 334,
   "metadata": {
    "collapsed": false
   },
   "outputs": [
    {
     "data": {
      "text/html": [
       "<div>\n",
       "<table border=\"1\" class=\"dataframe\">\n",
       "  <thead>\n",
       "    <tr style=\"text-align: right;\">\n",
       "      <th></th>\n",
       "      <th></th>\n",
       "      <th>news</th>\n",
       "    </tr>\n",
       "    <tr>\n",
       "      <th>label</th>\n",
       "      <th></th>\n",
       "      <th></th>\n",
       "    </tr>\n",
       "  </thead>\n",
       "  <tbody>\n",
       "    <tr>\n",
       "      <th rowspan=\"4\" valign=\"top\">FAKE</th>\n",
       "      <th>count</th>\n",
       "      <td>1206</td>\n",
       "    </tr>\n",
       "    <tr>\n",
       "      <th>unique</th>\n",
       "      <td>1196</td>\n",
       "    </tr>\n",
       "    <tr>\n",
       "      <th>top</th>\n",
       "      <td>Michael Moore Owes Me $4.99</td>\n",
       "    </tr>\n",
       "    <tr>\n",
       "      <th>freq</th>\n",
       "      <td>3</td>\n",
       "    </tr>\n",
       "    <tr>\n",
       "      <th rowspan=\"4\" valign=\"top\">REAL</th>\n",
       "      <th>count</th>\n",
       "      <td>1147</td>\n",
       "    </tr>\n",
       "    <tr>\n",
       "      <th>unique</th>\n",
       "      <td>1142</td>\n",
       "    </tr>\n",
       "    <tr>\n",
       "      <th>top</th>\n",
       "      <td>OnPolitics | 's politics blog</td>\n",
       "    </tr>\n",
       "    <tr>\n",
       "      <th>freq</th>\n",
       "      <td>3</td>\n",
       "    </tr>\n",
       "  </tbody>\n",
       "</table>\n",
       "</div>"
      ],
      "text/plain": [
       "                                       news\n",
       "label                                      \n",
       "FAKE  count                            1206\n",
       "      unique                           1196\n",
       "      top       Michael Moore Owes Me $4.99\n",
       "      freq                                3\n",
       "REAL  count                            1147\n",
       "      unique                           1142\n",
       "      top     OnPolitics | 's politics blog\n",
       "      freq                                3"
      ]
     },
     "execution_count": 334,
     "metadata": {},
     "output_type": "execute_result"
    }
   ],
   "source": [
    "adv.groupby('label').describe()"
   ]
  },
  {
   "cell_type": "markdown",
   "metadata": {},
   "source": [
    "## Removing Null values- Cleaning the data"
   ]
  },
  {
   "cell_type": "code",
   "execution_count": 335,
   "metadata": {
    "collapsed": false
   },
   "outputs": [
    {
     "data": {
      "text/html": [
       "<div>\n",
       "<table border=\"1\" class=\"dataframe\">\n",
       "  <thead>\n",
       "    <tr style=\"text-align: right;\">\n",
       "      <th></th>\n",
       "      <th>label</th>\n",
       "      <th>news</th>\n",
       "    </tr>\n",
       "  </thead>\n",
       "  <tbody>\n",
       "    <tr>\n",
       "      <th>0</th>\n",
       "      <td>FAKE</td>\n",
       "      <td>You Can Smell Hillary’s Fear</td>\n",
       "    </tr>\n",
       "    <tr>\n",
       "      <th>1</th>\n",
       "      <td>FAKE</td>\n",
       "      <td>Watch The Exact Moment Paul Ryan Committed Pol...</td>\n",
       "    </tr>\n",
       "    <tr>\n",
       "      <th>2</th>\n",
       "      <td>REAL</td>\n",
       "      <td>Kerry to go to Paris in gesture of sympathy</td>\n",
       "    </tr>\n",
       "    <tr>\n",
       "      <th>3</th>\n",
       "      <td>FAKE</td>\n",
       "      <td>Bernie supporters on Twitter erupt in anger ag...</td>\n",
       "    </tr>\n",
       "    <tr>\n",
       "      <th>4</th>\n",
       "      <td>REAL</td>\n",
       "      <td>The Battle of New York: Why This Primary Matters</td>\n",
       "    </tr>\n",
       "    <tr>\n",
       "      <th>5</th>\n",
       "      <td>FAKE</td>\n",
       "      <td>Tehran, USA</td>\n",
       "    </tr>\n",
       "    <tr>\n",
       "      <th>6</th>\n",
       "      <td>FAKE</td>\n",
       "      <td>Girl Horrified At What She Watches Boyfriend D...</td>\n",
       "    </tr>\n",
       "    <tr>\n",
       "      <th>7</th>\n",
       "      <td>REAL</td>\n",
       "      <td>‘Britain’s Schindler’ Dies at 106</td>\n",
       "    </tr>\n",
       "    <tr>\n",
       "      <th>8</th>\n",
       "      <td>REAL</td>\n",
       "      <td>Fact check: Trump and Clinton at the 'commande...</td>\n",
       "    </tr>\n",
       "    <tr>\n",
       "      <th>9</th>\n",
       "      <td>REAL</td>\n",
       "      <td>Iran reportedly makes new push for uranium con...</td>\n",
       "    </tr>\n",
       "    <tr>\n",
       "      <th>10</th>\n",
       "      <td>REAL</td>\n",
       "      <td>With all three Clintons in Iowa, a glimpse at ...</td>\n",
       "    </tr>\n",
       "    <tr>\n",
       "      <th>11</th>\n",
       "      <td>REAL</td>\n",
       "      <td>Donald Trump’s Shockingly Weak Delegate Game S...</td>\n",
       "    </tr>\n",
       "    <tr>\n",
       "      <th>12</th>\n",
       "      <td>FAKE</td>\n",
       "      <td>Strong Solar Storm, Tech Risks Today | S0 News...</td>\n",
       "    </tr>\n",
       "    <tr>\n",
       "      <th>13</th>\n",
       "      <td>FAKE</td>\n",
       "      <td>10 Ways America Is Preparing for World War 3</td>\n",
       "    </tr>\n",
       "    <tr>\n",
       "      <th>14</th>\n",
       "      <td>REAL</td>\n",
       "      <td>Trump takes on Cruz, but lightly</td>\n",
       "    </tr>\n",
       "    <tr>\n",
       "      <th>15</th>\n",
       "      <td>REAL</td>\n",
       "      <td>How women lead differently</td>\n",
       "    </tr>\n",
       "    <tr>\n",
       "      <th>16</th>\n",
       "      <td>FAKE</td>\n",
       "      <td>Shocking! Michele Obama &amp; Hillary Caught Glamo...</td>\n",
       "    </tr>\n",
       "    <tr>\n",
       "      <th>17</th>\n",
       "      <td>FAKE</td>\n",
       "      <td>Hillary Clinton in HUGE Trouble After America ...</td>\n",
       "    </tr>\n",
       "    <tr>\n",
       "      <th>18</th>\n",
       "      <td>REAL</td>\n",
       "      <td>What's in that Iran bill that Obama doesn't like?</td>\n",
       "    </tr>\n",
       "    <tr>\n",
       "      <th>19</th>\n",
       "      <td>REAL</td>\n",
       "      <td>The 1 chart that explains everything you need ...</td>\n",
       "    </tr>\n",
       "    <tr>\n",
       "      <th>20</th>\n",
       "      <td>REAL</td>\n",
       "      <td>The slippery slope to Trump’s proposed ban on ...</td>\n",
       "    </tr>\n",
       "    <tr>\n",
       "      <th>21</th>\n",
       "      <td>FAKE</td>\n",
       "      <td>Episode #160 – SUNDAY WIRE: ‘Hail to the Deplo...</td>\n",
       "    </tr>\n",
       "    <tr>\n",
       "      <th>22</th>\n",
       "      <td>REAL</td>\n",
       "      <td>Hillary Clinton Makes A Bipartisan Appeal on S...</td>\n",
       "    </tr>\n",
       "    <tr>\n",
       "      <th>23</th>\n",
       "      <td>REAL</td>\n",
       "      <td>New Senate majority leader’s main goal for GOP...</td>\n",
       "    </tr>\n",
       "    <tr>\n",
       "      <th>24</th>\n",
       "      <td>FAKE</td>\n",
       "      <td>‘Inferno’ and the Overpopulation Myth</td>\n",
       "    </tr>\n",
       "    <tr>\n",
       "      <th>25</th>\n",
       "      <td>REAL</td>\n",
       "      <td>Anti-Trump forces seek last-ditch delegate revolt</td>\n",
       "    </tr>\n",
       "    <tr>\n",
       "      <th>26</th>\n",
       "      <td>REAL</td>\n",
       "      <td>Sanders Trounces Clinton in W. Va. -- But Will...</td>\n",
       "    </tr>\n",
       "    <tr>\n",
       "      <th>27</th>\n",
       "      <td>REAL</td>\n",
       "      <td>Donald Trump Is Changing His Campaign Slogan t...</td>\n",
       "    </tr>\n",
       "    <tr>\n",
       "      <th>28</th>\n",
       "      <td>REAL</td>\n",
       "      <td>Pure chaos: Donald Trump’s campaign management...</td>\n",
       "    </tr>\n",
       "    <tr>\n",
       "      <th>29</th>\n",
       "      <td>FAKE</td>\n",
       "      <td>Syrian War Report – November 1, 2016: Syrian M...</td>\n",
       "    </tr>\n",
       "    <tr>\n",
       "      <th>...</th>\n",
       "      <td>...</td>\n",
       "      <td>...</td>\n",
       "    </tr>\n",
       "    <tr>\n",
       "      <th>2323</th>\n",
       "      <td>FAKE</td>\n",
       "      <td>Comment on Fury as German primary school ‘forc...</td>\n",
       "    </tr>\n",
       "    <tr>\n",
       "      <th>2324</th>\n",
       "      <td>REAL</td>\n",
       "      <td>Rieder: Charlie Hebdo goes on, and that matters</td>\n",
       "    </tr>\n",
       "    <tr>\n",
       "      <th>2325</th>\n",
       "      <td>REAL</td>\n",
       "      <td>Obama will walk away from Iran talks if no ins...</td>\n",
       "    </tr>\n",
       "    <tr>\n",
       "      <th>2326</th>\n",
       "      <td>REAL</td>\n",
       "      <td>The 2016 Republican field might be the most di...</td>\n",
       "    </tr>\n",
       "    <tr>\n",
       "      <th>2327</th>\n",
       "      <td>REAL</td>\n",
       "      <td>Donald Trump may be showing us the future of r...</td>\n",
       "    </tr>\n",
       "    <tr>\n",
       "      <th>2328</th>\n",
       "      <td>FAKE</td>\n",
       "      <td>Joint Way Forward Deal Does Not Lead to Peace ...</td>\n",
       "    </tr>\n",
       "    <tr>\n",
       "      <th>2329</th>\n",
       "      <td>FAKE</td>\n",
       "      <td>Dakota Pipeline Protests Are Working! One Bank...</td>\n",
       "    </tr>\n",
       "    <tr>\n",
       "      <th>2330</th>\n",
       "      <td>REAL</td>\n",
       "      <td>Republicans in state governments plan juggerna...</td>\n",
       "    </tr>\n",
       "    <tr>\n",
       "      <th>2331</th>\n",
       "      <td>REAL</td>\n",
       "      <td>Sanders, Dem establishment battle boils over</td>\n",
       "    </tr>\n",
       "    <tr>\n",
       "      <th>2332</th>\n",
       "      <td>FAKE</td>\n",
       "      <td>Election 2016: A Political System In Crisis</td>\n",
       "    </tr>\n",
       "    <tr>\n",
       "      <th>2333</th>\n",
       "      <td>FAKE</td>\n",
       "      <td>After terrorizing America with Zika scaremonge...</td>\n",
       "    </tr>\n",
       "    <tr>\n",
       "      <th>2334</th>\n",
       "      <td>REAL</td>\n",
       "      <td>Obama Says Terrorists Seek Legitimacy by Using...</td>\n",
       "    </tr>\n",
       "    <tr>\n",
       "      <th>2335</th>\n",
       "      <td>FAKE</td>\n",
       "      <td>Why NATO is put on war footing against Russia</td>\n",
       "    </tr>\n",
       "    <tr>\n",
       "      <th>2336</th>\n",
       "      <td>FAKE</td>\n",
       "      <td>Top five donors to Clinton campaign are Jewish</td>\n",
       "    </tr>\n",
       "    <tr>\n",
       "      <th>2337</th>\n",
       "      <td>REAL</td>\n",
       "      <td>The worst election ever</td>\n",
       "    </tr>\n",
       "    <tr>\n",
       "      <th>2338</th>\n",
       "      <td>FAKE</td>\n",
       "      <td>Tomb Opened WhereJesus was Resurrected After C...</td>\n",
       "    </tr>\n",
       "    <tr>\n",
       "      <th>2339</th>\n",
       "      <td>REAL</td>\n",
       "      <td>The House GOP budget is a gimmick</td>\n",
       "    </tr>\n",
       "    <tr>\n",
       "      <th>2340</th>\n",
       "      <td>REAL</td>\n",
       "      <td>Obama announces restrictions on distribution o...</td>\n",
       "    </tr>\n",
       "    <tr>\n",
       "      <th>2341</th>\n",
       "      <td>FAKE</td>\n",
       "      <td>Dilbert Creator Explains How Do I Know The Ema...</td>\n",
       "    </tr>\n",
       "    <tr>\n",
       "      <th>2342</th>\n",
       "      <td>REAL</td>\n",
       "      <td>God is on the ropes: The brilliant new science...</td>\n",
       "    </tr>\n",
       "    <tr>\n",
       "      <th>2343</th>\n",
       "      <td>REAL</td>\n",
       "      <td>Two: readers pick story on meat and climate ch...</td>\n",
       "    </tr>\n",
       "    <tr>\n",
       "      <th>2344</th>\n",
       "      <td>REAL</td>\n",
       "      <td>Backstory: Behind the terror takedown</td>\n",
       "    </tr>\n",
       "    <tr>\n",
       "      <th>2345</th>\n",
       "      <td>FAKE</td>\n",
       "      <td>Deputy Shot and Killed by Fellow Deputy While ...</td>\n",
       "    </tr>\n",
       "    <tr>\n",
       "      <th>2346</th>\n",
       "      <td>REAL</td>\n",
       "      <td>All three Republican presidential candidates b...</td>\n",
       "    </tr>\n",
       "    <tr>\n",
       "      <th>2347</th>\n",
       "      <td>REAL</td>\n",
       "      <td>Defense Secretary Carter endorses 3-year timel...</td>\n",
       "    </tr>\n",
       "    <tr>\n",
       "      <th>2348</th>\n",
       "      <td>REAL</td>\n",
       "      <td>Marco Rubio: Critics of Immigration Bill Were ...</td>\n",
       "    </tr>\n",
       "    <tr>\n",
       "      <th>2349</th>\n",
       "      <td>REAL</td>\n",
       "      <td>Bernie Sanders win this way: Why his admirable...</td>\n",
       "    </tr>\n",
       "    <tr>\n",
       "      <th>2350</th>\n",
       "      <td>FAKE</td>\n",
       "      <td>'Russia has no intention of attacking anyone -...</td>\n",
       "    </tr>\n",
       "    <tr>\n",
       "      <th>2351</th>\n",
       "      <td>FAKE</td>\n",
       "      <td>Iceland Election: Pirate Party prepares for ma...</td>\n",
       "    </tr>\n",
       "    <tr>\n",
       "      <th>2352</th>\n",
       "      <td>REAL</td>\n",
       "      <td>Egypt bombs Islamic State targets in Libya aft...</td>\n",
       "    </tr>\n",
       "  </tbody>\n",
       "</table>\n",
       "<p>2353 rows × 2 columns</p>\n",
       "</div>"
      ],
      "text/plain": [
       "     label                                               news\n",
       "0     FAKE                       You Can Smell Hillary’s Fear\n",
       "1     FAKE  Watch The Exact Moment Paul Ryan Committed Pol...\n",
       "2     REAL        Kerry to go to Paris in gesture of sympathy\n",
       "3     FAKE  Bernie supporters on Twitter erupt in anger ag...\n",
       "4     REAL   The Battle of New York: Why This Primary Matters\n",
       "5     FAKE                                        Tehran, USA\n",
       "6     FAKE  Girl Horrified At What She Watches Boyfriend D...\n",
       "7     REAL                  ‘Britain’s Schindler’ Dies at 106\n",
       "8     REAL  Fact check: Trump and Clinton at the 'commande...\n",
       "9     REAL  Iran reportedly makes new push for uranium con...\n",
       "10    REAL  With all three Clintons in Iowa, a glimpse at ...\n",
       "11    REAL  Donald Trump’s Shockingly Weak Delegate Game S...\n",
       "12    FAKE  Strong Solar Storm, Tech Risks Today | S0 News...\n",
       "13    FAKE       10 Ways America Is Preparing for World War 3\n",
       "14    REAL                   Trump takes on Cruz, but lightly\n",
       "15    REAL                         How women lead differently\n",
       "16    FAKE  Shocking! Michele Obama & Hillary Caught Glamo...\n",
       "17    FAKE  Hillary Clinton in HUGE Trouble After America ...\n",
       "18    REAL  What's in that Iran bill that Obama doesn't like?\n",
       "19    REAL  The 1 chart that explains everything you need ...\n",
       "20    REAL  The slippery slope to Trump’s proposed ban on ...\n",
       "21    FAKE  Episode #160 – SUNDAY WIRE: ‘Hail to the Deplo...\n",
       "22    REAL  Hillary Clinton Makes A Bipartisan Appeal on S...\n",
       "23    REAL  New Senate majority leader’s main goal for GOP...\n",
       "24    FAKE              ‘Inferno’ and the Overpopulation Myth\n",
       "25    REAL  Anti-Trump forces seek last-ditch delegate revolt\n",
       "26    REAL  Sanders Trounces Clinton in W. Va. -- But Will...\n",
       "27    REAL  Donald Trump Is Changing His Campaign Slogan t...\n",
       "28    REAL  Pure chaos: Donald Trump’s campaign management...\n",
       "29    FAKE  Syrian War Report – November 1, 2016: Syrian M...\n",
       "...    ...                                                ...\n",
       "2323  FAKE  Comment on Fury as German primary school ‘forc...\n",
       "2324  REAL    Rieder: Charlie Hebdo goes on, and that matters\n",
       "2325  REAL  Obama will walk away from Iran talks if no ins...\n",
       "2326  REAL  The 2016 Republican field might be the most di...\n",
       "2327  REAL  Donald Trump may be showing us the future of r...\n",
       "2328  FAKE  Joint Way Forward Deal Does Not Lead to Peace ...\n",
       "2329  FAKE  Dakota Pipeline Protests Are Working! One Bank...\n",
       "2330  REAL  Republicans in state governments plan juggerna...\n",
       "2331  REAL       Sanders, Dem establishment battle boils over\n",
       "2332  FAKE        Election 2016: A Political System In Crisis\n",
       "2333  FAKE  After terrorizing America with Zika scaremonge...\n",
       "2334  REAL  Obama Says Terrorists Seek Legitimacy by Using...\n",
       "2335  FAKE      Why NATO is put on war footing against Russia\n",
       "2336  FAKE     Top five donors to Clinton campaign are Jewish\n",
       "2337  REAL                            The worst election ever\n",
       "2338  FAKE  Tomb Opened WhereJesus was Resurrected After C...\n",
       "2339  REAL                  The House GOP budget is a gimmick\n",
       "2340  REAL  Obama announces restrictions on distribution o...\n",
       "2341  FAKE  Dilbert Creator Explains How Do I Know The Ema...\n",
       "2342  REAL  God is on the ropes: The brilliant new science...\n",
       "2343  REAL  Two: readers pick story on meat and climate ch...\n",
       "2344  REAL              Backstory: Behind the terror takedown\n",
       "2345  FAKE  Deputy Shot and Killed by Fellow Deputy While ...\n",
       "2346  REAL  All three Republican presidential candidates b...\n",
       "2347  REAL  Defense Secretary Carter endorses 3-year timel...\n",
       "2348  REAL  Marco Rubio: Critics of Immigration Bill Were ...\n",
       "2349  REAL  Bernie Sanders win this way: Why his admirable...\n",
       "2350  FAKE  'Russia has no intention of attacking anyone -...\n",
       "2351  FAKE  Iceland Election: Pirate Party prepares for ma...\n",
       "2352  REAL  Egypt bombs Islamic State targets in Libya aft...\n",
       "\n",
       "[2353 rows x 2 columns]"
      ]
     },
     "execution_count": 335,
     "metadata": {},
     "output_type": "execute_result"
    }
   ],
   "source": [
    "adv[adv.news.notnull()]\n",
    "adv[adv.label.notnull()]"
   ]
  },
  {
   "cell_type": "code",
   "execution_count": 336,
   "metadata": {
    "collapsed": true
   },
   "outputs": [],
   "source": [
    "adv=adv[pd.notnull(adv['news'])]\n",
    "adv=adv[pd.notnull(adv['label'])]"
   ]
  },
  {
   "cell_type": "code",
   "execution_count": 337,
   "metadata": {
    "collapsed": false
   },
   "outputs": [
    {
     "data": {
      "text/html": [
       "<div>\n",
       "<table border=\"1\" class=\"dataframe\">\n",
       "  <thead>\n",
       "    <tr style=\"text-align: right;\">\n",
       "      <th></th>\n",
       "      <th>label</th>\n",
       "      <th>news</th>\n",
       "    </tr>\n",
       "  </thead>\n",
       "  <tbody>\n",
       "    <tr>\n",
       "      <th>0</th>\n",
       "      <td>False</td>\n",
       "      <td>False</td>\n",
       "    </tr>\n",
       "    <tr>\n",
       "      <th>1</th>\n",
       "      <td>False</td>\n",
       "      <td>False</td>\n",
       "    </tr>\n",
       "    <tr>\n",
       "      <th>2</th>\n",
       "      <td>False</td>\n",
       "      <td>False</td>\n",
       "    </tr>\n",
       "    <tr>\n",
       "      <th>3</th>\n",
       "      <td>False</td>\n",
       "      <td>False</td>\n",
       "    </tr>\n",
       "    <tr>\n",
       "      <th>4</th>\n",
       "      <td>False</td>\n",
       "      <td>False</td>\n",
       "    </tr>\n",
       "    <tr>\n",
       "      <th>5</th>\n",
       "      <td>False</td>\n",
       "      <td>False</td>\n",
       "    </tr>\n",
       "    <tr>\n",
       "      <th>6</th>\n",
       "      <td>False</td>\n",
       "      <td>False</td>\n",
       "    </tr>\n",
       "    <tr>\n",
       "      <th>7</th>\n",
       "      <td>False</td>\n",
       "      <td>False</td>\n",
       "    </tr>\n",
       "    <tr>\n",
       "      <th>8</th>\n",
       "      <td>False</td>\n",
       "      <td>False</td>\n",
       "    </tr>\n",
       "    <tr>\n",
       "      <th>9</th>\n",
       "      <td>False</td>\n",
       "      <td>False</td>\n",
       "    </tr>\n",
       "    <tr>\n",
       "      <th>10</th>\n",
       "      <td>False</td>\n",
       "      <td>False</td>\n",
       "    </tr>\n",
       "    <tr>\n",
       "      <th>11</th>\n",
       "      <td>False</td>\n",
       "      <td>False</td>\n",
       "    </tr>\n",
       "    <tr>\n",
       "      <th>12</th>\n",
       "      <td>False</td>\n",
       "      <td>False</td>\n",
       "    </tr>\n",
       "    <tr>\n",
       "      <th>13</th>\n",
       "      <td>False</td>\n",
       "      <td>False</td>\n",
       "    </tr>\n",
       "    <tr>\n",
       "      <th>14</th>\n",
       "      <td>False</td>\n",
       "      <td>False</td>\n",
       "    </tr>\n",
       "    <tr>\n",
       "      <th>15</th>\n",
       "      <td>False</td>\n",
       "      <td>False</td>\n",
       "    </tr>\n",
       "    <tr>\n",
       "      <th>16</th>\n",
       "      <td>False</td>\n",
       "      <td>False</td>\n",
       "    </tr>\n",
       "    <tr>\n",
       "      <th>17</th>\n",
       "      <td>False</td>\n",
       "      <td>False</td>\n",
       "    </tr>\n",
       "    <tr>\n",
       "      <th>18</th>\n",
       "      <td>False</td>\n",
       "      <td>False</td>\n",
       "    </tr>\n",
       "    <tr>\n",
       "      <th>19</th>\n",
       "      <td>False</td>\n",
       "      <td>False</td>\n",
       "    </tr>\n",
       "    <tr>\n",
       "      <th>20</th>\n",
       "      <td>False</td>\n",
       "      <td>False</td>\n",
       "    </tr>\n",
       "    <tr>\n",
       "      <th>21</th>\n",
       "      <td>False</td>\n",
       "      <td>False</td>\n",
       "    </tr>\n",
       "    <tr>\n",
       "      <th>22</th>\n",
       "      <td>False</td>\n",
       "      <td>False</td>\n",
       "    </tr>\n",
       "    <tr>\n",
       "      <th>23</th>\n",
       "      <td>False</td>\n",
       "      <td>False</td>\n",
       "    </tr>\n",
       "    <tr>\n",
       "      <th>24</th>\n",
       "      <td>False</td>\n",
       "      <td>False</td>\n",
       "    </tr>\n",
       "    <tr>\n",
       "      <th>25</th>\n",
       "      <td>False</td>\n",
       "      <td>False</td>\n",
       "    </tr>\n",
       "    <tr>\n",
       "      <th>26</th>\n",
       "      <td>False</td>\n",
       "      <td>False</td>\n",
       "    </tr>\n",
       "    <tr>\n",
       "      <th>27</th>\n",
       "      <td>False</td>\n",
       "      <td>False</td>\n",
       "    </tr>\n",
       "    <tr>\n",
       "      <th>28</th>\n",
       "      <td>False</td>\n",
       "      <td>False</td>\n",
       "    </tr>\n",
       "    <tr>\n",
       "      <th>29</th>\n",
       "      <td>False</td>\n",
       "      <td>False</td>\n",
       "    </tr>\n",
       "    <tr>\n",
       "      <th>...</th>\n",
       "      <td>...</td>\n",
       "      <td>...</td>\n",
       "    </tr>\n",
       "    <tr>\n",
       "      <th>2323</th>\n",
       "      <td>False</td>\n",
       "      <td>False</td>\n",
       "    </tr>\n",
       "    <tr>\n",
       "      <th>2324</th>\n",
       "      <td>False</td>\n",
       "      <td>False</td>\n",
       "    </tr>\n",
       "    <tr>\n",
       "      <th>2325</th>\n",
       "      <td>False</td>\n",
       "      <td>False</td>\n",
       "    </tr>\n",
       "    <tr>\n",
       "      <th>2326</th>\n",
       "      <td>False</td>\n",
       "      <td>False</td>\n",
       "    </tr>\n",
       "    <tr>\n",
       "      <th>2327</th>\n",
       "      <td>False</td>\n",
       "      <td>False</td>\n",
       "    </tr>\n",
       "    <tr>\n",
       "      <th>2328</th>\n",
       "      <td>False</td>\n",
       "      <td>False</td>\n",
       "    </tr>\n",
       "    <tr>\n",
       "      <th>2329</th>\n",
       "      <td>False</td>\n",
       "      <td>False</td>\n",
       "    </tr>\n",
       "    <tr>\n",
       "      <th>2330</th>\n",
       "      <td>False</td>\n",
       "      <td>False</td>\n",
       "    </tr>\n",
       "    <tr>\n",
       "      <th>2331</th>\n",
       "      <td>False</td>\n",
       "      <td>False</td>\n",
       "    </tr>\n",
       "    <tr>\n",
       "      <th>2332</th>\n",
       "      <td>False</td>\n",
       "      <td>False</td>\n",
       "    </tr>\n",
       "    <tr>\n",
       "      <th>2333</th>\n",
       "      <td>False</td>\n",
       "      <td>False</td>\n",
       "    </tr>\n",
       "    <tr>\n",
       "      <th>2334</th>\n",
       "      <td>False</td>\n",
       "      <td>False</td>\n",
       "    </tr>\n",
       "    <tr>\n",
       "      <th>2335</th>\n",
       "      <td>False</td>\n",
       "      <td>False</td>\n",
       "    </tr>\n",
       "    <tr>\n",
       "      <th>2336</th>\n",
       "      <td>False</td>\n",
       "      <td>False</td>\n",
       "    </tr>\n",
       "    <tr>\n",
       "      <th>2337</th>\n",
       "      <td>False</td>\n",
       "      <td>False</td>\n",
       "    </tr>\n",
       "    <tr>\n",
       "      <th>2338</th>\n",
       "      <td>False</td>\n",
       "      <td>False</td>\n",
       "    </tr>\n",
       "    <tr>\n",
       "      <th>2339</th>\n",
       "      <td>False</td>\n",
       "      <td>False</td>\n",
       "    </tr>\n",
       "    <tr>\n",
       "      <th>2340</th>\n",
       "      <td>False</td>\n",
       "      <td>False</td>\n",
       "    </tr>\n",
       "    <tr>\n",
       "      <th>2341</th>\n",
       "      <td>False</td>\n",
       "      <td>False</td>\n",
       "    </tr>\n",
       "    <tr>\n",
       "      <th>2342</th>\n",
       "      <td>False</td>\n",
       "      <td>False</td>\n",
       "    </tr>\n",
       "    <tr>\n",
       "      <th>2343</th>\n",
       "      <td>False</td>\n",
       "      <td>False</td>\n",
       "    </tr>\n",
       "    <tr>\n",
       "      <th>2344</th>\n",
       "      <td>False</td>\n",
       "      <td>False</td>\n",
       "    </tr>\n",
       "    <tr>\n",
       "      <th>2345</th>\n",
       "      <td>False</td>\n",
       "      <td>False</td>\n",
       "    </tr>\n",
       "    <tr>\n",
       "      <th>2346</th>\n",
       "      <td>False</td>\n",
       "      <td>False</td>\n",
       "    </tr>\n",
       "    <tr>\n",
       "      <th>2347</th>\n",
       "      <td>False</td>\n",
       "      <td>False</td>\n",
       "    </tr>\n",
       "    <tr>\n",
       "      <th>2348</th>\n",
       "      <td>False</td>\n",
       "      <td>False</td>\n",
       "    </tr>\n",
       "    <tr>\n",
       "      <th>2349</th>\n",
       "      <td>False</td>\n",
       "      <td>False</td>\n",
       "    </tr>\n",
       "    <tr>\n",
       "      <th>2350</th>\n",
       "      <td>False</td>\n",
       "      <td>False</td>\n",
       "    </tr>\n",
       "    <tr>\n",
       "      <th>2351</th>\n",
       "      <td>False</td>\n",
       "      <td>False</td>\n",
       "    </tr>\n",
       "    <tr>\n",
       "      <th>2352</th>\n",
       "      <td>False</td>\n",
       "      <td>False</td>\n",
       "    </tr>\n",
       "  </tbody>\n",
       "</table>\n",
       "<p>2353 rows × 2 columns</p>\n",
       "</div>"
      ],
      "text/plain": [
       "      label   news\n",
       "0     False  False\n",
       "1     False  False\n",
       "2     False  False\n",
       "3     False  False\n",
       "4     False  False\n",
       "5     False  False\n",
       "6     False  False\n",
       "7     False  False\n",
       "8     False  False\n",
       "9     False  False\n",
       "10    False  False\n",
       "11    False  False\n",
       "12    False  False\n",
       "13    False  False\n",
       "14    False  False\n",
       "15    False  False\n",
       "16    False  False\n",
       "17    False  False\n",
       "18    False  False\n",
       "19    False  False\n",
       "20    False  False\n",
       "21    False  False\n",
       "22    False  False\n",
       "23    False  False\n",
       "24    False  False\n",
       "25    False  False\n",
       "26    False  False\n",
       "27    False  False\n",
       "28    False  False\n",
       "29    False  False\n",
       "...     ...    ...\n",
       "2323  False  False\n",
       "2324  False  False\n",
       "2325  False  False\n",
       "2326  False  False\n",
       "2327  False  False\n",
       "2328  False  False\n",
       "2329  False  False\n",
       "2330  False  False\n",
       "2331  False  False\n",
       "2332  False  False\n",
       "2333  False  False\n",
       "2334  False  False\n",
       "2335  False  False\n",
       "2336  False  False\n",
       "2337  False  False\n",
       "2338  False  False\n",
       "2339  False  False\n",
       "2340  False  False\n",
       "2341  False  False\n",
       "2342  False  False\n",
       "2343  False  False\n",
       "2344  False  False\n",
       "2345  False  False\n",
       "2346  False  False\n",
       "2347  False  False\n",
       "2348  False  False\n",
       "2349  False  False\n",
       "2350  False  False\n",
       "2351  False  False\n",
       "2352  False  False\n",
       "\n",
       "[2353 rows x 2 columns]"
      ]
     },
     "execution_count": 337,
     "metadata": {},
     "output_type": "execute_result"
    }
   ],
   "source": [
    "adv.isnull()"
   ]
  },
  {
   "cell_type": "markdown",
   "metadata": {},
   "source": [
    "## Calculating the length of news"
   ]
  },
  {
   "cell_type": "code",
   "execution_count": 338,
   "metadata": {
    "collapsed": false
   },
   "outputs": [
    {
     "data": {
      "text/html": [
       "<div>\n",
       "<table border=\"1\" class=\"dataframe\">\n",
       "  <thead>\n",
       "    <tr style=\"text-align: right;\">\n",
       "      <th></th>\n",
       "      <th>label</th>\n",
       "      <th>news</th>\n",
       "      <th>length</th>\n",
       "    </tr>\n",
       "  </thead>\n",
       "  <tbody>\n",
       "    <tr>\n",
       "      <th>0</th>\n",
       "      <td>FAKE</td>\n",
       "      <td>You Can Smell Hillary’s Fear</td>\n",
       "      <td>28</td>\n",
       "    </tr>\n",
       "    <tr>\n",
       "      <th>1</th>\n",
       "      <td>FAKE</td>\n",
       "      <td>Watch The Exact Moment Paul Ryan Committed Pol...</td>\n",
       "      <td>85</td>\n",
       "    </tr>\n",
       "    <tr>\n",
       "      <th>2</th>\n",
       "      <td>REAL</td>\n",
       "      <td>Kerry to go to Paris in gesture of sympathy</td>\n",
       "      <td>43</td>\n",
       "    </tr>\n",
       "    <tr>\n",
       "      <th>3</th>\n",
       "      <td>FAKE</td>\n",
       "      <td>Bernie supporters on Twitter erupt in anger ag...</td>\n",
       "      <td>84</td>\n",
       "    </tr>\n",
       "    <tr>\n",
       "      <th>4</th>\n",
       "      <td>REAL</td>\n",
       "      <td>The Battle of New York: Why This Primary Matters</td>\n",
       "      <td>48</td>\n",
       "    </tr>\n",
       "    <tr>\n",
       "      <th>5</th>\n",
       "      <td>FAKE</td>\n",
       "      <td>Tehran, USA</td>\n",
       "      <td>11</td>\n",
       "    </tr>\n",
       "    <tr>\n",
       "      <th>6</th>\n",
       "      <td>FAKE</td>\n",
       "      <td>Girl Horrified At What She Watches Boyfriend D...</td>\n",
       "      <td>73</td>\n",
       "    </tr>\n",
       "    <tr>\n",
       "      <th>7</th>\n",
       "      <td>REAL</td>\n",
       "      <td>‘Britain’s Schindler’ Dies at 106</td>\n",
       "      <td>33</td>\n",
       "    </tr>\n",
       "    <tr>\n",
       "      <th>8</th>\n",
       "      <td>REAL</td>\n",
       "      <td>Fact check: Trump and Clinton at the 'commande...</td>\n",
       "      <td>63</td>\n",
       "    </tr>\n",
       "    <tr>\n",
       "      <th>9</th>\n",
       "      <td>REAL</td>\n",
       "      <td>Iran reportedly makes new push for uranium con...</td>\n",
       "      <td>71</td>\n",
       "    </tr>\n",
       "    <tr>\n",
       "      <th>10</th>\n",
       "      <td>REAL</td>\n",
       "      <td>With all three Clintons in Iowa, a glimpse at ...</td>\n",
       "      <td>97</td>\n",
       "    </tr>\n",
       "    <tr>\n",
       "      <th>11</th>\n",
       "      <td>REAL</td>\n",
       "      <td>Donald Trump’s Shockingly Weak Delegate Game S...</td>\n",
       "      <td>67</td>\n",
       "    </tr>\n",
       "    <tr>\n",
       "      <th>12</th>\n",
       "      <td>FAKE</td>\n",
       "      <td>Strong Solar Storm, Tech Risks Today | S0 News...</td>\n",
       "      <td>66</td>\n",
       "    </tr>\n",
       "    <tr>\n",
       "      <th>13</th>\n",
       "      <td>FAKE</td>\n",
       "      <td>10 Ways America Is Preparing for World War 3</td>\n",
       "      <td>44</td>\n",
       "    </tr>\n",
       "    <tr>\n",
       "      <th>14</th>\n",
       "      <td>REAL</td>\n",
       "      <td>Trump takes on Cruz, but lightly</td>\n",
       "      <td>32</td>\n",
       "    </tr>\n",
       "    <tr>\n",
       "      <th>15</th>\n",
       "      <td>REAL</td>\n",
       "      <td>How women lead differently</td>\n",
       "      <td>26</td>\n",
       "    </tr>\n",
       "    <tr>\n",
       "      <th>16</th>\n",
       "      <td>FAKE</td>\n",
       "      <td>Shocking! Michele Obama &amp; Hillary Caught Glamo...</td>\n",
       "      <td>72</td>\n",
       "    </tr>\n",
       "    <tr>\n",
       "      <th>17</th>\n",
       "      <td>FAKE</td>\n",
       "      <td>Hillary Clinton in HUGE Trouble After America ...</td>\n",
       "      <td>113</td>\n",
       "    </tr>\n",
       "    <tr>\n",
       "      <th>18</th>\n",
       "      <td>REAL</td>\n",
       "      <td>What's in that Iran bill that Obama doesn't like?</td>\n",
       "      <td>49</td>\n",
       "    </tr>\n",
       "    <tr>\n",
       "      <th>19</th>\n",
       "      <td>REAL</td>\n",
       "      <td>The 1 chart that explains everything you need ...</td>\n",
       "      <td>83</td>\n",
       "    </tr>\n",
       "    <tr>\n",
       "      <th>20</th>\n",
       "      <td>REAL</td>\n",
       "      <td>The slippery slope to Trump’s proposed ban on ...</td>\n",
       "      <td>53</td>\n",
       "    </tr>\n",
       "    <tr>\n",
       "      <th>21</th>\n",
       "      <td>FAKE</td>\n",
       "      <td>Episode #160 – SUNDAY WIRE: ‘Hail to the Deplo...</td>\n",
       "      <td>80</td>\n",
       "    </tr>\n",
       "    <tr>\n",
       "      <th>22</th>\n",
       "      <td>REAL</td>\n",
       "      <td>Hillary Clinton Makes A Bipartisan Appeal on S...</td>\n",
       "      <td>58</td>\n",
       "    </tr>\n",
       "    <tr>\n",
       "      <th>23</th>\n",
       "      <td>REAL</td>\n",
       "      <td>New Senate majority leader’s main goal for GOP...</td>\n",
       "      <td>62</td>\n",
       "    </tr>\n",
       "    <tr>\n",
       "      <th>24</th>\n",
       "      <td>FAKE</td>\n",
       "      <td>‘Inferno’ and the Overpopulation Myth</td>\n",
       "      <td>37</td>\n",
       "    </tr>\n",
       "    <tr>\n",
       "      <th>25</th>\n",
       "      <td>REAL</td>\n",
       "      <td>Anti-Trump forces seek last-ditch delegate revolt</td>\n",
       "      <td>49</td>\n",
       "    </tr>\n",
       "    <tr>\n",
       "      <th>26</th>\n",
       "      <td>REAL</td>\n",
       "      <td>Sanders Trounces Clinton in W. Va. -- But Will...</td>\n",
       "      <td>68</td>\n",
       "    </tr>\n",
       "    <tr>\n",
       "      <th>27</th>\n",
       "      <td>REAL</td>\n",
       "      <td>Donald Trump Is Changing His Campaign Slogan t...</td>\n",
       "      <td>69</td>\n",
       "    </tr>\n",
       "    <tr>\n",
       "      <th>28</th>\n",
       "      <td>REAL</td>\n",
       "      <td>Pure chaos: Donald Trump’s campaign management...</td>\n",
       "      <td>119</td>\n",
       "    </tr>\n",
       "    <tr>\n",
       "      <th>29</th>\n",
       "      <td>FAKE</td>\n",
       "      <td>Syrian War Report – November 1, 2016: Syrian M...</td>\n",
       "      <td>98</td>\n",
       "    </tr>\n",
       "  </tbody>\n",
       "</table>\n",
       "</div>"
      ],
      "text/plain": [
       "   label                                               news  length\n",
       "0   FAKE                       You Can Smell Hillary’s Fear      28\n",
       "1   FAKE  Watch The Exact Moment Paul Ryan Committed Pol...      85\n",
       "2   REAL        Kerry to go to Paris in gesture of sympathy      43\n",
       "3   FAKE  Bernie supporters on Twitter erupt in anger ag...      84\n",
       "4   REAL   The Battle of New York: Why This Primary Matters      48\n",
       "5   FAKE                                        Tehran, USA      11\n",
       "6   FAKE  Girl Horrified At What She Watches Boyfriend D...      73\n",
       "7   REAL                  ‘Britain’s Schindler’ Dies at 106      33\n",
       "8   REAL  Fact check: Trump and Clinton at the 'commande...      63\n",
       "9   REAL  Iran reportedly makes new push for uranium con...      71\n",
       "10  REAL  With all three Clintons in Iowa, a glimpse at ...      97\n",
       "11  REAL  Donald Trump’s Shockingly Weak Delegate Game S...      67\n",
       "12  FAKE  Strong Solar Storm, Tech Risks Today | S0 News...      66\n",
       "13  FAKE       10 Ways America Is Preparing for World War 3      44\n",
       "14  REAL                   Trump takes on Cruz, but lightly      32\n",
       "15  REAL                         How women lead differently      26\n",
       "16  FAKE  Shocking! Michele Obama & Hillary Caught Glamo...      72\n",
       "17  FAKE  Hillary Clinton in HUGE Trouble After America ...     113\n",
       "18  REAL  What's in that Iran bill that Obama doesn't like?      49\n",
       "19  REAL  The 1 chart that explains everything you need ...      83\n",
       "20  REAL  The slippery slope to Trump’s proposed ban on ...      53\n",
       "21  FAKE  Episode #160 – SUNDAY WIRE: ‘Hail to the Deplo...      80\n",
       "22  REAL  Hillary Clinton Makes A Bipartisan Appeal on S...      58\n",
       "23  REAL  New Senate majority leader’s main goal for GOP...      62\n",
       "24  FAKE              ‘Inferno’ and the Overpopulation Myth      37\n",
       "25  REAL  Anti-Trump forces seek last-ditch delegate revolt      49\n",
       "26  REAL  Sanders Trounces Clinton in W. Va. -- But Will...      68\n",
       "27  REAL  Donald Trump Is Changing His Campaign Slogan t...      69\n",
       "28  REAL  Pure chaos: Donald Trump’s campaign management...     119\n",
       "29  FAKE  Syrian War Report – November 1, 2016: Syrian M...      98"
      ]
     },
     "execution_count": 338,
     "metadata": {},
     "output_type": "execute_result"
    }
   ],
   "source": [
    "adv['length']=adv['news'].map(lambda text: len(text))\n",
    "adv.head(30)"
   ]
  },
  {
   "cell_type": "markdown",
   "metadata": {},
   "source": [
    "## Plotting the graph according "
   ]
  },
  {
   "cell_type": "code",
   "execution_count": 339,
   "metadata": {
    "collapsed": false
   },
   "outputs": [
    {
     "data": {
      "text/plain": [
       "<matplotlib.axes._subplots.AxesSubplot at 0x27b688b1390>"
      ]
     },
     "execution_count": 339,
     "metadata": {},
     "output_type": "execute_result"
    },
    {
     "data": {
      "image/png": "[encoded data removed]",
      "text/plain": [
       "<matplotlib.figure.Figure at 0x27b664642e8>"
      ]
     },
     "metadata": {},
     "output_type": "display_data"
    }
   ],
   "source": [
    "adv.length.plot( bins=20, kind='hist')"
   ]
  },
  {
   "cell_type": "markdown",
   "metadata": {},
   "source": [
    "## Plotting the histogram according to the length of both the labels"
   ]
  },
  {
   "cell_type": "code",
   "execution_count": 340,
   "metadata": {
    "collapsed": false,
    "scrolled": true
   },
   "outputs": [
    {
     "data": {
      "text/plain": [
       "array([<matplotlib.axes._subplots.AxesSubplot object at 0x0000027B68944DA0>,\n",
       "       <matplotlib.axes._subplots.AxesSubplot object at 0x0000027B68A00860>], dtype=object)"
      ]
     },
     "execution_count": 340,
     "metadata": {},
     "output_type": "execute_result"
    },
    {
     "data": {
      "image/png": "[encoded data removed]",
      "text/plain": [
       "<matplotlib.figure.Figure at 0x27b676d56a0>"
      ]
     },
     "metadata": {},
     "output_type": "display_data"
    }
   ],
   "source": [
    "adv.hist(column='length', by='label', bins=50)"
   ]
  },
  {
   "cell_type": "markdown",
   "metadata": {},
   "source": [
    "## Data Preprocessing"
   ]
  },
  {
   "cell_type": "code",
   "execution_count": 341,
   "metadata": {
    "collapsed": true
   },
   "outputs": [],
   "source": [
    "def tokenize(news):\n",
    "    news2 = 'news -' + str(news)  # convert bytes into proper unicode\n",
    "    return TextBlob(news).words"
   ]
  },
  {
   "cell_type": "code",
   "execution_count": 342,
   "metadata": {
    "collapsed": false
   },
   "outputs": [
    {
     "data": {
      "text/plain": [
       "0                   [You, Can, Smell, Hillary’s, Fear]\n",
       "1    [Watch, The, Exact, Moment, Paul, Ryan, Commit...\n",
       "2    [Kerry, to, go, to, Paris, in, gesture, of, sy...\n",
       "3    [Bernie, supporters, on, Twitter, erupt, in, a...\n",
       "4    [The, Battle, of, New, York, Why, This, Primar...\n",
       "Name: news, dtype: object"
      ]
     },
     "execution_count": 342,
     "metadata": {},
     "output_type": "execute_result"
    }
   ],
   "source": [
    "adv.news.head().apply(tokenize)"
   ]
  },
  {
   "cell_type": "code",
   "execution_count": 343,
   "metadata": {
    "collapsed": false
   },
   "outputs": [
    {
     "data": {
      "text/plain": [
       "0                   [You, Can, Smell, Hillary’s, Fear]\n",
       "1    [Watch, The, Exact, Moment, Paul, Ryan, Commit...\n",
       "2    [Kerry, to, go, to, Paris, in, gesture, of, sy...\n",
       "3    [Bernie, supporter, on, Twitter, erupt, in, an...\n",
       "4    [The, Battle, of, New, York, Why, This, Primar...\n",
       "Name: news, dtype: object"
      ]
     },
     "execution_count": 343,
     "metadata": {},
     "output_type": "execute_result"
    }
   ],
   "source": [
    "def lemmatize(news):\n",
    "    news2 = 'news -' + str(news).lower()\n",
    "    words = TextBlob(news).words\n",
    "    # for each word, take its \"base form\" = lemma \n",
    "    return [word.lemma for word in words]\n",
    "\n",
    "adv.news.head().apply(lemmatize)"
   ]
  },
  {
   "cell_type": "code",
   "execution_count": 344,
   "metadata": {
    "collapsed": false
   },
   "outputs": [
    {
     "data": {
      "text/plain": [
       "[('Strong', 'JJ'),\n",
       " ('Solar', 'NNP'),\n",
       " ('Storm', 'NNP'),\n",
       " ('Tech', 'NNP'),\n",
       " ('Risks', 'NNP'),\n",
       " ('Today', 'NNP')]"
      ]
     },
     "execution_count": 344,
     "metadata": {},
     "output_type": "execute_result"
    }
   ],
   "source": [
    "TextBlob(\"Strong Solar Storm, Tech Risks Today\").tags "
   ]
  },
  {
   "cell_type": "code",
   "execution_count": 345,
   "metadata": {
    "collapsed": false
   },
   "outputs": [
    {
     "data": {
      "text/plain": [
       "[('What', 'WP'),\n",
       " (\"'s\", 'VBZ'),\n",
       " ('in', 'IN'),\n",
       " ('that', 'DT'),\n",
       " ('Iran', 'NNP'),\n",
       " ('bill', 'NN'),\n",
       " ('that', 'WDT'),\n",
       " ('Obama', 'NNP'),\n",
       " ('does', 'VBZ'),\n",
       " (\"n't\", 'RB'),\n",
       " ('like', 'VB')]"
      ]
     },
     "execution_count": 345,
     "metadata": {},
     "output_type": "execute_result"
    }
   ],
   "source": [
    "TextBlob(\"What's in that Iran bill that Obama doesn't like?\").tags"
   ]
  },
  {
   "cell_type": "markdown",
   "metadata": {},
   "source": [
    "## Data to Vectors- fitting and transforming using Count Vectorizer "
   ]
  },
  {
   "cell_type": "code",
   "execution_count": 346,
   "metadata": {
    "collapsed": false
   },
   "outputs": [
    {
     "data": {
      "text/plain": [
       "7934"
      ]
     },
     "execution_count": 346,
     "metadata": {},
     "output_type": "execute_result"
    }
   ],
   "source": [
    "bow_transformer=CountVectorizer(analyzer=lemmatize).fit(adv['news'])\n",
    "len(bow_transformer.vocabulary_)"
   ]
  },
  {
   "cell_type": "code",
   "execution_count": 347,
   "metadata": {
    "collapsed": false
   },
   "outputs": [
    {
     "data": {
      "text/plain": [
       "'‘Super PAC’ Gets Early Start on Pushing for a 2016 Clinton Campaign'"
      ]
     },
     "execution_count": 347,
     "metadata": {},
     "output_type": "execute_result"
    }
   ],
   "source": [
    "news4=adv['news'][160]\n",
    "news4"
   ]
  },
  {
   "cell_type": "code",
   "execution_count": 348,
   "metadata": {
    "collapsed": false
   },
   "outputs": [
    {
     "data": {
      "text/plain": [
       "<1x7934 sparse matrix of type '<class 'numpy.int64'>'\n",
       "\twith 12 stored elements in Compressed Sparse Row format>"
      ]
     },
     "execution_count": 348,
     "metadata": {},
     "output_type": "execute_result"
    }
   ],
   "source": [
    "bow4 = bow_transformer.transform([news4])\n",
    "bow4"
   ]
  },
  {
   "cell_type": "code",
   "execution_count": 349,
   "metadata": {
    "collapsed": false
   },
   "outputs": [
    {
     "data": {
      "text/plain": [
       "(1, 7934)"
      ]
     },
     "execution_count": 349,
     "metadata": {},
     "output_type": "execute_result"
    }
   ],
   "source": [
    "bow4.shape"
   ]
  },
  {
   "cell_type": "markdown",
   "metadata": {},
   "source": [
    "#### //getting feature names"
   ]
  },
  {
   "cell_type": "code",
   "execution_count": 350,
   "metadata": {
    "collapsed": false
   },
   "outputs": [
    {
     "data": {
      "text/plain": [
       "'Based'"
      ]
     },
     "execution_count": 350,
     "metadata": {},
     "output_type": "execute_result"
    }
   ],
   "source": [
    "bow_transformer.get_feature_names()[665]"
   ]
  },
  {
   "cell_type": "code",
   "execution_count": 351,
   "metadata": {
    "collapsed": false
   },
   "outputs": [
    {
     "data": {
      "text/plain": [
       "'sparsity: 0.13%'"
      ]
     },
     "execution_count": 351,
     "metadata": {},
     "output_type": "execute_result"
    }
   ],
   "source": [
    "news_bow = bow_transformer.transform(adv['news'])\n",
    "\n",
    "'sparsity: %.2f%%' % (100.0 * news_bow.nnz / (news_bow.shape[0] * news_bow.shape[1]))"
   ]
  },
  {
   "cell_type": "code",
   "execution_count": 352,
   "metadata": {
    "collapsed": false
   },
   "outputs": [
    {
     "data": {
      "text/plain": [
       "('sparse matrix shape:', (2353, 7934))"
      ]
     },
     "execution_count": 352,
     "metadata": {},
     "output_type": "execute_result"
    }
   ],
   "source": [
    "'sparse matrix shape:', news_bow.shape\n"
   ]
  },
  {
   "cell_type": "code",
   "execution_count": 353,
   "metadata": {
    "collapsed": false
   },
   "outputs": [
    {
     "data": {
      "text/plain": [
       "('number of non-zeros:', 24537)"
      ]
     },
     "execution_count": 353,
     "metadata": {},
     "output_type": "execute_result"
    }
   ],
   "source": [
    "'number of non-zeros:', news_bow.nnz"
   ]
  },
  {
   "cell_type": "markdown",
   "metadata": {},
   "source": [
    "## Data to Vectors- fitting and transforming TFIDF- term frequency- inverse doc frequency and getting sparse matrix"
   ]
  },
  {
   "cell_type": "code",
   "execution_count": 354,
   "metadata": {
    "collapsed": false
   },
   "outputs": [
    {
     "data": {
      "text/plain": [
       "<1x7934 sparse matrix of type '<class 'numpy.float64'>'\n",
       "\twith 12 stored elements in Compressed Sparse Row format>"
      ]
     },
     "execution_count": 354,
     "metadata": {},
     "output_type": "execute_result"
    }
   ],
   "source": [
    "tfidf_transformer = TfidfTransformer().fit(news_bow)\n",
    "tfidf4 = tfidf_transformer.transform(bow4)\n",
    "tfidf4"
   ]
  },
  {
   "cell_type": "code",
   "execution_count": 355,
   "metadata": {
    "collapsed": false
   },
   "outputs": [
    {
     "data": {
      "text/plain": [
       "6.6844297461403865"
      ]
     },
     "execution_count": 355,
     "metadata": {},
     "output_type": "execute_result"
    }
   ],
   "source": [
    "tfidf_transformer.idf_[bow_transformer.vocabulary_['u']]"
   ]
  },
  {
   "cell_type": "code",
   "execution_count": 356,
   "metadata": {
    "collapsed": false
   },
   "outputs": [
    {
     "data": {
      "text/plain": [
       "(2353, 7934)"
      ]
     },
     "execution_count": 356,
     "metadata": {},
     "output_type": "execute_result"
    }
   ],
   "source": [
    "news_tfidf = tfidf_transformer.transform(news_bow)\n",
    "news_tfidf.shape"
   ]
  },
  {
   "cell_type": "markdown",
   "metadata": {},
   "source": [
    "## Applying Multinomial on the whole training set and predicting accuracy"
   ]
  },
  {
   "cell_type": "code",
   "execution_count": 357,
   "metadata": {
    "collapsed": false
   },
   "outputs": [
    {
     "name": "stdout",
     "output_type": "stream",
     "text": [
      "Wall time: 10.1 ms\n"
     ]
    }
   ],
   "source": [
    "%time spam_detector = MultinomialNB().fit(news_tfidf, adv['label'])"
   ]
  },
  {
   "cell_type": "code",
   "execution_count": 358,
   "metadata": {
    "collapsed": false
   },
   "outputs": [
    {
     "data": {
      "text/plain": [
       "MultinomialNB(alpha=1.0, class_prior=None, fit_prior=True)"
      ]
     },
     "execution_count": 358,
     "metadata": {},
     "output_type": "execute_result"
    }
   ],
   "source": [
    "spam_detector=MultinomialNB().fit(news_tfidf, adv['label'])\n",
    "spam_detector"
   ]
  },
  {
   "cell_type": "code",
   "execution_count": 359,
   "metadata": {
    "collapsed": false
   },
   "outputs": [
    {
     "data": {
      "text/plain": [
       "('predicted:', 'REAL')"
      ]
     },
     "execution_count": 359,
     "metadata": {},
     "output_type": "execute_result"
    }
   ],
   "source": [
    "'predicted:', spam_detector.predict(tfidf4)[0]"
   ]
  },
  {
   "cell_type": "code",
   "execution_count": 360,
   "metadata": {
    "collapsed": false
   },
   "outputs": [
    {
     "data": {
      "text/plain": [
       "('expected:', 'REAL')"
      ]
     },
     "execution_count": 360,
     "metadata": {},
     "output_type": "execute_result"
    }
   ],
   "source": [
    "'expected:', adv.label[55]"
   ]
  },
  {
   "cell_type": "code",
   "execution_count": 361,
   "metadata": {
    "collapsed": false
   },
   "outputs": [
    {
     "data": {
      "text/plain": [
       "array(['FAKE', 'FAKE', 'REAL', ..., 'REAL', 'FAKE', 'REAL'], \n",
       "      dtype='<U4')"
      ]
     },
     "execution_count": 361,
     "metadata": {},
     "output_type": "execute_result"
    }
   ],
   "source": [
    "all_predictions = spam_detector.predict(news_tfidf)\n",
    "all_predictions"
   ]
  },
  {
   "cell_type": "code",
   "execution_count": 362,
   "metadata": {
    "collapsed": false
   },
   "outputs": [
    {
     "data": {
      "text/plain": [
       "('accuracy', 0.94050148746281348)"
      ]
     },
     "execution_count": 362,
     "metadata": {},
     "output_type": "execute_result"
    }
   ],
   "source": [
    "'accuracy', accuracy_score(adv['label'], all_predictions)\n"
   ]
  },
  {
   "cell_type": "code",
   "execution_count": 363,
   "metadata": {
    "collapsed": false
   },
   "outputs": [
    {
     "data": {
      "text/plain": [
       "('confusion matrix\\n', array([[1126,   80],\n",
       "        [  60, 1087]]))"
      ]
     },
     "execution_count": 363,
     "metadata": {},
     "output_type": "execute_result"
    }
   ],
   "source": [
    "'confusion matrix\\n', confusion_matrix(adv['label'], all_predictions)\n"
   ]
  },
  {
   "cell_type": "code",
   "execution_count": 364,
   "metadata": {
    "collapsed": false
   },
   "outputs": [
    {
     "data": {
      "text/plain": [
       "'(row=expected, col=predicted)'"
      ]
     },
     "execution_count": 364,
     "metadata": {},
     "output_type": "execute_result"
    }
   ],
   "source": [
    "'(row=expected, col=predicted)'"
   ]
  },
  {
   "cell_type": "code",
   "execution_count": 365,
   "metadata": {
    "collapsed": false
   },
   "outputs": [
    {
     "data": {
      "text/plain": [
       "<matplotlib.text.Text at 0x27b6643d320>"
      ]
     },
     "execution_count": 365,
     "metadata": {},
     "output_type": "execute_result"
    },
    {
     "data": {
      "image/png": "[encoded data removed]",
      "text/plain": [
       "<matplotlib.figure.Figure at 0x27b657ff2e8>"
      ]
     },
     "metadata": {},
     "output_type": "display_data"
    }
   ],
   "source": [
    "\n",
    "plt.matshow(confusion_matrix(adv['label'], all_predictions), cmap=plt.cm.binary, interpolation='nearest')\n",
    "plt.title('confusion matrix')\n",
    "plt.colorbar()\n",
    "plt.ylabel('expected label')\n",
    "plt.xlabel('predicted label')"
   ]
  },
  {
   "cell_type": "code",
   "execution_count": 366,
   "metadata": {
    "collapsed": false
   },
   "outputs": [
    {
     "name": "stdout",
     "output_type": "stream",
     "text": [
      "             precision    recall  f1-score   support\n",
      "\n",
      "       FAKE       0.95      0.93      0.94      1206\n",
      "       REAL       0.93      0.95      0.94      1147\n",
      "\n",
      "avg / total       0.94      0.94      0.94      2353\n",
      "\n"
     ]
    }
   ],
   "source": [
    "print (classification_report(adv['label'], all_predictions))"
   ]
  },
  {
   "cell_type": "markdown",
   "metadata": {},
   "source": [
    "## For Logistic Regression"
   ]
  },
  {
   "cell_type": "code",
   "execution_count": 367,
   "metadata": {
    "collapsed": false
   },
   "outputs": [
    {
     "name": "stdout",
     "output_type": "stream",
     "text": [
      "Wall time: 11 ms\n"
     ]
    }
   ],
   "source": [
    "%time spam_detector = LogisticRegression().fit(news_tfidf, adv['label'])"
   ]
  },
  {
   "cell_type": "code",
   "execution_count": 368,
   "metadata": {
    "collapsed": false
   },
   "outputs": [
    {
     "data": {
      "text/plain": [
       "LogisticRegression(C=1.0, class_weight=None, dual=False, fit_intercept=True,\n",
       "          intercept_scaling=1, max_iter=100, multi_class='ovr', n_jobs=1,\n",
       "          penalty='l2', random_state=None, solver='liblinear', tol=0.0001,\n",
       "          verbose=0, warm_start=False)"
      ]
     },
     "execution_count": 368,
     "metadata": {},
     "output_type": "execute_result"
    }
   ],
   "source": [
    "spam_detector=LogisticRegression().fit(news_tfidf, adv['label'])\n",
    "spam_detector"
   ]
  },
  {
   "cell_type": "code",
   "execution_count": 369,
   "metadata": {
    "collapsed": false
   },
   "outputs": [
    {
     "name": "stdout",
     "output_type": "stream",
     "text": [
      "predicted: REAL\n",
      "expected: FAKE\n"
     ]
    }
   ],
   "source": [
    "print('predicted:', spam_detector.predict(tfidf4)[0])\n",
    "print('expected:', adv.label[6])"
   ]
  },
  {
   "cell_type": "code",
   "execution_count": 370,
   "metadata": {
    "collapsed": false
   },
   "outputs": [
    {
     "data": {
      "text/plain": [
       "array(['FAKE', 'FAKE', 'REAL', ..., 'FAKE', 'FAKE', 'REAL'], dtype=object)"
      ]
     },
     "execution_count": 370,
     "metadata": {},
     "output_type": "execute_result"
    }
   ],
   "source": [
    "all_predictions = spam_detector.predict(news_tfidf)\n",
    "all_predictions"
   ]
  },
  {
   "cell_type": "code",
   "execution_count": 371,
   "metadata": {
    "collapsed": false
   },
   "outputs": [
    {
     "name": "stdout",
     "output_type": "stream",
     "text": [
      "accuracy 0.946451338717\n",
      "confusion matrix\n",
      " [[1168   38]\n",
      " [  88 1059]]\n",
      "(row=expected, col=predicted)\n"
     ]
    }
   ],
   "source": [
    "print('accuracy', accuracy_score(adv['label'], all_predictions))\n",
    "print('confusion matrix\\n', confusion_matrix(adv['label'], all_predictions))\n",
    "print('(row=expected, col=predicted)')\n"
   ]
  },
  {
   "cell_type": "code",
   "execution_count": 372,
   "metadata": {
    "collapsed": false
   },
   "outputs": [
    {
     "data": {
      "text/plain": [
       "<matplotlib.text.Text at 0x27b68d88e48>"
      ]
     },
     "execution_count": 372,
     "metadata": {},
     "output_type": "execute_result"
    },
    {
     "data": {
      "image/png": "[encoded data removed]",
      "text/plain": [
       "<matplotlib.figure.Figure at 0x27b68d86160>"
      ]
     },
     "metadata": {},
     "output_type": "display_data"
    }
   ],
   "source": [
    "\n",
    "plt.matshow(confusion_matrix(adv['label'], all_predictions), cmap=plt.cm.binary, interpolation='nearest')\n",
    "plt.title('confusion matrix')\n",
    "plt.colorbar()\n",
    "plt.ylabel('expected label')\n",
    "plt.xlabel('predicted label')"
   ]
  },
  {
   "cell_type": "code",
   "execution_count": 373,
   "metadata": {
    "collapsed": false
   },
   "outputs": [
    {
     "name": "stdout",
     "output_type": "stream",
     "text": [
      "             precision    recall  f1-score   support\n",
      "\n",
      "       FAKE       0.93      0.97      0.95      1206\n",
      "       REAL       0.97      0.92      0.94      1147\n",
      "\n",
      "avg / total       0.95      0.95      0.95      2353\n",
      "\n"
     ]
    }
   ],
   "source": [
    "print (classification_report(adv['label'], all_predictions))"
   ]
  },
  {
   "cell_type": "markdown",
   "metadata": {},
   "source": [
    "## Calculating how much data we are training and testing"
   ]
  },
  {
   "cell_type": "code",
   "execution_count": 374,
   "metadata": {
    "collapsed": false
   },
   "outputs": [
    {
     "data": {
      "text/plain": [
       "(1882, 471, 2353)"
      ]
     },
     "execution_count": 374,
     "metadata": {},
     "output_type": "execute_result"
    }
   ],
   "source": [
    "msg_train, msg_test, label_train, label_test = train_test_split(adv['news'], adv['label'], test_size=0.2)\n",
    "\n",
    "len(msg_train), len(msg_test), len(msg_train) + len(msg_test)"
   ]
  },
  {
   "cell_type": "markdown",
   "metadata": {},
   "source": [
    "#### Resulted in 5% of testing data and rest is the training data"
   ]
  },
  {
   "cell_type": "markdown",
   "metadata": {},
   "source": [
    "## PIPELINE- to combine techniques\n"
   ]
  },
  {
   "cell_type": "code",
   "execution_count": 375,
   "metadata": {
    "collapsed": false
   },
   "outputs": [],
   "source": [
    "pipeline = Pipeline([\n",
    "    ('bow', CountVectorizer(analyzer='char')),  # strings to token integer counts\n",
    "    ('tfidf', TfidfTransformer()),  # integer counts to weighted TF-IDF scores\n",
    "    ('classifier', LogisticRegression()),# train on TF-IDF vectors w/ Naive Bayes classifie\n",
    "])"
   ]
  },
  {
   "cell_type": "code",
   "execution_count": 376,
   "metadata": {
    "collapsed": true
   },
   "outputs": [],
   "source": [
    "import _pickle as cPickle"
   ]
  },
  {
   "cell_type": "markdown",
   "metadata": {},
   "source": [
    "## Cross Validation Scores for Logistic Regression"
   ]
  },
  {
   "cell_type": "code",
   "execution_count": 377,
   "metadata": {
    "collapsed": true
   },
   "outputs": [],
   "source": [
    "scores = cross_val_score(pipeline,  # convert news into models\n",
    "                         msg_train,  # training data\n",
    "                         label_train,  # training labels\n",
    "                         cv=10,  # split data randomly into 10 parts: 9 for training, 1 for scoring\n",
    "                         scoring='accuracy',  # which scoring metric?\n",
    "                         n_jobs=-1,  # -1 = use all cores = faster\n",
    "                         )"
   ]
  },
  {
   "cell_type": "code",
   "execution_count": 378,
   "metadata": {
    "collapsed": false
   },
   "outputs": [
    {
     "data": {
      "text/plain": [
       "array([ 0.61904762,  0.7037037 ,  0.65957447,  0.66489362,  0.59574468,\n",
       "        0.62234043,  0.65957447,  0.69680851,  0.65957447,  0.64893617])"
      ]
     },
     "execution_count": 378,
     "metadata": {},
     "output_type": "execute_result"
    }
   ],
   "source": [
    "scores"
   ]
  },
  {
   "cell_type": "code",
   "execution_count": 379,
   "metadata": {
    "collapsed": false
   },
   "outputs": [
    {
     "data": {
      "text/plain": [
       "(0.65301981312619595, 0.031856924251973839)"
      ]
     },
     "execution_count": 379,
     "metadata": {},
     "output_type": "execute_result"
    }
   ],
   "source": [
    "scores.mean(), scores.std()"
   ]
  },
  {
   "cell_type": "markdown",
   "metadata": {},
   "source": [
    "## Cross Validation scores for Naive Bayes"
   ]
  },
  {
   "cell_type": "code",
   "execution_count": 380,
   "metadata": {
    "collapsed": true
   },
   "outputs": [],
   "source": [
    "pipeline = Pipeline([\n",
    "    ('bow', CountVectorizer(analyzer='char')),  # strings to token integer counts\n",
    "    ('tfidf', TfidfTransformer()),  # integer counts to weighted TF-IDF scores\n",
    "    ('classifier', MultinomialNB()),# train on TF-IDF vectors w/ Naive Bayes classifie\n",
    "])"
   ]
  },
  {
   "cell_type": "code",
   "execution_count": 381,
   "metadata": {
    "collapsed": false
   },
   "outputs": [
    {
     "name": "stdout",
     "output_type": "stream",
     "text": [
      "[ 0.59259259  0.66666667  0.64893617  0.64893617  0.62765957  0.64361702\n",
      "  0.65957447  0.70212766  0.64893617  0.60638298]\n"
     ]
    }
   ],
   "source": [
    "scores = cross_val_score(pipeline,  # convert news into models\n",
    "                         msg_train,  # training data\n",
    "                         label_train,  # training labels\n",
    "                         cv=10,  # split data randomly into 10 parts: 9 for training, 1 for scoring\n",
    "                         scoring='accuracy',  # which scoring metric?\n",
    "                         n_jobs=-1,  # -1 = use all cores = faster\n",
    "                         )\n",
    "print(scores)\n"
   ]
  },
  {
   "cell_type": "code",
   "execution_count": 382,
   "metadata": {
    "collapsed": false
   },
   "outputs": [
    {
     "data": {
      "text/plain": [
       "(0.64454294720252159, 0.029206564432195065)"
      ]
     },
     "execution_count": 382,
     "metadata": {},
     "output_type": "execute_result"
    }
   ],
   "source": [
    "scores.mean(), scores.std()"
   ]
  },
  {
   "cell_type": "code",
   "execution_count": 383,
   "metadata": {
    "collapsed": true
   },
   "outputs": [],
   "source": [
    "def plot_learning_curve(estimator, title, X, y, ylim=None, cv=None,\n",
    "                        n_jobs=-1, train_sizes=np.linspace(.1, 1.0, 5)):\n",
    "    \n",
    "    plt.figure()\n",
    "    plt.title(title)\n",
    "    if ylim is not None:\n",
    "        plt.ylim(*ylim)\n",
    "    plt.xlabel(\"Data\")\n",
    "    plt.ylabel(\"Score\")\n",
    "    train_sizes, train_scores, test_scores = learning_curve(\n",
    "        estimator, X, y, cv=cv, n_jobs=n_jobs, train_sizes=train_sizes)\n",
    "    train_scores_mean = np.mean(train_scores, axis=1)\n",
    "    train_scores_std = np.std(train_scores, axis=1)\n",
    "    test_scores_mean = np.mean(test_scores, axis=1)\n",
    "    test_scores_std = np.std(test_scores, axis=1)\n",
    "    plt.grid()\n",
    "\n",
    "    plt.fill_between(train_sizes, train_scores_mean - train_scores_std,\n",
    "                     train_scores_mean + train_scores_std, alpha=0.1,\n",
    "                     color=\"r\")\n",
    "    plt.fill_between(train_sizes, test_scores_mean - test_scores_std,\n",
    "                     test_scores_mean + test_scores_std, alpha=0.1, color=\"g\")\n",
    "    plt.plot(train_sizes, train_scores_mean, 'o-', color=\"r\",\n",
    "             label=\"Training score\")\n",
    "    plt.plot(train_sizes, test_scores_mean, 'o-', color=\"g\",\n",
    "             label=\"Cross-validation score\")\n",
    "\n",
    "    plt.legend(loc=\"best\")\n",
    "    return plt"
   ]
  },
  {
   "cell_type": "code",
   "execution_count": 384,
   "metadata": {
    "collapsed": false
   },
   "outputs": [
    {
     "name": "stdout",
     "output_type": "stream",
     "text": [
      "Wall time: 4.66 s\n"
     ]
    },
    {
     "data": {
      "text/plain": [
       "<module 'matplotlib.pyplot' from 'C:\\\\Users\\\\navkiran\\\\anaconda3 4.3.1\\\\lib\\\\site-packages\\\\matplotlib\\\\pyplot.py'>"
      ]
     },
     "execution_count": 384,
     "metadata": {},
     "output_type": "execute_result"
    },
    {
     "data": {
      "image/png": "[encoded data removed]",
      "text/plain": [
       "<matplotlib.figure.Figure at 0x27b6884c6a0>"
      ]
     },
     "metadata": {},
     "output_type": "display_data"
    }
   ],
   "source": [
    "%time plot_learning_curve(pipeline, \"accuracy vs. training set size\", msg_train, label_train, cv=5)"
   ]
  },
  {
   "cell_type": "code",
   "execution_count": 385,
   "metadata": {
    "collapsed": true
   },
   "outputs": [],
   "source": [
    "from sklearn.grid_search import GridSearchCV"
   ]
  },
  {
   "cell_type": "markdown",
   "metadata": {},
   "source": [
    "## GridSearch for SVM"
   ]
  },
  {
   "cell_type": "code",
   "execution_count": 386,
   "metadata": {
    "collapsed": true
   },
   "outputs": [],
   "source": [
    "pipeline_svm = Pipeline([\n",
    "    ('bow', CountVectorizer(analyzer='char')),\n",
    "    ('tfidf', TfidfTransformer()),\n",
    "    ('classifier', SVC()),  # <== change here\n",
    "])\n",
    "\n",
    "# pipeline parameters to automatically explore and tune\n",
    "param_svm = [\n",
    "  {'classifier__C': [1], 'classifier__kernel': ['linear']},\n",
    "  {'classifier__C': [1], 'classifier__gamma': [0.001, 0.0001], 'classifier__kernel': ['rbf']},\n",
    "]\n",
    "\n",
    "grid_svm = GridSearchCV(\n",
    "    pipeline_svm,  # pipeline from above\n",
    "    param_grid=param_svm,  # parameters to tune via cross validation\n",
    "    refit=True,  # fit using all data, on the best detected classifier\n",
    "    n_jobs=-1,  # number of cores to use for parallelization; -1 for \"all cores\"\n",
    "    scoring='accuracy',  # what score are we optimizing?\n",
    "    cv=StratifiedKFold(label_train, n_folds=5),  # what type of cross validation to use\n",
    ")"
   ]
  },
  {
   "cell_type": "markdown",
   "metadata": {},
   "source": [
    "## SVM time ad Scores"
   ]
  },
  {
   "cell_type": "code",
   "execution_count": 387,
   "metadata": {
    "collapsed": false
   },
   "outputs": [
    {
     "name": "stdout",
     "output_type": "stream",
     "text": [
      "Wall time: 6.32 s\n"
     ]
    },
    {
     "data": {
      "text/plain": [
       "[mean: 0.65994, std: 0.02824, params: {'classifier__C': 1, 'classifier__kernel': 'linear'},\n",
       " mean: 0.51541, std: 0.00067, params: {'classifier__C': 1, 'classifier__gamma': 0.001, 'classifier__kernel': 'rbf'},\n",
       " mean: 0.51541, std: 0.00067, params: {'classifier__C': 1, 'classifier__gamma': 0.0001, 'classifier__kernel': 'rbf'}]"
      ]
     },
     "execution_count": 387,
     "metadata": {},
     "output_type": "execute_result"
    }
   ],
   "source": [
    "%time svm_detector = grid_svm.fit(msg_train, label_train)\n",
    "svm_detector.grid_scores_"
   ]
  },
  {
   "cell_type": "code",
   "execution_count": 388,
   "metadata": {
    "collapsed": false
   },
   "outputs": [
    {
     "name": "stdout",
     "output_type": "stream",
     "text": [
      "[[178  58]\n",
      " [112 123]]\n",
      "             precision    recall  f1-score   support\n",
      "\n",
      "       FAKE       0.61      0.75      0.68       236\n",
      "       REAL       0.68      0.52      0.59       235\n",
      "\n",
      "avg / total       0.65      0.64      0.63       471\n",
      "\n"
     ]
    }
   ],
   "source": [
    "print(confusion_matrix(label_test, svm_detector.predict(msg_test)))\n",
    "print(classification_report(label_test, svm_detector.predict(msg_test)))"
   ]
  },
  {
   "cell_type": "code",
   "execution_count": 389,
   "metadata": {
    "collapsed": false
   },
   "outputs": [
    {
     "data": {
      "text/plain": [
       "'REAL'"
      ]
     },
     "execution_count": 389,
     "metadata": {},
     "output_type": "execute_result"
    }
   ],
   "source": [
    "svm_detector.predict([\"Donald Trump just trolled Rosie O'Donnell. Not good\"])[0]"
   ]
  },
  {
   "cell_type": "code",
   "execution_count": 390,
   "metadata": {
    "collapsed": false
   },
   "outputs": [
    {
     "data": {
      "text/plain": [
       "'REAL'"
      ]
     },
     "execution_count": 390,
     "metadata": {},
     "output_type": "execute_result"
    }
   ],
   "source": [
    "svm_detector.predict([\"Kushner family won't attend China investor pitch after criticism.\"])[0]"
   ]
  },
  {
   "cell_type": "code",
   "execution_count": 391,
   "metadata": {
    "collapsed": false
   },
   "outputs": [
    {
     "data": {
      "text/plain": [
       "'REAL'"
      ]
     },
     "execution_count": 391,
     "metadata": {},
     "output_type": "execute_result"
    }
   ],
   "source": [
    "svm_detector.predict([\"US prosecuter told to push for more harsher punishments\"])[0]"
   ]
  },
  {
   "cell_type": "code",
   "execution_count": 392,
   "metadata": {
    "collapsed": false
   },
   "outputs": [],
   "source": [
    "clf=svm.SVC(kernel='linear', C=1.0,gamma=1)\n"
   ]
  },
  {
   "cell_type": "code",
   "execution_count": 393,
   "metadata": {
    "collapsed": false
   },
   "outputs": [
    {
     "data": {
      "text/plain": [
       "SVC(C=1.0, cache_size=200, class_weight=None, coef0=0.0,\n",
       "  decision_function_shape=None, degree=3, gamma=1, kernel='linear',\n",
       "  max_iter=-1, probability=False, random_state=None, shrinking=True,\n",
       "  tol=0.001, verbose=False)"
      ]
     },
     "execution_count": 393,
     "metadata": {},
     "output_type": "execute_result"
    }
   ],
   "source": [
    "clf.fit(X_test_dtm,y_test)"
   ]
  },
  {
   "cell_type": "code",
   "execution_count": 394,
   "metadata": {
    "collapsed": false,
    "scrolled": true
   },
   "outputs": [
    {
     "data": {
      "text/plain": [
       "0.99830220713073003"
      ]
     },
     "execution_count": 394,
     "metadata": {},
     "output_type": "execute_result"
    }
   ],
   "source": [
    "clf.score(X_test_dtm,y_test)"
   ]
  },
  {
   "cell_type": "code",
   "execution_count": 395,
   "metadata": {
    "collapsed": false
   },
   "outputs": [],
   "source": [
    "predicted=clf.predict(X_test_dtm)"
   ]
  },
  {
   "cell_type": "code",
   "execution_count": 396,
   "metadata": {
    "collapsed": false
   },
   "outputs": [
    {
     "data": {
      "text/plain": [
       "array(['FAKE', 'REAL', 'REAL', 'FAKE', 'REAL', 'FAKE', 'FAKE', 'FAKE',\n",
       "       'FAKE', 'FAKE', 'REAL', 'FAKE', 'FAKE', 'FAKE', 'FAKE', 'REAL',\n",
       "       'FAKE', 'FAKE', 'REAL', 'REAL', 'REAL', 'FAKE', 'REAL', 'REAL',\n",
       "       'REAL', 'REAL', 'REAL', 'FAKE', 'REAL', 'REAL', 'FAKE', 'REAL',\n",
       "       'FAKE', 'REAL', 'REAL', 'REAL', 'FAKE', 'REAL', 'REAL', 'REAL',\n",
       "       'REAL', 'FAKE', 'REAL', 'REAL', 'REAL', 'REAL', 'FAKE', 'REAL',\n",
       "       'REAL', 'REAL', 'FAKE', 'FAKE', 'FAKE', 'FAKE', 'FAKE', 'FAKE',\n",
       "       'REAL', 'FAKE', 'REAL', 'FAKE', 'REAL', 'FAKE', 'REAL', 'FAKE',\n",
       "       'FAKE', 'FAKE', 'REAL', 'REAL', 'FAKE', 'FAKE', 'FAKE', 'FAKE',\n",
       "       'FAKE', 'FAKE', 'FAKE', 'FAKE', 'REAL', 'FAKE', 'REAL', 'REAL',\n",
       "       'FAKE', 'FAKE', 'FAKE', 'REAL', 'FAKE', 'FAKE', 'REAL', 'REAL',\n",
       "       'REAL', 'FAKE', 'FAKE', 'FAKE', 'REAL', 'FAKE', 'FAKE', 'REAL',\n",
       "       'REAL', 'REAL', 'FAKE', 'FAKE', 'REAL', 'FAKE', 'FAKE', 'FAKE',\n",
       "       'FAKE', 'REAL', 'REAL', 'REAL', 'FAKE', 'REAL', 'FAKE', 'REAL',\n",
       "       'REAL', 'REAL', 'FAKE', 'FAKE', 'REAL', 'FAKE', 'FAKE', 'REAL',\n",
       "       'REAL', 'REAL', 'FAKE', 'REAL', 'REAL', 'FAKE', 'REAL', 'FAKE',\n",
       "       'FAKE', 'FAKE', 'FAKE', 'FAKE', 'REAL', 'FAKE', 'FAKE', 'REAL',\n",
       "       'REAL', 'FAKE', 'REAL', 'FAKE', 'REAL', 'FAKE', 'REAL', 'REAL',\n",
       "       'REAL', 'FAKE', 'REAL', 'REAL', 'REAL', 'FAKE', 'FAKE', 'REAL',\n",
       "       'REAL', 'FAKE', 'REAL', 'REAL', 'REAL', 'FAKE', 'REAL', 'FAKE',\n",
       "       'FAKE', 'FAKE', 'FAKE', 'REAL', 'FAKE', 'FAKE', 'FAKE', 'FAKE',\n",
       "       'REAL', 'FAKE', 'REAL', 'FAKE', 'FAKE', 'REAL', 'FAKE', 'FAKE',\n",
       "       'REAL', 'REAL', 'FAKE', 'FAKE', 'FAKE', 'FAKE', 'REAL', 'FAKE',\n",
       "       'REAL', 'REAL', 'REAL', 'REAL', 'FAKE', 'FAKE', 'FAKE', 'REAL',\n",
       "       'REAL', 'FAKE', 'REAL', 'REAL', 'FAKE', 'REAL', 'FAKE', 'REAL',\n",
       "       'REAL', 'REAL', 'FAKE', 'FAKE', 'REAL', 'REAL', 'REAL', 'REAL',\n",
       "       'REAL', 'REAL', 'FAKE', 'REAL', 'REAL', 'REAL', 'REAL', 'REAL',\n",
       "       'FAKE', 'FAKE', 'REAL', 'FAKE', 'REAL', 'FAKE', 'FAKE', 'REAL',\n",
       "       'REAL', 'REAL', 'REAL', 'FAKE', 'REAL', 'REAL', 'REAL', 'FAKE',\n",
       "       'FAKE', 'REAL', 'REAL', 'REAL', 'REAL', 'REAL', 'FAKE', 'REAL',\n",
       "       'FAKE', 'FAKE', 'REAL', 'FAKE', 'REAL', 'FAKE', 'REAL', 'FAKE',\n",
       "       'REAL', 'FAKE', 'FAKE', 'FAKE', 'REAL', 'REAL', 'REAL', 'FAKE',\n",
       "       'FAKE', 'FAKE', 'REAL', 'FAKE', 'REAL', 'FAKE', 'FAKE', 'REAL',\n",
       "       'REAL', 'FAKE', 'REAL', 'FAKE', 'REAL', 'FAKE', 'REAL', 'REAL',\n",
       "       'FAKE', 'REAL', 'FAKE', 'FAKE', 'REAL', 'REAL', 'REAL', 'FAKE',\n",
       "       'FAKE', 'FAKE', 'REAL', 'REAL', 'FAKE', 'REAL', 'FAKE', 'FAKE',\n",
       "       'REAL', 'REAL', 'FAKE', 'REAL', 'FAKE', 'REAL', 'FAKE', 'FAKE',\n",
       "       'REAL', 'REAL', 'REAL', 'FAKE', 'REAL', 'FAKE', 'FAKE', 'REAL',\n",
       "       'REAL', 'REAL', 'REAL', 'FAKE', 'FAKE', 'REAL', 'REAL', 'REAL',\n",
       "       'FAKE', 'REAL', 'REAL', 'FAKE', 'FAKE', 'FAKE', 'REAL', 'FAKE',\n",
       "       'REAL', 'FAKE', 'REAL', 'REAL', 'FAKE', 'FAKE', 'FAKE', 'FAKE',\n",
       "       'REAL', 'REAL', 'REAL', 'REAL', 'REAL', 'REAL', 'REAL', 'FAKE',\n",
       "       'REAL', 'REAL', 'REAL', 'FAKE', 'FAKE', 'FAKE', 'FAKE', 'FAKE',\n",
       "       'REAL', 'FAKE', 'FAKE', 'FAKE', 'FAKE', 'FAKE', 'REAL', 'REAL',\n",
       "       'FAKE', 'REAL', 'FAKE', 'FAKE', 'FAKE', 'FAKE', 'REAL', 'FAKE',\n",
       "       'REAL', 'FAKE', 'REAL', 'REAL', 'FAKE', 'REAL', 'REAL', 'FAKE',\n",
       "       'FAKE', 'FAKE', 'REAL', 'FAKE', 'FAKE', 'REAL', 'FAKE', 'FAKE',\n",
       "       'REAL', 'FAKE', 'REAL', 'FAKE', 'FAKE', 'FAKE', 'REAL', 'REAL',\n",
       "       'FAKE', 'FAKE', 'REAL', 'FAKE', 'FAKE', 'REAL', 'FAKE', 'REAL',\n",
       "       'REAL', 'FAKE', 'REAL', 'REAL', 'REAL', 'REAL', 'REAL', 'FAKE',\n",
       "       'REAL', 'REAL', 'FAKE', 'REAL', 'REAL', 'FAKE', 'REAL', 'REAL',\n",
       "       'FAKE', 'REAL', 'REAL', 'REAL', 'FAKE', 'FAKE', 'FAKE', 'FAKE',\n",
       "       'FAKE', 'REAL', 'REAL', 'FAKE', 'FAKE', 'FAKE', 'FAKE', 'REAL',\n",
       "       'FAKE', 'FAKE', 'FAKE', 'FAKE', 'REAL', 'REAL', 'FAKE', 'FAKE',\n",
       "       'FAKE', 'REAL', 'REAL', 'REAL', 'REAL', 'REAL', 'REAL', 'REAL',\n",
       "       'FAKE', 'FAKE', 'REAL', 'FAKE', 'REAL', 'FAKE', 'REAL', 'FAKE',\n",
       "       'FAKE', 'FAKE', 'FAKE', 'REAL', 'REAL', 'FAKE', 'REAL', 'REAL',\n",
       "       'REAL', 'FAKE', 'FAKE', 'FAKE', 'FAKE', 'FAKE', 'FAKE', 'FAKE',\n",
       "       'FAKE', 'FAKE', 'FAKE', 'REAL', 'REAL', 'FAKE', 'FAKE', 'REAL',\n",
       "       'REAL', 'FAKE', 'FAKE', 'REAL', 'REAL', 'FAKE', 'FAKE', 'FAKE',\n",
       "       'REAL', 'FAKE', 'REAL', 'REAL', 'FAKE', 'REAL', 'REAL', 'FAKE',\n",
       "       'REAL', 'FAKE', 'FAKE', 'FAKE', 'REAL', 'FAKE', 'REAL', 'FAKE',\n",
       "       'FAKE', 'REAL', 'REAL', 'FAKE', 'REAL', 'REAL', 'REAL', 'REAL',\n",
       "       'REAL', 'REAL', 'REAL', 'FAKE', 'FAKE', 'REAL', 'REAL', 'REAL',\n",
       "       'REAL', 'FAKE', 'FAKE', 'REAL', 'REAL', 'FAKE', 'FAKE', 'REAL',\n",
       "       'REAL', 'FAKE', 'FAKE', 'FAKE', 'REAL', 'REAL', 'REAL', 'REAL',\n",
       "       'REAL', 'FAKE', 'FAKE', 'REAL', 'REAL', 'FAKE', 'FAKE', 'REAL',\n",
       "       'REAL', 'FAKE', 'FAKE', 'REAL', 'FAKE', 'FAKE', 'FAKE', 'REAL',\n",
       "       'FAKE', 'REAL', 'FAKE', 'REAL', 'REAL', 'FAKE', 'REAL', 'REAL',\n",
       "       'FAKE', 'FAKE', 'REAL', 'FAKE', 'FAKE', 'REAL', 'FAKE', 'REAL',\n",
       "       'FAKE', 'REAL', 'FAKE', 'FAKE', 'REAL', 'FAKE', 'FAKE', 'REAL',\n",
       "       'FAKE', 'FAKE', 'REAL', 'FAKE', 'REAL', 'REAL', 'REAL', 'FAKE',\n",
       "       'FAKE', 'FAKE', 'FAKE', 'REAL', 'REAL', 'REAL', 'REAL', 'REAL',\n",
       "       'REAL', 'FAKE', 'REAL', 'FAKE', 'REAL'], dtype=object)"
      ]
     },
     "execution_count": 396,
     "metadata": {},
     "output_type": "execute_result"
    }
   ],
   "source": [
    "predicted"
   ]
  },
  {
   "cell_type": "markdown",
   "metadata": {},
   "source": [
    "## Count Vectorizer and TRAINING AND TESTING DATA"
   ]
  },
  {
   "cell_type": "code",
   "execution_count": 397,
   "metadata": {
    "collapsed": true
   },
   "outputs": [],
   "source": [
    "vect=CountVectorizer()"
   ]
  },
  {
   "cell_type": "code",
   "execution_count": 398,
   "metadata": {
    "collapsed": true
   },
   "outputs": [],
   "source": [
    "new_df1=adv[['news']]\n",
    "new_df2=adv[['label']]"
   ]
  },
  {
   "cell_type": "code",
   "execution_count": 399,
   "metadata": {
    "collapsed": true
   },
   "outputs": [],
   "source": [
    "train_data=new_df1.iloc[1:500,:]\n",
    "test_data=new_df2.iloc[500:1,:]\n",
    "train_label=new_df1.iloc[1:500,:]\n",
    "test_label=new_df2.iloc[500:1,:]\n",
    "train_vectors=cv.fit_transform(train_data)\n",
    "test_vectors=cv.fit_transform(test_data)"
   ]
  },
  {
   "cell_type": "code",
   "execution_count": 400,
   "metadata": {
    "collapsed": false
   },
   "outputs": [
    {
     "data": {
      "text/plain": [
       "['label']"
      ]
     },
     "execution_count": 400,
     "metadata": {},
     "output_type": "execute_result"
    }
   ],
   "source": [
    "cv.get_feature_names()"
   ]
  },
  {
   "cell_type": "code",
   "execution_count": 401,
   "metadata": {
    "collapsed": false
   },
   "outputs": [
    {
     "data": {
      "text/plain": [
       "array([[1]], dtype=int64)"
      ]
     },
     "execution_count": 401,
     "metadata": {},
     "output_type": "execute_result"
    }
   ],
   "source": [
    "train_vectors.toarray()"
   ]
  },
  {
   "cell_type": "code",
   "execution_count": 402,
   "metadata": {
    "collapsed": false
   },
   "outputs": [
    {
     "data": {
      "text/plain": [
       "array([[1]], dtype=int64)"
      ]
     },
     "execution_count": 402,
     "metadata": {},
     "output_type": "execute_result"
    }
   ],
   "source": [
    "test_vectors.toarray()"
   ]
  },
  {
   "cell_type": "code",
   "execution_count": 403,
   "metadata": {
    "collapsed": true
   },
   "outputs": [],
   "source": [
    "X=adv.news\n",
    "y=adv.label"
   ]
  },
  {
   "cell_type": "code",
   "execution_count": 404,
   "metadata": {
    "collapsed": false
   },
   "outputs": [
    {
     "name": "stdout",
     "output_type": "stream",
     "text": [
      "(2353,)\n",
      "(2353,)\n"
     ]
    }
   ],
   "source": [
    "print(X.shape)\n",
    "print(y.shape)"
   ]
  },
  {
   "cell_type": "code",
   "execution_count": 405,
   "metadata": {
    "collapsed": true
   },
   "outputs": [],
   "source": [
    "from sklearn.cross_validation import train_test_split\n",
    "X_train, X_test, y_train,y_test=train_test_split(X,y,random_state=4)"
   ]
  },
  {
   "cell_type": "code",
   "execution_count": 406,
   "metadata": {
    "collapsed": false
   },
   "outputs": [
    {
     "name": "stdout",
     "output_type": "stream",
     "text": [
      "(1764,)\n",
      "(589,)\n",
      "(1764,)\n",
      "(589,)\n"
     ]
    }
   ],
   "source": [
    "print(X_train.shape)\n",
    "print(X_test.shape)\n",
    "print(y_train.shape)\n",
    "print(y_test.shape)"
   ]
  },
  {
   "cell_type": "code",
   "execution_count": 407,
   "metadata": {
    "collapsed": true
   },
   "outputs": [],
   "source": [
    "vect.fit(X_train)\n",
    "X_train_dtm = vect.transform(X_train)"
   ]
  },
  {
   "cell_type": "code",
   "execution_count": 408,
   "metadata": {
    "collapsed": true
   },
   "outputs": [],
   "source": [
    "X_train_dtm=vect.fit_transform(X_train)"
   ]
  },
  {
   "cell_type": "code",
   "execution_count": 409,
   "metadata": {
    "collapsed": false
   },
   "outputs": [
    {
     "data": {
      "text/plain": [
       "<1764x5028 sparse matrix of type '<class 'numpy.int64'>'\n",
       "\twith 17866 stored elements in Compressed Sparse Row format>"
      ]
     },
     "execution_count": 409,
     "metadata": {},
     "output_type": "execute_result"
    }
   ],
   "source": [
    "X_train_dtm"
   ]
  },
  {
   "cell_type": "code",
   "execution_count": 410,
   "metadata": {
    "collapsed": false
   },
   "outputs": [
    {
     "data": {
      "text/plain": [
       "<589x5028 sparse matrix of type '<class 'numpy.int64'>'\n",
       "\twith 5077 stored elements in Compressed Sparse Row format>"
      ]
     },
     "execution_count": 410,
     "metadata": {},
     "output_type": "execute_result"
    }
   ],
   "source": [
    "X_test_dtm=vect.transform(X_test)\n",
    "X_test_dtm"
   ]
  },
  {
   "cell_type": "markdown",
   "metadata": {},
   "source": [
    "## Applying MACHINE LEARNING ALGORITHM ON TRAINING AND TESTING DATA"
   ]
  },
  {
   "cell_type": "markdown",
   "metadata": {},
   "source": [
    "# 1. KNN"
   ]
  },
  {
   "cell_type": "code",
   "execution_count": 411,
   "metadata": {
    "collapsed": true
   },
   "outputs": [],
   "source": [
    "knn= KNeighborsClassifier(n_neighbors=8)"
   ]
  },
  {
   "cell_type": "code",
   "execution_count": 412,
   "metadata": {
    "collapsed": false
   },
   "outputs": [
    {
     "data": {
      "text/plain": [
       "KNeighborsClassifier(algorithm='auto', leaf_size=30, metric='minkowski',\n",
       "           metric_params=None, n_jobs=1, n_neighbors=8, p=2,\n",
       "           weights='uniform')"
      ]
     },
     "execution_count": 412,
     "metadata": {},
     "output_type": "execute_result"
    }
   ],
   "source": [
    "knn.fit(X_train_dtm, y_train)"
   ]
  },
  {
   "cell_type": "code",
   "execution_count": 413,
   "metadata": {
    "collapsed": true
   },
   "outputs": [],
   "source": [
    "y_pred_class=knn.predict(X_test_dtm)"
   ]
  },
  {
   "cell_type": "code",
   "execution_count": 414,
   "metadata": {
    "collapsed": false
   },
   "outputs": [
    {
     "data": {
      "text/plain": [
       "0.52801358234295415"
      ]
     },
     "execution_count": 414,
     "metadata": {},
     "output_type": "execute_result"
    }
   ],
   "source": [
    "knn.score(X_test_dtm, y_test)"
   ]
  },
  {
   "cell_type": "code",
   "execution_count": 415,
   "metadata": {
    "collapsed": false
   },
   "outputs": [
    {
     "name": "stdout",
     "output_type": "stream",
     "text": [
      "Wall time: 3.01 ms\n"
     ]
    },
    {
     "data": {
      "text/plain": [
       "KNeighborsClassifier(algorithm='auto', leaf_size=30, metric='minkowski',\n",
       "           metric_params=None, n_jobs=1, n_neighbors=8, p=2,\n",
       "           weights='uniform')"
      ]
     },
     "execution_count": 415,
     "metadata": {},
     "output_type": "execute_result"
    }
   ],
   "source": [
    "%time knn.fit(X_train_dtm, y_train)"
   ]
  },
  {
   "cell_type": "code",
   "execution_count": 416,
   "metadata": {
    "collapsed": true
   },
   "outputs": [],
   "source": [
    "from sklearn import metrics\n",
    "from sklearn.metrics import classification_report, f1_score, accuracy_score, confusion_matrix\n",
    "from sklearn.metrics import accuracy_score\n",
    "import sys\n",
    "import scipy"
   ]
  },
  {
   "cell_type": "code",
   "execution_count": 417,
   "metadata": {
    "collapsed": false,
    "scrolled": true
   },
   "outputs": [
    {
     "data": {
      "text/plain": [
       "0.52801358234295415"
      ]
     },
     "execution_count": 417,
     "metadata": {},
     "output_type": "execute_result"
    }
   ],
   "source": [
    "metrics.accuracy_score(y_test,y_pred_class)"
   ]
  },
  {
   "cell_type": "code",
   "execution_count": 418,
   "metadata": {
    "collapsed": false
   },
   "outputs": [
    {
     "data": {
      "text/plain": [
       "array([[275,  19],\n",
       "       [259,  36]])"
      ]
     },
     "execution_count": 418,
     "metadata": {},
     "output_type": "execute_result"
    }
   ],
   "source": [
    "metrics.confusion_matrix(y_test, y_pred_class)"
   ]
  },
  {
   "cell_type": "code",
   "execution_count": 419,
   "metadata": {
    "collapsed": false
   },
   "outputs": [
    {
     "name": "stdout",
     "output_type": "stream",
     "text": [
      "             precision    recall  f1-score   support\n",
      "\n",
      "       FAKE       0.51      0.94      0.66       294\n",
      "       REAL       0.65      0.12      0.21       295\n",
      "\n",
      "avg / total       0.58      0.53      0.43       589\n",
      "\n"
     ]
    }
   ],
   "source": [
    "print(metrics.classification_report(y_test, y_pred_class))"
   ]
  },
  {
   "cell_type": "code",
   "execution_count": 420,
   "metadata": {
    "collapsed": true
   },
   "outputs": [],
   "source": [
    "scores = cross_val_score(KNeighborsClassifier(n_neighbors=15),  # steps to convert raw emails into models\n",
    "                         X_train_dtm,  # training data\n",
    "                         y_train,  # training labels\n",
    "                         cv=10,  # split data randomly into 10 parts: 9 for training, 1 for scoring\n",
    "                         scoring='accuracy',  # which scoring metric?\n",
    "                         n_jobs=-1,  # -1 = use all cores = faster\n",
    "                         )"
   ]
  },
  {
   "cell_type": "code",
   "execution_count": 421,
   "metadata": {
    "collapsed": false
   },
   "outputs": [
    {
     "data": {
      "text/plain": [
       "array([ 0.53932584,  0.58426966,  0.55681818,  0.51704545,  0.5625    ,\n",
       "        0.59090909,  0.5625    ,  0.52272727,  0.60795455,  0.55681818])"
      ]
     },
     "execution_count": 421,
     "metadata": {},
     "output_type": "execute_result"
    }
   ],
   "source": [
    "scores"
   ]
  },
  {
   "cell_type": "code",
   "execution_count": 422,
   "metadata": {
    "collapsed": false
   },
   "outputs": [
    {
     "data": {
      "text/plain": [
       "0.56008682328907045"
      ]
     },
     "execution_count": 422,
     "metadata": {},
     "output_type": "execute_result"
    }
   ],
   "source": [
    "scores.mean()"
   ]
  },
  {
   "cell_type": "code",
   "execution_count": 423,
   "metadata": {
    "collapsed": false
   },
   "outputs": [
    {
     "data": {
      "text/plain": [
       "0.027456273187928589"
      ]
     },
     "execution_count": 423,
     "metadata": {},
     "output_type": "execute_result"
    }
   ],
   "source": [
    "scores.std()"
   ]
  },
  {
   "cell_type": "markdown",
   "metadata": {},
   "source": [
    "# 2.NAIVE BAYES"
   ]
  },
  {
   "cell_type": "code",
   "execution_count": 424,
   "metadata": {
    "collapsed": true
   },
   "outputs": [],
   "source": [
    "nb=MultinomialNB()"
   ]
  },
  {
   "cell_type": "code",
   "execution_count": 425,
   "metadata": {
    "collapsed": false
   },
   "outputs": [
    {
     "name": "stdout",
     "output_type": "stream",
     "text": [
      "Wall time: 8.02 ms\n"
     ]
    },
    {
     "data": {
      "text/plain": [
       "MultinomialNB(alpha=1.0, class_prior=None, fit_prior=True)"
      ]
     },
     "execution_count": 425,
     "metadata": {},
     "output_type": "execute_result"
    }
   ],
   "source": [
    "%time nb.fit(X_train_dtm, y_train)"
   ]
  },
  {
   "cell_type": "code",
   "execution_count": 426,
   "metadata": {
    "collapsed": false
   },
   "outputs": [
    {
     "data": {
      "text/plain": [
       "MultinomialNB(alpha=1.0, class_prior=None, fit_prior=True)"
      ]
     },
     "execution_count": 426,
     "metadata": {},
     "output_type": "execute_result"
    }
   ],
   "source": [
    "nb.fit(X_train_dtm, y_train)"
   ]
  },
  {
   "cell_type": "code",
   "execution_count": 427,
   "metadata": {
    "collapsed": true
   },
   "outputs": [],
   "source": [
    "y_pred_class=nb.predict(X_test_dtm)"
   ]
  },
  {
   "cell_type": "code",
   "execution_count": 428,
   "metadata": {
    "collapsed": false
   },
   "outputs": [
    {
     "data": {
      "text/plain": [
       "0.96371882086167804"
      ]
     },
     "execution_count": 428,
     "metadata": {},
     "output_type": "execute_result"
    }
   ],
   "source": [
    "nb.score(X_train_dtm, y_train)"
   ]
  },
  {
   "cell_type": "code",
   "execution_count": 429,
   "metadata": {
    "collapsed": false
   },
   "outputs": [
    {
     "data": {
      "text/plain": [
       "array([[228,  66],\n",
       "       [ 59, 236]])"
      ]
     },
     "execution_count": 429,
     "metadata": {},
     "output_type": "execute_result"
    }
   ],
   "source": [
    "metrics.confusion_matrix(y_test, y_pred_class)"
   ]
  },
  {
   "cell_type": "code",
   "execution_count": 430,
   "metadata": {
    "collapsed": false
   },
   "outputs": [
    {
     "data": {
      "text/plain": [
       "array([  5.30661276e-01,   5.83414107e-01,   8.22570060e-01,\n",
       "         9.70186064e-01,   3.59249383e-02,   5.18869517e-01,\n",
       "         5.53179598e-01,   5.93976457e-01,   2.67883925e-01,\n",
       "         3.47280432e-01,   9.92927398e-01,   3.23184615e-01,\n",
       "         4.40246680e-01,   4.20292400e-03,   5.62988124e-01,\n",
       "         9.01482203e-01,   6.83953241e-01,   6.93996020e-03,\n",
       "         6.34716930e-01,   9.50859284e-01,   9.86861821e-01,\n",
       "         6.30965930e-01,   4.28940674e-01,   9.47988801e-01,\n",
       "         9.82676718e-01,   7.84987733e-01,   9.67521370e-01,\n",
       "         3.66603658e-01,   9.62299442e-01,   9.91911962e-01,\n",
       "         1.82276391e-02,   9.99964020e-01,   5.78966967e-03,\n",
       "         9.04514832e-01,   9.85438713e-01,   3.76903048e-01,\n",
       "         3.53227881e-01,   7.82499439e-01,   8.13106698e-01,\n",
       "         8.30024627e-01,   9.27175768e-01,   3.24329261e-01,\n",
       "         8.01869555e-01,   9.35871270e-01,   9.18780291e-01,\n",
       "         8.93069902e-01,   8.27098176e-04,   3.56322876e-01,\n",
       "         9.95548621e-01,   9.75204867e-01,   4.28512949e-01,\n",
       "         1.84460944e-02,   6.70954445e-02,   1.95554229e-02,\n",
       "         3.15020499e-01,   3.94149369e-03,   8.57233485e-01,\n",
       "         6.30016070e-05,   9.57850103e-01,   1.77738480e-01,\n",
       "         9.99544951e-01,   3.84831542e-04,   9.63057145e-01,\n",
       "         5.93168313e-01,   2.31961327e-03,   9.08417105e-01,\n",
       "         8.40351205e-01,   9.27758049e-01,   1.11200271e-01,\n",
       "         7.26367465e-01,   2.20798351e-01,   4.19339432e-01,\n",
       "         1.08230699e-01,   6.10705041e-01,   1.14383352e-01,\n",
       "         7.27850282e-01,   4.30319439e-01,   2.46372770e-01,\n",
       "         5.53939455e-02,   9.72240782e-01,   1.13263986e-01,\n",
       "         9.38845926e-04,   1.27916231e-01,   6.05837046e-01,\n",
       "         4.32451714e-01,   6.29463793e-03,   4.48946978e-01,\n",
       "         9.85114881e-01,   9.72925407e-01,   5.00211093e-01,\n",
       "         4.81484953e-01,   1.79965709e-02,   5.39728326e-01,\n",
       "         5.87368884e-02,   5.64459176e-01,   1.43395013e-01,\n",
       "         9.99871826e-01,   3.92677179e-01,   3.96513836e-01,\n",
       "         1.71900828e-01,   8.61469062e-01,   9.96349347e-01,\n",
       "         4.74440694e-04,   1.71451895e-01,   2.99176445e-02,\n",
       "         3.92689716e-03,   3.68315365e-02,   3.34372885e-04,\n",
       "         5.41187188e-01,   9.83666502e-01,   1.39892505e-01,\n",
       "         9.99493611e-01,   7.67273292e-01,   4.02810478e-01,\n",
       "         4.45630806e-02,   1.94350424e-01,   8.93777513e-01,\n",
       "         1.56720800e-02,   2.61829736e-01,   8.03387090e-01,\n",
       "         9.92933997e-01,   9.68536126e-01,   7.52465007e-01,\n",
       "         4.43899200e-01,   9.91237780e-01,   1.50723514e-01,\n",
       "         9.87842186e-01,   9.01411009e-03,   3.23909006e-03,\n",
       "         6.28130589e-02,   6.05788630e-01,   7.35402247e-01,\n",
       "         8.43005909e-01,   1.54907786e-01,   4.23922003e-02,\n",
       "         9.81368292e-01,   9.98615261e-01,   1.06970328e-01,\n",
       "         8.65352999e-01,   8.51008051e-01,   9.98742101e-01,\n",
       "         1.30996267e-03,   9.98462840e-01,   9.84889038e-01,\n",
       "         9.98016261e-01,   4.38536555e-01,   9.98420817e-01,\n",
       "         9.36618053e-01,   9.75617313e-01,   2.62921361e-02,\n",
       "         2.70008353e-03,   9.84302042e-01,   8.24860649e-01,\n",
       "         1.85759738e-01,   6.99764809e-01,   5.96589744e-01,\n",
       "         7.61467968e-01,   8.17640636e-01,   9.98529792e-01,\n",
       "         2.87720922e-01,   4.84043890e-03,   3.83370265e-01,\n",
       "         4.49990358e-06,   9.79638921e-01,   8.63612655e-02,\n",
       "         3.62116648e-02,   2.30392482e-02,   1.29380274e-01,\n",
       "         4.15189982e-01,   1.02757039e-01,   9.71507294e-01,\n",
       "         1.49954854e-01,   6.67983764e-03,   6.60007256e-01,\n",
       "         2.74162215e-01,   3.02210291e-02,   8.10182457e-01,\n",
       "         9.91404926e-01,   2.07757586e-01,   7.46724804e-02,\n",
       "         4.50218548e-01,   1.69800905e-01,   9.92545506e-01,\n",
       "         1.53564049e-01,   4.39142428e-02,   1.54716307e-01,\n",
       "         8.50495914e-01,   1.53954253e-01,   1.19650670e-02,\n",
       "         5.13990933e-01,   3.92638739e-04,   9.98238801e-01,\n",
       "         6.09870460e-01,   9.46474022e-01,   9.07964751e-01,\n",
       "         9.35455399e-01,   5.02232171e-02,   9.27742809e-01,\n",
       "         2.53044226e-02,   6.40638804e-01,   8.04847574e-01,\n",
       "         9.77002004e-01,   7.97832935e-04,   1.74772278e-01,\n",
       "         9.92217049e-01,   7.99862223e-01,   5.47554655e-01,\n",
       "         4.04058838e-01,   9.49142641e-01,   2.46767624e-01,\n",
       "         8.03075879e-02,   8.68040711e-01,   1.42458184e-01,\n",
       "         2.63750981e-01,   9.99183219e-01,   9.99458355e-01,\n",
       "         3.49420357e-02,   5.71148645e-01,   4.93995536e-01,\n",
       "         1.71030067e-01,   9.44278595e-01,   5.83145310e-01,\n",
       "         4.32827095e-01,   1.24137062e-01,   9.83681190e-01,\n",
       "         9.98403612e-01,   9.14651367e-01,   8.73543249e-01,\n",
       "         7.34142413e-01,   9.88826213e-01,   7.12731060e-01,\n",
       "         2.51218724e-01,   1.19066431e-02,   6.82181986e-02,\n",
       "         9.98774433e-01,   6.58199935e-01,   5.67554095e-01,\n",
       "         9.99503569e-01,   6.57328647e-01,   8.83773770e-01,\n",
       "         2.33963552e-01,   1.61178419e-01,   9.99944961e-01,\n",
       "         6.56250893e-01,   9.08466776e-01,   2.40860101e-01,\n",
       "         2.38617935e-01,   7.65743334e-01,   3.43872417e-01,\n",
       "         6.59980132e-01,   4.26975558e-01,   2.65150193e-01,\n",
       "         9.96953886e-01,   6.52096930e-01,   2.29610831e-01,\n",
       "         2.48044012e-02,   6.35892269e-03,   1.37675468e-03,\n",
       "         9.86195354e-01,   3.00207129e-02,   9.95245932e-01,\n",
       "         6.39987557e-01,   6.14274308e-02,   2.09948272e-01,\n",
       "         7.45952553e-01,   8.02093782e-01,   2.34344528e-01,\n",
       "         2.72480272e-02,   9.89809835e-01,   3.51055189e-03,\n",
       "         8.37832175e-01,   9.99921226e-01,   4.30480762e-01,\n",
       "         9.68862092e-01,   1.04264392e-02,   2.74142802e-02,\n",
       "         9.95861613e-01,   9.69088461e-01,   9.95075689e-01,\n",
       "         3.81017390e-01,   3.42526355e-01,   4.80215961e-01,\n",
       "         9.84446498e-01,   9.97506085e-01,   6.20992660e-02,\n",
       "         9.90486217e-01,   1.22364403e-01,   4.15429357e-01,\n",
       "         1.40005522e-01,   9.94570868e-01,   2.01422918e-01,\n",
       "         8.52939333e-01,   7.22812398e-03,   9.63613322e-01,\n",
       "         9.68524982e-01,   3.28732689e-01,   8.97801810e-01,\n",
       "         9.09934939e-01,   9.99949739e-01,   4.22408759e-01,\n",
       "         9.99997407e-01,   7.17781826e-02,   9.21520078e-01,\n",
       "         9.68186005e-01,   9.06747116e-01,   9.99465409e-01,\n",
       "         9.88006015e-01,   1.57123953e-02,   1.83040673e-01,\n",
       "         4.20054233e-01,   9.86591189e-01,   8.14789174e-01,\n",
       "         6.08393516e-02,   8.35929271e-01,   8.16123559e-01,\n",
       "         8.22747813e-02,   1.36318064e-02,   6.27971705e-01,\n",
       "         4.46402968e-01,   6.31688604e-01,   5.60730162e-01,\n",
       "         1.24498519e-01,   6.28015369e-01,   1.64434147e-01,\n",
       "         4.09970611e-01,   8.03283514e-02,   7.60381865e-01,\n",
       "         2.34405530e-01,   9.64543595e-01,   3.85294615e-01,\n",
       "         8.21639818e-02,   9.98529773e-01,   9.48908209e-01,\n",
       "         9.99580658e-01,   9.97675666e-01,   7.41129962e-02,\n",
       "         6.38035855e-01,   9.98504391e-01,   9.99794637e-01,\n",
       "         1.48973425e-01,   8.82735422e-01,   1.74980367e-01,\n",
       "         9.57938786e-01,   3.80559028e-02,   9.86378127e-01,\n",
       "         7.01034318e-02,   5.25763983e-03,   1.53285037e-01,\n",
       "         2.31868314e-01,   9.03911261e-03,   9.88604952e-01,\n",
       "         8.65135302e-01,   6.23042923e-01,   9.94273022e-01,\n",
       "         3.96652249e-01,   5.91451646e-02,   1.97738004e-01,\n",
       "         9.79313924e-01,   8.90677571e-01,   6.09359250e-06,\n",
       "         9.86478200e-01,   8.94566527e-02,   1.50949067e-01,\n",
       "         9.69527727e-01,   9.77822383e-01,   9.99004045e-01,\n",
       "         9.99084004e-01,   1.47978047e-02,   2.79090011e-03,\n",
       "         3.12889925e-03,   9.99964519e-01,   4.44323374e-02,\n",
       "         7.03428635e-03,   4.09618263e-01,   3.12431800e-02,\n",
       "         5.83690150e-03,   9.73972521e-01,   5.62965451e-01,\n",
       "         2.32146569e-01,   6.25794756e-01,   9.61424387e-01,\n",
       "         4.77194292e-01,   8.78523707e-01,   4.50235501e-01,\n",
       "         2.18826978e-01,   7.64014126e-01,   8.45882465e-01,\n",
       "         6.25682021e-03,   3.49745041e-01,   1.78821967e-01,\n",
       "         7.51296909e-02,   9.99997317e-01,   9.98573351e-01,\n",
       "         6.07907770e-02,   9.74395495e-01,   9.75090472e-01,\n",
       "         8.65562446e-01,   4.46873008e-02,   8.23334893e-01,\n",
       "         9.30860319e-01,   9.25575086e-01,   9.84124414e-01,\n",
       "         1.99923195e-02,   1.02575793e-01,   7.16030773e-01,\n",
       "         3.17219083e-02,   9.67608253e-01,   7.72659740e-01,\n",
       "         1.32569830e-03,   9.83998245e-01,   9.73562829e-01,\n",
       "         9.69741487e-01,   5.12942339e-01,   4.79344379e-01,\n",
       "         9.98577814e-01,   1.02555320e-01,   1.34109808e-01,\n",
       "         8.05513287e-01,   9.94861434e-01,   6.32693563e-03,\n",
       "         1.99816297e-01,   9.77003574e-04,   2.67980251e-01,\n",
       "         9.81287247e-01,   2.04478791e-01,   6.55891458e-03,\n",
       "         2.25779406e-01,   1.74383178e-02,   3.90875892e-01,\n",
       "         7.60110736e-01,   5.13261393e-01,   8.87167276e-01,\n",
       "         2.49814181e-01,   3.06952174e-01,   7.60922984e-01,\n",
       "         9.61926788e-01,   9.85921106e-01,   5.06960439e-01,\n",
       "         6.54536815e-01,   5.52810628e-01,   6.58422720e-02,\n",
       "         8.12734255e-02,   9.92861850e-01,   1.14682411e-01,\n",
       "         2.98256548e-01,   2.52296867e-03,   8.69002710e-01,\n",
       "         9.13401609e-01,   6.76542610e-02,   2.47259075e-02,\n",
       "         1.89585247e-02,   9.01386639e-01,   9.98551097e-01,\n",
       "         7.73002373e-01,   9.99241511e-01,   9.73202827e-01,\n",
       "         6.08483423e-01,   7.08392684e-04,   1.06449934e-01,\n",
       "         1.06973591e-01,   8.03439816e-02,   3.43616521e-01,\n",
       "         3.29915158e-02,   1.97234921e-02,   1.35943368e-02,\n",
       "         2.00380790e-01,   3.35090453e-03,   4.85920673e-02,\n",
       "         9.42103908e-01,   3.00951801e-02,   5.46742174e-01,\n",
       "         4.43254949e-01,   7.40402196e-01,   3.87638713e-02,\n",
       "         2.58388808e-02,   9.48474240e-01,   8.25902934e-01,\n",
       "         3.72615140e-01,   9.21236099e-01,   2.21548414e-04,\n",
       "         3.83405133e-01,   1.30148531e-03,   9.91964661e-01,\n",
       "         9.81163323e-01,   7.56007369e-01,   7.72108870e-01,\n",
       "         9.93456899e-01,   9.12942177e-01,   4.94203101e-01,\n",
       "         4.16889770e-02,   2.17032906e-03,   5.80572095e-01,\n",
       "         7.94162956e-01,   2.55527285e-02,   9.81222172e-01,\n",
       "         6.01868522e-01,   2.11804680e-02,   9.99731103e-01,\n",
       "         9.10719171e-01,   2.70931162e-01,   8.69131399e-01,\n",
       "         6.00188690e-01,   7.93624963e-01,   9.98798782e-01,\n",
       "         5.91169567e-01,   3.30884814e-01,   7.10981970e-01,\n",
       "         4.14427857e-02,   3.34405163e-02,   7.17767972e-01,\n",
       "         6.93936066e-01,   3.11626433e-01,   9.65589169e-01,\n",
       "         1.64733039e-01,   4.58521486e-01,   8.66789740e-01,\n",
       "         3.00907741e-01,   3.28266646e-03,   6.57191403e-01,\n",
       "         9.95518837e-01,   5.33537387e-01,   1.12528953e-01,\n",
       "         2.85469831e-01,   9.21156620e-01,   9.99939242e-01,\n",
       "         5.53867655e-02,   9.99954751e-01,   9.99712551e-01,\n",
       "         9.93015309e-01,   2.87073486e-01,   7.87857469e-02,\n",
       "         6.81411760e-01,   8.11203287e-01,   9.33564541e-04,\n",
       "         3.02781624e-01,   5.92708847e-01,   9.86762425e-01,\n",
       "         7.38396246e-01,   1.20686505e-01,   4.47806848e-01,\n",
       "         2.17883884e-01,   2.73252446e-02,   1.14149230e-02,\n",
       "         9.92037546e-01,   5.31053610e-01,   3.40091760e-01,\n",
       "         1.13033414e-02,   9.89678948e-01,   9.22095344e-01,\n",
       "         7.22964487e-02,   7.87474632e-01,   2.48474472e-01,\n",
       "         1.44748965e-01,   3.63288457e-06,   9.84277468e-01,\n",
       "         1.79965049e-02,   7.19276838e-05,   9.95217318e-01,\n",
       "         3.05655328e-01,   9.99914473e-01,   9.49596677e-02,\n",
       "         6.99060224e-01,   4.12471017e-02,   1.01592317e-05,\n",
       "         9.53969036e-01,   6.39964804e-01,   4.76983862e-01,\n",
       "         9.71002346e-01,   6.70132802e-01,   6.01822597e-02,\n",
       "         5.16047835e-01,   5.80549917e-03,   8.54544939e-01,\n",
       "         9.99428444e-01,   9.82448360e-01,   2.61829736e-01,\n",
       "         3.81461987e-01,   2.01347169e-01,   4.46248491e-02,\n",
       "         3.31616645e-01,   6.27370798e-02,   9.89296284e-01,\n",
       "         9.98972176e-01,   9.95010872e-01,   9.25038842e-01,\n",
       "         1.07512079e-01,   9.54491856e-01,   5.87677533e-02,\n",
       "         6.86892905e-02])"
      ]
     },
     "execution_count": 430,
     "metadata": {},
     "output_type": "execute_result"
    }
   ],
   "source": [
    "y_pred_prob = nb.predict_proba(X_test_dtm)[:,1]\n",
    "y_pred_prob"
   ]
  },
  {
   "cell_type": "code",
   "execution_count": 431,
   "metadata": {
    "collapsed": false
   },
   "outputs": [
    {
     "data": {
      "text/plain": [
       "0.78777589134125636"
      ]
     },
     "execution_count": 431,
     "metadata": {},
     "output_type": "execute_result"
    }
   ],
   "source": [
    "metrics.accuracy_score(y_test, y_pred_class)"
   ]
  },
  {
   "cell_type": "code",
   "execution_count": 432,
   "metadata": {
    "collapsed": false
   },
   "outputs": [
    {
     "name": "stdout",
     "output_type": "stream",
     "text": [
      "             precision    recall  f1-score   support\n",
      "\n",
      "       FAKE       0.78      0.79      0.78       287\n",
      "       REAL       0.80      0.78      0.79       302\n",
      "\n",
      "avg / total       0.79      0.79      0.79       589\n",
      "\n"
     ]
    }
   ],
   "source": [
    "print(metrics.classification_report(y_pred_class, y_test))"
   ]
  },
  {
   "cell_type": "code",
   "execution_count": 433,
   "metadata": {
    "collapsed": true
   },
   "outputs": [],
   "source": [
    "scores = cross_val_score(MultinomialNB(),  # steps to convert raw emails into models\n",
    "                         X_train_dtm,  # training data\n",
    "                         y_train,  # training labels\n",
    "                         cv=10,  # split data randomly into 10 parts: 9 for training, 1 for scoring\n",
    "                         scoring='accuracy',  # which scoring metric?\n",
    "                         n_jobs=-1,  # -1 = use all cores = faster\n",
    "                         )"
   ]
  },
  {
   "cell_type": "code",
   "execution_count": 434,
   "metadata": {
    "collapsed": false
   },
   "outputs": [
    {
     "data": {
      "text/plain": [
       "array([ 0.79213483,  0.7752809 ,  0.77840909,  0.77840909,  0.76704545,\n",
       "        0.75      ,  0.71590909,  0.77272727,  0.82386364,  0.72727273])"
      ]
     },
     "execution_count": 434,
     "metadata": {},
     "output_type": "execute_result"
    }
   ],
   "source": [
    "scores"
   ]
  },
  {
   "cell_type": "code",
   "execution_count": 435,
   "metadata": {
    "collapsed": false
   },
   "outputs": [
    {
     "data": {
      "text/plain": [
       "0.76810520939734439"
      ]
     },
     "execution_count": 435,
     "metadata": {},
     "output_type": "execute_result"
    }
   ],
   "source": [
    "scores.mean()"
   ]
  },
  {
   "cell_type": "code",
   "execution_count": 436,
   "metadata": {
    "collapsed": false
   },
   "outputs": [
    {
     "data": {
      "text/plain": [
       "0.02948265069658515"
      ]
     },
     "execution_count": 436,
     "metadata": {},
     "output_type": "execute_result"
    }
   ],
   "source": [
    "scores.std()"
   ]
  },
  {
   "cell_type": "markdown",
   "metadata": {},
   "source": [
    "# Logsitic Regression"
   ]
  },
  {
   "cell_type": "code",
   "execution_count": 437,
   "metadata": {
    "collapsed": true
   },
   "outputs": [],
   "source": [
    "logreg=LogisticRegression()"
   ]
  },
  {
   "cell_type": "code",
   "execution_count": 438,
   "metadata": {
    "collapsed": false
   },
   "outputs": [
    {
     "data": {
      "text/plain": [
       "LogisticRegression(C=1.0, class_weight=None, dual=False, fit_intercept=True,\n",
       "          intercept_scaling=1, max_iter=100, multi_class='ovr', n_jobs=1,\n",
       "          penalty='l2', random_state=None, solver='liblinear', tol=0.0001,\n",
       "          verbose=0, warm_start=False)"
      ]
     },
     "execution_count": 438,
     "metadata": {},
     "output_type": "execute_result"
    }
   ],
   "source": [
    "logreg.fit(X_train_dtm, y_train)"
   ]
  },
  {
   "cell_type": "code",
   "execution_count": 439,
   "metadata": {
    "collapsed": true
   },
   "outputs": [],
   "source": [
    "y_pred_class=logreg.predict(X_test_dtm)\n"
   ]
  },
  {
   "cell_type": "code",
   "execution_count": 440,
   "metadata": {
    "collapsed": false
   },
   "outputs": [
    {
     "data": {
      "text/plain": [
       "0.78777589134125636"
      ]
     },
     "execution_count": 440,
     "metadata": {},
     "output_type": "execute_result"
    }
   ],
   "source": [
    "logreg.score(X_test_dtm, y_test)\n",
    "\n"
   ]
  },
  {
   "cell_type": "code",
   "execution_count": 441,
   "metadata": {
    "collapsed": false
   },
   "outputs": [
    {
     "name": "stdout",
     "output_type": "stream",
     "text": [
      "Wall time: 19.1 ms\n"
     ]
    },
    {
     "data": {
      "text/plain": [
       "LogisticRegression(C=1.0, class_weight=None, dual=False, fit_intercept=True,\n",
       "          intercept_scaling=1, max_iter=100, multi_class='ovr', n_jobs=1,\n",
       "          penalty='l2', random_state=None, solver='liblinear', tol=0.0001,\n",
       "          verbose=0, warm_start=False)"
      ]
     },
     "execution_count": 441,
     "metadata": {},
     "output_type": "execute_result"
    }
   ],
   "source": [
    "%time logreg.fit(X_train_dtm, y_train)\n"
   ]
  },
  {
   "cell_type": "code",
   "execution_count": 442,
   "metadata": {
    "collapsed": false
   },
   "outputs": [
    {
     "data": {
      "text/plain": [
       "0.78777589134125636"
      ]
     },
     "execution_count": 442,
     "metadata": {},
     "output_type": "execute_result"
    }
   ],
   "source": [
    "metrics.accuracy_score(y_test,y_pred_class)\n",
    "\n"
   ]
  },
  {
   "cell_type": "code",
   "execution_count": 443,
   "metadata": {
    "collapsed": false
   },
   "outputs": [
    {
     "data": {
      "text/plain": [
       "array([[245,  49],\n",
       "       [ 76, 219]])"
      ]
     },
     "execution_count": 443,
     "metadata": {},
     "output_type": "execute_result"
    }
   ],
   "source": [
    "metrics.confusion_matrix(y_test, y_pred_class)\n"
   ]
  },
  {
   "cell_type": "code",
   "execution_count": 444,
   "metadata": {
    "collapsed": false
   },
   "outputs": [
    {
     "name": "stdout",
     "output_type": "stream",
     "text": [
      "             precision    recall  f1-score   support\n",
      "\n",
      "       FAKE       0.76      0.83      0.80       294\n",
      "       REAL       0.82      0.74      0.78       295\n",
      "\n",
      "avg / total       0.79      0.79      0.79       589\n",
      "\n"
     ]
    }
   ],
   "source": [
    "print(metrics.classification_report(y_test, y_pred_class))\n"
   ]
  },
  {
   "cell_type": "code",
   "execution_count": 445,
   "metadata": {
    "collapsed": true
   },
   "outputs": [],
   "source": [
    "scores = cross_val_score(KNeighborsClassifier(n_neighbors=15),  # steps to convert raw emails into models\n",
    "                         X_train_dtm,  # training data\n",
    "                         y_train,  # training labels\n",
    "                         cv=10,  # split data randomly into 10 parts: 9 for training, 1 for scoring\n",
    "                         scoring='accuracy',  # which scoring metric?\n",
    "                         n_jobs=-1,  # -1 = use all cores = faster\n",
    "                         )"
   ]
  },
  {
   "cell_type": "code",
   "execution_count": 446,
   "metadata": {
    "collapsed": false
   },
   "outputs": [
    {
     "data": {
      "text/plain": [
       "array([ 0.53932584,  0.58426966,  0.55681818,  0.51704545,  0.5625    ,\n",
       "        0.59090909,  0.5625    ,  0.52272727,  0.60795455,  0.55681818])"
      ]
     },
     "execution_count": 446,
     "metadata": {},
     "output_type": "execute_result"
    }
   ],
   "source": [
    "scores"
   ]
  },
  {
   "cell_type": "code",
   "execution_count": 447,
   "metadata": {
    "collapsed": false
   },
   "outputs": [
    {
     "data": {
      "text/plain": [
       "0.56008682328907045"
      ]
     },
     "execution_count": 447,
     "metadata": {},
     "output_type": "execute_result"
    }
   ],
   "source": [
    "scores.mean()"
   ]
  },
  {
   "cell_type": "code",
   "execution_count": 448,
   "metadata": {
    "collapsed": false
   },
   "outputs": [
    {
     "data": {
      "text/plain": [
       "0.027456273187928589"
      ]
     },
     "execution_count": 448,
     "metadata": {},
     "output_type": "execute_result"
    }
   ],
   "source": [
    "scores.std()"
   ]
  },
  {
   "cell_type": "code",
   "execution_count": 449,
   "metadata": {
    "collapsed": true
   },
   "outputs": [],
   "source": [
    "names=['label','news','length']\n"
   ]
  },
  {
   "cell_type": "code",
   "execution_count": 450,
   "metadata": {
    "collapsed": true
   },
   "outputs": [],
   "source": [
    "seed=7"
   ]
  },
  {
   "cell_type": "code",
   "execution_count": 451,
   "metadata": {
    "collapsed": true
   },
   "outputs": [],
   "source": [
    "models = []\n",
    "models.append(('LR', LogisticRegression()))\n",
    "models.append(('KNN', KNeighborsClassifier()))\n",
    "models.append(('NB', MultinomialNB()))\n",
    "models.append(('SVM', SVC()))"
   ]
  },
  {
   "cell_type": "code",
   "execution_count": 452,
   "metadata": {
    "collapsed": true
   },
   "outputs": [],
   "source": [
    "results=[]\n"
   ]
  },
  {
   "cell_type": "code",
   "execution_count": 453,
   "metadata": {
    "collapsed": true
   },
   "outputs": [],
   "source": [
    "names=[]"
   ]
  },
  {
   "cell_type": "code",
   "execution_count": 454,
   "metadata": {
    "collapsed": true
   },
   "outputs": [],
   "source": [
    "scoring='accuracy'"
   ]
  },
  {
   "cell_type": "code",
   "execution_count": 455,
   "metadata": {
    "collapsed": false
   },
   "outputs": [
    {
     "name": "stdout",
     "output_type": "stream",
     "text": [
      "LR: 0.806429 (0.041060)\n",
      "KNN: 0.597779 (0.079254)\n",
      "NB: 0.801432 (0.031837)\n",
      "SVM: 0.545061 (0.064192)\n"
     ]
    }
   ],
   "source": [
    "for name, model in models:\n",
    "    kfold = model_selection.KFold(n_splits=10, random_state=seed)\n",
    "    scores = model_selection.cross_val_score(model, X_test_dtm, y_pred_class, cv=kfold, scoring=scoring)\n",
    "    results.append(scores)\n",
    "    names.append(name)\n",
    "    msg = \"%s: %f (%f)\" % (name, scores.mean(), scores.std())\n",
    "    print(msg)"
   ]
  },
  {
   "cell_type": "code",
   "execution_count": 456,
   "metadata": {
    "collapsed": false
   },
   "outputs": [
    {
     "data": {
      "image/png": "[encoded data removed]",
      "text/plain": [
       "<matplotlib.figure.Figure at 0x27b68e95748>"
      ]
     },
     "metadata": {},
     "output_type": "display_data"
    }
   ],
   "source": [
    "fig = plt.figure()\n",
    "fig.suptitle('Algorithm Comparison')\n",
    "ax = fig.add_subplot(111)\n",
    "plt.boxplot(results)\n",
    "ax.set_xticklabels(names)\n",
    "plt.show()"
   ]
  },
  {
   "cell_type": "code",
   "execution_count": 457,
   "metadata": {
    "collapsed": false
   },
   "outputs": [
    {
     "data": {
      "image/png": "[encoded data removed]",
      "text/plain": [
       "<matplotlib.figure.Figure at 0x27b687707f0>"
      ]
     },
     "metadata": {},
     "output_type": "display_data"
    }
   ],
   "source": [
    "import matplotlib.pyplot as plt\n",
    " \n",
    "# Data to plot\n",
    "labels = 'Nave Bayes', 'SVM', 'K-NN', 'LG'\n",
    "sizes = [80.14, 54.50, 59.77, 80.64]\n",
    "colors = ['gold', 'yellowgreen', 'lightcoral', 'lightskyblue']\n",
    "explode = (0.1, 0, 0, 0)  # explode 1st slice\n",
    " \n",
    "# Plot\n",
    "plt.pie(sizes, explode=explode, labels=labels, colors=colors,\n",
    "        autopct='%1.1f%%', shadow=True, startangle=140)\n",
    " \n",
    "plt.axis('equal')\n",
    "plt.show()"
   ]
  },
  {
   "cell_type": "code",
   "execution_count": 460,
   "metadata": {
    "collapsed": false
   },
   "outputs": [
    {
     "data": {
      "image/png": "[encoded data removed]",
      "text/plain": [
       "<matplotlib.figure.Figure at 0x27b6900ecf8>"
      ]
     },
     "metadata": {},
     "output_type": "display_data"
    }
   ],
   "source": [
    "import matplotlib.pyplot as plt; plt.rcdefaults()\n",
    "import numpy as np\n",
    "import matplotlib.pyplot as plt\n",
    " \n",
    "objects = ('Nave Bayes', 'SVM', 'K-NN', 'LG')\n",
    "y_pos = np.arange(len(objects))\n",
    "performance = [7.02,6.13,4.01,19.1]\n",
    " \n",
    "plt.bar(y_pos, performance, align='center', alpha=0.5)\n",
    "plt.xticks(y_pos, objects)\n",
    "plt.ylabel('Time')\n",
    "plt.title('Spam Detector Time')\n",
    " \n",
    "plt.show()"
   ]
  },
  {
   "cell_type": "code",
   "execution_count": null,
   "metadata": {
    "collapsed": true
   },
   "outputs": [],
   "source": []
  },
  {
   "cell_type": "code",
   "execution_count": null,
   "metadata": {
    "collapsed": true
   },
   "outputs": [],
   "source": []
  }
 ],
 "metadata": {
  "kernelspec": {
   "display_name": "Python 3",
   "language": "python",
   "name": "python3"
  },
  "language_info": {
   "codemirror_mode": {
    "name": "ipython",
    "version": 3
   },
   "file_extension": ".py",
   "mimetype": "text/x-python",
   "name": "python",
   "nbconvert_exporter": "python",
   "pygments_lexer": "ipython3",
   "version": "3.6.0"
  }
 },
 "nbformat": 4,
 "nbformat_minor": 2
}
